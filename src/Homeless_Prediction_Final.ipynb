{
 "cells": [
  {
   "cell_type": "markdown",
   "metadata": {},
   "source": [
    "# Predictive model and feature importance for state level homelessness"
   ]
  },
  {
   "cell_type": "markdown",
   "metadata": {},
   "source": [
    "*CS109A/AC209A Group 8 final project*\n",
    "\n",
    "**Contact info:** Renhao Luo (renhao_luo@hms.harvard.edu), Ziqi Wang (ziqiwang@hms.harvard.edu), Shun Li (shunli@g.harvard.edu), Linzi Yu (linzi_yu@hms.harvard.edu), Senmiao Sun (sun_senmiao@g.harvard.edu)\n",
    "\n",
    "<hr style=\"height:2pt\">"
   ]
  },
  {
   "cell_type": "code",
   "execution_count": 1,
   "metadata": {},
   "outputs": [
    {
     "name": "stdout",
     "output_type": "stream",
     "text": [
      "Collecting shap\n",
      "  Using cached shap-0.41.0.tar.gz (380 kB)\n",
      "  Installing build dependencies ... \u001b[?25ldone\n",
      "\u001b[?25h  Getting requirements to build wheel ... \u001b[?25ldone\n",
      "\u001b[?25h  Preparing metadata (pyproject.toml) ... \u001b[?25ldone\n",
      "\u001b[?25hRequirement already satisfied: numpy in /Users/liny/miniforge3/envs/tf_env/lib/python3.9/site-packages (from shap) (1.22.4)\n",
      "Requirement already satisfied: pandas in /Users/liny/miniforge3/envs/tf_env/lib/python3.9/site-packages (from shap) (1.4.2)\n",
      "Requirement already satisfied: cloudpickle in /Users/liny/miniforge3/envs/tf_env/lib/python3.9/site-packages (from shap) (2.2.0)\n",
      "Requirement already satisfied: packaging>20.9 in /Users/liny/.local/lib/python3.9/site-packages (from shap) (21.3)\n",
      "Requirement already satisfied: numba in /Users/liny/miniforge3/envs/tf_env/lib/python3.9/site-packages (from shap) (0.55.2)\n",
      "Requirement already satisfied: scikit-learn in /Users/liny/miniforge3/envs/tf_env/lib/python3.9/site-packages (from shap) (1.1.1)\n",
      "Collecting slicer==0.0.7\n",
      "  Using cached slicer-0.0.7-py3-none-any.whl (14 kB)\n",
      "Requirement already satisfied: tqdm>4.25.0 in /Users/liny/miniforge3/envs/tf_env/lib/python3.9/site-packages (from shap) (4.64.0)\n",
      "Requirement already satisfied: scipy in /Users/liny/miniforge3/envs/tf_env/lib/python3.9/site-packages (from shap) (1.7.3)\n",
      "Requirement already satisfied: pyparsing!=3.0.5,>=2.0.2 in /Users/liny/miniforge3/envs/tf_env/lib/python3.9/site-packages (from packaging>20.9->shap) (3.0.9)\n",
      "Requirement already satisfied: llvmlite<0.39,>=0.38.0rc1 in /Users/liny/miniforge3/envs/tf_env/lib/python3.9/site-packages (from numba->shap) (0.38.1)\n",
      "Requirement already satisfied: setuptools in /Users/liny/miniforge3/envs/tf_env/lib/python3.9/site-packages (from numba->shap) (62.4.0)\n",
      "Requirement already satisfied: pytz>=2020.1 in /Users/liny/miniforge3/envs/tf_env/lib/python3.9/site-packages (from pandas->shap) (2022.1)\n",
      "Requirement already satisfied: python-dateutil>=2.8.1 in /Users/liny/miniforge3/envs/tf_env/lib/python3.9/site-packages (from pandas->shap) (2.8.2)\n",
      "Requirement already satisfied: threadpoolctl>=2.0.0 in /Users/liny/miniforge3/envs/tf_env/lib/python3.9/site-packages (from scikit-learn->shap) (3.1.0)\n",
      "Requirement already satisfied: joblib>=1.0.0 in /Users/liny/miniforge3/envs/tf_env/lib/python3.9/site-packages (from scikit-learn->shap) (1.1.0)\n",
      "Requirement already satisfied: six>=1.5 in /Users/liny/miniforge3/envs/tf_env/lib/python3.9/site-packages (from python-dateutil>=2.8.1->pandas->shap) (1.16.0)\n",
      "Building wheels for collected packages: shap\n",
      "  Building wheel for shap (pyproject.toml) ... \u001b[?25lerror\n",
      "  \u001b[1;31merror\u001b[0m: \u001b[1msubprocess-exited-with-error\u001b[0m\n",
      "  \n",
      "  \u001b[31m×\u001b[0m \u001b[32mBuilding wheel for shap \u001b[0m\u001b[1;32m(\u001b[0m\u001b[32mpyproject.toml\u001b[0m\u001b[1;32m)\u001b[0m did not run successfully.\n",
      "  \u001b[31m│\u001b[0m exit code: \u001b[1;36m1\u001b[0m\n",
      "  \u001b[31m╰─>\u001b[0m \u001b[31m[125 lines of output]\u001b[0m\n",
      "  \u001b[31m   \u001b[0m <string>:24: DeprecationWarning: distutils Version classes are deprecated. Use packaging.version instead.\n",
      "  \u001b[31m   \u001b[0m <string>:25: DeprecationWarning: distutils Version classes are deprecated. Use packaging.version instead.\n",
      "  \u001b[31m   \u001b[0m The nvcc binary could not be located in your $PATH. Either  add it to your path, or set $CUDAHOME to enable CUDA\n",
      "  \u001b[31m   \u001b[0m Error building cuda module: TypeError('cannot unpack non-iterable NoneType object')\n",
      "  \u001b[31m   \u001b[0m WARNING: Could not compile cuda extensions\n",
      "  \u001b[31m   \u001b[0m running bdist_wheel\n",
      "  \u001b[31m   \u001b[0m running build\n",
      "  \u001b[31m   \u001b[0m running build_py\n",
      "  \u001b[31m   \u001b[0m creating build\n",
      "  \u001b[31m   \u001b[0m creating build/lib.macosx-11.1-arm64-cpython-39\n",
      "  \u001b[31m   \u001b[0m creating build/lib.macosx-11.1-arm64-cpython-39/shap\n",
      "  \u001b[31m   \u001b[0m copying shap/datasets.py -> build/lib.macosx-11.1-arm64-cpython-39/shap\n",
      "  \u001b[31m   \u001b[0m copying shap/__init__.py -> build/lib.macosx-11.1-arm64-cpython-39/shap\n",
      "  \u001b[31m   \u001b[0m copying shap/links.py -> build/lib.macosx-11.1-arm64-cpython-39/shap\n",
      "  \u001b[31m   \u001b[0m copying shap/_explanation.py -> build/lib.macosx-11.1-arm64-cpython-39/shap\n",
      "  \u001b[31m   \u001b[0m copying shap/_serializable.py -> build/lib.macosx-11.1-arm64-cpython-39/shap\n",
      "  \u001b[31m   \u001b[0m creating build/lib.macosx-11.1-arm64-cpython-39/shap/explainers\n",
      "  \u001b[31m   \u001b[0m copying shap/explainers/__init__.py -> build/lib.macosx-11.1-arm64-cpython-39/shap/explainers\n",
      "  \u001b[31m   \u001b[0m copying shap/explainers/_explainer.py -> build/lib.macosx-11.1-arm64-cpython-39/shap/explainers\n",
      "  \u001b[31m   \u001b[0m copying shap/explainers/_partition.py -> build/lib.macosx-11.1-arm64-cpython-39/shap/explainers\n",
      "  \u001b[31m   \u001b[0m copying shap/explainers/_gradient.py -> build/lib.macosx-11.1-arm64-cpython-39/shap/explainers\n",
      "  \u001b[31m   \u001b[0m copying shap/explainers/mimic.py -> build/lib.macosx-11.1-arm64-cpython-39/shap/explainers\n",
      "  \u001b[31m   \u001b[0m copying shap/explainers/_sampling.py -> build/lib.macosx-11.1-arm64-cpython-39/shap/explainers\n",
      "  \u001b[31m   \u001b[0m copying shap/explainers/_linear.py -> build/lib.macosx-11.1-arm64-cpython-39/shap/explainers\n",
      "  \u001b[31m   \u001b[0m copying shap/explainers/_permutation.py -> build/lib.macosx-11.1-arm64-cpython-39/shap/explainers\n",
      "  \u001b[31m   \u001b[0m copying shap/explainers/_gpu_tree.py -> build/lib.macosx-11.1-arm64-cpython-39/shap/explainers\n",
      "  \u001b[31m   \u001b[0m copying shap/explainers/_kernel.py -> build/lib.macosx-11.1-arm64-cpython-39/shap/explainers\n",
      "  \u001b[31m   \u001b[0m copying shap/explainers/_additive.py -> build/lib.macosx-11.1-arm64-cpython-39/shap/explainers\n",
      "  \u001b[31m   \u001b[0m copying shap/explainers/tf_utils.py -> build/lib.macosx-11.1-arm64-cpython-39/shap/explainers\n",
      "  \u001b[31m   \u001b[0m copying shap/explainers/_exact.py -> build/lib.macosx-11.1-arm64-cpython-39/shap/explainers\n",
      "  \u001b[31m   \u001b[0m copying shap/explainers/_tree.py -> build/lib.macosx-11.1-arm64-cpython-39/shap/explainers\n",
      "  \u001b[31m   \u001b[0m copying shap/explainers/pytree.py -> build/lib.macosx-11.1-arm64-cpython-39/shap/explainers\n",
      "  \u001b[31m   \u001b[0m creating build/lib.macosx-11.1-arm64-cpython-39/shap/explainers/other\n",
      "  \u001b[31m   \u001b[0m copying shap/explainers/other/_coefficent.py -> build/lib.macosx-11.1-arm64-cpython-39/shap/explainers/other\n",
      "  \u001b[31m   \u001b[0m copying shap/explainers/other/_maple.py -> build/lib.macosx-11.1-arm64-cpython-39/shap/explainers/other\n",
      "  \u001b[31m   \u001b[0m copying shap/explainers/other/__init__.py -> build/lib.macosx-11.1-arm64-cpython-39/shap/explainers/other\n",
      "  \u001b[31m   \u001b[0m copying shap/explainers/other/_random.py -> build/lib.macosx-11.1-arm64-cpython-39/shap/explainers/other\n",
      "  \u001b[31m   \u001b[0m copying shap/explainers/other/_treegain.py -> build/lib.macosx-11.1-arm64-cpython-39/shap/explainers/other\n",
      "  \u001b[31m   \u001b[0m copying shap/explainers/other/_lime.py -> build/lib.macosx-11.1-arm64-cpython-39/shap/explainers/other\n",
      "  \u001b[31m   \u001b[0m creating build/lib.macosx-11.1-arm64-cpython-39/shap/explainers/_deep\n",
      "  \u001b[31m   \u001b[0m copying shap/explainers/_deep/__init__.py -> build/lib.macosx-11.1-arm64-cpython-39/shap/explainers/_deep\n",
      "  \u001b[31m   \u001b[0m copying shap/explainers/_deep/deep_pytorch.py -> build/lib.macosx-11.1-arm64-cpython-39/shap/explainers/_deep\n",
      "  \u001b[31m   \u001b[0m copying shap/explainers/_deep/deep_tf.py -> build/lib.macosx-11.1-arm64-cpython-39/shap/explainers/_deep\n",
      "  \u001b[31m   \u001b[0m creating build/lib.macosx-11.1-arm64-cpython-39/shap/plots\n",
      "  \u001b[31m   \u001b[0m copying shap/plots/_heatmap.py -> build/lib.macosx-11.1-arm64-cpython-39/shap/plots\n",
      "  \u001b[31m   \u001b[0m copying shap/plots/_partial_dependence.py -> build/lib.macosx-11.1-arm64-cpython-39/shap/plots\n",
      "  \u001b[31m   \u001b[0m copying shap/plots/_monitoring.py -> build/lib.macosx-11.1-arm64-cpython-39/shap/plots\n",
      "  \u001b[31m   \u001b[0m copying shap/plots/_violin.py -> build/lib.macosx-11.1-arm64-cpython-39/shap/plots\n",
      "  \u001b[31m   \u001b[0m copying shap/plots/_decision.py -> build/lib.macosx-11.1-arm64-cpython-39/shap/plots\n",
      "  \u001b[31m   \u001b[0m copying shap/plots/_text.py -> build/lib.macosx-11.1-arm64-cpython-39/shap/plots\n",
      "  \u001b[31m   \u001b[0m copying shap/plots/_force_matplotlib.py -> build/lib.macosx-11.1-arm64-cpython-39/shap/plots\n",
      "  \u001b[31m   \u001b[0m copying shap/plots/_force.py -> build/lib.macosx-11.1-arm64-cpython-39/shap/plots\n",
      "  \u001b[31m   \u001b[0m copying shap/plots/_group_difference.py -> build/lib.macosx-11.1-arm64-cpython-39/shap/plots\n",
      "  \u001b[31m   \u001b[0m copying shap/plots/__init__.py -> build/lib.macosx-11.1-arm64-cpython-39/shap/plots\n",
      "  \u001b[31m   \u001b[0m copying shap/plots/_embedding.py -> build/lib.macosx-11.1-arm64-cpython-39/shap/plots\n",
      "  \u001b[31m   \u001b[0m copying shap/plots/_beeswarm.py -> build/lib.macosx-11.1-arm64-cpython-39/shap/plots\n",
      "  \u001b[31m   \u001b[0m copying shap/plots/_bar.py -> build/lib.macosx-11.1-arm64-cpython-39/shap/plots\n",
      "  \u001b[31m   \u001b[0m copying shap/plots/_benchmark.py -> build/lib.macosx-11.1-arm64-cpython-39/shap/plots\n",
      "  \u001b[31m   \u001b[0m copying shap/plots/_image.py -> build/lib.macosx-11.1-arm64-cpython-39/shap/plots\n",
      "  \u001b[31m   \u001b[0m copying shap/plots/_scatter.py -> build/lib.macosx-11.1-arm64-cpython-39/shap/plots\n",
      "  \u001b[31m   \u001b[0m copying shap/plots/_waterfall.py -> build/lib.macosx-11.1-arm64-cpython-39/shap/plots\n",
      "  \u001b[31m   \u001b[0m copying shap/plots/_labels.py -> build/lib.macosx-11.1-arm64-cpython-39/shap/plots\n",
      "  \u001b[31m   \u001b[0m copying shap/plots/_utils.py -> build/lib.macosx-11.1-arm64-cpython-39/shap/plots\n",
      "  \u001b[31m   \u001b[0m creating build/lib.macosx-11.1-arm64-cpython-39/shap/plots/colors\n",
      "  \u001b[31m   \u001b[0m copying shap/plots/colors/_colors.py -> build/lib.macosx-11.1-arm64-cpython-39/shap/plots/colors\n",
      "  \u001b[31m   \u001b[0m copying shap/plots/colors/_colorconv.py -> build/lib.macosx-11.1-arm64-cpython-39/shap/plots/colors\n",
      "  \u001b[31m   \u001b[0m copying shap/plots/colors/__init__.py -> build/lib.macosx-11.1-arm64-cpython-39/shap/plots/colors\n",
      "  \u001b[31m   \u001b[0m creating build/lib.macosx-11.1-arm64-cpython-39/shap/benchmark\n",
      "  \u001b[31m   \u001b[0m copying shap/benchmark/metrics.py -> build/lib.macosx-11.1-arm64-cpython-39/shap/benchmark\n",
      "  \u001b[31m   \u001b[0m copying shap/benchmark/models.py -> build/lib.macosx-11.1-arm64-cpython-39/shap/benchmark\n",
      "  \u001b[31m   \u001b[0m copying shap/benchmark/methods.py -> build/lib.macosx-11.1-arm64-cpython-39/shap/benchmark\n",
      "  \u001b[31m   \u001b[0m copying shap/benchmark/framework.py -> build/lib.macosx-11.1-arm64-cpython-39/shap/benchmark\n",
      "  \u001b[31m   \u001b[0m copying shap/benchmark/__init__.py -> build/lib.macosx-11.1-arm64-cpython-39/shap/benchmark\n",
      "  \u001b[31m   \u001b[0m copying shap/benchmark/_result.py -> build/lib.macosx-11.1-arm64-cpython-39/shap/benchmark\n",
      "  \u001b[31m   \u001b[0m copying shap/benchmark/_explanation_error.py -> build/lib.macosx-11.1-arm64-cpython-39/shap/benchmark\n",
      "  \u001b[31m   \u001b[0m copying shap/benchmark/measures.py -> build/lib.macosx-11.1-arm64-cpython-39/shap/benchmark\n",
      "  \u001b[31m   \u001b[0m copying shap/benchmark/plots.py -> build/lib.macosx-11.1-arm64-cpython-39/shap/benchmark\n",
      "  \u001b[31m   \u001b[0m copying shap/benchmark/experiments.py -> build/lib.macosx-11.1-arm64-cpython-39/shap/benchmark\n",
      "  \u001b[31m   \u001b[0m copying shap/benchmark/_compute.py -> build/lib.macosx-11.1-arm64-cpython-39/shap/benchmark\n",
      "  \u001b[31m   \u001b[0m copying shap/benchmark/_sequential.py -> build/lib.macosx-11.1-arm64-cpython-39/shap/benchmark\n",
      "  \u001b[31m   \u001b[0m creating build/lib.macosx-11.1-arm64-cpython-39/shap/maskers\n",
      "  \u001b[31m   \u001b[0m copying shap/maskers/_fixed_composite.py -> build/lib.macosx-11.1-arm64-cpython-39/shap/maskers\n",
      "  \u001b[31m   \u001b[0m copying shap/maskers/_fixed.py -> build/lib.macosx-11.1-arm64-cpython-39/shap/maskers\n",
      "  \u001b[31m   \u001b[0m copying shap/maskers/_masker.py -> build/lib.macosx-11.1-arm64-cpython-39/shap/maskers\n",
      "  \u001b[31m   \u001b[0m copying shap/maskers/_text.py -> build/lib.macosx-11.1-arm64-cpython-39/shap/maskers\n",
      "  \u001b[31m   \u001b[0m copying shap/maskers/_tabular.py -> build/lib.macosx-11.1-arm64-cpython-39/shap/maskers\n",
      "  \u001b[31m   \u001b[0m copying shap/maskers/__init__.py -> build/lib.macosx-11.1-arm64-cpython-39/shap/maskers\n",
      "  \u001b[31m   \u001b[0m copying shap/maskers/_image.py -> build/lib.macosx-11.1-arm64-cpython-39/shap/maskers\n",
      "  \u001b[31m   \u001b[0m copying shap/maskers/_output_composite.py -> build/lib.macosx-11.1-arm64-cpython-39/shap/maskers\n",
      "  \u001b[31m   \u001b[0m copying shap/maskers/_composite.py -> build/lib.macosx-11.1-arm64-cpython-39/shap/maskers\n",
      "  \u001b[31m   \u001b[0m creating build/lib.macosx-11.1-arm64-cpython-39/shap/utils\n",
      "  \u001b[31m   \u001b[0m copying shap/utils/transformers.py -> build/lib.macosx-11.1-arm64-cpython-39/shap/utils\n",
      "  \u001b[31m   \u001b[0m copying shap/utils/_clustering.py -> build/lib.macosx-11.1-arm64-cpython-39/shap/utils\n",
      "  \u001b[31m   \u001b[0m copying shap/utils/_keras.py -> build/lib.macosx-11.1-arm64-cpython-39/shap/utils\n",
      "  \u001b[31m   \u001b[0m copying shap/utils/__init__.py -> build/lib.macosx-11.1-arm64-cpython-39/shap/utils\n",
      "  \u001b[31m   \u001b[0m copying shap/utils/_show_progress.py -> build/lib.macosx-11.1-arm64-cpython-39/shap/utils\n",
      "  \u001b[31m   \u001b[0m copying shap/utils/_masked_model.py -> build/lib.macosx-11.1-arm64-cpython-39/shap/utils\n",
      "  \u001b[31m   \u001b[0m copying shap/utils/_legacy.py -> build/lib.macosx-11.1-arm64-cpython-39/shap/utils\n",
      "  \u001b[31m   \u001b[0m copying shap/utils/_exceptions.py -> build/lib.macosx-11.1-arm64-cpython-39/shap/utils\n",
      "  \u001b[31m   \u001b[0m copying shap/utils/_general.py -> build/lib.macosx-11.1-arm64-cpython-39/shap/utils\n",
      "  \u001b[31m   \u001b[0m copying shap/utils/image.py -> build/lib.macosx-11.1-arm64-cpython-39/shap/utils\n",
      "  \u001b[31m   \u001b[0m creating build/lib.macosx-11.1-arm64-cpython-39/shap/actions\n",
      "  \u001b[31m   \u001b[0m copying shap/actions/__init__.py -> build/lib.macosx-11.1-arm64-cpython-39/shap/actions\n",
      "  \u001b[31m   \u001b[0m copying shap/actions/_action.py -> build/lib.macosx-11.1-arm64-cpython-39/shap/actions\n",
      "  \u001b[31m   \u001b[0m copying shap/actions/_optimizer.py -> build/lib.macosx-11.1-arm64-cpython-39/shap/actions\n",
      "  \u001b[31m   \u001b[0m creating build/lib.macosx-11.1-arm64-cpython-39/shap/models\n",
      "  \u001b[31m   \u001b[0m copying shap/models/_topk_lm.py -> build/lib.macosx-11.1-arm64-cpython-39/shap/models\n",
      "  \u001b[31m   \u001b[0m copying shap/models/_transformers_pipeline.py -> build/lib.macosx-11.1-arm64-cpython-39/shap/models\n",
      "  \u001b[31m   \u001b[0m copying shap/models/__init__.py -> build/lib.macosx-11.1-arm64-cpython-39/shap/models\n",
      "  \u001b[31m   \u001b[0m copying shap/models/_text_generation.py -> build/lib.macosx-11.1-arm64-cpython-39/shap/models\n",
      "  \u001b[31m   \u001b[0m copying shap/models/_model.py -> build/lib.macosx-11.1-arm64-cpython-39/shap/models\n",
      "  \u001b[31m   \u001b[0m copying shap/models/_teacher_forcing.py -> build/lib.macosx-11.1-arm64-cpython-39/shap/models\n",
      "  \u001b[31m   \u001b[0m creating build/lib.macosx-11.1-arm64-cpython-39/shap/plots/resources\n",
      "  \u001b[31m   \u001b[0m copying shap/plots/resources/bundle.js -> build/lib.macosx-11.1-arm64-cpython-39/shap/plots/resources\n",
      "  \u001b[31m   \u001b[0m copying shap/plots/resources/logoSmallGray.png -> build/lib.macosx-11.1-arm64-cpython-39/shap/plots/resources\n",
      "  \u001b[31m   \u001b[0m creating build/lib.macosx-11.1-arm64-cpython-39/shap/cext\n",
      "  \u001b[31m   \u001b[0m copying shap/cext/tree_shap.h -> build/lib.macosx-11.1-arm64-cpython-39/shap/cext\n",
      "  \u001b[31m   \u001b[0m running build_ext\n",
      "  \u001b[31m   \u001b[0m numpy.get_include() /private/var/folders/sd/hl_8_g39189b03rq7tsq0ty00000gn/T/pip-build-env-v53cf7yr/overlay/lib/python3.9/site-packages/numpy/core/include\n",
      "  \u001b[31m   \u001b[0m building 'shap._cext' extension\n",
      "  \u001b[31m   \u001b[0m creating build/temp.macosx-11.1-arm64-cpython-39\n",
      "  \u001b[31m   \u001b[0m creating build/temp.macosx-11.1-arm64-cpython-39/shap\n",
      "  \u001b[31m   \u001b[0m creating build/temp.macosx-11.1-arm64-cpython-39/shap/cext\n",
      "  \u001b[31m   \u001b[0m arm64-apple-darwin20.0.0-clang -Wno-unused-result -Wsign-compare -Wunreachable-code -DNDEBUG -fwrapv -O2 -Wall -ftree-vectorize -fPIC -fPIE -fstack-protector-strong -O2 -pipe -isystem /Users/liny/miniforge3/envs/tf_env/include -arch arm64 -I/Users/liny/miniforge3/envs/tf_env/include -ftree-vectorize -fPIC -fPIE -fstack-protector-strong -O2 -pipe -isystem /Users/liny/miniforge3/envs/tf_env/include -arch arm64 -ftree-vectorize -fPIC -fPIE -fstack-protector-strong -O2 -pipe -isystem /Users/liny/miniforge3/include -D_FORTIFY_SOURCE=2 -isystem /Users/liny/miniforge3/include -I/Users/liny/miniforge3/envs/tf_env/include/python3.9 -I/private/var/folders/sd/hl_8_g39189b03rq7tsq0ty00000gn/T/pip-build-env-v53cf7yr/overlay/lib/python3.9/site-packages/numpy/core/include -c shap/cext/_cext.cc -o build/temp.macosx-11.1-arm64-cpython-39/shap/cext/_cext.o\n",
      "  \u001b[31m   \u001b[0m error: command 'arm64-apple-darwin20.0.0-clang' failed: No such file or directory\n",
      "  \u001b[31m   \u001b[0m \u001b[31m[end of output]\u001b[0m\n",
      "  \n",
      "  \u001b[1;35mnote\u001b[0m: This error originates from a subprocess, and is likely not a problem with pip.\n",
      "\u001b[?25h\u001b[31m  ERROR: Failed building wheel for shap\u001b[0m\u001b[31m\n",
      "\u001b[0mFailed to build shap\n",
      "\u001b[31mERROR: Could not build wheels for shap, which is required to install pyproject.toml-based projects\u001b[0m\u001b[31m\n",
      "\u001b[0m"
     ]
    }
   ],
   "source": [
    "# Install dependencies\n",
    "!pip install plotly\n",
    "!pip install missingno\n",
    "!pip install shap"
   ]
  },
  {
   "cell_type": "code",
   "execution_count": 13,
   "metadata": {},
   "outputs": [],
   "source": [
    "# Import Libraries\n",
    "import pandas as pd\n",
    "import matplotlib.pyplot as plt\n",
    "import numpy as np\n",
    "import pandas as pd\n",
    "import seaborn as sns\n",
    "import plotly.express as px\n",
    "import missingno as mn\n",
    "# import shap\n",
    "\n",
    "from sklearn.model_selection import train_test_split\n",
    "from sklearn.linear_model import LinearRegression\n",
    "from sklearn.preprocessing import OrdinalEncoder\n",
    "from sklearn.impute import KNNImputer\n",
    "from sklearn.linear_model import Lasso, LassoCV\n",
    "from sklearn.metrics import mean_squared_error\n",
    "from sklearn.model_selection import cross_val_score, cross_validate, cross_val_predict, GridSearchCV, KFold\n",
    "from sklearn.preprocessing import PolynomialFeatures\n",
    "from sklearn.utils import shuffle\n",
    "from sklearn.metrics import r2_score\n",
    "from sklearn.preprocessing import StandardScaler\n",
    "from sklearn.decomposition import PCA\n",
    "from sklearn.tree import DecisionTreeRegressor\n",
    "from sklearn.ensemble import AdaBoostRegressor\n",
    "from hyperopt import fmin, tpe, hp, STATUS_OK, Trials, space_eval\n",
    "from sklearn.ensemble import RandomForestRegressor, BaggingRegressor\n",
    "import xgboost as xgb\n",
    "from xgboost import XGBRegressor\n",
    "\n",
    "import warnings\n",
    "from sklearn.exceptions import DataConversionWarning\n",
    "warnings.simplefilter(action='ignore')\n",
    "warnings.simplefilter(action='ignore', category=FutureWarning)\n",
    "warnings.filterwarnings('ignore')\n",
    "warnings.filterwarnings(\"ignore\", category=DataConversionWarning)"
   ]
  },
  {
   "cell_type": "markdown",
   "metadata": {},
   "source": [
    "<a id='toc1_'></a>\n",
    "\n",
    "## Introduction\n",
    "\n",
    "By recent estimates, over 600,000 Americans live in some state of homelessness each year. In recent decades, the quality of available data on homelessness in the United States has greatly improved, but there is still a long way to go. \n",
    "\n",
    "In this project, we combined different state-level statistics (housing, income, and political involvement) that are related to homelessness, and build multiple regression models for predicting the number homeless people in the United States. In addition, we discussed about the most important predictors for the machine learning models. In a word, we aim to enhance our understanding of the causes of homelessness from different perspectives by interpreting the most important features highlighted by the machine learning models.\n",
    "\n",
    "The state level homeless data we used were from Kaggle (https://www.kaggle.com/code/adamschroeder/homelessness-comparison-between-states/data), which contains the data collected by the US Department of Housing and Urban Development (HUD). \n",
    "\n",
    "For model prediction, we also included features from these datasets:\n",
    "- Zillow Housing Data: https://www.kaggle.com/datasets/zillow/zecon\n",
    "- US Economics Profile by county: https://www.kaggle.com/datasets/davidbroberts/us-economic-profile-by-county?resource=download&select=profile_by_county_1969_2019.csv\n",
    "- County Presidential Election Returns 2000-2020: https://dataverse.harvard.edu/dataset.xhtml?persistentId=doi:10.7910/DVN/VOQCHQ\n",
    "\n",
    "\n",
    "\n",
    "\n"
   ]
  },
  {
   "cell_type": "markdown",
   "metadata": {},
   "source": [
    "**Table of contents**<a id='contents'></a>    \n",
    "- [**Introduction**](#toc1_)\n",
    "- [**Data Preprocessing and Exploratory Data Analysis (EDA)**](#toc2_)    \n",
    "  - [Homeless data preprocess](#toc2_1_)    \n",
    "  - [Housing data preprocess](#toc2_2_)\n",
    "  - [Politics data preprocess](#toc2_3_)    \n",
    "  - [Economic profile data preprocess](#toc2_4_)    \n",
    "  - [Merge datasets](#toc2_5_)    \n",
    "  - [Missing values](#toc2_6_)    \n",
    "  - [Correlation between each variable and homeless count](#toc2_7_)\n",
    "  - [Combined data preprocess: categorical variable, impute missing data, feature scaling](#toc2_8_)\n",
    "- [**Regression Modeling and Evaluation**](#toc3_)    \n",
    "  - [Baseline model](#toc3_1_)   \n",
    "  - [Multivariate linear model](#toc3_2_)   \n",
    "  - [AdaBoostRegression Model](#toc3_3_)   \n",
    "  - [RandomForest Regression model](#toc3_4_)   \n",
    "  - [Bagging Regression model](#toc3_5_)   \n",
    "  - [XGBRegressor model](#toc3_6_)   \n",
    "  \n",
    "<!-- vscode-jupyter-toc-config\n",
    "\tnumbering=false\n",
    "\tanchor=true\n",
    "\tflat=false\n",
    "\tminLevel=1\n",
    "\tmaxLevel=6\n",
    "\t/vscode-jupyter-toc-config -->\n",
    "<!-- THIS CELL WILL BE REPLACED ON TOC UPDATE. DO NOT WRITE YOUR TEXT IN THIS CELL -->"
   ]
  },
  {
   "cell_type": "markdown",
   "metadata": {},
   "source": [
    "<a id='toc2_'></a>\n",
    "# Data Preprocessing and Exploratory Data Analysis (EDA)\n",
    "\n",
    "[Return to contents](#contents)\n",
    "\n",
    "Here, we preprocess the homeless data, housing data, economics data and political involvement data of each state, and then combine the predictors and response variable in each state for year 2008 and 2016 (presidential election years)."
   ]
  },
  {
   "cell_type": "markdown",
   "metadata": {},
   "source": [
    "<a id='toc2_1_'></a>\n",
    "## Homeless data preprocess\n",
    "\n",
    "[Return to contents](#contents)"
   ]
  },
  {
   "cell_type": "code",
   "execution_count": null,
   "metadata": {},
   "outputs": [],
   "source": [
    "df_homeless = pd.read_csv(\"../data/2007-2016-Homelessnewss-USA.csv\")\n",
    "df_homeless.head()"
   ]
  },
  {
   "cell_type": "code",
   "execution_count": null,
   "metadata": {},
   "outputs": [],
   "source": [
    "# extract the year and add a new column to the dataframe\n",
    "df_homeless['Year_only'] = pd.DatetimeIndex(df_homeless['Year']).year \n",
    "\n",
    "# subset the homeless data to only contain data from year 2008 and 2016\n",
    "df_homeless_sub = df_homeless[df_homeless['Year_only'].isin([2008, 2016])]\n",
    "df_homeless_sub.head()"
   ]
  },
  {
   "cell_type": "code",
   "execution_count": null,
   "metadata": {},
   "outputs": [],
   "source": [
    "# describe the dataframe\n",
    "df_homeless_sub.describe()"
   ]
  },
  {
   "cell_type": "markdown",
   "metadata": {},
   "source": [
    "Note: The homeless data acquired from the U.S. Department of Housing and Urban Development uses the Continuums of Care (CoC) number, which divides each state into different geographic area. However, it does not necessarily match with the known zip code or county boundaries, which makes it hard to join this data with other county level data. Therefore, we first explore the data at states level. "
   ]
  },
  {
   "cell_type": "code",
   "execution_count": null,
   "metadata": {},
   "outputs": [],
   "source": [
    "# Convert the count to numeric\n",
    "# homeless_df_sub[\"Count\"] = pd.to_numeric(homeless_df_sub[\"Count\"])\n",
    "# homeless_df_sub.info()"
   ]
  },
  {
   "cell_type": "code",
   "execution_count": null,
   "metadata": {},
   "outputs": [],
   "source": [
    "# aggregate the data into state level\n",
    "df_homeless_sub = df_homeless_sub.groupby([\"Year_only\",\"State\"])[\"Count\"].sum().reset_index()\n",
    "df_homeless_sub.columns = [\"year\", \"state_abbrev\", \"homeless_count\"]\n",
    "df_homeless_sub"
   ]
  },
  {
   "cell_type": "markdown",
   "metadata": {},
   "source": [
    "Visualize the homelessness dataset by state:"
   ]
  },
  {
   "cell_type": "code",
   "execution_count": null,
   "metadata": {},
   "outputs": [],
   "source": [
    "# set font\n",
    "font = {'size'   : 16}\n",
    "plt.rc('font', **font)\n",
    "\n",
    "# plot the number of homeless people per state\n",
    "plt.figure(figsize=(18,6))\n",
    "sns.barplot(y='homeless_count', x='state_abbrev', hue=\"year\", data=df_homeless_sub)\n",
    "plt.ylabel('homeless people count')\n",
    "plt.xlabel(\"states\")\n",
    "plt.xticks(rotation = 45)\n",
    "plt.title('Homeless people count across states in 2008 and 2016')\n",
    "plt.grid();"
   ]
  },
  {
   "cell_type": "markdown",
   "metadata": {},
   "source": [
    "Choropleth graph of homeless count by state"
   ]
  },
  {
   "cell_type": "code",
   "execution_count": null,
   "metadata": {},
   "outputs": [],
   "source": [
    "fig = px.choropleth(df_homeless_sub.query(\"year == 2008\"), \n",
    "                    locations='state_abbrev', \n",
    "                    locationmode=\"USA-states\", \n",
    "                    scope=\"usa\",\n",
    "                    color='homeless_count',\n",
    "                    color_continuous_scale=\"Viridis_r\", \n",
    "                    )\n",
    "\n",
    "fig.update_layout(\n",
    "      title_text = 'Homeless Count by State in 2008',\n",
    "      title_font_size = 22,\n",
    "      title_x=0.45, \n",
    "    )\n",
    "\n",
    "fig.show()\n",
    "\n",
    "fig = px.choropleth(df_homeless_sub.query(\"year == 2016\"), \n",
    "                    locations='state_abbrev', \n",
    "                    locationmode=\"USA-states\", \n",
    "                    scope=\"usa\",\n",
    "                    color='homeless_count',\n",
    "                    color_continuous_scale=\"Viridis_r\", \n",
    "                    )\n",
    "\n",
    "fig.update_layout(\n",
    "      title_text = 'Homeless Count by State in 2016',\n",
    "      title_font_size = 22,\n",
    "      title_x=0.45, \n",
    "    )\n",
    "\n",
    "fig.show()"
   ]
  },
  {
   "cell_type": "markdown",
   "metadata": {},
   "source": [
    "<a id='toc2_2_'></a>\n",
    "## Housing data preprocess\n",
    "\n",
    "[Return to contents](#contents)\n",
    "\n",
    "Perform EDA analysis on the housing-related predictors. "
   ]
  },
  {
   "cell_type": "code",
   "execution_count": null,
   "metadata": {},
   "outputs": [],
   "source": [
    "# Load the housing price dataset\n",
    "df_housing = pd.read_csv(\"../data/State_time_series.csv\")\n",
    "df_housing.head()"
   ]
  },
  {
   "cell_type": "code",
   "execution_count": null,
   "metadata": {},
   "outputs": [],
   "source": [
    "# dictionary help to convert the state name to abbrevation\n",
    "\n",
    "us_state_to_abbrev = {\n",
    "    \"Alabama\": \"AL\",\n",
    "    \"Alaska\": \"AK\",\n",
    "    \"Arizona\": \"AZ\",\n",
    "    \"Arkansas\": \"AR\",\n",
    "    \"California\": \"CA\",\n",
    "    \"Colorado\": \"CO\",\n",
    "    \"Connecticut\": \"CT\",\n",
    "    \"Delaware\": \"DE\",\n",
    "    \"Florida\": \"FL\",\n",
    "    \"Georgia\": \"GA\",\n",
    "    \"Hawaii\": \"HI\",\n",
    "    \"Idaho\": \"ID\",\n",
    "    \"Illinois\": \"IL\",\n",
    "    \"Indiana\": \"IN\",\n",
    "    \"Iowa\": \"IA\",\n",
    "    \"Kansas\": \"KS\",\n",
    "    \"Kentucky\": \"KY\",\n",
    "    \"Louisiana\": \"LA\",\n",
    "    \"Maine\": \"ME\",\n",
    "    \"Maryland\": \"MD\",\n",
    "    \"Massachusetts\": \"MA\",\n",
    "    \"Michigan\": \"MI\",\n",
    "    \"Minnesota\": \"MN\",\n",
    "    \"Mississippi\": \"MS\",\n",
    "    \"Missouri\": \"MO\",\n",
    "    \"Montana\": \"MT\",\n",
    "    \"Nebraska\": \"NE\",\n",
    "    \"Nevada\": \"NV\",\n",
    "    \"New Hampshire\": \"NH\",\n",
    "    \"New Jersey\": \"NJ\",\n",
    "    \"New Mexico\": \"NM\",\n",
    "    \"New York\": \"NY\",\n",
    "    \"North Carolina\": \"NC\",\n",
    "    \"North Dakota\": \"ND\",\n",
    "    \"Ohio\": \"OH\",\n",
    "    \"Oklahoma\": \"OK\",\n",
    "    \"Oregon\": \"OR\",\n",
    "    \"Pennsylvania\": \"PA\",\n",
    "    \"Rhode Island\": \"RI\",\n",
    "    \"South Carolina\": \"SC\",\n",
    "    \"South Dakota\": \"SD\",\n",
    "    \"Tennessee\": \"TN\",\n",
    "    \"Texas\": \"TX\",\n",
    "    \"Utah\": \"UT\",\n",
    "    \"Vermont\": \"VT\",\n",
    "    \"Virginia\": \"VA\",\n",
    "    \"Washington\": \"WA\",\n",
    "    \"WestVirginia\": \"WV\",\n",
    "    \"Wisconsin\": \"WI\",\n",
    "    \"Wyoming\": \"WY\",\n",
    "    \"DistrictofColumbia\": \"DC\",\n",
    "    \"American Samoa\": \"AS\",\n",
    "    \"Guam\": \"GU\",\n",
    "    \"Northern Mariana Islands\": \"MP\",\n",
    "    \"Puerto Rico\": \"PR\",\n",
    "    \"United States Minor Outlying Islands\": \"UM\",\n",
    "    \"Virgin Islands\": \"VI\",\n",
    "}"
   ]
  },
  {
   "cell_type": "code",
   "execution_count": null,
   "metadata": {},
   "outputs": [],
   "source": [
    "# extract the year of the sold date and add a new column to the dataframe\n",
    "df_housing['year'] = pd.DatetimeIndex(df_housing['Date']).year \n",
    "\n",
    "# subset the housing price data to 2008 and 2016\n",
    "df_housing_sub = df_housing[df_housing['year'].isin([2008, 2016])]\n",
    "\n",
    "# convert state full name to abbreviation\n",
    "df_housing_sub[\"state_abbrev\"] = df_housing_sub[\"RegionName\"].map(us_state_to_abbrev)\n",
    "\n",
    "df_housing_sub = df_housing_sub.groupby([\"year\",\"state_abbrev\"])[[\"Sale_Prices\", \"MedianListingPricePerSqft_1Bedroom\", \"MedianListingPricePerSqft_2Bedroom\", \"MedianListingPricePerSqft_3Bedroom\", \"MedianListingPricePerSqft_4Bedroom\", \"MedianListingPricePerSqft_5BedroomOrMore\"]].mean().reset_index()#.to_csv(\"Housing_data.csv\", index=False)\n"
   ]
  },
  {
   "cell_type": "code",
   "execution_count": null,
   "metadata": {},
   "outputs": [],
   "source": [
    "# plot the housing price per state\n",
    "plt.figure(figsize=(18,6))\n",
    "sns.barplot(y='Sale_Prices', x='state_abbrev', hue=\"year\", data=df_housing_sub)\n",
    "plt.ylabel('housing sale price in USD')\n",
    "plt.xlabel(\"states\")\n",
    "plt.xticks(rotation = 45)\n",
    "plt.title('Housing sale price across states in 2008 and 2016')\n",
    "plt.grid();"
   ]
  },
  {
   "cell_type": "markdown",
   "metadata": {},
   "source": [
    "<a id='toc2_3_'></a>\n",
    "## Political data preprocess\n",
    "\n",
    "[Return to contents](#contents)\n",
    "\n",
    "Perform EDA analysis on the political-related predictors. "
   ]
  },
  {
   "cell_type": "code",
   "execution_count": null,
   "metadata": {},
   "outputs": [],
   "source": [
    "# Load the politics dataset\n",
    "df_politics = pd.read_csv(\"../data/countypres_2000-2020.csv\")\n",
    "df_politics.head()"
   ]
  },
  {
   "cell_type": "code",
   "execution_count": null,
   "metadata": {},
   "outputs": [],
   "source": [
    "# subset the data to 2008 and 2016\n",
    "df_politics_sub = (\n",
    "df_politics.query(\"year == 2008 or year == 2016\")\n",
    "            .query(\"party == 'DEMOCRAT'\")\n",
    "            .rename(columns = {\"state_po\":\"state_abbrev\"})\n",
    "            .groupby([\"year\", \"state_abbrev\"]).sum().reset_index()\n",
    ")[['year', 'state_abbrev', 'candidatevotes', 'totalvotes']]\n",
    "\n",
    "\n",
    "# calculate the percentage vote to democrat as a candidate predictor\n",
    "df_politics_sub['democrat_perc'] = df_politics_sub['candidatevotes']/df_politics_sub['totalvotes'] * 100\n",
    "\n",
    "df_politics_sub = df_politics_sub[['year', 'state_abbrev', 'democrat_perc']]\n",
    "df_politics_sub.head()"
   ]
  },
  {
   "cell_type": "code",
   "execution_count": null,
   "metadata": {},
   "outputs": [],
   "source": [
    "df_politics_sub"
   ]
  },
  {
   "cell_type": "code",
   "execution_count": null,
   "metadata": {},
   "outputs": [],
   "source": [
    "# plot the politics indicator per state\n",
    "plt.figure(figsize=(18,6))\n",
    "sns.barplot(y='democrat_perc', x='state_abbrev', hue=\"year\", data=df_politics_sub)\n",
    "plt.ylabel('democrat percentage (%)')\n",
    "plt.xlabel(\"states\")\n",
    "plt.xticks(rotation = 45)\n",
    "plt.title('Democrat vote percentage across states in 2008 and 2016')\n",
    "plt.grid();"
   ]
  },
  {
   "cell_type": "code",
   "execution_count": null,
   "metadata": {},
   "outputs": [],
   "source": [
    "# Choropleth graph of political party by state 2008\n",
    "# color_scale = {'Republican': 'red', 'Democrat': 'blue'}\n",
    "\n",
    "fig = px.choropleth(df_politics_sub.query(\"year == 2008\"), \n",
    "                    locations='state_abbrev', \n",
    "                    locationmode=\"USA-states\", \n",
    "                    scope=\"usa\",\n",
    "                    color='democrat_perc',\n",
    "                    color_continuous_scale=\"Spectral\", \n",
    "                    )\n",
    "\n",
    "fig.update_layout(\n",
    "      title_text = 'Political Party by State in 2008',\n",
    "      title_font_size = 22,\n",
    "      title_x=0.45, \n",
    "    )\n",
    "\n",
    "fig.show()\n",
    "\n",
    "# Choropleth graph of political party by state 2016\n",
    "# color_scale = {'Republican': 'red', 'Democrat': 'blue'}\n",
    "\n",
    "fig = px.choropleth(df_politics_sub.query(\"year == 2016\"), \n",
    "                    locations='state_abbrev', \n",
    "                    locationmode=\"USA-states\", \n",
    "                    scope=\"usa\",\n",
    "                    color='democrat_perc',\n",
    "                    color_continuous_scale=\"Spectral\", \n",
    "                    )\n",
    "\n",
    "fig.update_layout(\n",
    "      title_text = 'Political Party by State in 2016',\n",
    "      title_font_size = 22,\n",
    "      title_x=0.45, \n",
    "    )\n",
    "\n",
    "fig.show()\n"
   ]
  },
  {
   "cell_type": "markdown",
   "metadata": {},
   "source": [
    "<a id='toc2_4_'></a>\n",
    "## Economic profile data preprocess\n",
    "\n",
    "[Return to contents](#contents)\n",
    "\n",
    "Perform EDA analysis on the economics-related predictors. "
   ]
  },
  {
   "cell_type": "code",
   "execution_count": null,
   "metadata": {},
   "outputs": [],
   "source": [
    "df_econ = pd.read_csv(\"../data/profile_by_county_1969_2019.csv\", encoding='latin-1')\n",
    "states_FIPS = ['01000', '02000', '03000', '04000', '05000', '06000', '07000', '08000', '09000']\n",
    "for i in range(10, 57):\n",
    "    fips = str(i)+'000'\n",
    "    states_FIPS.append(fips)\n",
    "\n",
    "df_econ['GeoFIPS'] = df_econ['GeoFIPS'].str.slice(2,7)\n",
    "\n",
    "econ_cols = [' Per capita personal income 4/', ' Per capita net earnings 4/', 'Total employment (number of jobs)', ' Average wages and salaries']"
   ]
  },
  {
   "cell_type": "code",
   "execution_count": null,
   "metadata": {},
   "outputs": [],
   "source": [
    "df_econ_sub = (df_econ[['GeoFIPS', 'GeoName', 'Description', '2008', '2016']]\n",
    "                 .query(\"GeoFIPS in @states_FIPS\")\n",
    "                 .query(\"Description in @econ_cols\")\n",
    "                 .assign(state_abbrev = df_econ['GeoName'].map(us_state_to_abbrev))\n",
    "                 .drop(columns = ['GeoFIPS', 'GeoName'])               \n",
    "                )\n",
    "\n",
    "df_econ_sub"
   ]
  },
  {
   "cell_type": "code",
   "execution_count": null,
   "metadata": {},
   "outputs": [],
   "source": [
    "# subset data from 2008 and 2016\n",
    "df_econ_sub_08 = (df_econ_sub.drop(columns = ['2016'])\n",
    "                             .assign(year = 2008)\n",
    "                 )\n",
    "df_econ_sub_16 = (df_econ_sub.drop(columns = ['2008'])\n",
    "                             .assign(year = 2016)\n",
    "                 )"
   ]
  },
  {
   "cell_type": "code",
   "execution_count": null,
   "metadata": {},
   "outputs": [],
   "source": [
    "df_econ_sub_08 = (df_econ_sub_08.pivot_table(index=['year', 'state_abbrev'], columns='Description', values='2008', aggfunc='sum').reset_index()\n",
    "                  .rename(columns = {' Average wages and salaries':\"AvgSalary\", ' Per capita net earnings 4/':\"PerCapNetEarning\", ' Per capita personal income 4/':\"PerCapNetIncome\", \"Total employment (number of jobs)\":\"TotalNumJobs\"})\n",
    "                 )\n",
    "\n",
    "df_econ_sub_16 = (df_econ_sub_16.pivot_table(index=['year', 'state_abbrev'], columns='Description', values='2016', aggfunc='sum').reset_index()\n",
    "                  .rename(columns = {' Average wages and salaries':\"AvgSalary\", ' Per capita net earnings 4/':\"PerCapNetEarning\", ' Per capita personal income 4/':\"PerCapNetIncome\", \"Total employment (number of jobs)\":\"TotalNumJobs\"})\n",
    "                 )\n"
   ]
  },
  {
   "cell_type": "code",
   "execution_count": null,
   "metadata": {},
   "outputs": [],
   "source": [
    "# combined table of economic data\n",
    "df_econ_sub = pd.concat([df_econ_sub_08, df_econ_sub_16])\n",
    "df_econ_sub.head()"
   ]
  },
  {
   "cell_type": "code",
   "execution_count": null,
   "metadata": {},
   "outputs": [],
   "source": [
    "# change column data type for following data preprocessing\n",
    "df_econ_sub[\"AvgSalary\"] = pd.to_numeric(df_econ_sub[\"AvgSalary\"])\n",
    "df_econ_sub[\"PerCapNetEarning\"] = pd.to_numeric(df_econ_sub[\"PerCapNetEarning\"])\n",
    "df_econ_sub[\"PerCapNetIncome\"] = pd.to_numeric(df_econ_sub[\"PerCapNetIncome\"])\n",
    "df_econ_sub[\"TotalNumJobs\"] = pd.to_numeric(df_econ_sub[\"TotalNumJobs\"])"
   ]
  },
  {
   "cell_type": "code",
   "execution_count": null,
   "metadata": {},
   "outputs": [],
   "source": [
    "# plot the economics indicator per state\n",
    "plt.figure(figsize=(18,6))\n",
    "sns.barplot(y='TotalNumJobs', x='state_abbrev', hue=\"year\", data=df_econ_sub)\n",
    "plt.ylabel('total number of jobs')\n",
    "plt.xlabel(\"states\")\n",
    "plt.xticks(rotation = 45)\n",
    "plt.title('Total number of jobs across states in 2008 and 2016')\n",
    "plt.grid();"
   ]
  },
  {
   "cell_type": "code",
   "execution_count": null,
   "metadata": {},
   "outputs": [],
   "source": [
    "# Choropleth graph of Total Number of Jobs by state\n",
    "fig = px.choropleth(df_econ_sub.query(\"year == 2008\"), \n",
    "                    locations='state_abbrev', \n",
    "                    locationmode=\"USA-states\", \n",
    "                    scope=\"usa\",\n",
    "                    color='TotalNumJobs',\n",
    "                    color_continuous_scale=\"Viridis_r\", \n",
    "                    )\n",
    "\n",
    "fig.update_layout(\n",
    "      title_text = 'Total Number of Jobs by State in 2008',\n",
    "      title_font_size = 22,\n",
    "      title_x=0.45, \n",
    "    )\n",
    "\n",
    "fig.show()\n",
    "\n",
    "fig = px.choropleth(df_econ_sub.query(\"year == 2016\"), \n",
    "                    locations='state_abbrev', \n",
    "                    locationmode=\"USA-states\", \n",
    "                    scope=\"usa\",\n",
    "                    color='TotalNumJobs',\n",
    "                    color_continuous_scale=\"Viridis_r\", \n",
    "                    )\n",
    "\n",
    "fig.update_layout(\n",
    "      title_text = 'Total Number of Jobs by State in 2016',\n",
    "      title_font_size = 22,\n",
    "      title_x=0.45, \n",
    "    )\n",
    "\n",
    "fig.show()"
   ]
  },
  {
   "cell_type": "markdown",
   "metadata": {},
   "source": [
    "<a id='toc2_5_'></a>\n",
    "## Merge Datasets\n",
    "\n",
    "[Return to contents](#contents)"
   ]
  },
  {
   "cell_type": "code",
   "execution_count": null,
   "metadata": {},
   "outputs": [],
   "source": [
    "# # merge datasets into a final dataframe\n",
    "# df_homeless_housing = pd.merge(df_homeless_sub, df_housing_sub, how=\"left\", left_on=[\"year\", \"state_abbrev\"], right_on=[\"Year_only\", \"state_abbrev\"]).drop(columns=['Year_only'])\n",
    "# # df_homeless_housing.to_csv(\"../data/homeless_count_with_housing_price_by_state000.csv\", index=False)"
   ]
  },
  {
   "cell_type": "code",
   "execution_count": null,
   "metadata": {},
   "outputs": [],
   "source": [
    "# econ_politics = pd.read_csv(\"../data/homeless_count_Econ_Politics_by_state.csv\")\n",
    "# econ_politics.rename(columns={\"state_abbrev\": \"state\"},inplace=True)\n",
    "# econ_politics"
   ]
  },
  {
   "cell_type": "code",
   "execution_count": null,
   "metadata": {},
   "outputs": [],
   "source": [
    "# combined = pd.concat([econ_politics, df_homeless_housing.drop(columns=['year', 'state_abbrev','homeless_count'])], axis=1, join=\"inner\")\n",
    "# combined"
   ]
  },
  {
   "cell_type": "code",
   "execution_count": null,
   "metadata": {},
   "outputs": [],
   "source": [
    "# combined1 = pd.concat([econ_politics, df_homeless_housing.drop(columns=['year', 'state_abbrev','homeless_count'])], axis=1, join=\"inner\")\n",
    "# combined1"
   ]
  },
  {
   "cell_type": "code",
   "execution_count": null,
   "metadata": {},
   "outputs": [],
   "source": [
    "df_combined = (df_homeless_sub.merge(df_politics_sub, how = \"left\", on = ['year', 'state_abbrev'])\n",
    "                                  .merge(df_econ_sub, how = \"left\", on = ['year', 'state_abbrev'])\n",
    "                                  .merge(df_housing_sub, how = \"left\", on = ['year', 'state_abbrev'])\n",
    "                  )\n",
    "df_combined.rename(columns={\"state_abbrev\": \"state\"},inplace=True)\n",
    "\n",
    "df_combined.head()"
   ]
  },
  {
   "cell_type": "code",
   "execution_count": null,
   "metadata": {},
   "outputs": [],
   "source": [
    "df_combined.info()"
   ]
  },
  {
   "cell_type": "markdown",
   "metadata": {},
   "source": [
    "<a id='toc2_6_'></a>\n",
    "## Missing Values\n",
    "\n",
    "[Return to contents](#contents)\n",
    "\n",
    "Check the data missingness across columns, plot the missingness."
   ]
  },
  {
   "cell_type": "code",
   "execution_count": null,
   "metadata": {},
   "outputs": [],
   "source": [
    "print(df_combined.isna().sum())\n",
    "\n",
    "mn.matrix(df_combined,figsize=(8,4))"
   ]
  },
  {
   "cell_type": "markdown",
   "metadata": {},
   "source": [
    "We have more data missing on the housing prices dataset, and less missingness on the politics data.\n",
    "\n",
    "States such as Guam, American Samoa, Northern Mariana Islands, Puerto Rico, US Minor Outlying Islands, Virgin Islands have missing values. We hypothesized that the data were missing at random. "
   ]
  },
  {
   "cell_type": "markdown",
   "metadata": {
    "tags": []
   },
   "source": [
    "<a id='toc2_7_'></a>\n",
    "\n",
    "## Correlation between each variable and homeless count\n",
    "\n",
    "[Return to contents](#contents)"
   ]
  },
  {
   "cell_type": "code",
   "execution_count": null,
   "metadata": {},
   "outputs": [],
   "source": [
    "df_combined.columns"
   ]
  },
  {
   "cell_type": "code",
   "execution_count": null,
   "metadata": {},
   "outputs": [],
   "source": [
    "plt.figure(figsize=(16, 8))\n",
    "g_16 = sns.pairplot(df_combined.query(\"year == 2016\"), \n",
    "             x_vars=[\"democrat_perc\",\"AvgSalary\",\"PerCapNetEarning\", \"PerCapNetIncome\", \"TotalNumJobs\", 'Sale_Prices'],\n",
    "             y_vars=[\"homeless_count\"])\n",
    "\n",
    "g_16.fig.suptitle('Correlation between each variable and homeless count in 2016', fontsize = 16)\n",
    "g_16.fig.tight_layout()"
   ]
  },
  {
   "cell_type": "code",
   "execution_count": null,
   "metadata": {},
   "outputs": [],
   "source": [
    "plt.figure(figsize=(10, 6))\n",
    "heatmap = sns.heatmap(pd.merge(df_homeless_sub, df_housing_sub, how=\"left\", left_on=[\"year\", \"state_abbrev\"], right_on=[\"year\", \"state_abbrev\"]).drop(columns = ['year']).corr(), vmin=-1, vmax=1, annot=True, cmap=\"coolwarm\")\n",
    "heatmap.set_title('Correlation Heatmap for Housing predictors', fontdict={'fontsize':18}, pad=12);"
   ]
  },
  {
   "cell_type": "code",
   "execution_count": null,
   "metadata": {},
   "outputs": [],
   "source": [
    "plt.figure(figsize=(10, 6))\n",
    "heatmap_08 = sns.heatmap(df_combined[[\"homeless_count\", \"democrat_perc\",\"AvgSalary\",\"PerCapNetEarning\", \"PerCapNetIncome\", \"TotalNumJobs\"]].corr(), vmin=-1, vmax=1, annot=True, cmap=\"coolwarm\")\n",
    "heatmap_08.set_title('Correlation Heatmap for Economics and Politics Predictors', fontdict={'fontsize':18}, pad=12)"
   ]
  },
  {
   "cell_type": "markdown",
   "metadata": {},
   "source": [
    "<a id='toc2_8_'></a>\n",
    "\n",
    "# Combined data preprocess\n",
    "\n",
    "[Return to contents](#contents)"
   ]
  },
  {
   "cell_type": "code",
   "execution_count": null,
   "metadata": {},
   "outputs": [],
   "source": [
    "# ecopolitics = pd.read_csv(\"../data/homeless_count_Econ_Politics_by_state.csv\")\n",
    "# ecopolitics.rename(columns={\"state_abbrev\": \"state\"}, inplace=True)\n",
    "# ecopolitics"
   ]
  },
  {
   "cell_type": "code",
   "execution_count": null,
   "metadata": {},
   "outputs": [],
   "source": [
    "# housingprice = pd.read_csv(\"../data/homeless_count_with_housing_price_by_state.csv\")\n",
    "# housingprice.rename(columns={\"Year_only\": \"year\"}, inplace=True)\n",
    "# housingprice"
   ]
  },
  {
   "cell_type": "code",
   "execution_count": null,
   "metadata": {},
   "outputs": [],
   "source": [
    "# combined = pd.concat([ecopolitics, housingprice.drop(columns=['year', 'state_abbrev','homeless_count'])], axis=1, join=\"inner\")\n",
    "# combined"
   ]
  },
  {
   "cell_type": "markdown",
   "metadata": {},
   "source": [
    "### Categorical variable preprocessing"
   ]
  },
  {
   "cell_type": "code",
   "execution_count": null,
   "metadata": {},
   "outputs": [],
   "source": [
    "# Categorical variables: state_abbrev (use one-hot encoding later)\n",
    "enc = OrdinalEncoder()\n",
    "# enc = OneHotEncoder(handle_unknown='ignore')\n",
    "df_combined['state'] = enc.fit_transform(df_combined[['state']])\n",
    "\n",
    "df_combined"
   ]
  },
  {
   "cell_type": "markdown",
   "metadata": {},
   "source": [
    "### Impute missing data"
   ]
  },
  {
   "cell_type": "code",
   "execution_count": null,
   "metadata": {},
   "outputs": [],
   "source": [
    "# kNN imputer\n",
    "knn_imp = KNNImputer(n_neighbors=5)\n",
    "df_imputed = pd.DataFrame(knn_imp.fit_transform(df_combined))\n",
    "df_imputed.columns = df_combined.columns\n",
    "\n",
    "# exclude the state\n",
    "df_imputed = df_imputed.drop(columns = \"state\")\n",
    "df_imputed"
   ]
  },
  {
   "cell_type": "markdown",
   "metadata": {},
   "source": [
    "### Data standardization\n",
    "Here we standardize our data for training different models by each member. "
   ]
  },
  {
   "cell_type": "code",
   "execution_count": null,
   "metadata": {},
   "outputs": [],
   "source": [
    "scaler = StandardScaler()\n",
    "df_imputed_scaled = scaler.fit_transform(df_imputed)\n",
    "df_imputed_scaled = pd.DataFrame(df_imputed_scaled, columns=df_imputed.columns)\n",
    "df_imputed_scaled\n",
    "X_scaled = df_imputed_scaled.drop(columns='homeless_count')\n",
    "y_scaled = df_imputed_scaled['homeless_count']\n",
    "\n",
    "# Train test split\n",
    "X_train, X_test, y_train, y_test = train_test_split(X_scaled, y_scaled, test_size=0.2, random_state=300) # set seed for reproducibility\n",
    "\n",
    "\n",
    "# X_train.to_csv(\"../data/scaled_X_train.csv\", index=False)\n",
    "# X_test.to_csv(\"../data/scaled_X_test.csv\", index=False)\n",
    "# y_train.to_csv(\"../data/scaled_y_train.csv\", index=False)\n",
    "# y_test.to_csv(\"../data/scaled_y_test.csv\", index=False)"
   ]
  },
  {
   "cell_type": "markdown",
   "metadata": {},
   "source": [
    "<a id='toc3_'></a>\n",
    "\n",
    "# Regression Modeling and Evaluation\n",
    "[Return to contents](#contents)"
   ]
  },
  {
   "cell_type": "markdown",
   "metadata": {},
   "source": [
    "<a id='toc3_1_'></a>\n",
    "\n",
    "## Baseline Model\n",
    "\n",
    "[Return to contents](#contents)"
   ]
  },
  {
   "cell_type": "code",
   "execution_count": null,
   "metadata": {},
   "outputs": [],
   "source": [
    "predictor = 'TotalNumJobs'\n",
    "baseline_linreg = LinearRegression().fit(X_train[predictor].values.reshape(-1,1), y_train)"
   ]
  },
  {
   "cell_type": "code",
   "execution_count": null,
   "metadata": {},
   "outputs": [],
   "source": [
    "#Predict\n",
    "y_pred_train = baseline_linreg.predict(X_train[predictor].values.reshape(-1,1))\n",
    "y_pred_test = baseline_linreg.predict(X_test[predictor].values.reshape(-1,1))\n",
    "\n",
    "#Compute the MSE of the model\n",
    "train_mse = mean_squared_error(y_train,y_pred_train)\n",
    "test_mse = mean_squared_error(y_test,y_pred_test)\n",
    "base_model_r2 = r2_score(y_test, y_pred_test)\n",
    "\n",
    "print(\"Linear regression model results:\\n\")\n",
    "print(\n",
    "    \"\\tTrain MSE\\t{:.4f}\\n\"\n",
    "    \"\\tTest MSE\\t{:.4f}\\n\".format(\n",
    "        train_mse,\n",
    "        test_mse,\n",
    "    )\n",
    ")\n",
    "\n",
    "print(f\"\\tTest R-squared\\t{base_model_r2:.4f}\")"
   ]
  },
  {
   "cell_type": "code",
   "execution_count": null,
   "metadata": {},
   "outputs": [],
   "source": [
    "baseline_model_slope =baseline_linreg.coef_\n",
    "baseline_model_intercept = baseline_linreg.intercept_\n",
    "\n",
    "baseline_model_params = [baseline_linreg.intercept_, *baseline_linreg.coef_]\n",
    "baseline_model_params_df = pd.DataFrame(baseline_model_params, columns = [\"Coefficient\"], index=[\"intercept\"]+[str(i) for i in [predictor]])\n",
    "baseline_model_params_df"
   ]
  },
  {
   "cell_type": "markdown",
   "metadata": {},
   "source": [
    "### Plot the baseline model"
   ]
  },
  {
   "cell_type": "code",
   "execution_count": null,
   "metadata": {},
   "outputs": [],
   "source": [
    "# Preliminary plotting\n",
    "x_lin = np.linspace(min(X_train[predictor].values), max(X_train[predictor].values), 1000).reshape(-1, 1)\n",
    "\n",
    "# split the x and y coords for plotting\n",
    "pred_curve_y = [i*baseline_model_slope[0] + baseline_model_intercept for i in x_lin]\n",
    "\n",
    "sns.scatterplot(data=df_imputed,x=X_train[predictor],y=y_train,alpha=0.8, label=\"train data\")\n",
    "sns.scatterplot(data=df_imputed,x=X_test[predictor],y=y_test,alpha=0.8, label=\"test data\")\n",
    "plt.plot(x_lin, pred_curve_y, label = f\"prediction curve\", c='red')\n",
    "plt.title(f\"Based line model: ($R^2$ = {base_model_r2:.4f})\")\n",
    "plt.legend();"
   ]
  },
  {
   "cell_type": "markdown",
   "metadata": {},
   "source": [
    "<a id='toc3_2_'></a>\n",
    "## Multivariate linear model\n",
    "[Return to contents](#contents)"
   ]
  },
  {
   "cell_type": "code",
   "execution_count": null,
   "metadata": {},
   "outputs": [],
   "source": [
    "%matplotlib inline"
   ]
  },
  {
   "cell_type": "code",
   "execution_count": null,
   "metadata": {},
   "outputs": [],
   "source": [
    "def find_nearest(array, value):\n",
    "    array = np.asarray(array)\n",
    "    idx = (np.abs(array - value)).argmin()\n",
    "    return array[idx],idx"
   ]
  },
  {
   "cell_type": "code",
   "execution_count": 10,
   "metadata": {},
   "outputs": [
    {
     "data": {
      "text/html": [
       "<div>\n",
       "<style scoped>\n",
       "    .dataframe tbody tr th:only-of-type {\n",
       "        vertical-align: middle;\n",
       "    }\n",
       "\n",
       "    .dataframe tbody tr th {\n",
       "        vertical-align: top;\n",
       "    }\n",
       "\n",
       "    .dataframe thead th {\n",
       "        text-align: right;\n",
       "    }\n",
       "</style>\n",
       "<table border=\"1\" class=\"dataframe\">\n",
       "  <thead>\n",
       "    <tr style=\"text-align: right;\">\n",
       "      <th></th>\n",
       "      <th>democrat_perc</th>\n",
       "      <th>AvgSalary</th>\n",
       "      <th>PerCapNetEarning</th>\n",
       "      <th>PerCapNetIncome</th>\n",
       "      <th>TotalNumJobs</th>\n",
       "      <th>Sale_Prices</th>\n",
       "      <th>MedianListingPricePerSqft_1Bedroom</th>\n",
       "      <th>MedianListingPricePerSqft_2Bedroom</th>\n",
       "      <th>MedianListingPricePerSqft_3Bedroom</th>\n",
       "      <th>MedianListingPricePerSqft_4Bedroom</th>\n",
       "      <th>MedianListingPricePerSqft_5BedroomOrMore</th>\n",
       "    </tr>\n",
       "  </thead>\n",
       "  <tbody>\n",
       "    <tr>\n",
       "      <th>0</th>\n",
       "      <td>1.187014</td>\n",
       "      <td>1.023277</td>\n",
       "      <td>0.984646</td>\n",
       "      <td>0.850506</td>\n",
       "      <td>0.178410</td>\n",
       "      <td>1.221901</td>\n",
       "      <td>-0.004104</td>\n",
       "      <td>-0.036893</td>\n",
       "      <td>0.021631</td>\n",
       "      <td>0.023977</td>\n",
       "      <td>-0.025684</td>\n",
       "    </tr>\n",
       "    <tr>\n",
       "      <th>1</th>\n",
       "      <td>1.199637</td>\n",
       "      <td>0.023937</td>\n",
       "      <td>-0.383640</td>\n",
       "      <td>-0.462143</td>\n",
       "      <td>-0.750147</td>\n",
       "      <td>-0.009682</td>\n",
       "      <td>0.026937</td>\n",
       "      <td>0.080594</td>\n",
       "      <td>0.070108</td>\n",
       "      <td>-0.025834</td>\n",
       "      <td>-0.083322</td>\n",
       "    </tr>\n",
       "    <tr>\n",
       "      <th>2</th>\n",
       "      <td>-0.572699</td>\n",
       "      <td>-1.057257</td>\n",
       "      <td>-1.294860</td>\n",
       "      <td>-1.396147</td>\n",
       "      <td>-0.280227</td>\n",
       "      <td>-1.590602</td>\n",
       "      <td>-0.473441</td>\n",
       "      <td>-0.440902</td>\n",
       "      <td>-0.402933</td>\n",
       "      <td>-0.376713</td>\n",
       "      <td>-0.337893</td>\n",
       "    </tr>\n",
       "    <tr>\n",
       "      <th>3</th>\n",
       "      <td>0.833619</td>\n",
       "      <td>0.072848</td>\n",
       "      <td>0.041553</td>\n",
       "      <td>-0.012319</td>\n",
       "      <td>0.112448</td>\n",
       "      <td>0.760825</td>\n",
       "      <td>-0.216729</td>\n",
       "      <td>-0.353839</td>\n",
       "      <td>-0.324579</td>\n",
       "      <td>-0.287681</td>\n",
       "      <td>-0.215065</td>\n",
       "    </tr>\n",
       "    <tr>\n",
       "      <th>4</th>\n",
       "      <td>0.756480</td>\n",
       "      <td>-0.606384</td>\n",
       "      <td>-0.832131</td>\n",
       "      <td>-0.890741</td>\n",
       "      <td>-0.309058</td>\n",
       "      <td>0.428678</td>\n",
       "      <td>-0.623486</td>\n",
       "      <td>-0.444504</td>\n",
       "      <td>-0.301532</td>\n",
       "      <td>-0.277814</td>\n",
       "      <td>-0.221680</td>\n",
       "    </tr>\n",
       "  </tbody>\n",
       "</table>\n",
       "</div>"
      ],
      "text/plain": [
       "   democrat_perc  AvgSalary  PerCapNetEarning  PerCapNetIncome  TotalNumJobs  \\\n",
       "0       1.187014   1.023277          0.984646         0.850506      0.178410   \n",
       "1       1.199637   0.023937         -0.383640        -0.462143     -0.750147   \n",
       "2      -0.572699  -1.057257         -1.294860        -1.396147     -0.280227   \n",
       "3       0.833619   0.072848          0.041553        -0.012319      0.112448   \n",
       "4       0.756480  -0.606384         -0.832131        -0.890741     -0.309058   \n",
       "\n",
       "   Sale_Prices  MedianListingPricePerSqft_1Bedroom  \\\n",
       "0     1.221901                           -0.004104   \n",
       "1    -0.009682                            0.026937   \n",
       "2    -1.590602                           -0.473441   \n",
       "3     0.760825                           -0.216729   \n",
       "4     0.428678                           -0.623486   \n",
       "\n",
       "   MedianListingPricePerSqft_2Bedroom  MedianListingPricePerSqft_3Bedroom  \\\n",
       "0                           -0.036893                            0.021631   \n",
       "1                            0.080594                            0.070108   \n",
       "2                           -0.440902                           -0.402933   \n",
       "3                           -0.353839                           -0.324579   \n",
       "4                           -0.444504                           -0.301532   \n",
       "\n",
       "   MedianListingPricePerSqft_4Bedroom  \\\n",
       "0                            0.023977   \n",
       "1                           -0.025834   \n",
       "2                           -0.376713   \n",
       "3                           -0.287681   \n",
       "4                           -0.277814   \n",
       "\n",
       "   MedianListingPricePerSqft_5BedroomOrMore  \n",
       "0                                 -0.025684  \n",
       "1                                 -0.083322  \n",
       "2                                 -0.337893  \n",
       "3                                 -0.215065  \n",
       "4                                 -0.221680  "
      ]
     },
     "execution_count": 10,
     "metadata": {},
     "output_type": "execute_result"
    }
   ],
   "source": [
    "# Read in data\n",
    "X_train = pd.read_csv(\"../data/scaled_X_train.csv\")\n",
    "y_train = pd.read_csv(\"../data/scaled_y_train.csv\")\n",
    "X_test = pd.read_csv(\"../data/scaled_X_test.csv\")\n",
    "y_test = pd.read_csv(\"../data/scaled_y_test.csv\")\n",
    "\n",
    "# exclude the year column\n",
    "X_train = X_train.drop(columns = \"year\")\n",
    "X_test = X_test.drop(columns = \"year\")\n",
    "\n",
    "X_train.head()"
   ]
  },
  {
   "cell_type": "markdown",
   "id": "c5349fa6",
   "metadata": {},
   "source": [
    "## Build Lasso model with CV"
   ]
  },
  {
   "cell_type": "markdown",
   "metadata": {},
   "source": [
    "To find our baseline lasso model, we impleneted cross-validation to find the `best_alpha` that generates the best cross-validation MSE. We also recorded the mean cross-validation MSE across each fold."
   ]
  },
  {
   "cell_type": "code",
   "execution_count": null,
   "metadata": {},
   "outputs": [],
   "source": [
    "# Initialize lasso model\n",
    "a_list = [0.000001, 0.000005, 0.00001, 0.00005, 0.0001, 0.0005, 0.001, 0.005, 0.01, 0.05, 0.1, 0.5, 1] # lists of alpha value\n",
    "lasso_cv = LassoCV(n_alphas=len(a_list), alphas=a_list, cv=10, max_iter=100000,random_state=26).fit(X_train, y_train.values.ravel())\n",
    "\n",
    "# lasso_cv = LassoCV(cv=10,max_iter=100000,random_state=26).fit(X_train,y_train.values.ravel())\n",
    "\n",
    "# Store the mean cross-validation MSEs across each fold\n",
    "lassoCV_val_mses_mean = lasso_cv.mse_path_\n",
    "# Save the best 𝛼 based on the mean cross-validation MSE\n",
    "best_alpha_cv = lasso_cv.alpha_\n",
    "best_alpha_cv"
   ]
  },
  {
   "cell_type": "code",
   "execution_count": null,
   "metadata": {},
   "outputs": [],
   "source": [
    "fig,axs = plt.subplots(1,2,figsize=(12, 5))\n",
    "\n",
    "axs[0].scatter(a_list,np.mean(lassoCV_val_mses_mean,axis=1).tolist())\n",
    "axs[0].set_xscale('log')\n",
    "axs[0].set_xlabel('alpha')\n",
    "axs[0].set_ylabel('lassoCV_val_mses_mean')\n",
    "axs[0].set_title(\"Mean validation MSE values\")\n",
    "\n",
    "axs[1].scatter(np.linspace(1,lasso_cv.coef_.shape[0],lasso_cv.coef_.shape[0]),lasso_cv.coef_)\n",
    "axs[1].set_xticks(np.arange(1,lasso_cv.coef_.shape[0]+1))\n",
    "axs[1].set_xticklabels(X_train.columns, rotation=45, ha='right')\n",
    "axs[1].set_ylabel('Coefficient value')\n",
    "axs[1].set_title(\"Coefficient value\")"
   ]
  },
  {
   "cell_type": "code",
   "execution_count": null,
   "metadata": {},
   "outputs": [],
   "source": [
    "# Make predictions\n",
    "y_train_predict = lasso_cv.predict(X_train)\n",
    "y_test_predict = lasso_cv.predict(X_test)\n",
    "train_mse = mean_squared_error(y_train,y_train_predict)\n",
    "test_mse = mean_squared_error(y_test,y_test_predict)\n",
    "\n",
    "print(\"The train MSE for the lasso model is \" + str(train_mse))\n",
    "print(\"The test MSE for the lasso model is \" + str(test_mse))\n",
    "\n",
    "# Modal diagnostics\n",
    "train_score = lasso_cv.score(X_train,y_train)\n",
    "test_score = lasso_cv.score(X_test,y_test)\n",
    "\n",
    "print(\"The train R2 for the lasso model is \" + str(train_score))\n",
    "print(\"The test R2 for the lasso model is \" + str(test_score))"
   ]
  },
  {
   "cell_type": "markdown",
   "metadata": {},
   "source": [
    "The train and test MSE is small, but the R-squared values for test and training set differ a lot (test R2 is much lower comparing to training R2). Therefore, it seems like the model overfitted."
   ]
  },
  {
   "cell_type": "markdown",
   "metadata": {},
   "source": [
    "## Decrease overfitting"
   ]
  },
  {
   "cell_type": "markdown",
   "metadata": {},
   "source": [
    "Based on our EDA result, our data is highly correlated (especially the Zillow data set)."
   ]
  },
  {
   "cell_type": "code",
   "execution_count": null,
   "metadata": {},
   "outputs": [],
   "source": [
    "corr_matrix = X_train.corr()\n",
    "high_corr = {}\n",
    "\n",
    "high_corr_mat = corr_matrix[corr_matrix[abs(corr_matrix)>= 0.95].notna()]\n",
    "for i in range(high_corr_mat.shape[0]):\n",
    "    for j in range(high_corr_mat.shape[1]):\n",
    "        if not np.isnan(high_corr_mat.iloc[i,j]) and i != j:\n",
    "            if i >= j:\n",
    "                new_pair = {(high_corr_mat.columns[i],high_corr_mat.columns[j]): high_corr_mat.iloc[i,j]}\n",
    "            else: \n",
    "                new_pair = {(high_corr_mat.columns[j],high_corr_mat.columns[i]): high_corr_mat.iloc[i,j]}\n",
    "            high_corr.update(new_pair)\n",
    "\n",
    "            \n",
    "print(\"The following pairs of predictor variables have correlation greater than 0.95 or less than -0.95:\")\n",
    "display(high_corr)"
   ]
  },
  {
   "cell_type": "markdown",
   "metadata": {},
   "source": [
    "It seems like the input data from Zillow is highly correlated. Therefore, we try to minize the effect of such correlation using either PCA, or directly removing some highly correlated variable."
   ]
  },
  {
   "cell_type": "markdown",
   "metadata": {},
   "source": [
    "### PCA of input space"
   ]
  },
  {
   "cell_type": "markdown",
   "metadata": {},
   "source": [
    "By doing PCA of the original data, we essentialy do not lost information comparing to dropping some variables. Here, we iterate through all possible component number of PCA, and select the best performing one based on mean validation MSE.\n",
    "\n",
    "Within each iteration, we perform lasso cross-validation to find the best alpha of that iteration."
   ]
  },
  {
   "cell_type": "code",
   "execution_count": null,
   "metadata": {},
   "outputs": [],
   "source": [
    "# Find the best k\n",
    "val_mses_mean = []\n",
    "val_r2_train = []\n",
    "val_r2_test = []\n",
    "k_list = [1,2,3,4,5,6,7,8,9,10,11]\n",
    "\n",
    "for k in k_list:\n",
    "    X_pca_train = PCA(n_components=k).fit_transform(X_train)\n",
    "    X_pca_test = PCA(n_components=k).fit_transform(X_test)\n",
    "    \n",
    "    # Fit model\n",
    "    lasso_pca = LassoCV(n_alphas=len(a_list), alphas=a_list, cv=10, max_iter=100000,random_state=26).fit(X_pca_train, y_train.values.ravel())\n",
    "    # cv_results = cross_validate(linreg, X_pca_train, y_train_scaled, cv=10, scoring='neg_mean_squared_error', return_train_score=True)\n",
    "    best_alpha_idx = find_nearest(a_list,lasso_pca.alpha_)[1]\n",
    "    # print(find_nearest(a_list,lasso_pca.alpha_))\n",
    "    val_mses_mean.append(lasso_pca.mse_path_[best_alpha_idx].mean())\n",
    "    \n",
    "    # Model diagnostics\n",
    "    r2_train = lasso_pca.score(X_pca_train,y_train)\n",
    "    r2_test = lasso_pca.score(X_pca_test,y_test)\n",
    "    val_r2_train.append(r2_train)\n",
    "    val_r2_test.append(r2_test)\n",
    "    print(\"The train R2 for current lasso_pca model (k = \" + str(k) + \"): \" + str(r2_train))\n",
    "    print(\"The test R2 for current lasso_pca model (k = \" + str(k) + \"): \" + str(r2_test))\n",
    "    \n",
    "best_k = k_list[val_mses_mean.index(min(val_mses_mean))]\n",
    "print(f\"The best k is {best_k}.\")"
   ]
  },
  {
   "cell_type": "code",
   "execution_count": null,
   "metadata": {},
   "outputs": [],
   "source": [
    "fig,axs = plt.subplots(1,2,figsize=(12, 5))\n",
    "\n",
    "axs[0].plot(k_list,val_mses_mean,label='Mean validation MSE')\n",
    "axs[0].set_xlabel('k')\n",
    "axs[0].set_ylabel('Mean validation MSE')\n",
    "axs[0].set_title('Mean validation MSE of different k')\n",
    "\n",
    "\n",
    "axs[1].plot(k_list,val_r2_train,label='Train score')\n",
    "axs[1].plot(k_list,val_r2_test,label='Test score')\n",
    "axs[1].axhline(test_score,color='r',label=\"Test score of baseline lasso model\")\n",
    "axs[1].set_xlabel('k')\n",
    "axs[1].set_ylabel('R2')\n",
    "axs[1].set_title('R2 train/test score of different k')\n",
    "axs[1].legend()"
   ]
  },
  {
   "cell_type": "markdown",
   "metadata": {},
   "source": [
    "All possible components have similar mean validation MSE except 10. However, even the highest test score achieved after PCA (k=2) is still way lower comparing to the baseline LassoCV model (red line). Therefore, we considered directly dropping those highly correlated variable."
   ]
  },
  {
   "cell_type": "markdown",
   "metadata": {},
   "source": [
    "### Drop some variable directly"
   ]
  },
  {
   "cell_type": "code",
   "execution_count": null,
   "metadata": {},
   "outputs": [],
   "source": [
    "display(high_corr)\n",
    "X_train.head()"
   ]
  },
  {
   "cell_type": "code",
   "execution_count": null,
   "metadata": {},
   "outputs": [],
   "source": [
    "# Drop variable\n",
    "\n",
    "X_train_drop =  X_train.drop(columns = [\"PerCapNetIncome\",\"MedianListingPricePerSqft_1Bedroom\",\n",
    "                            \"MedianListingPricePerSqft_5BedroomOrMore\"])\n",
    "X_test_drop =  X_test.drop(columns = [\"PerCapNetIncome\",\"MedianListingPricePerSqft_1Bedroom\",\n",
    "                            \"MedianListingPricePerSqft_5BedroomOrMore\"])\n",
    "X_train_drop.head()"
   ]
  },
  {
   "cell_type": "code",
   "execution_count": null,
   "metadata": {},
   "outputs": [],
   "source": [
    "# Initialize lasso model\n",
    "a_list = [0.000001, 0.000005, 0.00001, 0.00005, 0.0001, 0.0005, 0.001, 0.005, 0.01, 0.05, 0.1, 0.5, 1] # lists of alpha value\n",
    "lasso_drop = LassoCV(n_alphas=len(a_list), alphas=a_list, cv=10, max_iter=100000,random_state=26).fit(X_train_drop, y_train.values.ravel())\n",
    "\n",
    "# lasso_cv = LassoCV(cv=10,max_iter=100000,random_state=26).fit(X_train,y_train.values.ravel())\n",
    "\n",
    "# Store the mean cross-validation MSEs across each fold\n",
    "lassoCV_val_mses_mean = lasso_drop.mse_path_\n",
    "# Save the best 𝛼 based on the mean cross-validation MSE\n",
    "best_alpha = lasso_drop.alpha_\n",
    "best_alpha"
   ]
  },
  {
   "cell_type": "code",
   "execution_count": null,
   "metadata": {},
   "outputs": [],
   "source": [
    "fig,axs = plt.subplots(1,2,figsize=(12, 5))\n",
    "\n",
    "axs[0].scatter(a_list,np.mean(lassoCV_val_mses_mean,axis=1).tolist())\n",
    "axs[0].set_xscale('log')\n",
    "axs[0].set_xlabel('alpha')\n",
    "axs[0].set_ylabel('lassoCV_val_mses_mean')\n",
    "axs[0].set_title(\"Mean validation MSE values\")\n",
    "\n",
    "axs[1].scatter(np.linspace(1,lasso_drop.coef_.shape[0],lasso_drop.coef_.shape[0]),lasso_drop.coef_)\n",
    "axs[1].set_xticks(np.arange(1,lasso_drop.coef_.shape[0]+1))\n",
    "axs[1].set_xticklabels(X_train_drop.columns, rotation=45, ha='right')\n",
    "axs[1].set_ylabel('Coefficient value')\n",
    "axs[1].set_title(\"Coefficient value\")"
   ]
  },
  {
   "cell_type": "code",
   "execution_count": null,
   "metadata": {},
   "outputs": [],
   "source": [
    "# Make predictions\n",
    "y_train_predict = lasso_drop.predict(X_train_drop)\n",
    "y_test_predict = lasso_drop.predict(X_test_drop)\n",
    "train_mse = mean_squared_error(y_train,y_train_predict)\n",
    "test_mse = mean_squared_error(y_test,y_test_predict)\n",
    "\n",
    "print(\"The train MSE for the lasso_drop model is \" + str(train_mse))\n",
    "print(\"The test MSE for the lasso_drop model is \" + str(test_mse))\n",
    "\n",
    "# Modal diagnostics\n",
    "train_score = lasso_drop.score(X_train_drop,y_train)\n",
    "test_score = lasso_drop.score(X_test_drop,y_test)\n",
    "\n",
    "print(\"The train R2 for the lasso_drop model is \" + str(train_score))\n",
    "print(\"The test R2 for the lasso_drop model is \" + str(test_score))"
   ]
  },
  {
   "cell_type": "markdown",
   "metadata": {},
   "source": [
    "After dropping, the test R2 is much lower comparing to the baseline LassoCV model. Therefore, dropping these variable losses some important information about the data, leading to lower test R2 score."
   ]
  },
  {
   "cell_type": "markdown",
   "metadata": {},
   "source": [
    "## Build best model and train on the entire training set"
   ]
  },
  {
   "cell_type": "markdown",
   "metadata": {},
   "source": [
    "Since both PCA and dropping variable do not improve the model performance, we retrain the best lassoCV model we found on the entire training set."
   ]
  },
  {
   "cell_type": "code",
   "execution_count": null,
   "metadata": {},
   "outputs": [],
   "source": [
    "# Retrain with best alpha and using all the training set\n",
    "lasso_best = Lasso(alpha=best_alpha_cv,max_iter=100000,random_state=26).fit(X_train,y_train)\n",
    "\n",
    "# Make predictions\n",
    "y_train_predict_best = lasso_best.predict(X_train)\n",
    "y_test_predict_best = lasso_best.predict(X_test)\n",
    "best_train_mse = mean_squared_error(y_train,y_train_predict_best)\n",
    "best_test_mse = mean_squared_error(y_test,y_test_predict_best)\n",
    "\n",
    "print(\"The train MSE for the lasso model is \" + str(best_train_mse))\n",
    "print(\"The test MSE for the lasso model is \" + str(best_test_mse))\n",
    "\n",
    "# Modal diagnostics\n",
    "best_train_score = lasso_best.score(X_train,y_train)\n",
    "best_test_score = lasso_best.score(X_test,y_test)\n",
    "\n",
    "print(\"The train R2 for the lasso model is \" + str(best_train_score))\n",
    "print(\"The test R2 for the lasso model is \" + str(best_test_score))"
   ]
  },
  {
   "cell_type": "code",
   "execution_count": null,
   "metadata": {},
   "outputs": [],
   "source": [
    "fig,axs = plt.subplots(1,1,figsize=(12, 5))\n",
    "\n",
    "axs.scatter(np.linspace(1,lasso_best.coef_.shape[0],lasso_best.coef_.shape[0]),lasso_best.coef_)\n",
    "axs.set_xticks(np.arange(1,lasso_best.coef_.shape[0]+1))\n",
    "axs.set_xticklabels(X_train.columns, rotation=45, ha='right')\n",
    "axs.set_ylabel('Coefficient value')\n",
    "axs.set_title(\"Coefficient value\")"
   ]
  },
  {
   "cell_type": "markdown",
   "metadata": {},
   "source": [
    "As shown in plot above, while all variable have a non-zero coefficients, `TotalNumJobs`, `MedianListingPricePerSqft_1Bedroom`, `MedianListingPricePerSqft_2Bedroom`, `MedianListingPricePerSqft_4Bedroom`,`MedianListingPricePerSqft_3Bedroom`, have the largest absolute coefficient, suggesting they might be important for predicting homeless count.\n",
    "\n",
    "However, since the `best_alpha` is small, none of the coefficients converges to zero. Moreover, while a test R2 score of LassoCV is higher comparing to our baseline model's test R2 score (~0.29), it is still insufficient to be considered as a good model. Therefore, we explore other options of more complex model, especially decision tree-based models like Bagging, AdaBoost, RandomForest, and XGBoost."
   ]
  },
  {
   "cell_type": "markdown",
   "metadata": {},
   "source": [
    "<a id='toc3_2_'></a>\n",
    "## AdaBoostRegression Model \n",
    "[Return to contents](#contents)"
   ]
  },
  {
   "cell_type": "markdown",
   "metadata": {},
   "source": [
    "AdaBoost stands for Adaptive Boosting, it is a ensemble algorithm that create a combination model by improving the weights of the weak learners. AdaBoost can be used as a regression model for homeless prediction. \n",
    "\n",
    "First, we start by training a baseline AdaBoost Regressor without hyperparameter tuning:"
   ]
  },
  {
   "cell_type": "code",
   "execution_count": null,
   "metadata": {},
   "outputs": [],
   "source": [
    "# initialize adaboost regressor\n",
    "ada_model = AdaBoostRegressor(base_estimator=DecisionTreeRegressor(max_depth=3), learning_rate=1.0, loss='linear',\n",
    "         n_estimators=1000, random_state=300) \n",
    "\n",
    "# fit the model with training data\n",
    "ada_model.fit(X_train, y_train)\n",
    "\n",
    "# train and test prediction \n",
    "y_train_pred = ada_model.predict(X_train)\n",
    "y_test_pred = ada_model.predict(X_test)\n",
    "\n",
    "#Calculate MSE and R_squared of the model\n",
    "train_mse = mean_squared_error(y_train, y_train_pred)\n",
    "test_mse = mean_squared_error(y_test, y_test_pred)\n",
    "\n",
    "ada_train_r2 = ada_model.score(X_train, y_train)\n",
    "ada_test_r2 = ada_model.score(X_test, y_test)\n",
    "\n",
    "print(\"AdaBoost Regressor results:\\n\")\n",
    "print(\n",
    "    \"\\tTrain MSE\\t{:.4f}\\n\"\n",
    "    \"\\tTest MSE\\t{:.4f}\\n\".format(\n",
    "        train_mse,\n",
    "        test_mse,\n",
    "    )\n",
    ")\n",
    "\n",
    "print(f\"\\tTrain R-squared\\t{ada_train_r2:.4f}\")\n",
    "print(f\"\\tTest R-squared\\t{ada_test_r2:.4f}\")"
   ]
  },
  {
   "cell_type": "code",
   "execution_count": null,
   "metadata": {},
   "outputs": [],
   "source": [
    "x_ax = range(len(y_test))\n",
    "plt.plot(x_ax, y_test, label=\"Actual\")\n",
    "plt.plot(x_ax, y_test_pred, label=\"Predicted\")\n",
    "plt.title(\"Prediction from Untuned AdaBoost Regressor on Testing set\")\n",
    "plt.legend()\n",
    "plt.show()"
   ]
  },
  {
   "cell_type": "markdown",
   "metadata": {},
   "source": [
    "The performance is already much better than the baseline model. Now, tune the hyper paramaters:"
   ]
  },
  {
   "cell_type": "code",
   "execution_count": null,
   "metadata": {},
   "outputs": [],
   "source": [
    "# space for hyperparameter tuning\n",
    "space = {\n",
    "        'random_state': 300,\n",
    "        \"base_estimator\": hp.choice(\"base_estimator\", [DecisionTreeRegressor(max_depth=2), DecisionTreeRegressor(max_depth=3), DecisionTreeRegressor(max_depth=4)]),\n",
    "        'n_estimators':hp.choice('n_estimators', np.arange(1, 200, 1, dtype=int)),\n",
    "        \"learning_rate\": hp.choice('learning_rate', [1, 1e-1, 1e-2, 1e-3, 1e-4, 1e-5]),\n",
    "        'loss': hp.choice('loss', ['linear', 'square', 'exponential'])\n",
    "        }\n",
    "\n",
    "hypopt_scores = []\n",
    "\n",
    "def score(params):\n",
    "    model = AdaBoostRegressor(**params)\n",
    "    \n",
    "    model.fit(X_train, y_train)\n",
    "    \n",
    "    y_pred = model.predict(X_test)\n",
    "    score = np.sqrt(mean_squared_error(y_test, y_pred))\n",
    "    \n",
    "    hypopt_scores.append(score**2)\n",
    "    \n",
    "    return {'loss': score, 'status': STATUS_OK}    \n",
    "\n",
    "def optimize(trials, space):\n",
    "    best = fmin(score, space, algo=tpe.suggest, max_evals=1000)\n",
    "    return best\n",
    "\n",
    "trials = Trials()\n",
    "best_params = optimize(trials, space)\n",
    "\n",
    "# Return the best parameters\n",
    "space_eval(space, best_params)\n"
   ]
  },
  {
   "cell_type": "markdown",
   "metadata": {},
   "source": [
    "fit the best model with the selected hyperparameters"
   ]
  },
  {
   "cell_type": "code",
   "execution_count": null,
   "metadata": {},
   "outputs": [],
   "source": [
    "best_params = {'base_estimator': DecisionTreeRegressor(max_depth=3),\n",
    "                'learning_rate': 0.0001,\n",
    "                'loss': 'exponential',\n",
    "                'n_estimators': 50,\n",
    "                'random_state': 300}\n",
    "\n",
    "best_adamodel = AdaBoostRegressor(**best_params)\n",
    "best_adamodel.fit(X_train, y_train)"
   ]
  },
  {
   "cell_type": "code",
   "execution_count": null,
   "metadata": {},
   "outputs": [],
   "source": [
    "# prediction\n",
    "y_train_pred_best = best_adamodel.predict(X_train)\n",
    "y_test_pred_best = best_adamodel.predict(X_test)\n",
    "\n",
    "# calculate MSE and R_squared of the model\n",
    "train_mse_best = mean_squared_error(y_train, y_train_pred_best)\n",
    "test_mse_best = mean_squared_error(y_test, y_test_pred_best)\n",
    "\n",
    "train_r2_best = best_adamodel.score(X_train, y_train)\n",
    "test_r2_best = best_adamodel.score(X_test, y_test)\n",
    "\n",
    "print(\"Hyperparameter Tuned AdaBoost Regressor results:\\n\")\n",
    "print(\n",
    "    \"\\tTrain MSE\\t{:.4f}\\n\"\n",
    "    \"\\tTest MSE\\t{:.4f}\\n\".format(\n",
    "        train_mse_best,\n",
    "        test_mse_best,\n",
    "    )\n",
    ")\n",
    "\n",
    "print(f\"\\tTrain R-squared\\t{train_r2_best:.4f}\")\n",
    "print(f\"\\tTest R-squared\\t{test_r2_best:.4f}\")"
   ]
  },
  {
   "cell_type": "markdown",
   "metadata": {},
   "source": [
    "### Feature Importance\n",
    "\n",
    "The plot below shows feautre importance in terms of the number of times a feature appears in a tree. "
   ]
  },
  {
   "cell_type": "code",
   "execution_count": null,
   "metadata": {},
   "outputs": [],
   "source": [
    "feature_importances_plot = list(zip(list(X_train.columns), best_adamodel.feature_importances_))\n",
    "feature_importances_plot = sorted(feature_importances_plot, key=lambda x:x[1], reverse=True)\n",
    "feature_importances_plot_df = pd.DataFrame(feature_importances_plot, columns=['features', \"Feature importance\"])\n",
    "\n",
    "ax = feature_importances_plot_df.plot.barh(x=\"features\", y=\"Feature importance\")\n",
    "for container in ax.containers:\n",
    "    ax.bar_label(container)\n",
    "plt.title(\"AdaBoost Regressor feature importance\")"
   ]
  },
  {
   "cell_type": "markdown",
   "metadata": {},
   "source": [
    "<a id='toc3_2_'></a>\n",
    "## RandomForest Regression model \n",
    "[Return to contents](#contents)"
   ]
  },
  {
   "cell_type": "code",
   "execution_count": null,
   "metadata": {},
   "outputs": [],
   "source": [
    "# train a randomForestRegressor model\n",
    "rfr = RandomForestRegressor(random_state=42)\n",
    "rfr.fit(X_train, y_train)\n",
    "\n",
    "# prediction\n",
    "y_train_predict = rfr.predict(X_train)\n",
    "y_test_predict = rfr.predict(X_test)\n",
    "\n",
    "\n",
    "#Compute the MSE of the model\n",
    "train_mse = mean_squared_error(y_train,y_train_predict)\n",
    "test_mse = mean_squared_error(y_test,y_test_predict)\n",
    "randomForestRegressor_train_r2 = rfr.score(X_train, y_train)\n",
    "randomForestRegressor_test_r2 = rfr.score(X_test, y_test)\n",
    "\n",
    "print(\"Random Forest Regressor results:\\n\")\n",
    "print(\n",
    "    \"\\tTrain MSE\\t{:.4f}\\n\"\n",
    "    \"\\tTest MSE\\t{:.4f}\\n\".format(\n",
    "        train_mse,\n",
    "        test_mse,\n",
    "    )\n",
    ")\n",
    "\n",
    "print(f\"\\tTrain R-squared\\t{randomForestRegressor_train_r2:.4f}\")\n",
    "print(f\"\\tTest R-squared\\t{randomForestRegressor_test_r2:.4f}\")"
   ]
  },
  {
   "cell_type": "markdown",
   "metadata": {},
   "source": [
    "The train and test MSE is small, but the R-squared values differ a lot. Therefore, it seems like the model overfitted. Perform a GridSearchCV"
   ]
  },
  {
   "cell_type": "code",
   "execution_count": null,
   "metadata": {},
   "outputs": [],
   "source": [
    "gsc_rfr = GridSearchCV(\n",
    "        estimator=RandomForestRegressor(random_state=300),\n",
    "        param_grid={\n",
    "            \"max_depth\": range(1,7),\n",
    "            'n_estimators': (1,10, 50, 100, 1000),\n",
    "        },\n",
    "        cv=5, scoring='neg_mean_squared_error', verbose=0, n_jobs=-1)\n",
    "\n",
    "grid_result_rfr = gsc_rfr.fit(X_train, y_train.values.ravel())\n",
    "best_params_rfr = grid_result_rfr.best_params_\n",
    "\n",
    "grid_rfr = RandomForestRegressor(max_depth = best_params_rfr[\"max_depth\"], n_estimators=best_params_rfr[\"n_estimators\"], bootstrap=True, random_state=300, verbose=False)\n",
    "\n",
    "grid_rfr.fit(X_train, y_train)\n",
    "\n",
    "# prediction\n",
    "y_train_GridCV_predict = grid_rfr.predict(X_train)\n",
    "y_test_GridCV_predict = grid_rfr.predict(X_test)\n",
    "\n",
    "\n",
    "#Compute the MSE of the model\n",
    "train_GridCV_mse = mean_squared_error(y_train,y_train_GridCV_predict)\n",
    "test_GridCV_mse = mean_squared_error(y_test,y_test_GridCV_predict)\n",
    "randomForestRegressor_train_GridCV_r2 = grid_rfr.score(X_train, y_train)\n",
    "randomForestRegressor_test_GridCV_r2 = grid_rfr.score(X_test, y_test)\n",
    "\n",
    "print(\"Random Forest Regressor Gridsearch results:\\n\")\n",
    "print(\n",
    "    \"\\tTrain MSE\\t{:.4f}\\n\"\n",
    "    \"\\tTest MSE\\t{:.4f}\\n\".format(\n",
    "        train_GridCV_mse,\n",
    "        test_GridCV_mse,\n",
    "    )\n",
    ")\n",
    "\n",
    "print(f\"\\tTrain R-squared\\t{randomForestRegressor_train_GridCV_r2:.4f}\")\n",
    "print(f\"\\tTest R-squared\\t{randomForestRegressor_test_GridCV_r2:.4f}\")"
   ]
  },
  {
   "cell_type": "markdown",
   "metadata": {},
   "source": [
    "<a id='toc3_2_'></a>\n",
    "## Bagging Regression model   \n",
    "[Return to contents](#contents)"
   ]
  },
  {
   "cell_type": "code",
   "execution_count": 11,
   "metadata": {},
   "outputs": [
    {
     "name": "stdout",
     "output_type": "stream",
     "text": [
      "Bagging Regressor results:\n",
      "\n",
      "\tTrain MSE\t0.0219\n",
      "\tTest MSE\t0.1940\n",
      "\n",
      "\tTrain R-squared\t0.9796\n",
      "\tTest R-squared\t0.7215\n"
     ]
    }
   ],
   "source": [
    "bagging_ensemble = BaggingRegressor(base_estimator=DecisionTreeRegressor(max_depth=10), n_estimators=1, \n",
    "                                    max_features=1.0, bootstrap_features=False, random_state=300).fit(X_train, y_train)\n",
    "\n",
    "\n",
    "# prediction\n",
    "y_train_bagging_predict = bagging_ensemble.predict(X_train)\n",
    "y_test_bagging_predict = bagging_ensemble.predict(X_test)\n",
    "\n",
    "\n",
    "#Compute the MSE of the model\n",
    "bagging_train_mse = mean_squared_error(y_train,y_train_bagging_predict)\n",
    "bagging_test_mse = mean_squared_error(y_test,y_test_bagging_predict)\n",
    "bagging_ensemble_train_GridCV_r2 = bagging_ensemble.score(X_train, y_train)\n",
    "bagging_ensemble_test_GridCV_r2 = bagging_ensemble.score(X_test, y_test)\n",
    "\n",
    "print(\"Bagging Regressor results:\\n\")\n",
    "print(\n",
    "    \"\\tTrain MSE\\t{:.4f}\\n\"\n",
    "    \"\\tTest MSE\\t{:.4f}\\n\".format(\n",
    "        bagging_train_mse,\n",
    "        bagging_test_mse,\n",
    "    )\n",
    ")\n",
    "\n",
    "print(f\"\\tTrain R-squared\\t{bagging_ensemble_train_GridCV_r2:.4f}\")\n",
    "print(f\"\\tTest R-squared\\t{bagging_ensemble_test_GridCV_r2:.4f}\")"
   ]
  },
  {
   "cell_type": "markdown",
   "metadata": {},
   "source": [
    "Perform a GridSearchCV to better turn the model"
   ]
  },
  {
   "cell_type": "code",
   "execution_count": 12,
   "metadata": {},
   "outputs": [
    {
     "name": "stdout",
     "output_type": "stream",
     "text": [
      "Bagging Regressor Gridsearch results:\n",
      "\n",
      "\tTrain MSE\t0.0181\n",
      "\tTest MSE\t0.1311\n",
      "\n",
      "\tTrain R-squared\t0.9831\n",
      "\tTest R-squared\t0.8119\n"
     ]
    }
   ],
   "source": [
    "gsc_br = GridSearchCV(\n",
    "        estimator=BaggingRegressor(base_estimator=DecisionTreeRegressor(random_state=300), random_state=300),\n",
    "        param_grid={\n",
    "            \"base_estimator__max_depth\": range(1,20),\n",
    "            'n_estimators': (1,10, 50, 100, 1000)\n",
    "        },\n",
    "        cv=10, scoring='neg_mean_squared_error', n_jobs=-1)\n",
    "\n",
    "\n",
    "grid_result_br = gsc_br.fit(X_train, y_train.values.ravel())\n",
    "best_params_br = grid_result_br.best_params_\n",
    "\n",
    "grid_bagging = BaggingRegressor(base_estimator=DecisionTreeRegressor(max_depth=best_params_br[\"base_estimator__max_depth\"], random_state=300),\n",
    "                                n_estimators=best_params_br[\"n_estimators\"], random_state=300)\n",
    "\n",
    "grid_bagging.fit(X_train, y_train.values.ravel())\n",
    "\n",
    "# prediction\n",
    "y_train_GridCV_predict = grid_bagging.predict(X_train)\n",
    "y_test_GridCV_predict = grid_bagging.predict(X_test)\n",
    "\n",
    "\n",
    "#Compute the MSE of the model\n",
    "train_GridCV_mse = mean_squared_error(y_train,y_train_GridCV_predict)\n",
    "test_GridCV_mse = mean_squared_error(y_test,y_test_GridCV_predict)\n",
    "\n",
    "baggingRegressor_train_GridCV_r2 = grid_bagging.score(X_train, y_train)\n",
    "baggingRegressor_test_GridCV_r2 = grid_bagging.score(X_test, y_test)\n",
    "\n",
    "print(\"Bagging Regressor Gridsearch results:\\n\")\n",
    "print(\n",
    "    \"\\tTrain MSE\\t{:.4f}\\n\"\n",
    "    \"\\tTest MSE\\t{:.4f}\\n\".format(\n",
    "        train_GridCV_mse,\n",
    "        test_GridCV_mse,\n",
    "    )\n",
    ")\n",
    "\n",
    "print(f\"\\tTrain R-squared\\t{baggingRegressor_train_GridCV_r2:.4f}\")\n",
    "print(f\"\\tTest R-squared\\t{baggingRegressor_test_GridCV_r2:.4f}\")"
   ]
  },
  {
   "cell_type": "markdown",
   "metadata": {},
   "source": [
    "### Feature Importance"
   ]
  },
  {
   "cell_type": "code",
   "execution_count": 3,
   "metadata": {},
   "outputs": [
    {
     "ename": "NameError",
     "evalue": "name 'shap' is not defined",
     "output_type": "error",
     "traceback": [
      "\u001b[0;31m---------------------------------------------------------------------------\u001b[0m",
      "\u001b[0;31mNameError\u001b[0m                                 Traceback (most recent call last)",
      "\u001b[1;32m/Users/liny/Github/CS107/CS109A_AC209A_Fall22_final_project/src/Homeless_Prediction_Final.ipynb Cell 122\u001b[0m in \u001b[0;36m<cell line: 1>\u001b[0;34m()\u001b[0m\n\u001b[0;32m----> <a href='vscode-notebook-cell:/Users/liny/Github/CS107/CS109A_AC209A_Fall22_final_project/src/Homeless_Prediction_Final.ipynb#Z5521sZmlsZQ%3D%3D?line=0'>1</a>\u001b[0m explainer_baggingRegressor \u001b[39m=\u001b[39m shap\u001b[39m.\u001b[39mTreeExplainer(grid_rfr)\n\u001b[1;32m      <a href='vscode-notebook-cell:/Users/liny/Github/CS107/CS109A_AC209A_Fall22_final_project/src/Homeless_Prediction_Final.ipynb#Z5521sZmlsZQ%3D%3D?line=1'>2</a>\u001b[0m shap_values \u001b[39m=\u001b[39m explainer_baggingRegressor\u001b[39m.\u001b[39mshap_values(X_train)\n\u001b[1;32m      <a href='vscode-notebook-cell:/Users/liny/Github/CS107/CS109A_AC209A_Fall22_final_project/src/Homeless_Prediction_Final.ipynb#Z5521sZmlsZQ%3D%3D?line=3'>4</a>\u001b[0m shap\u001b[39m.\u001b[39msummary_plot(shap_values, X_train, title\u001b[39m=\u001b[39m\u001b[39m\"\u001b[39m\u001b[39mRandomForestRegressor Feature Importance (Train)\u001b[39m\u001b[39m\"\u001b[39m)\n",
      "\u001b[0;31mNameError\u001b[0m: name 'shap' is not defined"
     ]
    }
   ],
   "source": [
    "explainer_baggingRegressor = shap.TreeExplainer(grid_rfr)\n",
    "shap_values = explainer_baggingRegressor.shap_values(X_train)\n",
    "\n",
    "shap.summary_plot(shap_values, X_train, title=\"RandomForestRegressor Feature Importance (Train)\")"
   ]
  },
  {
   "cell_type": "markdown",
   "metadata": {},
   "source": [
    "Since the BaggingRegressor used with many base estimators, and shap library does not support the baggingRegressor, so we need to extract the feature_importances_ ourselves. "
   ]
  },
  {
   "cell_type": "code",
   "execution_count": 4,
   "metadata": {},
   "outputs": [
    {
     "ename": "NameError",
     "evalue": "name 'grid_bagging' is not defined",
     "output_type": "error",
     "traceback": [
      "\u001b[0;31m---------------------------------------------------------------------------\u001b[0m",
      "\u001b[0;31mNameError\u001b[0m                                 Traceback (most recent call last)",
      "\u001b[1;32m/Users/liny/Github/CS107/CS109A_AC209A_Fall22_final_project/src/Homeless_Prediction_Final.ipynb Cell 124\u001b[0m in \u001b[0;36m<cell line: 1>\u001b[0;34m()\u001b[0m\n\u001b[1;32m      <a href='vscode-notebook-cell:/Users/liny/Github/CS107/CS109A_AC209A_Fall22_final_project/src/Homeless_Prediction_Final.ipynb#Z5524sZmlsZQ%3D%3D?line=0'>1</a>\u001b[0m feature_importances \u001b[39m=\u001b[39m np\u001b[39m.\u001b[39mmean([\n\u001b[0;32m----> <a href='vscode-notebook-cell:/Users/liny/Github/CS107/CS109A_AC209A_Fall22_final_project/src/Homeless_Prediction_Final.ipynb#Z5524sZmlsZQ%3D%3D?line=1'>2</a>\u001b[0m     tree\u001b[39m.\u001b[39mfeature_importances_ \u001b[39mfor\u001b[39;00m tree \u001b[39min\u001b[39;00m grid_bagging\u001b[39m.\u001b[39mestimators_\n\u001b[1;32m      <a href='vscode-notebook-cell:/Users/liny/Github/CS107/CS109A_AC209A_Fall22_final_project/src/Homeless_Prediction_Final.ipynb#Z5524sZmlsZQ%3D%3D?line=2'>3</a>\u001b[0m ], axis\u001b[39m=\u001b[39m\u001b[39m0\u001b[39m)\n\u001b[1;32m      <a href='vscode-notebook-cell:/Users/liny/Github/CS107/CS109A_AC209A_Fall22_final_project/src/Homeless_Prediction_Final.ipynb#Z5524sZmlsZQ%3D%3D?line=3'>4</a>\u001b[0m feature_importances\n\u001b[1;32m      <a href='vscode-notebook-cell:/Users/liny/Github/CS107/CS109A_AC209A_Fall22_final_project/src/Homeless_Prediction_Final.ipynb#Z5524sZmlsZQ%3D%3D?line=5'>6</a>\u001b[0m feature_importances_plot \u001b[39m=\u001b[39m \u001b[39mlist\u001b[39m(\u001b[39mzip\u001b[39m(\u001b[39mlist\u001b[39m(X_train\u001b[39m.\u001b[39mcolumns), feature_importances))\n",
      "\u001b[0;31mNameError\u001b[0m: name 'grid_bagging' is not defined"
     ]
    }
   ],
   "source": [
    "feature_importances = np.mean([\n",
    "    tree.feature_importances_ for tree in grid_bagging.estimators_\n",
    "], axis=0)\n",
    "feature_importances\n",
    "\n",
    "feature_importances_plot = list(zip(list(X_train.columns), feature_importances))\n",
    "feature_importances_plot = sorted(feature_importances_plot, key=lambda x:x[1], reverse=True)\n",
    "feature_importances_plot_df = pd.DataFrame(feature_importances_plot, columns=['features', \"Feature importance\"])\n",
    "\n",
    "ax = feature_importances_plot_df.plot.barh(x=\"features\", y=\"Feature importance\")\n",
    "for container in ax.containers:\n",
    "    ax.bar_label(container)\n",
    "plt.title(\"BaggingRegressor feature importance\")"
   ]
  },
  {
   "cell_type": "markdown",
   "metadata": {},
   "source": [
    "<a id='toc3_2_'></a>\n",
    "## XGBRegressor model\n",
    "[Return to contents](#contents)"
   ]
  },
  {
   "cell_type": "code",
   "execution_count": 14,
   "metadata": {},
   "outputs": [
    {
     "data": {
      "text/html": [
       "<style>#sk-container-id-1 {color: black;background-color: white;}#sk-container-id-1 pre{padding: 0;}#sk-container-id-1 div.sk-toggleable {background-color: white;}#sk-container-id-1 label.sk-toggleable__label {cursor: pointer;display: block;width: 100%;margin-bottom: 0;padding: 0.3em;box-sizing: border-box;text-align: center;}#sk-container-id-1 label.sk-toggleable__label-arrow:before {content: \"▸\";float: left;margin-right: 0.25em;color: #696969;}#sk-container-id-1 label.sk-toggleable__label-arrow:hover:before {color: black;}#sk-container-id-1 div.sk-estimator:hover label.sk-toggleable__label-arrow:before {color: black;}#sk-container-id-1 div.sk-toggleable__content {max-height: 0;max-width: 0;overflow: hidden;text-align: left;background-color: #f0f8ff;}#sk-container-id-1 div.sk-toggleable__content pre {margin: 0.2em;color: black;border-radius: 0.25em;background-color: #f0f8ff;}#sk-container-id-1 input.sk-toggleable__control:checked~div.sk-toggleable__content {max-height: 200px;max-width: 100%;overflow: auto;}#sk-container-id-1 input.sk-toggleable__control:checked~label.sk-toggleable__label-arrow:before {content: \"▾\";}#sk-container-id-1 div.sk-estimator input.sk-toggleable__control:checked~label.sk-toggleable__label {background-color: #d4ebff;}#sk-container-id-1 div.sk-label input.sk-toggleable__control:checked~label.sk-toggleable__label {background-color: #d4ebff;}#sk-container-id-1 input.sk-hidden--visually {border: 0;clip: rect(1px 1px 1px 1px);clip: rect(1px, 1px, 1px, 1px);height: 1px;margin: -1px;overflow: hidden;padding: 0;position: absolute;width: 1px;}#sk-container-id-1 div.sk-estimator {font-family: monospace;background-color: #f0f8ff;border: 1px dotted black;border-radius: 0.25em;box-sizing: border-box;margin-bottom: 0.5em;}#sk-container-id-1 div.sk-estimator:hover {background-color: #d4ebff;}#sk-container-id-1 div.sk-parallel-item::after {content: \"\";width: 100%;border-bottom: 1px solid gray;flex-grow: 1;}#sk-container-id-1 div.sk-label:hover label.sk-toggleable__label {background-color: #d4ebff;}#sk-container-id-1 div.sk-serial::before {content: \"\";position: absolute;border-left: 1px solid gray;box-sizing: border-box;top: 0;bottom: 0;left: 50%;z-index: 0;}#sk-container-id-1 div.sk-serial {display: flex;flex-direction: column;align-items: center;background-color: white;padding-right: 0.2em;padding-left: 0.2em;position: relative;}#sk-container-id-1 div.sk-item {position: relative;z-index: 1;}#sk-container-id-1 div.sk-parallel {display: flex;align-items: stretch;justify-content: center;background-color: white;position: relative;}#sk-container-id-1 div.sk-item::before, #sk-container-id-1 div.sk-parallel-item::before {content: \"\";position: absolute;border-left: 1px solid gray;box-sizing: border-box;top: 0;bottom: 0;left: 50%;z-index: -1;}#sk-container-id-1 div.sk-parallel-item {display: flex;flex-direction: column;z-index: 1;position: relative;background-color: white;}#sk-container-id-1 div.sk-parallel-item:first-child::after {align-self: flex-end;width: 50%;}#sk-container-id-1 div.sk-parallel-item:last-child::after {align-self: flex-start;width: 50%;}#sk-container-id-1 div.sk-parallel-item:only-child::after {width: 0;}#sk-container-id-1 div.sk-dashed-wrapped {border: 1px dashed gray;margin: 0 0.4em 0.5em 0.4em;box-sizing: border-box;padding-bottom: 0.4em;background-color: white;}#sk-container-id-1 div.sk-label label {font-family: monospace;font-weight: bold;display: inline-block;line-height: 1.2em;}#sk-container-id-1 div.sk-label-container {text-align: center;}#sk-container-id-1 div.sk-container {/* jupyter's `normalize.less` sets `[hidden] { display: none; }` but bootstrap.min.css set `[hidden] { display: none !important; }` so we also need the `!important` here to be able to override the default hidden behavior on the sphinx rendered scikit-learn.org. See: https://github.com/scikit-learn/scikit-learn/issues/21755 */display: inline-block !important;position: relative;}#sk-container-id-1 div.sk-text-repr-fallback {display: none;}</style><div id=\"sk-container-id-1\" class=\"sk-top-container\"><div class=\"sk-text-repr-fallback\"><pre>XGBRegressor(base_score=0.5, booster=&#x27;gbtree&#x27;, callbacks=None,\n",
       "             colsample_bylevel=1, colsample_bynode=1, colsample_bytree=0.5,\n",
       "             early_stopping_rounds=None, enable_categorical=False, eta=0.3,\n",
       "             eval_metric=&#x27;rmse&#x27;, gamma=0, gpu_id=-1, grow_policy=&#x27;depthwise&#x27;,\n",
       "             importance_type=None, interaction_constraints=&#x27;&#x27;,\n",
       "             learning_rate=0.300000012, max_bin=256, max_cat_to_onehot=4,\n",
       "             max_delta_step=0, max_depth=5, max_leaves=0, min_child_weight=10,\n",
       "             missing=nan, monotone_constraints=&#x27;()&#x27;, n_estimators=500, n_jobs=0,\n",
       "             num_parallel_tree=1, predictor=&#x27;auto&#x27;, random_state=42,\n",
       "             reg_alpha=0, ...)</pre><b>In a Jupyter environment, please rerun this cell to show the HTML representation or trust the notebook. <br />On GitHub, the HTML representation is unable to render, please try loading this page with nbviewer.org.</b></div><div class=\"sk-container\" hidden><div class=\"sk-item\"><div class=\"sk-estimator sk-toggleable\"><input class=\"sk-toggleable__control sk-hidden--visually\" id=\"sk-estimator-id-1\" type=\"checkbox\" checked><label for=\"sk-estimator-id-1\" class=\"sk-toggleable__label sk-toggleable__label-arrow\">XGBRegressor</label><div class=\"sk-toggleable__content\"><pre>XGBRegressor(base_score=0.5, booster=&#x27;gbtree&#x27;, callbacks=None,\n",
       "             colsample_bylevel=1, colsample_bynode=1, colsample_bytree=0.5,\n",
       "             early_stopping_rounds=None, enable_categorical=False, eta=0.3,\n",
       "             eval_metric=&#x27;rmse&#x27;, gamma=0, gpu_id=-1, grow_policy=&#x27;depthwise&#x27;,\n",
       "             importance_type=None, interaction_constraints=&#x27;&#x27;,\n",
       "             learning_rate=0.300000012, max_bin=256, max_cat_to_onehot=4,\n",
       "             max_delta_step=0, max_depth=5, max_leaves=0, min_child_weight=10,\n",
       "             missing=nan, monotone_constraints=&#x27;()&#x27;, n_estimators=500, n_jobs=0,\n",
       "             num_parallel_tree=1, predictor=&#x27;auto&#x27;, random_state=42,\n",
       "             reg_alpha=0, ...)</pre></div></div></div></div></div>"
      ],
      "text/plain": [
       "XGBRegressor(base_score=0.5, booster='gbtree', callbacks=None,\n",
       "             colsample_bylevel=1, colsample_bynode=1, colsample_bytree=0.5,\n",
       "             early_stopping_rounds=None, enable_categorical=False, eta=0.3,\n",
       "             eval_metric='rmse', gamma=0, gpu_id=-1, grow_policy='depthwise',\n",
       "             importance_type=None, interaction_constraints='',\n",
       "             learning_rate=0.300000012, max_bin=256, max_cat_to_onehot=4,\n",
       "             max_delta_step=0, max_depth=5, max_leaves=0, min_child_weight=10,\n",
       "             missing=nan, monotone_constraints='()', n_estimators=500, n_jobs=0,\n",
       "             num_parallel_tree=1, predictor='auto', random_state=42,\n",
       "             reg_alpha=0, ...)"
      ]
     },
     "execution_count": 14,
     "metadata": {},
     "output_type": "execute_result"
    }
   ],
   "source": [
    "# XGBoost Without Hyperparameter Tuning\n",
    "params = {'random_state': 42,\n",
    "            'colsample_bytree': 0.5,\n",
    "             'eta': 0.3,\n",
    "             'eval_metric': 'rmse',\n",
    "             'max_depth': 5,\n",
    "             'min_child_weight': 10,\n",
    "             'n_estimators': 500,\n",
    "             'objective': 'reg:squarederror',\n",
    "             'subsample': 0.8}\n",
    "\n",
    "xg_model = XGBRegressor(**params)\n",
    "xg_model.fit(X_train, y_train)"
   ]
  },
  {
   "cell_type": "code",
   "execution_count": 15,
   "metadata": {},
   "outputs": [
    {
     "name": "stdout",
     "output_type": "stream",
     "text": [
      "XGBoost Regressor results:\n",
      "\n",
      "\tTrain MSE\t0.0001\n",
      "\tTest MSE\t0.4171\n",
      "\n",
      "\tTrain R-squared\t0.9999\n",
      "\tTest R-squared\t0.4013\n"
     ]
    }
   ],
   "source": [
    "# prediction\n",
    "y_train_pred = xg_model.predict(X_train)\n",
    "y_test_pred = xg_model.predict(X_test)\n",
    "\n",
    "#Calculate MSE and R_squared of the model\n",
    "train_mse = mean_squared_error(y_train, y_train_pred)\n",
    "test_mse = mean_squared_error(y_test, y_test_pred)\n",
    "\n",
    "train_r2 = xg_model.score(X_train, y_train)\n",
    "test_r2 = xg_model.score(X_test, y_test)\n",
    "\n",
    "print(\"XGBoost Regressor results:\\n\")\n",
    "print(\n",
    "    \"\\tTrain MSE\\t{:.4f}\\n\"\n",
    "    \"\\tTest MSE\\t{:.4f}\\n\".format(\n",
    "        train_mse,\n",
    "        test_mse,\n",
    "    )\n",
    ")\n",
    "\n",
    "print(f\"\\tTrain R-squared\\t{train_r2:.4f}\")\n",
    "print(f\"\\tTest R-squared\\t{test_r2:.4f}\")"
   ]
  },
  {
   "cell_type": "code",
   "execution_count": 16,
   "metadata": {},
   "outputs": [
    {
     "data": {
      "image/png": "[encoded data removed]",
      "text/plain": [
       "<Figure size 432x288 with 1 Axes>"
      ]
     },
     "metadata": {
      "needs_background": "light"
     },
     "output_type": "display_data"
    }
   ],
   "source": [
    "x_ax = range(len(y_test))\n",
    "plt.plot(x_ax, y_test, label=\"Actual\")\n",
    "plt.plot(x_ax, y_test_pred, label=\"Predicted\")\n",
    "plt.title(\"Prediction from Untuned XGBRegressor on Testing set\")\n",
    "plt.legend()\n",
    "plt.show()"
   ]
  },
  {
   "cell_type": "markdown",
   "metadata": {},
   "source": [
    "### Hyperparameter Tuning with Hypopt"
   ]
  },
  {
   "cell_type": "code",
   "execution_count": null,
   "metadata": {},
   "outputs": [],
   "source": [
    "# !!! This code cell takes about 10mins to run\n",
    "warnings.filterwarnings('ignore')\n",
    "\n",
    "# space for hyperparameter tuning\n",
    "space = {\n",
    "        'max_depth':hp.choice('max_depth', np.arange(1, 20, 1, dtype=int)),\n",
    "        'n_estimators':hp.choice('n_estimators', np.arange(10, 1000, 10, dtype=int)),\n",
    "        'colsample_bytree':hp.quniform('colsample_bytree', 0.5, 1.0, 0.1),\n",
    "        'min_child_weight':hp.choice('min_child_weight', np.arange(1, 10, 1, dtype=int)),\n",
    "        'subsample':hp.quniform('subsample', 0.7, 0.9, 0.1),\n",
    "        'eta':hp.quniform('eta', 0.1, 0.3, 0.1),\n",
    "        'objective':'reg:squarederror',\n",
    "        'eval_metric': 'rmse',\n",
    "        }\n",
    "\n",
    "hypopt_scores = []\n",
    "\n",
    "def score(params):\n",
    "    model = XGBRegressor(**params)\n",
    "    \n",
    "    model.fit(X_train, y_train, eval_set=[(X_train, y_train), (X_test, y_test)],\n",
    "              verbose=False, early_stopping_rounds=10)\n",
    "    \n",
    "    y_pred = model.predict(X_test)\n",
    "    score = np.sqrt(mean_squared_error(y_test, y_pred))\n",
    "    \n",
    "    hypopt_scores.append(score**2)\n",
    "    \n",
    "    return {'loss': score, 'status': STATUS_OK}    \n",
    "\n",
    "def optimize(trials, space):\n",
    "    best = fmin(score, space, algo=tpe.suggest, max_evals=1000)\n",
    "    return best\n",
    "\n",
    "trials = Trials()\n",
    "best_params = optimize(trials, space)\n",
    "\n",
    "# Return the best parameters\n",
    "space_eval(space, best_params)\n"
   ]
  },
  {
   "cell_type": "markdown",
   "metadata": {},
   "source": [
    "### Fit the model with the best hyperparameters"
   ]
  },
  {
   "cell_type": "code",
   "execution_count": 17,
   "metadata": {},
   "outputs": [
    {
     "data": {
      "text/html": [
       "<style>#sk-container-id-2 {color: black;background-color: white;}#sk-container-id-2 pre{padding: 0;}#sk-container-id-2 div.sk-toggleable {background-color: white;}#sk-container-id-2 label.sk-toggleable__label {cursor: pointer;display: block;width: 100%;margin-bottom: 0;padding: 0.3em;box-sizing: border-box;text-align: center;}#sk-container-id-2 label.sk-toggleable__label-arrow:before {content: \"▸\";float: left;margin-right: 0.25em;color: #696969;}#sk-container-id-2 label.sk-toggleable__label-arrow:hover:before {color: black;}#sk-container-id-2 div.sk-estimator:hover label.sk-toggleable__label-arrow:before {color: black;}#sk-container-id-2 div.sk-toggleable__content {max-height: 0;max-width: 0;overflow: hidden;text-align: left;background-color: #f0f8ff;}#sk-container-id-2 div.sk-toggleable__content pre {margin: 0.2em;color: black;border-radius: 0.25em;background-color: #f0f8ff;}#sk-container-id-2 input.sk-toggleable__control:checked~div.sk-toggleable__content {max-height: 200px;max-width: 100%;overflow: auto;}#sk-container-id-2 input.sk-toggleable__control:checked~label.sk-toggleable__label-arrow:before {content: \"▾\";}#sk-container-id-2 div.sk-estimator input.sk-toggleable__control:checked~label.sk-toggleable__label {background-color: #d4ebff;}#sk-container-id-2 div.sk-label input.sk-toggleable__control:checked~label.sk-toggleable__label {background-color: #d4ebff;}#sk-container-id-2 input.sk-hidden--visually {border: 0;clip: rect(1px 1px 1px 1px);clip: rect(1px, 1px, 1px, 1px);height: 1px;margin: -1px;overflow: hidden;padding: 0;position: absolute;width: 1px;}#sk-container-id-2 div.sk-estimator {font-family: monospace;background-color: #f0f8ff;border: 1px dotted black;border-radius: 0.25em;box-sizing: border-box;margin-bottom: 0.5em;}#sk-container-id-2 div.sk-estimator:hover {background-color: #d4ebff;}#sk-container-id-2 div.sk-parallel-item::after {content: \"\";width: 100%;border-bottom: 1px solid gray;flex-grow: 1;}#sk-container-id-2 div.sk-label:hover label.sk-toggleable__label {background-color: #d4ebff;}#sk-container-id-2 div.sk-serial::before {content: \"\";position: absolute;border-left: 1px solid gray;box-sizing: border-box;top: 0;bottom: 0;left: 50%;z-index: 0;}#sk-container-id-2 div.sk-serial {display: flex;flex-direction: column;align-items: center;background-color: white;padding-right: 0.2em;padding-left: 0.2em;position: relative;}#sk-container-id-2 div.sk-item {position: relative;z-index: 1;}#sk-container-id-2 div.sk-parallel {display: flex;align-items: stretch;justify-content: center;background-color: white;position: relative;}#sk-container-id-2 div.sk-item::before, #sk-container-id-2 div.sk-parallel-item::before {content: \"\";position: absolute;border-left: 1px solid gray;box-sizing: border-box;top: 0;bottom: 0;left: 50%;z-index: -1;}#sk-container-id-2 div.sk-parallel-item {display: flex;flex-direction: column;z-index: 1;position: relative;background-color: white;}#sk-container-id-2 div.sk-parallel-item:first-child::after {align-self: flex-end;width: 50%;}#sk-container-id-2 div.sk-parallel-item:last-child::after {align-self: flex-start;width: 50%;}#sk-container-id-2 div.sk-parallel-item:only-child::after {width: 0;}#sk-container-id-2 div.sk-dashed-wrapped {border: 1px dashed gray;margin: 0 0.4em 0.5em 0.4em;box-sizing: border-box;padding-bottom: 0.4em;background-color: white;}#sk-container-id-2 div.sk-label label {font-family: monospace;font-weight: bold;display: inline-block;line-height: 1.2em;}#sk-container-id-2 div.sk-label-container {text-align: center;}#sk-container-id-2 div.sk-container {/* jupyter's `normalize.less` sets `[hidden] { display: none; }` but bootstrap.min.css set `[hidden] { display: none !important; }` so we also need the `!important` here to be able to override the default hidden behavior on the sphinx rendered scikit-learn.org. See: https://github.com/scikit-learn/scikit-learn/issues/21755 */display: inline-block !important;position: relative;}#sk-container-id-2 div.sk-text-repr-fallback {display: none;}</style><div id=\"sk-container-id-2\" class=\"sk-top-container\"><div class=\"sk-text-repr-fallback\"><pre>XGBRegressor(base_score=0.5, booster=&#x27;gbtree&#x27;, callbacks=None,\n",
       "             colsample_bylevel=1, colsample_bynode=1, colsample_bytree=0.8,\n",
       "             early_stopping_rounds=None, enable_categorical=False,\n",
       "             eta=0.30000000000000004, eval_metric=&#x27;rmse&#x27;, gamma=0, gpu_id=-1,\n",
       "             grow_policy=&#x27;depthwise&#x27;, importance_type=None,\n",
       "             interaction_constraints=&#x27;&#x27;, learning_rate=0.300000012, max_bin=256,\n",
       "             max_cat_to_onehot=4, max_delta_step=0, max_depth=3, max_leaves=0,\n",
       "             min_child_weight=4, missing=nan, monotone_constraints=&#x27;()&#x27;,\n",
       "             n_estimators=540, n_jobs=0, num_parallel_tree=1, predictor=&#x27;auto&#x27;,\n",
       "             random_state=42, reg_alpha=0, ...)</pre><b>In a Jupyter environment, please rerun this cell to show the HTML representation or trust the notebook. <br />On GitHub, the HTML representation is unable to render, please try loading this page with nbviewer.org.</b></div><div class=\"sk-container\" hidden><div class=\"sk-item\"><div class=\"sk-estimator sk-toggleable\"><input class=\"sk-toggleable__control sk-hidden--visually\" id=\"sk-estimator-id-2\" type=\"checkbox\" checked><label for=\"sk-estimator-id-2\" class=\"sk-toggleable__label sk-toggleable__label-arrow\">XGBRegressor</label><div class=\"sk-toggleable__content\"><pre>XGBRegressor(base_score=0.5, booster=&#x27;gbtree&#x27;, callbacks=None,\n",
       "             colsample_bylevel=1, colsample_bynode=1, colsample_bytree=0.8,\n",
       "             early_stopping_rounds=None, enable_categorical=False,\n",
       "             eta=0.30000000000000004, eval_metric=&#x27;rmse&#x27;, gamma=0, gpu_id=-1,\n",
       "             grow_policy=&#x27;depthwise&#x27;, importance_type=None,\n",
       "             interaction_constraints=&#x27;&#x27;, learning_rate=0.300000012, max_bin=256,\n",
       "             max_cat_to_onehot=4, max_delta_step=0, max_depth=3, max_leaves=0,\n",
       "             min_child_weight=4, missing=nan, monotone_constraints=&#x27;()&#x27;,\n",
       "             n_estimators=540, n_jobs=0, num_parallel_tree=1, predictor=&#x27;auto&#x27;,\n",
       "             random_state=42, reg_alpha=0, ...)</pre></div></div></div></div></div>"
      ],
      "text/plain": [
       "XGBRegressor(base_score=0.5, booster='gbtree', callbacks=None,\n",
       "             colsample_bylevel=1, colsample_bynode=1, colsample_bytree=0.8,\n",
       "             early_stopping_rounds=None, enable_categorical=False,\n",
       "             eta=0.30000000000000004, eval_metric='rmse', gamma=0, gpu_id=-1,\n",
       "             grow_policy='depthwise', importance_type=None,\n",
       "             interaction_constraints='', learning_rate=0.300000012, max_bin=256,\n",
       "             max_cat_to_onehot=4, max_delta_step=0, max_depth=3, max_leaves=0,\n",
       "             min_child_weight=4, missing=nan, monotone_constraints='()',\n",
       "             n_estimators=540, n_jobs=0, num_parallel_tree=1, predictor='auto',\n",
       "             random_state=42, reg_alpha=0, ...)"
      ]
     },
     "execution_count": 17,
     "metadata": {},
     "output_type": "execute_result"
    }
   ],
   "source": [
    "best_params = {'random_state': 42,\n",
    "               'colsample_bytree': 0.8,\n",
    "                 'eta': 0.30000000000000004,\n",
    "                 'eval_metric': 'rmse',\n",
    "                 'max_depth': 3,\n",
    "                 'min_child_weight': 4,\n",
    "                 'n_estimators': 540,\n",
    "                 'objective': 'reg:squarederror',\n",
    "                 'subsample': 0.9}\n",
    "\n",
    "best_xgmodel = XGBRegressor(**best_params)\n",
    "best_xgmodel.fit(X_train, y_train)\n"
   ]
  },
  {
   "cell_type": "code",
   "execution_count": 18,
   "metadata": {},
   "outputs": [
    {
     "name": "stdout",
     "output_type": "stream",
     "text": [
      "Hyperparameter Tuned XGBoost Regressor results:\n",
      "\n",
      "\tTrain MSE\t0.0000\n",
      "\tTest MSE\t0.1363\n",
      "\n",
      "\tTrain R-squared\t1.0000\n",
      "\tTest R-squared\t0.8043\n"
     ]
    }
   ],
   "source": [
    "# prediction\n",
    "y_train_pred_best = best_xgmodel.predict(X_train)\n",
    "y_test_pred_best = best_xgmodel.predict(X_test)\n",
    "\n",
    "#Calculate MSE and R_squared of the model\n",
    "train_mse_best = mean_squared_error(y_train, y_train_pred_best)\n",
    "test_mse_best = mean_squared_error(y_test, y_test_pred_best)\n",
    "\n",
    "train_r2_best = best_xgmodel.score(X_train, y_train)\n",
    "test_r2_best = best_xgmodel.score(X_test, y_test)\n",
    "\n",
    "print(\"Hyperparameter Tuned XGBoost Regressor results:\\n\")\n",
    "print(\n",
    "    \"\\tTrain MSE\\t{:.4f}\\n\"\n",
    "    \"\\tTest MSE\\t{:.4f}\\n\".format(\n",
    "        train_mse_best,\n",
    "        test_mse_best,\n",
    "    )\n",
    ")\n",
    "\n",
    "print(f\"\\tTrain R-squared\\t{train_r2_best:.4f}\")\n",
    "print(f\"\\tTest R-squared\\t{test_r2_best:.4f}\")"
   ]
  },
  {
   "cell_type": "code",
   "execution_count": 19,
   "metadata": {},
   "outputs": [
    {
     "data": {
      "image/png": "[encoded data removed]",
      "text/plain": [
       "<Figure size 432x288 with 1 Axes>"
      ]
     },
     "metadata": {
      "needs_background": "light"
     },
     "output_type": "display_data"
    }
   ],
   "source": [
    "x_ax = range(len(y_test))\n",
    "plt.plot(x_ax, y_test, label=\"Actual\")\n",
    "plt.plot(x_ax, y_test_pred_best, label=\"Predicted\")\n",
    "plt.title(\"Prediction from Hyperparameter Tuned XGBRegressor on Testing set\")\n",
    "plt.legend()\n",
    "plt.show()\n"
   ]
  },
  {
   "cell_type": "markdown",
   "metadata": {},
   "source": [
    "### Feature Importance\n",
    "\n",
    "The plot below shows feautre importance in terms of the number of times a feature appears in a tree. "
   ]
  },
  {
   "cell_type": "code",
   "execution_count": 20,
   "metadata": {},
   "outputs": [
    {
     "data": {
      "image/png": "[encoded data removed]",
      "text/plain": [
       "<Figure size 720x288 with 1 Axes>"
      ]
     },
     "metadata": {
      "needs_background": "light"
     },
     "output_type": "display_data"
    }
   ],
   "source": [
    "fig, ax = plt.subplots(figsize = (10, 4))\n",
    "xgb.plot_importance(best_xgmodel, importance_type='weight', ax = ax)\n",
    "plt.tight_layout()"
   ]
  }
 ],
 "metadata": {
  "kernelspec": {
   "display_name": "Python 3 (ipykernel)",
   "language": "python",
   "name": "python3"
  },
  "language_info": {
   "codemirror_mode": {
    "name": "ipython",
    "version": 3
   },
   "file_extension": ".py",
   "mimetype": "text/x-python",
   "name": "python",
   "nbconvert_exporter": "python",
   "pygments_lexer": "ipython3",
   "version": "3.9.2"
  },
  "vscode": {
   "interpreter": {
    "hash": "b5aa44122ec421a99e51bf05c46c329c2801dd6c2fe40834e549112db593d0c4"
   }
  }
 },
 "nbformat": 4,
 "nbformat_minor": 4
}

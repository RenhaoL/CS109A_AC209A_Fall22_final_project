{
 "cells": [
  {
   "cell_type": "markdown",
   "metadata": {},
   "source": [
    "# Predictive model and feature importance for state level homelessness"
   ]
  },
  {
   "cell_type": "markdown",
   "metadata": {},
   "source": [
    "*CS109A/AC209A final project: Group 8*\n",
    "\n",
    "**Contact info:** Renhao Luo (renhao_luo@hms.harvard.edu), Ziqi Wang (ziqiwang@hms.harvard.edu), Shun Li (shunli@g.harvard.edu), Linzi Yu (linzi_yu@hms.harvard.edu), Senmiao Sun (sun_senmiao@g.harvard.edu)"
   ]
  },
  {
   "cell_type": "markdown",
   "metadata": {},
   "source": [
    "**Table of contents**<a id='toc0_'></a>    \n",
    "- [**Introduction**: Predictive model and feature importance for state level homelessness](#toc1_)    \n",
    "- [**Datasets and Exploratory Data Analysis (EDA)**](#toc2_)    \n",
    "  - [Homeless and housing price](#toc2_1_)    \n",
    "  - [Economic and political party dataset](#toc2_2_)\n",
    "  - [Politics Dataset](#toc2_3_)    \n",
    "  - [Economy Dataset](#toc2_4_)    \n",
    "  - [Merge Datasets](#toc2_5_)    \n",
    "  - [Missing Values](#toc2_6_)    \n",
    "  - [Correlation between each variable and homeless count](#toc2_7_)    \n",
    "  - [Choropleth graph of homeless count by state](#toc2_8_)    \n",
    "  - [Choropleth graph of political party by state](#toc2_9_)    \n",
    "  - [Choropleth graph of average salary by state](#toc2_10_)    \n",
    "  - [Choropleth graph of per capita net earning by state](#toc2_11_)    \n",
    "  - [Choropleth graph of Total Number of Jobs by state](#toc2_12_)    \n",
    "- [Model Development and Evaluation](#toc3_)    \n",
    "  - [Impute missing data](#toc3_1_)    \n",
    "  - [Plotting](#toc3_2_)    \n",
    "- [Standardize the data](#toc4_)    \n",
    "\n",
    "<!-- vscode-jupyter-toc-config\n",
    "\tnumbering=false\n",
    "\tanchor=true\n",
    "\tflat=false\n",
    "\tminLevel=1\n",
    "\tmaxLevel=6\n",
    "\t/vscode-jupyter-toc-config -->\n",
    "<!-- THIS CELL WILL BE REPLACED ON TOC UPDATE. DO NOT WRITE YOUR TEXT IN THIS CELL -->"
   ]
  },
  {
   "cell_type": "markdown",
   "metadata": {},
   "source": [
    "## <a id='toc1_'></a>[Introduction](#toc1_)\n",
    "\n",
    "By recent estimates, over 600,000 Americans live in some state of homelessness each year. In recent decades, the quality of available data on homelessness in the United States has greatly improved, but there is still a long way to go. \n",
    "\n",
    "In this project, we combined different state-level statistics (housing, income, and political involvement) that are related to homelessness, and build multiple regression models for predicting the number homeless people in the United States. In addition, we discussed about the most important predictors for the machine learning models. In a word, we aim to enhance our understanding of the causes of homelessness from different perspectives by interpreting the most important features highlighted by the machine learning models.\n",
    "\n",
    "The state level homeless data we used were from Kaggle (https://www.kaggle.com/code/adamschroeder/homelessness-comparison-between-states/data), which contains the data collected by the US Department of Housing and Urban Development (HUD). \n",
    "\n",
    "For model prediction, we also included features from these datasets:\n",
    "- Zillow Housing Data: https://www.kaggle.com/datasets/zillow/zecon\n",
    "- US Economics Profile by county: https://www.kaggle.com/datasets/davidbroberts/us-economic-profile-by-county?resource=download&select=profile_by_county_1969_2019.csv\n",
    "- County Presidential Election Returns 2000-2020: https://dataverse.harvard.edu/dataset.xhtml?persistentId=doi:10.7910/DVN/VOQCHQ\n",
    "\n",
    "\n",
    "\n",
    "\n"
   ]
  },
  {
   "cell_type": "code",
   "execution_count": 1,
   "metadata": {},
   "outputs": [
    {
     "name": "stdout",
     "output_type": "stream",
     "text": [
      "Requirement already satisfied: plotly in /Users/renhaoluo/anaconda3/lib/python3.8/site-packages (5.5.0)\n",
      "Requirement already satisfied: tenacity>=6.2.0 in /Users/renhaoluo/anaconda3/lib/python3.8/site-packages (from plotly) (8.0.1)\n",
      "Requirement already satisfied: six in /Users/renhaoluo/anaconda3/lib/python3.8/site-packages (from plotly) (1.16.0)\n"
     ]
    }
   ],
   "source": [
    "!pip install plotly"
   ]
  },
  {
   "cell_type": "code",
   "execution_count": 1,
   "metadata": {},
   "outputs": [],
   "source": [
    "import warnings\n",
    "warnings.simplefilter(action='ignore', category=FutureWarning)\n",
    "\n",
    "import pandas as pd\n",
    "import matplotlib.pyplot as plt\n",
    "import numpy as np\n",
    "import pandas as pd\n",
    "import seaborn as sns\n",
    "import plotly.express as px\n",
    "\n",
    "from sklearn.model_selection import train_test_split\n",
    "from sklearn.linear_model import LinearRegression\n",
    "from sklearn.preprocessing import OrdinalEncoder, OneHotEncoder\n",
    "from sklearn.impute import SimpleImputer, KNNImputer\n",
    "from sklearn.linear_model import Lasso, LassoCV\n",
    "from sklearn.metrics import mean_squared_error\n",
    "from sklearn.model_selection import cross_validate\n",
    "from sklearn.preprocessing import PolynomialFeatures\n",
    "from sklearn.utils import shuffle\n",
    "from sklearn.metrics import r2_score\n",
    "from sklearn.preprocessing import StandardScaler"
   ]
  },
  {
   "cell_type": "code",
   "execution_count": 2,
   "metadata": {},
   "outputs": [
    {
     "name": "stdout",
     "output_type": "stream",
     "text": [
      "2007-2016-Homelessnewss-USA.csv\n",
      "README.md\n",
      "State_time_series.csv\n",
      "countypres_2000-2020.csv\n",
      "df_econ_sub.csv\n",
      "homeless_count_Econ_Politics_by_state.csv\n",
      "homeless_count_with_housing_price_by_state.csv\n",
      "profile_by_county_1969_2019.csv\n",
      "scaled_X_test.csv\n",
      "scaled_X_train.csv\n",
      "scaled_y_test.csv\n",
      "scaled_y_train.csv\n"
     ]
    }
   ],
   "source": [
    "!ls ../data"
   ]
  },
  {
   "cell_type": "markdown",
   "metadata": {},
   "source": [
    "# <a id='toc2_'></a>[Datasets and Exploratory Data Analysis (EDA)](#toc2_)\n",
    "\n",
    "## <a id='toc2_1_'></a>[Homeless and housing price](#toc2_1_)\n",
    "\n",
    "Here, we combine the number of homeless people in each state with the average price of each property sold in each state for year 2008 and 2016. Then we perform EDA analysis on the predictors. "
   ]
  },
  {
   "cell_type": "code",
   "execution_count": 3,
   "metadata": {},
   "outputs": [
    {
     "data": {
      "text/html": [
       "<div>\n",
       "<style scoped>\n",
       "    .dataframe tbody tr th:only-of-type {\n",
       "        vertical-align: middle;\n",
       "    }\n",
       "\n",
       "    .dataframe tbody tr th {\n",
       "        vertical-align: top;\n",
       "    }\n",
       "\n",
       "    .dataframe thead th {\n",
       "        text-align: right;\n",
       "    }\n",
       "</style>\n",
       "<table border=\"1\" class=\"dataframe\">\n",
       "  <thead>\n",
       "    <tr style=\"text-align: right;\">\n",
       "      <th></th>\n",
       "      <th>Year</th>\n",
       "      <th>State</th>\n",
       "      <th>CoC Number</th>\n",
       "      <th>CoC Name</th>\n",
       "      <th>Measures</th>\n",
       "      <th>Count</th>\n",
       "    </tr>\n",
       "  </thead>\n",
       "  <tbody>\n",
       "    <tr>\n",
       "      <th>0</th>\n",
       "      <td>1/1/07</td>\n",
       "      <td>AK</td>\n",
       "      <td>AK-500</td>\n",
       "      <td>Anchorage CoC</td>\n",
       "      <td>Chronically Homeless Individuals</td>\n",
       "      <td>224</td>\n",
       "    </tr>\n",
       "    <tr>\n",
       "      <th>1</th>\n",
       "      <td>1/1/07</td>\n",
       "      <td>AK</td>\n",
       "      <td>AK-500</td>\n",
       "      <td>Anchorage CoC</td>\n",
       "      <td>Homeless Individuals</td>\n",
       "      <td>696</td>\n",
       "    </tr>\n",
       "    <tr>\n",
       "      <th>2</th>\n",
       "      <td>1/1/07</td>\n",
       "      <td>AK</td>\n",
       "      <td>AK-500</td>\n",
       "      <td>Anchorage CoC</td>\n",
       "      <td>Homeless People in Families</td>\n",
       "      <td>278</td>\n",
       "    </tr>\n",
       "    <tr>\n",
       "      <th>3</th>\n",
       "      <td>1/1/07</td>\n",
       "      <td>AK</td>\n",
       "      <td>AK-500</td>\n",
       "      <td>Anchorage CoC</td>\n",
       "      <td>Sheltered Chronically Homeless Individuals</td>\n",
       "      <td>187</td>\n",
       "    </tr>\n",
       "    <tr>\n",
       "      <th>4</th>\n",
       "      <td>1/1/07</td>\n",
       "      <td>AK</td>\n",
       "      <td>AK-500</td>\n",
       "      <td>Anchorage CoC</td>\n",
       "      <td>Sheltered Homeless</td>\n",
       "      <td>842</td>\n",
       "    </tr>\n",
       "    <tr>\n",
       "      <th>...</th>\n",
       "      <td>...</td>\n",
       "      <td>...</td>\n",
       "      <td>...</td>\n",
       "      <td>...</td>\n",
       "      <td>...</td>\n",
       "      <td>...</td>\n",
       "    </tr>\n",
       "    <tr>\n",
       "      <th>86524</th>\n",
       "      <td>1/1/16</td>\n",
       "      <td>WY</td>\n",
       "      <td>WY-500</td>\n",
       "      <td>Wyoming Statewide CoC</td>\n",
       "      <td>Unsheltered Homeless Unaccompanied Youth (Unde...</td>\n",
       "      <td>7</td>\n",
       "    </tr>\n",
       "    <tr>\n",
       "      <th>86525</th>\n",
       "      <td>1/1/16</td>\n",
       "      <td>WY</td>\n",
       "      <td>WY-500</td>\n",
       "      <td>Wyoming Statewide CoC</td>\n",
       "      <td>Unsheltered Homeless Veterans</td>\n",
       "      <td>31</td>\n",
       "    </tr>\n",
       "    <tr>\n",
       "      <th>86526</th>\n",
       "      <td>1/1/16</td>\n",
       "      <td>WY</td>\n",
       "      <td>WY-500</td>\n",
       "      <td>Wyoming Statewide CoC</td>\n",
       "      <td>Unsheltered Parenting Youth (Under 25)</td>\n",
       "      <td>3</td>\n",
       "    </tr>\n",
       "    <tr>\n",
       "      <th>86527</th>\n",
       "      <td>1/1/16</td>\n",
       "      <td>WY</td>\n",
       "      <td>WY-500</td>\n",
       "      <td>Wyoming Statewide CoC</td>\n",
       "      <td>Unsheltered Parenting Youth Age 18-24</td>\n",
       "      <td>3</td>\n",
       "    </tr>\n",
       "    <tr>\n",
       "      <th>86528</th>\n",
       "      <td>1/1/16</td>\n",
       "      <td>WY</td>\n",
       "      <td>WY-500</td>\n",
       "      <td>Wyoming Statewide CoC</td>\n",
       "      <td>Unsheltered Parenting Youth Under 18</td>\n",
       "      <td>0</td>\n",
       "    </tr>\n",
       "  </tbody>\n",
       "</table>\n",
       "<p>86529 rows × 6 columns</p>\n",
       "</div>"
      ],
      "text/plain": [
       "         Year State CoC Number               CoC Name  \\\n",
       "0      1/1/07    AK     AK-500          Anchorage CoC   \n",
       "1      1/1/07    AK     AK-500          Anchorage CoC   \n",
       "2      1/1/07    AK     AK-500          Anchorage CoC   \n",
       "3      1/1/07    AK     AK-500          Anchorage CoC   \n",
       "4      1/1/07    AK     AK-500          Anchorage CoC   \n",
       "...       ...   ...        ...                    ...   \n",
       "86524  1/1/16    WY     WY-500  Wyoming Statewide CoC   \n",
       "86525  1/1/16    WY     WY-500  Wyoming Statewide CoC   \n",
       "86526  1/1/16    WY     WY-500  Wyoming Statewide CoC   \n",
       "86527  1/1/16    WY     WY-500  Wyoming Statewide CoC   \n",
       "86528  1/1/16    WY     WY-500  Wyoming Statewide CoC   \n",
       "\n",
       "                                                Measures  Count  \n",
       "0                       Chronically Homeless Individuals    224  \n",
       "1                                   Homeless Individuals    696  \n",
       "2                            Homeless People in Families    278  \n",
       "3             Sheltered Chronically Homeless Individuals    187  \n",
       "4                                     Sheltered Homeless    842  \n",
       "...                                                  ...    ...  \n",
       "86524  Unsheltered Homeless Unaccompanied Youth (Unde...      7  \n",
       "86525                      Unsheltered Homeless Veterans     31  \n",
       "86526             Unsheltered Parenting Youth (Under 25)      3  \n",
       "86527              Unsheltered Parenting Youth Age 18-24      3  \n",
       "86528               Unsheltered Parenting Youth Under 18      0  \n",
       "\n",
       "[86529 rows x 6 columns]"
      ]
     },
     "execution_count": 3,
     "metadata": {},
     "output_type": "execute_result"
    }
   ],
   "source": [
    "homeless_df = pd.read_csv(\"../data/2007-2016-Homelessnewss-USA.csv\")\n",
    "homeless_df"
   ]
  },
  {
   "cell_type": "code",
   "execution_count": 4,
   "metadata": {},
   "outputs": [
    {
     "data": {
      "text/html": [
       "<div>\n",
       "<style scoped>\n",
       "    .dataframe tbody tr th:only-of-type {\n",
       "        vertical-align: middle;\n",
       "    }\n",
       "\n",
       "    .dataframe tbody tr th {\n",
       "        vertical-align: top;\n",
       "    }\n",
       "\n",
       "    .dataframe thead th {\n",
       "        text-align: right;\n",
       "    }\n",
       "</style>\n",
       "<table border=\"1\" class=\"dataframe\">\n",
       "  <thead>\n",
       "    <tr style=\"text-align: right;\">\n",
       "      <th></th>\n",
       "      <th>Year</th>\n",
       "      <th>State</th>\n",
       "      <th>CoC Number</th>\n",
       "      <th>CoC Name</th>\n",
       "      <th>Measures</th>\n",
       "      <th>Count</th>\n",
       "      <th>Year_only</th>\n",
       "    </tr>\n",
       "  </thead>\n",
       "  <tbody>\n",
       "    <tr>\n",
       "      <th>4824</th>\n",
       "      <td>1/1/08</td>\n",
       "      <td>AK</td>\n",
       "      <td>AK-500</td>\n",
       "      <td>Anchorage CoC</td>\n",
       "      <td>Chronically Homeless Individuals</td>\n",
       "      <td>300</td>\n",
       "      <td>2008</td>\n",
       "    </tr>\n",
       "    <tr>\n",
       "      <th>4825</th>\n",
       "      <td>1/1/08</td>\n",
       "      <td>AK</td>\n",
       "      <td>AK-500</td>\n",
       "      <td>Anchorage CoC</td>\n",
       "      <td>Homeless Individuals</td>\n",
       "      <td>695</td>\n",
       "      <td>2008</td>\n",
       "    </tr>\n",
       "    <tr>\n",
       "      <th>4826</th>\n",
       "      <td>1/1/08</td>\n",
       "      <td>AK</td>\n",
       "      <td>AK-500</td>\n",
       "      <td>Anchorage CoC</td>\n",
       "      <td>Homeless People in Families</td>\n",
       "      <td>328</td>\n",
       "      <td>2008</td>\n",
       "    </tr>\n",
       "    <tr>\n",
       "      <th>4827</th>\n",
       "      <td>1/1/08</td>\n",
       "      <td>AK</td>\n",
       "      <td>AK-500</td>\n",
       "      <td>Anchorage CoC</td>\n",
       "      <td>Sheltered Chronically Homeless Individuals</td>\n",
       "      <td>239</td>\n",
       "      <td>2008</td>\n",
       "    </tr>\n",
       "    <tr>\n",
       "      <th>4828</th>\n",
       "      <td>1/1/08</td>\n",
       "      <td>AK</td>\n",
       "      <td>AK-500</td>\n",
       "      <td>Anchorage CoC</td>\n",
       "      <td>Sheltered Homeless</td>\n",
       "      <td>921</td>\n",
       "      <td>2008</td>\n",
       "    </tr>\n",
       "    <tr>\n",
       "      <th>...</th>\n",
       "      <td>...</td>\n",
       "      <td>...</td>\n",
       "      <td>...</td>\n",
       "      <td>...</td>\n",
       "      <td>...</td>\n",
       "      <td>...</td>\n",
       "      <td>...</td>\n",
       "    </tr>\n",
       "    <tr>\n",
       "      <th>86524</th>\n",
       "      <td>1/1/16</td>\n",
       "      <td>WY</td>\n",
       "      <td>WY-500</td>\n",
       "      <td>Wyoming Statewide CoC</td>\n",
       "      <td>Unsheltered Homeless Unaccompanied Youth (Unde...</td>\n",
       "      <td>7</td>\n",
       "      <td>2016</td>\n",
       "    </tr>\n",
       "    <tr>\n",
       "      <th>86525</th>\n",
       "      <td>1/1/16</td>\n",
       "      <td>WY</td>\n",
       "      <td>WY-500</td>\n",
       "      <td>Wyoming Statewide CoC</td>\n",
       "      <td>Unsheltered Homeless Veterans</td>\n",
       "      <td>31</td>\n",
       "      <td>2016</td>\n",
       "    </tr>\n",
       "    <tr>\n",
       "      <th>86526</th>\n",
       "      <td>1/1/16</td>\n",
       "      <td>WY</td>\n",
       "      <td>WY-500</td>\n",
       "      <td>Wyoming Statewide CoC</td>\n",
       "      <td>Unsheltered Parenting Youth (Under 25)</td>\n",
       "      <td>3</td>\n",
       "      <td>2016</td>\n",
       "    </tr>\n",
       "    <tr>\n",
       "      <th>86527</th>\n",
       "      <td>1/1/16</td>\n",
       "      <td>WY</td>\n",
       "      <td>WY-500</td>\n",
       "      <td>Wyoming Statewide CoC</td>\n",
       "      <td>Unsheltered Parenting Youth Age 18-24</td>\n",
       "      <td>3</td>\n",
       "      <td>2016</td>\n",
       "    </tr>\n",
       "    <tr>\n",
       "      <th>86528</th>\n",
       "      <td>1/1/16</td>\n",
       "      <td>WY</td>\n",
       "      <td>WY-500</td>\n",
       "      <td>Wyoming Statewide CoC</td>\n",
       "      <td>Unsheltered Parenting Youth Under 18</td>\n",
       "      <td>0</td>\n",
       "      <td>2016</td>\n",
       "    </tr>\n",
       "  </tbody>\n",
       "</table>\n",
       "<p>21648 rows × 7 columns</p>\n",
       "</div>"
      ],
      "text/plain": [
       "         Year State CoC Number               CoC Name  \\\n",
       "4824   1/1/08    AK     AK-500          Anchorage CoC   \n",
       "4825   1/1/08    AK     AK-500          Anchorage CoC   \n",
       "4826   1/1/08    AK     AK-500          Anchorage CoC   \n",
       "4827   1/1/08    AK     AK-500          Anchorage CoC   \n",
       "4828   1/1/08    AK     AK-500          Anchorage CoC   \n",
       "...       ...   ...        ...                    ...   \n",
       "86524  1/1/16    WY     WY-500  Wyoming Statewide CoC   \n",
       "86525  1/1/16    WY     WY-500  Wyoming Statewide CoC   \n",
       "86526  1/1/16    WY     WY-500  Wyoming Statewide CoC   \n",
       "86527  1/1/16    WY     WY-500  Wyoming Statewide CoC   \n",
       "86528  1/1/16    WY     WY-500  Wyoming Statewide CoC   \n",
       "\n",
       "                                                Measures  Count  Year_only  \n",
       "4824                    Chronically Homeless Individuals    300       2008  \n",
       "4825                                Homeless Individuals    695       2008  \n",
       "4826                         Homeless People in Families    328       2008  \n",
       "4827          Sheltered Chronically Homeless Individuals    239       2008  \n",
       "4828                                  Sheltered Homeless    921       2008  \n",
       "...                                                  ...    ...        ...  \n",
       "86524  Unsheltered Homeless Unaccompanied Youth (Unde...      7       2016  \n",
       "86525                      Unsheltered Homeless Veterans     31       2016  \n",
       "86526             Unsheltered Parenting Youth (Under 25)      3       2016  \n",
       "86527              Unsheltered Parenting Youth Age 18-24      3       2016  \n",
       "86528               Unsheltered Parenting Youth Under 18      0       2016  \n",
       "\n",
       "[21648 rows x 7 columns]"
      ]
     },
     "execution_count": 4,
     "metadata": {},
     "output_type": "execute_result"
    }
   ],
   "source": [
    "# extract the year and add a new column to the dataframe\n",
    "homeless_df['Year_only'] = pd.DatetimeIndex(homeless_df['Year']).year \n",
    "\n",
    "# subset the homeless data to only contain data from year 2008 and 2016\n",
    "homeless_df_subset_08_16 = homeless_df[homeless_df['Year_only'].isin([2008, 2016])]\n",
    "homeless_df_subset_08_16"
   ]
  },
  {
   "cell_type": "code",
   "execution_count": 5,
   "metadata": {},
   "outputs": [
    {
     "data": {
      "text/html": [
       "<div>\n",
       "<style scoped>\n",
       "    .dataframe tbody tr th:only-of-type {\n",
       "        vertical-align: middle;\n",
       "    }\n",
       "\n",
       "    .dataframe tbody tr th {\n",
       "        vertical-align: top;\n",
       "    }\n",
       "\n",
       "    .dataframe thead th {\n",
       "        text-align: right;\n",
       "    }\n",
       "</style>\n",
       "<table border=\"1\" class=\"dataframe\">\n",
       "  <thead>\n",
       "    <tr style=\"text-align: right;\">\n",
       "      <th></th>\n",
       "      <th>Count</th>\n",
       "      <th>Year_only</th>\n",
       "    </tr>\n",
       "  </thead>\n",
       "  <tbody>\n",
       "    <tr>\n",
       "      <th>count</th>\n",
       "      <td>21648.000000</td>\n",
       "      <td>21648.000000</td>\n",
       "    </tr>\n",
       "    <tr>\n",
       "      <th>mean</th>\n",
       "      <td>260.139320</td>\n",
       "      <td>2014.239468</td>\n",
       "    </tr>\n",
       "    <tr>\n",
       "      <th>std</th>\n",
       "      <td>1448.592168</td>\n",
       "      <td>3.314407</td>\n",
       "    </tr>\n",
       "    <tr>\n",
       "      <th>min</th>\n",
       "      <td>0.000000</td>\n",
       "      <td>2008.000000</td>\n",
       "    </tr>\n",
       "    <tr>\n",
       "      <th>25%</th>\n",
       "      <td>2.000000</td>\n",
       "      <td>2016.000000</td>\n",
       "    </tr>\n",
       "    <tr>\n",
       "      <th>50%</th>\n",
       "      <td>25.000000</td>\n",
       "      <td>2016.000000</td>\n",
       "    </tr>\n",
       "    <tr>\n",
       "      <th>75%</th>\n",
       "      <td>153.000000</td>\n",
       "      <td>2016.000000</td>\n",
       "    </tr>\n",
       "    <tr>\n",
       "      <th>max</th>\n",
       "      <td>73523.000000</td>\n",
       "      <td>2016.000000</td>\n",
       "    </tr>\n",
       "  </tbody>\n",
       "</table>\n",
       "</div>"
      ],
      "text/plain": [
       "              Count     Year_only\n",
       "count  21648.000000  21648.000000\n",
       "mean     260.139320   2014.239468\n",
       "std     1448.592168      3.314407\n",
       "min        0.000000   2008.000000\n",
       "25%        2.000000   2016.000000\n",
       "50%       25.000000   2016.000000\n",
       "75%      153.000000   2016.000000\n",
       "max    73523.000000   2016.000000"
      ]
     },
     "execution_count": 5,
     "metadata": {},
     "output_type": "execute_result"
    }
   ],
   "source": [
    "# describe the dataframe\n",
    "homeless_df_subset_08_16.describe()"
   ]
  },
  {
   "cell_type": "markdown",
   "metadata": {},
   "source": [
    "Note: The homeless data acquired from the U.S. Department of Housing and Urban Development uses the Continuums of Care (CoC) number, which divides each state into different geographic area. However, it does not necessarily match with the known zip code or county boundaries, which makes it hard to join this data with other county level data. Therefore, we first explore the data at states level. "
   ]
  },
  {
   "cell_type": "code",
   "execution_count": 6,
   "metadata": {},
   "outputs": [
    {
     "name": "stdout",
     "output_type": "stream",
     "text": [
      "<class 'pandas.core.frame.DataFrame'>\n",
      "Int64Index: 21648 entries, 4824 to 86528\n",
      "Data columns (total 7 columns):\n",
      " #   Column      Non-Null Count  Dtype \n",
      "---  ------      --------------  ----- \n",
      " 0   Year        21648 non-null  object\n",
      " 1   State       21648 non-null  object\n",
      " 2   CoC Number  21648 non-null  object\n",
      " 3   CoC Name    21648 non-null  object\n",
      " 4   Measures    21648 non-null  object\n",
      " 5   Count       21648 non-null  int64 \n",
      " 6   Year_only   21648 non-null  int64 \n",
      "dtypes: int64(2), object(5)\n",
      "memory usage: 1.3+ MB\n"
     ]
    },
    {
     "name": "stderr",
     "output_type": "stream",
     "text": [
      "/var/folders/sd/hl_8_g39189b03rq7tsq0ty00000gn/T/ipykernel_55887/831592487.py:2: SettingWithCopyWarning: \n",
      "A value is trying to be set on a copy of a slice from a DataFrame.\n",
      "Try using .loc[row_indexer,col_indexer] = value instead\n",
      "\n",
      "See the caveats in the documentation: https://pandas.pydata.org/pandas-docs/stable/user_guide/indexing.html#returning-a-view-versus-a-copy\n",
      "  homeless_df_subset_08_16[\"Count\"] = pd.to_numeric(homeless_df_subset_08_16[\"Count\"])\n"
     ]
    }
   ],
   "source": [
    "# Convert the count to numeric\n",
    "homeless_df_subset_08_16[\"Count\"] = pd.to_numeric(homeless_df_subset_08_16[\"Count\"])\n",
    "homeless_df_subset_08_16.info()"
   ]
  },
  {
   "cell_type": "code",
   "execution_count": 7,
   "metadata": {},
   "outputs": [
    {
     "data": {
      "text/html": [
       "<div>\n",
       "<style scoped>\n",
       "    .dataframe tbody tr th:only-of-type {\n",
       "        vertical-align: middle;\n",
       "    }\n",
       "\n",
       "    .dataframe tbody tr th {\n",
       "        vertical-align: top;\n",
       "    }\n",
       "\n",
       "    .dataframe thead th {\n",
       "        text-align: right;\n",
       "    }\n",
       "</style>\n",
       "<table border=\"1\" class=\"dataframe\">\n",
       "  <thead>\n",
       "    <tr style=\"text-align: right;\">\n",
       "      <th></th>\n",
       "      <th>Year_only</th>\n",
       "      <th>state_abbrev</th>\n",
       "      <th>homeless_count</th>\n",
       "    </tr>\n",
       "  </thead>\n",
       "  <tbody>\n",
       "    <tr>\n",
       "      <th>0</th>\n",
       "      <td>2008</td>\n",
       "      <td>AK</td>\n",
       "      <td>7462</td>\n",
       "    </tr>\n",
       "    <tr>\n",
       "      <th>1</th>\n",
       "      <td>2008</td>\n",
       "      <td>AL</td>\n",
       "      <td>23652</td>\n",
       "    </tr>\n",
       "    <tr>\n",
       "      <th>2</th>\n",
       "      <td>2008</td>\n",
       "      <td>AR</td>\n",
       "      <td>14806</td>\n",
       "    </tr>\n",
       "    <tr>\n",
       "      <th>3</th>\n",
       "      <td>2008</td>\n",
       "      <td>AZ</td>\n",
       "      <td>56146</td>\n",
       "    </tr>\n",
       "    <tr>\n",
       "      <th>4</th>\n",
       "      <td>2008</td>\n",
       "      <td>CA</td>\n",
       "      <td>626632</td>\n",
       "    </tr>\n",
       "    <tr>\n",
       "      <th>...</th>\n",
       "      <td>...</td>\n",
       "      <td>...</td>\n",
       "      <td>...</td>\n",
       "    </tr>\n",
       "    <tr>\n",
       "      <th>103</th>\n",
       "      <td>2016</td>\n",
       "      <td>VT</td>\n",
       "      <td>5762</td>\n",
       "    </tr>\n",
       "    <tr>\n",
       "      <th>104</th>\n",
       "      <td>2016</td>\n",
       "      <td>WA</td>\n",
       "      <td>103862</td>\n",
       "    </tr>\n",
       "    <tr>\n",
       "      <th>105</th>\n",
       "      <td>2016</td>\n",
       "      <td>WI</td>\n",
       "      <td>27656</td>\n",
       "    </tr>\n",
       "    <tr>\n",
       "      <th>106</th>\n",
       "      <td>2016</td>\n",
       "      <td>WV</td>\n",
       "      <td>7020</td>\n",
       "    </tr>\n",
       "    <tr>\n",
       "      <th>107</th>\n",
       "      <td>2016</td>\n",
       "      <td>WY</td>\n",
       "      <td>4184</td>\n",
       "    </tr>\n",
       "  </tbody>\n",
       "</table>\n",
       "<p>108 rows × 3 columns</p>\n",
       "</div>"
      ],
      "text/plain": [
       "     Year_only state_abbrev  homeless_count\n",
       "0         2008           AK            7462\n",
       "1         2008           AL           23652\n",
       "2         2008           AR           14806\n",
       "3         2008           AZ           56146\n",
       "4         2008           CA          626632\n",
       "..         ...          ...             ...\n",
       "103       2016           VT            5762\n",
       "104       2016           WA          103862\n",
       "105       2016           WI           27656\n",
       "106       2016           WV            7020\n",
       "107       2016           WY            4184\n",
       "\n",
       "[108 rows x 3 columns]"
      ]
     },
     "execution_count": 7,
     "metadata": {},
     "output_type": "execute_result"
    }
   ],
   "source": [
    "# first aggregate the data into state level\n",
    "homeless_df_subset_08_16_for_join = homeless_df_subset_08_16.groupby([\"Year_only\",\"State\"])[\"Count\"].sum().reset_index()\n",
    "homeless_df_subset_08_16_for_join.columns = [\"Year_only\", \"state_abbrev\", \"homeless_count\"]\n",
    "# homeless_df_subset_08_16_for_join.to_csv(\"../data/homeless_people_by_state.csv\", index=False)\n",
    "homeless_df_subset_08_16_for_join"
   ]
  },
  {
   "cell_type": "code",
   "execution_count": 8,
   "metadata": {},
   "outputs": [],
   "source": [
    "# convert the state name to abbrevation\n",
    "\n",
    "us_state_to_abbrev = {\n",
    "    \"Alabama\": \"AL\",\n",
    "    \"Alaska\": \"AK\",\n",
    "    \"Arizona\": \"AZ\",\n",
    "    \"Arkansas\": \"AR\",\n",
    "    \"California\": \"CA\",\n",
    "    \"Colorado\": \"CO\",\n",
    "    \"Connecticut\": \"CT\",\n",
    "    \"Delaware\": \"DE\",\n",
    "    \"Florida\": \"FL\",\n",
    "    \"Georgia\": \"GA\",\n",
    "    \"Hawaii\": \"HI\",\n",
    "    \"Idaho\": \"ID\",\n",
    "    \"Illinois\": \"IL\",\n",
    "    \"Indiana\": \"IN\",\n",
    "    \"Iowa\": \"IA\",\n",
    "    \"Kansas\": \"KS\",\n",
    "    \"Kentucky\": \"KY\",\n",
    "    \"Louisiana\": \"LA\",\n",
    "    \"Maine\": \"ME\",\n",
    "    \"Maryland\": \"MD\",\n",
    "    \"Massachusetts\": \"MA\",\n",
    "    \"Michigan\": \"MI\",\n",
    "    \"Minnesota\": \"MN\",\n",
    "    \"Mississippi\": \"MS\",\n",
    "    \"Missouri\": \"MO\",\n",
    "    \"Montana\": \"MT\",\n",
    "    \"Nebraska\": \"NE\",\n",
    "    \"Nevada\": \"NV\",\n",
    "    \"New Hampshire\": \"NH\",\n",
    "    \"New Jersey\": \"NJ\",\n",
    "    \"New Mexico\": \"NM\",\n",
    "    \"New York\": \"NY\",\n",
    "    \"North Carolina\": \"NC\",\n",
    "    \"North Dakota\": \"ND\",\n",
    "    \"Ohio\": \"OH\",\n",
    "    \"Oklahoma\": \"OK\",\n",
    "    \"Oregon\": \"OR\",\n",
    "    \"Pennsylvania\": \"PA\",\n",
    "    \"Rhode Island\": \"RI\",\n",
    "    \"South Carolina\": \"SC\",\n",
    "    \"South Dakota\": \"SD\",\n",
    "    \"Tennessee\": \"TN\",\n",
    "    \"Texas\": \"TX\",\n",
    "    \"Utah\": \"UT\",\n",
    "    \"Vermont\": \"VT\",\n",
    "    \"Virginia\": \"VA\",\n",
    "    \"Washington\": \"WA\",\n",
    "    \"WestVirginia\": \"WV\",\n",
    "    \"Wisconsin\": \"WI\",\n",
    "    \"Wyoming\": \"WY\",\n",
    "    \"DistrictofColumbia\": \"DC\",\n",
    "    \"American Samoa\": \"AS\",\n",
    "    \"Guam\": \"GU\",\n",
    "    \"Northern Mariana Islands\": \"MP\",\n",
    "    \"Puerto Rico\": \"PR\",\n",
    "    \"United States Minor Outlying Islands\": \"UM\",\n",
    "    \"Virgin Islands\": \"VI\",\n",
    "}"
   ]
  },
  {
   "cell_type": "code",
   "execution_count": 9,
   "metadata": {},
   "outputs": [
    {
     "data": {
      "text/html": [
       "<div>\n",
       "<style scoped>\n",
       "    .dataframe tbody tr th:only-of-type {\n",
       "        vertical-align: middle;\n",
       "    }\n",
       "\n",
       "    .dataframe tbody tr th {\n",
       "        vertical-align: top;\n",
       "    }\n",
       "\n",
       "    .dataframe thead th {\n",
       "        text-align: right;\n",
       "    }\n",
       "</style>\n",
       "<table border=\"1\" class=\"dataframe\">\n",
       "  <thead>\n",
       "    <tr style=\"text-align: right;\">\n",
       "      <th></th>\n",
       "      <th>Date</th>\n",
       "      <th>RegionName</th>\n",
       "      <th>DaysOnZillow_AllHomes</th>\n",
       "      <th>InventorySeasonallyAdjusted_AllHomes</th>\n",
       "      <th>InventoryRaw_AllHomes</th>\n",
       "      <th>MedianListingPricePerSqft_1Bedroom</th>\n",
       "      <th>MedianListingPricePerSqft_2Bedroom</th>\n",
       "      <th>MedianListingPricePerSqft_3Bedroom</th>\n",
       "      <th>MedianListingPricePerSqft_4Bedroom</th>\n",
       "      <th>MedianListingPricePerSqft_5BedroomOrMore</th>\n",
       "      <th>...</th>\n",
       "      <th>ZHVI_BottomTier</th>\n",
       "      <th>ZHVI_CondoCoop</th>\n",
       "      <th>ZHVI_MiddleTier</th>\n",
       "      <th>ZHVI_SingleFamilyResidence</th>\n",
       "      <th>ZHVI_TopTier</th>\n",
       "      <th>ZRI_AllHomes</th>\n",
       "      <th>ZRI_AllHomesPlusMultifamily</th>\n",
       "      <th>ZriPerSqft_AllHomes</th>\n",
       "      <th>Zri_MultiFamilyResidenceRental</th>\n",
       "      <th>Zri_SingleFamilyResidenceRental</th>\n",
       "    </tr>\n",
       "  </thead>\n",
       "  <tbody>\n",
       "    <tr>\n",
       "      <th>0</th>\n",
       "      <td>1996-04-30</td>\n",
       "      <td>Alabama</td>\n",
       "      <td>NaN</td>\n",
       "      <td>NaN</td>\n",
       "      <td>NaN</td>\n",
       "      <td>NaN</td>\n",
       "      <td>NaN</td>\n",
       "      <td>NaN</td>\n",
       "      <td>NaN</td>\n",
       "      <td>NaN</td>\n",
       "      <td>...</td>\n",
       "      <td>45600.0</td>\n",
       "      <td>99500.0</td>\n",
       "      <td>79500.0</td>\n",
       "      <td>79000.0</td>\n",
       "      <td>140200.0</td>\n",
       "      <td>NaN</td>\n",
       "      <td>NaN</td>\n",
       "      <td>NaN</td>\n",
       "      <td>NaN</td>\n",
       "      <td>NaN</td>\n",
       "    </tr>\n",
       "    <tr>\n",
       "      <th>1</th>\n",
       "      <td>1996-04-30</td>\n",
       "      <td>Arizona</td>\n",
       "      <td>NaN</td>\n",
       "      <td>NaN</td>\n",
       "      <td>NaN</td>\n",
       "      <td>NaN</td>\n",
       "      <td>NaN</td>\n",
       "      <td>NaN</td>\n",
       "      <td>NaN</td>\n",
       "      <td>NaN</td>\n",
       "      <td>...</td>\n",
       "      <td>67100.0</td>\n",
       "      <td>78900.0</td>\n",
       "      <td>103600.0</td>\n",
       "      <td>107500.0</td>\n",
       "      <td>168700.0</td>\n",
       "      <td>NaN</td>\n",
       "      <td>NaN</td>\n",
       "      <td>NaN</td>\n",
       "      <td>NaN</td>\n",
       "      <td>NaN</td>\n",
       "    </tr>\n",
       "    <tr>\n",
       "      <th>2</th>\n",
       "      <td>1996-04-30</td>\n",
       "      <td>Arkansas</td>\n",
       "      <td>NaN</td>\n",
       "      <td>NaN</td>\n",
       "      <td>NaN</td>\n",
       "      <td>NaN</td>\n",
       "      <td>NaN</td>\n",
       "      <td>NaN</td>\n",
       "      <td>NaN</td>\n",
       "      <td>NaN</td>\n",
       "      <td>...</td>\n",
       "      <td>38400.0</td>\n",
       "      <td>70300.0</td>\n",
       "      <td>64400.0</td>\n",
       "      <td>64500.0</td>\n",
       "      <td>115200.0</td>\n",
       "      <td>NaN</td>\n",
       "      <td>NaN</td>\n",
       "      <td>NaN</td>\n",
       "      <td>NaN</td>\n",
       "      <td>NaN</td>\n",
       "    </tr>\n",
       "    <tr>\n",
       "      <th>3</th>\n",
       "      <td>1996-04-30</td>\n",
       "      <td>California</td>\n",
       "      <td>NaN</td>\n",
       "      <td>NaN</td>\n",
       "      <td>NaN</td>\n",
       "      <td>NaN</td>\n",
       "      <td>NaN</td>\n",
       "      <td>NaN</td>\n",
       "      <td>NaN</td>\n",
       "      <td>NaN</td>\n",
       "      <td>...</td>\n",
       "      <td>95100.0</td>\n",
       "      <td>136100.0</td>\n",
       "      <td>157900.0</td>\n",
       "      <td>162000.0</td>\n",
       "      <td>270600.0</td>\n",
       "      <td>NaN</td>\n",
       "      <td>NaN</td>\n",
       "      <td>NaN</td>\n",
       "      <td>NaN</td>\n",
       "      <td>NaN</td>\n",
       "    </tr>\n",
       "    <tr>\n",
       "      <th>4</th>\n",
       "      <td>1996-04-30</td>\n",
       "      <td>Colorado</td>\n",
       "      <td>NaN</td>\n",
       "      <td>NaN</td>\n",
       "      <td>NaN</td>\n",
       "      <td>NaN</td>\n",
       "      <td>NaN</td>\n",
       "      <td>NaN</td>\n",
       "      <td>NaN</td>\n",
       "      <td>NaN</td>\n",
       "      <td>...</td>\n",
       "      <td>82700.0</td>\n",
       "      <td>99400.0</td>\n",
       "      <td>128100.0</td>\n",
       "      <td>133600.0</td>\n",
       "      <td>209300.0</td>\n",
       "      <td>NaN</td>\n",
       "      <td>NaN</td>\n",
       "      <td>NaN</td>\n",
       "      <td>NaN</td>\n",
       "      <td>NaN</td>\n",
       "    </tr>\n",
       "    <tr>\n",
       "      <th>...</th>\n",
       "      <td>...</td>\n",
       "      <td>...</td>\n",
       "      <td>...</td>\n",
       "      <td>...</td>\n",
       "      <td>...</td>\n",
       "      <td>...</td>\n",
       "      <td>...</td>\n",
       "      <td>...</td>\n",
       "      <td>...</td>\n",
       "      <td>...</td>\n",
       "      <td>...</td>\n",
       "      <td>...</td>\n",
       "      <td>...</td>\n",
       "      <td>...</td>\n",
       "      <td>...</td>\n",
       "      <td>...</td>\n",
       "      <td>...</td>\n",
       "      <td>...</td>\n",
       "      <td>...</td>\n",
       "      <td>...</td>\n",
       "      <td>...</td>\n",
       "    </tr>\n",
       "    <tr>\n",
       "      <th>13207</th>\n",
       "      <td>2017-12-31</td>\n",
       "      <td>Virginia</td>\n",
       "      <td>NaN</td>\n",
       "      <td>39599.0</td>\n",
       "      <td>36664.0</td>\n",
       "      <td>242.105263</td>\n",
       "      <td>146.157362</td>\n",
       "      <td>143.816452</td>\n",
       "      <td>147.329650</td>\n",
       "      <td>153.763978</td>\n",
       "      <td>...</td>\n",
       "      <td>133500.0</td>\n",
       "      <td>291300.0</td>\n",
       "      <td>246200.0</td>\n",
       "      <td>237300.0</td>\n",
       "      <td>492700.0</td>\n",
       "      <td>1538.0</td>\n",
       "      <td>1500.0</td>\n",
       "      <td>0.948</td>\n",
       "      <td>1738.0</td>\n",
       "      <td>1441.0</td>\n",
       "    </tr>\n",
       "    <tr>\n",
       "      <th>13208</th>\n",
       "      <td>2017-12-31</td>\n",
       "      <td>Washington</td>\n",
       "      <td>NaN</td>\n",
       "      <td>17918.0</td>\n",
       "      <td>15109.0</td>\n",
       "      <td>304.291151</td>\n",
       "      <td>220.017256</td>\n",
       "      <td>195.881979</td>\n",
       "      <td>188.990826</td>\n",
       "      <td>201.271186</td>\n",
       "      <td>...</td>\n",
       "      <td>208200.0</td>\n",
       "      <td>337600.0</td>\n",
       "      <td>351300.0</td>\n",
       "      <td>352800.0</td>\n",
       "      <td>662700.0</td>\n",
       "      <td>1842.0</td>\n",
       "      <td>1803.0</td>\n",
       "      <td>1.132</td>\n",
       "      <td>1690.0</td>\n",
       "      <td>1828.0</td>\n",
       "    </tr>\n",
       "    <tr>\n",
       "      <th>13209</th>\n",
       "      <td>2017-12-31</td>\n",
       "      <td>WestVirginia</td>\n",
       "      <td>NaN</td>\n",
       "      <td>9800.0</td>\n",
       "      <td>9422.0</td>\n",
       "      <td>119.723429</td>\n",
       "      <td>77.764277</td>\n",
       "      <td>89.272003</td>\n",
       "      <td>93.071172</td>\n",
       "      <td>88.122881</td>\n",
       "      <td>...</td>\n",
       "      <td>63800.0</td>\n",
       "      <td>115100.0</td>\n",
       "      <td>103500.0</td>\n",
       "      <td>103300.0</td>\n",
       "      <td>174300.0</td>\n",
       "      <td>858.0</td>\n",
       "      <td>858.0</td>\n",
       "      <td>0.674</td>\n",
       "      <td>846.0</td>\n",
       "      <td>858.0</td>\n",
       "    </tr>\n",
       "    <tr>\n",
       "      <th>13210</th>\n",
       "      <td>2017-12-31</td>\n",
       "      <td>Wisconsin</td>\n",
       "      <td>NaN</td>\n",
       "      <td>27273.0</td>\n",
       "      <td>23370.0</td>\n",
       "      <td>145.664583</td>\n",
       "      <td>129.727412</td>\n",
       "      <td>127.136334</td>\n",
       "      <td>116.753927</td>\n",
       "      <td>95.573529</td>\n",
       "      <td>...</td>\n",
       "      <td>107200.0</td>\n",
       "      <td>158700.0</td>\n",
       "      <td>169300.0</td>\n",
       "      <td>170200.0</td>\n",
       "      <td>280600.0</td>\n",
       "      <td>1179.0</td>\n",
       "      <td>1153.0</td>\n",
       "      <td>0.920</td>\n",
       "      <td>1068.0</td>\n",
       "      <td>1163.0</td>\n",
       "    </tr>\n",
       "    <tr>\n",
       "      <th>13211</th>\n",
       "      <td>2017-12-31</td>\n",
       "      <td>Wyoming</td>\n",
       "      <td>NaN</td>\n",
       "      <td>4337.0</td>\n",
       "      <td>3992.0</td>\n",
       "      <td>172.943376</td>\n",
       "      <td>148.544590</td>\n",
       "      <td>137.093704</td>\n",
       "      <td>147.855347</td>\n",
       "      <td>153.846154</td>\n",
       "      <td>...</td>\n",
       "      <td>140400.0</td>\n",
       "      <td>195600.0</td>\n",
       "      <td>200200.0</td>\n",
       "      <td>200500.0</td>\n",
       "      <td>315900.0</td>\n",
       "      <td>1144.0</td>\n",
       "      <td>1115.0</td>\n",
       "      <td>0.902</td>\n",
       "      <td>1023.0</td>\n",
       "      <td>1120.0</td>\n",
       "    </tr>\n",
       "  </tbody>\n",
       "</table>\n",
       "<p>13212 rows × 82 columns</p>\n",
       "</div>"
      ],
      "text/plain": [
       "             Date    RegionName  DaysOnZillow_AllHomes  \\\n",
       "0      1996-04-30       Alabama                    NaN   \n",
       "1      1996-04-30       Arizona                    NaN   \n",
       "2      1996-04-30      Arkansas                    NaN   \n",
       "3      1996-04-30    California                    NaN   \n",
       "4      1996-04-30      Colorado                    NaN   \n",
       "...           ...           ...                    ...   \n",
       "13207  2017-12-31      Virginia                    NaN   \n",
       "13208  2017-12-31    Washington                    NaN   \n",
       "13209  2017-12-31  WestVirginia                    NaN   \n",
       "13210  2017-12-31     Wisconsin                    NaN   \n",
       "13211  2017-12-31       Wyoming                    NaN   \n",
       "\n",
       "       InventorySeasonallyAdjusted_AllHomes  InventoryRaw_AllHomes  \\\n",
       "0                                       NaN                    NaN   \n",
       "1                                       NaN                    NaN   \n",
       "2                                       NaN                    NaN   \n",
       "3                                       NaN                    NaN   \n",
       "4                                       NaN                    NaN   \n",
       "...                                     ...                    ...   \n",
       "13207                               39599.0                36664.0   \n",
       "13208                               17918.0                15109.0   \n",
       "13209                                9800.0                 9422.0   \n",
       "13210                               27273.0                23370.0   \n",
       "13211                                4337.0                 3992.0   \n",
       "\n",
       "       MedianListingPricePerSqft_1Bedroom  MedianListingPricePerSqft_2Bedroom  \\\n",
       "0                                     NaN                                 NaN   \n",
       "1                                     NaN                                 NaN   \n",
       "2                                     NaN                                 NaN   \n",
       "3                                     NaN                                 NaN   \n",
       "4                                     NaN                                 NaN   \n",
       "...                                   ...                                 ...   \n",
       "13207                          242.105263                          146.157362   \n",
       "13208                          304.291151                          220.017256   \n",
       "13209                          119.723429                           77.764277   \n",
       "13210                          145.664583                          129.727412   \n",
       "13211                          172.943376                          148.544590   \n",
       "\n",
       "       MedianListingPricePerSqft_3Bedroom  MedianListingPricePerSqft_4Bedroom  \\\n",
       "0                                     NaN                                 NaN   \n",
       "1                                     NaN                                 NaN   \n",
       "2                                     NaN                                 NaN   \n",
       "3                                     NaN                                 NaN   \n",
       "4                                     NaN                                 NaN   \n",
       "...                                   ...                                 ...   \n",
       "13207                          143.816452                          147.329650   \n",
       "13208                          195.881979                          188.990826   \n",
       "13209                           89.272003                           93.071172   \n",
       "13210                          127.136334                          116.753927   \n",
       "13211                          137.093704                          147.855347   \n",
       "\n",
       "       MedianListingPricePerSqft_5BedroomOrMore  ...  ZHVI_BottomTier  \\\n",
       "0                                           NaN  ...          45600.0   \n",
       "1                                           NaN  ...          67100.0   \n",
       "2                                           NaN  ...          38400.0   \n",
       "3                                           NaN  ...          95100.0   \n",
       "4                                           NaN  ...          82700.0   \n",
       "...                                         ...  ...              ...   \n",
       "13207                                153.763978  ...         133500.0   \n",
       "13208                                201.271186  ...         208200.0   \n",
       "13209                                 88.122881  ...          63800.0   \n",
       "13210                                 95.573529  ...         107200.0   \n",
       "13211                                153.846154  ...         140400.0   \n",
       "\n",
       "       ZHVI_CondoCoop  ZHVI_MiddleTier  ZHVI_SingleFamilyResidence  \\\n",
       "0             99500.0          79500.0                     79000.0   \n",
       "1             78900.0         103600.0                    107500.0   \n",
       "2             70300.0          64400.0                     64500.0   \n",
       "3            136100.0         157900.0                    162000.0   \n",
       "4             99400.0         128100.0                    133600.0   \n",
       "...               ...              ...                         ...   \n",
       "13207        291300.0         246200.0                    237300.0   \n",
       "13208        337600.0         351300.0                    352800.0   \n",
       "13209        115100.0         103500.0                    103300.0   \n",
       "13210        158700.0         169300.0                    170200.0   \n",
       "13211        195600.0         200200.0                    200500.0   \n",
       "\n",
       "       ZHVI_TopTier  ZRI_AllHomes  ZRI_AllHomesPlusMultifamily  \\\n",
       "0          140200.0           NaN                          NaN   \n",
       "1          168700.0           NaN                          NaN   \n",
       "2          115200.0           NaN                          NaN   \n",
       "3          270600.0           NaN                          NaN   \n",
       "4          209300.0           NaN                          NaN   \n",
       "...             ...           ...                          ...   \n",
       "13207      492700.0        1538.0                       1500.0   \n",
       "13208      662700.0        1842.0                       1803.0   \n",
       "13209      174300.0         858.0                        858.0   \n",
       "13210      280600.0        1179.0                       1153.0   \n",
       "13211      315900.0        1144.0                       1115.0   \n",
       "\n",
       "       ZriPerSqft_AllHomes  Zri_MultiFamilyResidenceRental  \\\n",
       "0                      NaN                             NaN   \n",
       "1                      NaN                             NaN   \n",
       "2                      NaN                             NaN   \n",
       "3                      NaN                             NaN   \n",
       "4                      NaN                             NaN   \n",
       "...                    ...                             ...   \n",
       "13207                0.948                          1738.0   \n",
       "13208                1.132                          1690.0   \n",
       "13209                0.674                           846.0   \n",
       "13210                0.920                          1068.0   \n",
       "13211                0.902                          1023.0   \n",
       "\n",
       "       Zri_SingleFamilyResidenceRental  \n",
       "0                                  NaN  \n",
       "1                                  NaN  \n",
       "2                                  NaN  \n",
       "3                                  NaN  \n",
       "4                                  NaN  \n",
       "...                                ...  \n",
       "13207                           1441.0  \n",
       "13208                           1828.0  \n",
       "13209                            858.0  \n",
       "13210                           1163.0  \n",
       "13211                           1120.0  \n",
       "\n",
       "[13212 rows x 82 columns]"
      ]
     },
     "execution_count": 9,
     "metadata": {},
     "output_type": "execute_result"
    }
   ],
   "source": [
    "housing_price_df2 = pd.read_csv(\"../data/State_time_series.csv\")\n",
    "housing_price_df2"
   ]
  },
  {
   "cell_type": "code",
   "execution_count": 10,
   "metadata": {},
   "outputs": [
    {
     "name": "stderr",
     "output_type": "stream",
     "text": [
      "/var/folders/sd/hl_8_g39189b03rq7tsq0ty00000gn/T/ipykernel_55887/502423884.py:8: SettingWithCopyWarning: \n",
      "A value is trying to be set on a copy of a slice from a DataFrame.\n",
      "Try using .loc[row_indexer,col_indexer] = value instead\n",
      "\n",
      "See the caveats in the documentation: https://pandas.pydata.org/pandas-docs/stable/user_guide/indexing.html#returning-a-view-versus-a-copy\n",
      "  housing_price2_subset_08_16[\"state_abbrev\"] = housing_price2_subset_08_16[\"RegionName\"].map(us_state_to_abbrev)\n"
     ]
    },
    {
     "data": {
      "text/html": [
       "<div>\n",
       "<style scoped>\n",
       "    .dataframe tbody tr th:only-of-type {\n",
       "        vertical-align: middle;\n",
       "    }\n",
       "\n",
       "    .dataframe tbody tr th {\n",
       "        vertical-align: top;\n",
       "    }\n",
       "\n",
       "    .dataframe thead th {\n",
       "        text-align: right;\n",
       "    }\n",
       "</style>\n",
       "<table border=\"1\" class=\"dataframe\">\n",
       "  <thead>\n",
       "    <tr style=\"text-align: right;\">\n",
       "      <th></th>\n",
       "      <th>Year_only</th>\n",
       "      <th>state_abbrev</th>\n",
       "      <th>homeless_count</th>\n",
       "      <th>Sale_Prices</th>\n",
       "      <th>MedianListingPricePerSqft_1Bedroom</th>\n",
       "      <th>MedianListingPricePerSqft_2Bedroom</th>\n",
       "      <th>MedianListingPricePerSqft_3Bedroom</th>\n",
       "      <th>MedianListingPricePerSqft_4Bedroom</th>\n",
       "      <th>MedianListingPricePerSqft_5BedroomOrMore</th>\n",
       "    </tr>\n",
       "  </thead>\n",
       "  <tbody>\n",
       "    <tr>\n",
       "      <th>0</th>\n",
       "      <td>2008</td>\n",
       "      <td>AK</td>\n",
       "      <td>7462</td>\n",
       "      <td>NaN</td>\n",
       "      <td>NaN</td>\n",
       "      <td>NaN</td>\n",
       "      <td>NaN</td>\n",
       "      <td>NaN</td>\n",
       "      <td>NaN</td>\n",
       "    </tr>\n",
       "    <tr>\n",
       "      <th>1</th>\n",
       "      <td>2008</td>\n",
       "      <td>AL</td>\n",
       "      <td>23652</td>\n",
       "      <td>NaN</td>\n",
       "      <td>NaN</td>\n",
       "      <td>NaN</td>\n",
       "      <td>NaN</td>\n",
       "      <td>NaN</td>\n",
       "      <td>NaN</td>\n",
       "    </tr>\n",
       "    <tr>\n",
       "      <th>2</th>\n",
       "      <td>2008</td>\n",
       "      <td>AR</td>\n",
       "      <td>14806</td>\n",
       "      <td>NaN</td>\n",
       "      <td>NaN</td>\n",
       "      <td>NaN</td>\n",
       "      <td>NaN</td>\n",
       "      <td>NaN</td>\n",
       "      <td>NaN</td>\n",
       "    </tr>\n",
       "    <tr>\n",
       "      <th>3</th>\n",
       "      <td>2008</td>\n",
       "      <td>AZ</td>\n",
       "      <td>56146</td>\n",
       "      <td>190750.000000</td>\n",
       "      <td>NaN</td>\n",
       "      <td>NaN</td>\n",
       "      <td>NaN</td>\n",
       "      <td>NaN</td>\n",
       "      <td>NaN</td>\n",
       "    </tr>\n",
       "    <tr>\n",
       "      <th>4</th>\n",
       "      <td>2008</td>\n",
       "      <td>CA</td>\n",
       "      <td>626632</td>\n",
       "      <td>314980.000000</td>\n",
       "      <td>NaN</td>\n",
       "      <td>NaN</td>\n",
       "      <td>NaN</td>\n",
       "      <td>NaN</td>\n",
       "      <td>NaN</td>\n",
       "    </tr>\n",
       "    <tr>\n",
       "      <th>...</th>\n",
       "      <td>...</td>\n",
       "      <td>...</td>\n",
       "      <td>...</td>\n",
       "      <td>...</td>\n",
       "      <td>...</td>\n",
       "      <td>...</td>\n",
       "      <td>...</td>\n",
       "      <td>...</td>\n",
       "      <td>...</td>\n",
       "    </tr>\n",
       "    <tr>\n",
       "      <th>103</th>\n",
       "      <td>2016</td>\n",
       "      <td>VT</td>\n",
       "      <td>5762</td>\n",
       "      <td>NaN</td>\n",
       "      <td>152.405230</td>\n",
       "      <td>146.871426</td>\n",
       "      <td>140.774273</td>\n",
       "      <td>138.816947</td>\n",
       "      <td>121.721618</td>\n",
       "    </tr>\n",
       "    <tr>\n",
       "      <th>104</th>\n",
       "      <td>2016</td>\n",
       "      <td>WA</td>\n",
       "      <td>103862</td>\n",
       "      <td>294916.666667</td>\n",
       "      <td>270.179354</td>\n",
       "      <td>192.746052</td>\n",
       "      <td>174.273438</td>\n",
       "      <td>174.817988</td>\n",
       "      <td>183.988193</td>\n",
       "    </tr>\n",
       "    <tr>\n",
       "      <th>105</th>\n",
       "      <td>2016</td>\n",
       "      <td>WI</td>\n",
       "      <td>27656</td>\n",
       "      <td>163283.333333</td>\n",
       "      <td>139.400275</td>\n",
       "      <td>119.647646</td>\n",
       "      <td>119.108371</td>\n",
       "      <td>113.191737</td>\n",
       "      <td>98.356697</td>\n",
       "    </tr>\n",
       "    <tr>\n",
       "      <th>106</th>\n",
       "      <td>2016</td>\n",
       "      <td>WV</td>\n",
       "      <td>7020</td>\n",
       "      <td>140341.666667</td>\n",
       "      <td>111.100490</td>\n",
       "      <td>81.744695</td>\n",
       "      <td>90.590600</td>\n",
       "      <td>93.592909</td>\n",
       "      <td>89.201195</td>\n",
       "    </tr>\n",
       "    <tr>\n",
       "      <th>107</th>\n",
       "      <td>2016</td>\n",
       "      <td>WY</td>\n",
       "      <td>4184</td>\n",
       "      <td>227700.000000</td>\n",
       "      <td>194.874318</td>\n",
       "      <td>151.025820</td>\n",
       "      <td>137.697140</td>\n",
       "      <td>140.184160</td>\n",
       "      <td>149.289425</td>\n",
       "    </tr>\n",
       "  </tbody>\n",
       "</table>\n",
       "<p>108 rows × 9 columns</p>\n",
       "</div>"
      ],
      "text/plain": [
       "     Year_only state_abbrev  homeless_count    Sale_Prices  \\\n",
       "0         2008           AK            7462            NaN   \n",
       "1         2008           AL           23652            NaN   \n",
       "2         2008           AR           14806            NaN   \n",
       "3         2008           AZ           56146  190750.000000   \n",
       "4         2008           CA          626632  314980.000000   \n",
       "..         ...          ...             ...            ...   \n",
       "103       2016           VT            5762            NaN   \n",
       "104       2016           WA          103862  294916.666667   \n",
       "105       2016           WI           27656  163283.333333   \n",
       "106       2016           WV            7020  140341.666667   \n",
       "107       2016           WY            4184  227700.000000   \n",
       "\n",
       "     MedianListingPricePerSqft_1Bedroom  MedianListingPricePerSqft_2Bedroom  \\\n",
       "0                                   NaN                                 NaN   \n",
       "1                                   NaN                                 NaN   \n",
       "2                                   NaN                                 NaN   \n",
       "3                                   NaN                                 NaN   \n",
       "4                                   NaN                                 NaN   \n",
       "..                                  ...                                 ...   \n",
       "103                          152.405230                          146.871426   \n",
       "104                          270.179354                          192.746052   \n",
       "105                          139.400275                          119.647646   \n",
       "106                          111.100490                           81.744695   \n",
       "107                          194.874318                          151.025820   \n",
       "\n",
       "     MedianListingPricePerSqft_3Bedroom  MedianListingPricePerSqft_4Bedroom  \\\n",
       "0                                   NaN                                 NaN   \n",
       "1                                   NaN                                 NaN   \n",
       "2                                   NaN                                 NaN   \n",
       "3                                   NaN                                 NaN   \n",
       "4                                   NaN                                 NaN   \n",
       "..                                  ...                                 ...   \n",
       "103                          140.774273                          138.816947   \n",
       "104                          174.273438                          174.817988   \n",
       "105                          119.108371                          113.191737   \n",
       "106                           90.590600                           93.592909   \n",
       "107                          137.697140                          140.184160   \n",
       "\n",
       "     MedianListingPricePerSqft_5BedroomOrMore  \n",
       "0                                         NaN  \n",
       "1                                         NaN  \n",
       "2                                         NaN  \n",
       "3                                         NaN  \n",
       "4                                         NaN  \n",
       "..                                        ...  \n",
       "103                                121.721618  \n",
       "104                                183.988193  \n",
       "105                                 98.356697  \n",
       "106                                 89.201195  \n",
       "107                                149.289425  \n",
       "\n",
       "[108 rows x 9 columns]"
      ]
     },
     "execution_count": 10,
     "metadata": {},
     "output_type": "execute_result"
    }
   ],
   "source": [
    "# extract the year of the sold date and add a new column to the dataframe\n",
    "housing_price_df2['Year_only'] = pd.DatetimeIndex(housing_price_df2['Date']).year \n",
    "\n",
    "# subset the housing price data to 2008 and 2016\n",
    "housing_price2_subset_08_16 = housing_price_df2[housing_price_df2['Year_only'].isin([2008, 2016])]\n",
    "\n",
    "# convert state full name to abbreviation\n",
    "housing_price2_subset_08_16[\"state_abbrev\"] = housing_price2_subset_08_16[\"RegionName\"].map(us_state_to_abbrev)\n",
    "\n",
    "housing_price2_subset_08_16_join = housing_price2_subset_08_16.groupby([\"Year_only\",\"state_abbrev\"])[[\"Sale_Prices\", \"MedianListingPricePerSqft_1Bedroom\", \"MedianListingPricePerSqft_2Bedroom\", \"MedianListingPricePerSqft_3Bedroom\", \"MedianListingPricePerSqft_4Bedroom\", \"MedianListingPricePerSqft_5BedroomOrMore\"]].mean().reset_index()#.to_csv(\"Housing_data.csv\", index=False)\n",
    "\n",
    "# join final dataframe\n",
    "final_dataframe = pd.merge(homeless_df_subset_08_16_for_join, housing_price2_subset_08_16_join, how=\"left\", left_on=[\"Year_only\", \"state_abbrev\"], right_on=[\"Year_only\", \"state_abbrev\"])\n",
    "final_dataframe"
   ]
  },
  {
   "cell_type": "code",
   "execution_count": 11,
   "metadata": {},
   "outputs": [],
   "source": [
    "# save the final housing dataframe\n",
    "# final_dataframe.to_csv(\"../data/homeless_count_with_housing_price_by_state.csv\", index=False)"
   ]
  },
  {
   "cell_type": "code",
   "execution_count": 12,
   "metadata": {},
   "outputs": [],
   "source": [
    "# set font\n",
    "font = {'size'   : 16}\n",
    "plt.rc('font', **font)"
   ]
  },
  {
   "cell_type": "code",
   "execution_count": 13,
   "metadata": {},
   "outputs": [
    {
     "data": {
      "image/png": "[encoded data removed]",
      "text/plain": [
       "<Figure size 1296x432 with 1 Axes>"
      ]
     },
     "metadata": {
      "needs_background": "light"
     },
     "output_type": "display_data"
    }
   ],
   "source": [
    "# plot the number of homeless people per state\n",
    "plt.figure(figsize=(18,6))\n",
    "sns.barplot(y='homeless_count', x='state_abbrev', hue=\"Year_only\", data=final_dataframe)\n",
    "plt.ylabel('homeless people count')\n",
    "plt.xlabel(\"states\")\n",
    "plt.xticks(rotation = 45)\n",
    "plt.title('Homeless people count across states in 2008 and 2016')\n",
    "plt.grid();"
   ]
  },
  {
   "cell_type": "code",
   "execution_count": 14,
   "metadata": {},
   "outputs": [
    {
     "data": {
      "image/png": "[encoded data removed]",
      "text/plain": [
       "<Figure size 1296x432 with 1 Axes>"
      ]
     },
     "metadata": {
      "needs_background": "light"
     },
     "output_type": "display_data"
    }
   ],
   "source": [
    "# plot the number of homeless people per state\n",
    "plt.figure(figsize=(18,6))\n",
    "sns.barplot(y='Sale_Prices', x='state_abbrev', hue=\"Year_only\", data=final_dataframe)\n",
    "plt.ylabel('housing sale price in USD')\n",
    "plt.xlabel(\"states\")\n",
    "plt.xticks(rotation = 45)\n",
    "plt.title('Housing sale price across states in 2008 and 2016')\n",
    "plt.grid();"
   ]
  },
  {
   "cell_type": "code",
   "execution_count": 15,
   "metadata": {},
   "outputs": [
    {
     "data": {
      "image/png": "[encoded data removed]",
      "text/plain": [
       "<Figure size 1152x432 with 2 Axes>"
      ]
     },
     "metadata": {
      "needs_background": "light"
     },
     "output_type": "display_data"
    }
   ],
   "source": [
    "plt.figure(figsize=(16, 6))\n",
    "heatmap = sns.heatmap(final_dataframe.corr(), vmin=-1, vmax=1, annot=True)\n",
    "heatmap.set_title('Correlation Heatmap', fontdict={'fontsize':18}, pad=12);"
   ]
  },
  {
   "cell_type": "markdown",
   "metadata": {},
   "source": [
    "## <a id='toc2_2_'></a>[Economic and political party dataset](#toc0_)"
   ]
  },
  {
   "cell_type": "code",
   "execution_count": 16,
   "metadata": {},
   "outputs": [
    {
     "name": "stdout",
     "output_type": "stream",
     "text": [
      "2007-2016-Homelessnewss-USA.csv\n",
      "README.md\n",
      "State_time_series.csv\n",
      "countypres_2000-2020.csv\n",
      "df_econ_sub.csv\n",
      "homeless_count_Econ_Politics_by_state.csv\n",
      "homeless_count_with_housing_price_by_state.csv\n",
      "profile_by_county_1969_2019.csv\n",
      "scaled_X_test.csv\n",
      "scaled_X_train.csv\n",
      "scaled_y_test.csv\n",
      "scaled_y_train.csv\n"
     ]
    }
   ],
   "source": [
    "!ls ../data/"
   ]
  },
  {
   "cell_type": "code",
   "execution_count": 17,
   "metadata": {},
   "outputs": [
    {
     "data": {
      "text/html": [
       "<div>\n",
       "<style scoped>\n",
       "    .dataframe tbody tr th:only-of-type {\n",
       "        vertical-align: middle;\n",
       "    }\n",
       "\n",
       "    .dataframe tbody tr th {\n",
       "        vertical-align: top;\n",
       "    }\n",
       "\n",
       "    .dataframe thead th {\n",
       "        text-align: right;\n",
       "    }\n",
       "</style>\n",
       "<table border=\"1\" class=\"dataframe\">\n",
       "  <thead>\n",
       "    <tr style=\"text-align: right;\">\n",
       "      <th></th>\n",
       "      <th>year</th>\n",
       "      <th>state</th>\n",
       "      <th>state_po</th>\n",
       "      <th>county_name</th>\n",
       "      <th>county_fips</th>\n",
       "      <th>office</th>\n",
       "      <th>candidate</th>\n",
       "      <th>party</th>\n",
       "      <th>candidatevotes</th>\n",
       "      <th>totalvotes</th>\n",
       "      <th>version</th>\n",
       "      <th>mode</th>\n",
       "    </tr>\n",
       "  </thead>\n",
       "  <tbody>\n",
       "    <tr>\n",
       "      <th>0</th>\n",
       "      <td>2000</td>\n",
       "      <td>ALABAMA</td>\n",
       "      <td>AL</td>\n",
       "      <td>AUTAUGA</td>\n",
       "      <td>1001.0</td>\n",
       "      <td>US PRESIDENT</td>\n",
       "      <td>AL GORE</td>\n",
       "      <td>DEMOCRAT</td>\n",
       "      <td>4942</td>\n",
       "      <td>17208</td>\n",
       "      <td>20220315</td>\n",
       "      <td>TOTAL</td>\n",
       "    </tr>\n",
       "    <tr>\n",
       "      <th>1</th>\n",
       "      <td>2000</td>\n",
       "      <td>ALABAMA</td>\n",
       "      <td>AL</td>\n",
       "      <td>AUTAUGA</td>\n",
       "      <td>1001.0</td>\n",
       "      <td>US PRESIDENT</td>\n",
       "      <td>GEORGE W. BUSH</td>\n",
       "      <td>REPUBLICAN</td>\n",
       "      <td>11993</td>\n",
       "      <td>17208</td>\n",
       "      <td>20220315</td>\n",
       "      <td>TOTAL</td>\n",
       "    </tr>\n",
       "    <tr>\n",
       "      <th>2</th>\n",
       "      <td>2000</td>\n",
       "      <td>ALABAMA</td>\n",
       "      <td>AL</td>\n",
       "      <td>AUTAUGA</td>\n",
       "      <td>1001.0</td>\n",
       "      <td>US PRESIDENT</td>\n",
       "      <td>RALPH NADER</td>\n",
       "      <td>GREEN</td>\n",
       "      <td>160</td>\n",
       "      <td>17208</td>\n",
       "      <td>20220315</td>\n",
       "      <td>TOTAL</td>\n",
       "    </tr>\n",
       "    <tr>\n",
       "      <th>3</th>\n",
       "      <td>2000</td>\n",
       "      <td>ALABAMA</td>\n",
       "      <td>AL</td>\n",
       "      <td>AUTAUGA</td>\n",
       "      <td>1001.0</td>\n",
       "      <td>US PRESIDENT</td>\n",
       "      <td>OTHER</td>\n",
       "      <td>OTHER</td>\n",
       "      <td>113</td>\n",
       "      <td>17208</td>\n",
       "      <td>20220315</td>\n",
       "      <td>TOTAL</td>\n",
       "    </tr>\n",
       "    <tr>\n",
       "      <th>4</th>\n",
       "      <td>2000</td>\n",
       "      <td>ALABAMA</td>\n",
       "      <td>AL</td>\n",
       "      <td>BALDWIN</td>\n",
       "      <td>1003.0</td>\n",
       "      <td>US PRESIDENT</td>\n",
       "      <td>AL GORE</td>\n",
       "      <td>DEMOCRAT</td>\n",
       "      <td>13997</td>\n",
       "      <td>56480</td>\n",
       "      <td>20220315</td>\n",
       "      <td>TOTAL</td>\n",
       "    </tr>\n",
       "    <tr>\n",
       "      <th>...</th>\n",
       "      <td>...</td>\n",
       "      <td>...</td>\n",
       "      <td>...</td>\n",
       "      <td>...</td>\n",
       "      <td>...</td>\n",
       "      <td>...</td>\n",
       "      <td>...</td>\n",
       "      <td>...</td>\n",
       "      <td>...</td>\n",
       "      <td>...</td>\n",
       "      <td>...</td>\n",
       "      <td>...</td>\n",
       "    </tr>\n",
       "    <tr>\n",
       "      <th>72612</th>\n",
       "      <td>2020</td>\n",
       "      <td>WYOMING</td>\n",
       "      <td>WY</td>\n",
       "      <td>WASHAKIE</td>\n",
       "      <td>56043.0</td>\n",
       "      <td>US PRESIDENT</td>\n",
       "      <td>DONALD J TRUMP</td>\n",
       "      <td>REPUBLICAN</td>\n",
       "      <td>3245</td>\n",
       "      <td>4032</td>\n",
       "      <td>20220315</td>\n",
       "      <td>TOTAL</td>\n",
       "    </tr>\n",
       "    <tr>\n",
       "      <th>72613</th>\n",
       "      <td>2020</td>\n",
       "      <td>WYOMING</td>\n",
       "      <td>WY</td>\n",
       "      <td>WESTON</td>\n",
       "      <td>56045.0</td>\n",
       "      <td>US PRESIDENT</td>\n",
       "      <td>JOSEPH R BIDEN JR</td>\n",
       "      <td>DEMOCRAT</td>\n",
       "      <td>360</td>\n",
       "      <td>3560</td>\n",
       "      <td>20220315</td>\n",
       "      <td>TOTAL</td>\n",
       "    </tr>\n",
       "    <tr>\n",
       "      <th>72614</th>\n",
       "      <td>2020</td>\n",
       "      <td>WYOMING</td>\n",
       "      <td>WY</td>\n",
       "      <td>WESTON</td>\n",
       "      <td>56045.0</td>\n",
       "      <td>US PRESIDENT</td>\n",
       "      <td>JO JORGENSEN</td>\n",
       "      <td>LIBERTARIAN</td>\n",
       "      <td>46</td>\n",
       "      <td>3560</td>\n",
       "      <td>20220315</td>\n",
       "      <td>TOTAL</td>\n",
       "    </tr>\n",
       "    <tr>\n",
       "      <th>72615</th>\n",
       "      <td>2020</td>\n",
       "      <td>WYOMING</td>\n",
       "      <td>WY</td>\n",
       "      <td>WESTON</td>\n",
       "      <td>56045.0</td>\n",
       "      <td>US PRESIDENT</td>\n",
       "      <td>OTHER</td>\n",
       "      <td>OTHER</td>\n",
       "      <td>47</td>\n",
       "      <td>3560</td>\n",
       "      <td>20220315</td>\n",
       "      <td>TOTAL</td>\n",
       "    </tr>\n",
       "    <tr>\n",
       "      <th>72616</th>\n",
       "      <td>2020</td>\n",
       "      <td>WYOMING</td>\n",
       "      <td>WY</td>\n",
       "      <td>WESTON</td>\n",
       "      <td>56045.0</td>\n",
       "      <td>US PRESIDENT</td>\n",
       "      <td>DONALD J TRUMP</td>\n",
       "      <td>REPUBLICAN</td>\n",
       "      <td>3107</td>\n",
       "      <td>3560</td>\n",
       "      <td>20220315</td>\n",
       "      <td>TOTAL</td>\n",
       "    </tr>\n",
       "  </tbody>\n",
       "</table>\n",
       "<p>72617 rows × 12 columns</p>\n",
       "</div>"
      ],
      "text/plain": [
       "       year    state state_po county_name  county_fips        office  \\\n",
       "0      2000  ALABAMA       AL     AUTAUGA       1001.0  US PRESIDENT   \n",
       "1      2000  ALABAMA       AL     AUTAUGA       1001.0  US PRESIDENT   \n",
       "2      2000  ALABAMA       AL     AUTAUGA       1001.0  US PRESIDENT   \n",
       "3      2000  ALABAMA       AL     AUTAUGA       1001.0  US PRESIDENT   \n",
       "4      2000  ALABAMA       AL     BALDWIN       1003.0  US PRESIDENT   \n",
       "...     ...      ...      ...         ...          ...           ...   \n",
       "72612  2020  WYOMING       WY    WASHAKIE      56043.0  US PRESIDENT   \n",
       "72613  2020  WYOMING       WY      WESTON      56045.0  US PRESIDENT   \n",
       "72614  2020  WYOMING       WY      WESTON      56045.0  US PRESIDENT   \n",
       "72615  2020  WYOMING       WY      WESTON      56045.0  US PRESIDENT   \n",
       "72616  2020  WYOMING       WY      WESTON      56045.0  US PRESIDENT   \n",
       "\n",
       "               candidate        party  candidatevotes  totalvotes   version  \\\n",
       "0                AL GORE     DEMOCRAT            4942       17208  20220315   \n",
       "1         GEORGE W. BUSH   REPUBLICAN           11993       17208  20220315   \n",
       "2            RALPH NADER        GREEN             160       17208  20220315   \n",
       "3                  OTHER        OTHER             113       17208  20220315   \n",
       "4                AL GORE     DEMOCRAT           13997       56480  20220315   \n",
       "...                  ...          ...             ...         ...       ...   \n",
       "72612     DONALD J TRUMP   REPUBLICAN            3245        4032  20220315   \n",
       "72613  JOSEPH R BIDEN JR     DEMOCRAT             360        3560  20220315   \n",
       "72614       JO JORGENSEN  LIBERTARIAN              46        3560  20220315   \n",
       "72615              OTHER        OTHER              47        3560  20220315   \n",
       "72616     DONALD J TRUMP   REPUBLICAN            3107        3560  20220315   \n",
       "\n",
       "        mode  \n",
       "0      TOTAL  \n",
       "1      TOTAL  \n",
       "2      TOTAL  \n",
       "3      TOTAL  \n",
       "4      TOTAL  \n",
       "...      ...  \n",
       "72612  TOTAL  \n",
       "72613  TOTAL  \n",
       "72614  TOTAL  \n",
       "72615  TOTAL  \n",
       "72616  TOTAL  \n",
       "\n",
       "[72617 rows x 12 columns]"
      ]
     },
     "execution_count": 17,
     "metadata": {},
     "output_type": "execute_result"
    }
   ],
   "source": [
    "df_homeless = pd.read_csv(\"../data/2007-2016-Homelessnewss-USA.csv\")\n",
    "df_homeless\n",
    "\n",
    "df_politics = pd.read_csv(\"../data/countypres_2000-2020.csv\")\n",
    "df_politics"
   ]
  },
  {
   "cell_type": "code",
   "execution_count": 18,
   "metadata": {},
   "outputs": [
    {
     "name": "stderr",
     "output_type": "stream",
     "text": [
      "/var/folders/sd/hl_8_g39189b03rq7tsq0ty00000gn/T/ipykernel_55887/2483043623.py:1: DtypeWarning: Columns (2,8,9,10,11,12,13,14,15,16,17,18,19,20,21,22,23,24,25,26,27,28,29,30,31,32,33,34,35,36,37,38,39,40,41,42,43,44,45,46,47,48,49,50,51,52,53,54,55,56,57,58) have mixed types. Specify dtype option on import or set low_memory=False.\n",
      "  df_econ = pd.read_csv(\"../data/profile_by_county_1969_2019.csv\", encoding='latin-1')\n"
     ]
    },
    {
     "data": {
      "text/html": [
       "<div>\n",
       "<style scoped>\n",
       "    .dataframe tbody tr th:only-of-type {\n",
       "        vertical-align: middle;\n",
       "    }\n",
       "\n",
       "    .dataframe tbody tr th {\n",
       "        vertical-align: top;\n",
       "    }\n",
       "\n",
       "    .dataframe thead th {\n",
       "        text-align: right;\n",
       "    }\n",
       "</style>\n",
       "<table border=\"1\" class=\"dataframe\">\n",
       "  <thead>\n",
       "    <tr style=\"text-align: right;\">\n",
       "      <th></th>\n",
       "      <th>GeoFIPS</th>\n",
       "      <th>GeoName</th>\n",
       "      <th>Region</th>\n",
       "      <th>TableName</th>\n",
       "      <th>LineCode</th>\n",
       "      <th>IndustryClassification</th>\n",
       "      <th>Description</th>\n",
       "      <th>Unit</th>\n",
       "      <th>1969</th>\n",
       "      <th>1970</th>\n",
       "      <th>...</th>\n",
       "      <th>2010</th>\n",
       "      <th>2011</th>\n",
       "      <th>2012</th>\n",
       "      <th>2013</th>\n",
       "      <th>2014</th>\n",
       "      <th>2015</th>\n",
       "      <th>2016</th>\n",
       "      <th>2017</th>\n",
       "      <th>2018</th>\n",
       "      <th>2019</th>\n",
       "    </tr>\n",
       "  </thead>\n",
       "  <tbody>\n",
       "    <tr>\n",
       "      <th>0</th>\n",
       "      <td>\"00000\"</td>\n",
       "      <td>United States</td>\n",
       "      <td></td>\n",
       "      <td>CAINC30</td>\n",
       "      <td>10.0</td>\n",
       "      <td>...</td>\n",
       "      <td>Personal income (thousands of dollars)</td>\n",
       "      <td>Thousands of dollars</td>\n",
       "      <td>791229000</td>\n",
       "      <td>855525000</td>\n",
       "      <td>...</td>\n",
       "      <td>12541995000</td>\n",
       "      <td>13315478000</td>\n",
       "      <td>13998383000</td>\n",
       "      <td>14175503000</td>\n",
       "      <td>14982715000</td>\n",
       "      <td>15717140000</td>\n",
       "      <td>16151881000</td>\n",
       "      <td>16937582000</td>\n",
       "      <td>17839255000</td>\n",
       "      <td>18542262000</td>\n",
       "    </tr>\n",
       "    <tr>\n",
       "      <th>1</th>\n",
       "      <td>\"00000\"</td>\n",
       "      <td>United States</td>\n",
       "      <td></td>\n",
       "      <td>CAINC30</td>\n",
       "      <td>45.0</td>\n",
       "      <td>...</td>\n",
       "      <td>Net earnings by place of residence</td>\n",
       "      <td>Thousands of dollars</td>\n",
       "      <td>609767000</td>\n",
       "      <td>647228000</td>\n",
       "      <td>...</td>\n",
       "      <td>8044221000</td>\n",
       "      <td>8531667000</td>\n",
       "      <td>8956340000</td>\n",
       "      <td>9132669000</td>\n",
       "      <td>9539185000</td>\n",
       "      <td>9915088000</td>\n",
       "      <td>10145493000</td>\n",
       "      <td>10626821000</td>\n",
       "      <td>11167886000</td>\n",
       "      <td>11667012000</td>\n",
       "    </tr>\n",
       "    <tr>\n",
       "      <th>2</th>\n",
       "      <td>\"00000\"</td>\n",
       "      <td>United States</td>\n",
       "      <td></td>\n",
       "      <td>CAINC30</td>\n",
       "      <td>50.0</td>\n",
       "      <td>...</td>\n",
       "      <td>Personal current transfer receipts</td>\n",
       "      <td>Thousands of dollars</td>\n",
       "      <td>62322000</td>\n",
       "      <td>74733000</td>\n",
       "      <td>...</td>\n",
       "      <td>2325117000</td>\n",
       "      <td>2358654000</td>\n",
       "      <td>2362988000</td>\n",
       "      <td>2424297000</td>\n",
       "      <td>2541510000</td>\n",
       "      <td>2685370000</td>\n",
       "      <td>2776746000</td>\n",
       "      <td>2855049000</td>\n",
       "      <td>2970254000</td>\n",
       "      <td>3125174000</td>\n",
       "    </tr>\n",
       "    <tr>\n",
       "      <th>3</th>\n",
       "      <td>\"00000\"</td>\n",
       "      <td>United States</td>\n",
       "      <td></td>\n",
       "      <td>CAINC30</td>\n",
       "      <td>60.0</td>\n",
       "      <td>...</td>\n",
       "      <td>Income maintenance benefits 1/</td>\n",
       "      <td>Thousands of dollars</td>\n",
       "      <td>7275000</td>\n",
       "      <td>9897000</td>\n",
       "      <td>...</td>\n",
       "      <td>256034000</td>\n",
       "      <td>264137000</td>\n",
       "      <td>267614000</td>\n",
       "      <td>271171000</td>\n",
       "      <td>270971000</td>\n",
       "      <td>273685000</td>\n",
       "      <td>270259000</td>\n",
       "      <td>268468000</td>\n",
       "      <td>260380000</td>\n",
       "      <td>268682000</td>\n",
       "    </tr>\n",
       "    <tr>\n",
       "      <th>4</th>\n",
       "      <td>\"00000\"</td>\n",
       "      <td>United States</td>\n",
       "      <td></td>\n",
       "      <td>CAINC30</td>\n",
       "      <td>70.0</td>\n",
       "      <td>...</td>\n",
       "      <td>Unemployment insurance compensation</td>\n",
       "      <td>Thousands of dollars</td>\n",
       "      <td>2328000</td>\n",
       "      <td>4200000</td>\n",
       "      <td>...</td>\n",
       "      <td>139715000</td>\n",
       "      <td>107871000</td>\n",
       "      <td>84439000</td>\n",
       "      <td>63049000</td>\n",
       "      <td>35787000</td>\n",
       "      <td>32860000</td>\n",
       "      <td>32482000</td>\n",
       "      <td>30756000</td>\n",
       "      <td>28302000</td>\n",
       "      <td>28075000</td>\n",
       "    </tr>\n",
       "    <tr>\n",
       "      <th>...</th>\n",
       "      <td>...</td>\n",
       "      <td>...</td>\n",
       "      <td>...</td>\n",
       "      <td>...</td>\n",
       "      <td>...</td>\n",
       "      <td>...</td>\n",
       "      <td>...</td>\n",
       "      <td>...</td>\n",
       "      <td>...</td>\n",
       "      <td>...</td>\n",
       "      <td>...</td>\n",
       "      <td>...</td>\n",
       "      <td>...</td>\n",
       "      <td>...</td>\n",
       "      <td>...</td>\n",
       "      <td>...</td>\n",
       "      <td>...</td>\n",
       "      <td>...</td>\n",
       "      <td>...</td>\n",
       "      <td>...</td>\n",
       "      <td>...</td>\n",
       "    </tr>\n",
       "    <tr>\n",
       "      <th>99137</th>\n",
       "      <td>\"98000\"</td>\n",
       "      <td>Far West</td>\n",
       "      <td>8.0</td>\n",
       "      <td>CAINC30</td>\n",
       "      <td>310.0</td>\n",
       "      <td>...</td>\n",
       "      <td>Average nonfarm proprietors' income</td>\n",
       "      <td>Dollars</td>\n",
       "      <td>7216.0</td>\n",
       "      <td>7201.0</td>\n",
       "      <td>...</td>\n",
       "      <td>33289.0</td>\n",
       "      <td>34288.0</td>\n",
       "      <td>37835.0</td>\n",
       "      <td>37052.0</td>\n",
       "      <td>36527.0</td>\n",
       "      <td>36406.0</td>\n",
       "      <td>37290.0</td>\n",
       "      <td>37791.0</td>\n",
       "      <td>38275.0</td>\n",
       "      <td>38651.0</td>\n",
       "    </tr>\n",
       "    <tr>\n",
       "      <th>99138</th>\n",
       "      <td>Note: See the included footnote file.</td>\n",
       "      <td>NaN</td>\n",
       "      <td>NaN</td>\n",
       "      <td>NaN</td>\n",
       "      <td>NaN</td>\n",
       "      <td>NaN</td>\n",
       "      <td>NaN</td>\n",
       "      <td>NaN</td>\n",
       "      <td>NaN</td>\n",
       "      <td>NaN</td>\n",
       "      <td>...</td>\n",
       "      <td>NaN</td>\n",
       "      <td>NaN</td>\n",
       "      <td>NaN</td>\n",
       "      <td>NaN</td>\n",
       "      <td>NaN</td>\n",
       "      <td>NaN</td>\n",
       "      <td>NaN</td>\n",
       "      <td>NaN</td>\n",
       "      <td>NaN</td>\n",
       "      <td>NaN</td>\n",
       "    </tr>\n",
       "    <tr>\n",
       "      <th>99139</th>\n",
       "      <td>CAINC30: Economic Profile</td>\n",
       "      <td>NaN</td>\n",
       "      <td>NaN</td>\n",
       "      <td>NaN</td>\n",
       "      <td>NaN</td>\n",
       "      <td>NaN</td>\n",
       "      <td>NaN</td>\n",
       "      <td>NaN</td>\n",
       "      <td>NaN</td>\n",
       "      <td>NaN</td>\n",
       "      <td>...</td>\n",
       "      <td>NaN</td>\n",
       "      <td>NaN</td>\n",
       "      <td>NaN</td>\n",
       "      <td>NaN</td>\n",
       "      <td>NaN</td>\n",
       "      <td>NaN</td>\n",
       "      <td>NaN</td>\n",
       "      <td>NaN</td>\n",
       "      <td>NaN</td>\n",
       "      <td>NaN</td>\n",
       "    </tr>\n",
       "    <tr>\n",
       "      <th>99140</th>\n",
       "      <td>Last updated: November 17, 2020-- new statisti...</td>\n",
       "      <td>NaN</td>\n",
       "      <td>NaN</td>\n",
       "      <td>NaN</td>\n",
       "      <td>NaN</td>\n",
       "      <td>NaN</td>\n",
       "      <td>NaN</td>\n",
       "      <td>NaN</td>\n",
       "      <td>NaN</td>\n",
       "      <td>NaN</td>\n",
       "      <td>...</td>\n",
       "      <td>NaN</td>\n",
       "      <td>NaN</td>\n",
       "      <td>NaN</td>\n",
       "      <td>NaN</td>\n",
       "      <td>NaN</td>\n",
       "      <td>NaN</td>\n",
       "      <td>NaN</td>\n",
       "      <td>NaN</td>\n",
       "      <td>NaN</td>\n",
       "      <td>NaN</td>\n",
       "    </tr>\n",
       "    <tr>\n",
       "      <th>99141</th>\n",
       "      <td>Source: U.S. Department of Commerce / Bureau o...</td>\n",
       "      <td>NaN</td>\n",
       "      <td>NaN</td>\n",
       "      <td>NaN</td>\n",
       "      <td>NaN</td>\n",
       "      <td>NaN</td>\n",
       "      <td>NaN</td>\n",
       "      <td>NaN</td>\n",
       "      <td>NaN</td>\n",
       "      <td>NaN</td>\n",
       "      <td>...</td>\n",
       "      <td>NaN</td>\n",
       "      <td>NaN</td>\n",
       "      <td>NaN</td>\n",
       "      <td>NaN</td>\n",
       "      <td>NaN</td>\n",
       "      <td>NaN</td>\n",
       "      <td>NaN</td>\n",
       "      <td>NaN</td>\n",
       "      <td>NaN</td>\n",
       "      <td>NaN</td>\n",
       "    </tr>\n",
       "  </tbody>\n",
       "</table>\n",
       "<p>99142 rows × 59 columns</p>\n",
       "</div>"
      ],
      "text/plain": [
       "                                                 GeoFIPS        GeoName  \\\n",
       "0                                                \"00000\"  United States   \n",
       "1                                                \"00000\"  United States   \n",
       "2                                                \"00000\"  United States   \n",
       "3                                                \"00000\"  United States   \n",
       "4                                                \"00000\"  United States   \n",
       "...                                                  ...            ...   \n",
       "99137                                            \"98000\"       Far West   \n",
       "99138              Note: See the included footnote file.            NaN   \n",
       "99139                         CAINC30: Economic Profile             NaN   \n",
       "99140  Last updated: November 17, 2020-- new statisti...            NaN   \n",
       "99141  Source: U.S. Department of Commerce / Bureau o...            NaN   \n",
       "\n",
       "      Region TableName  LineCode IndustryClassification  \\\n",
       "0              CAINC30      10.0                    ...   \n",
       "1              CAINC30      45.0                    ...   \n",
       "2              CAINC30      50.0                    ...   \n",
       "3              CAINC30      60.0                    ...   \n",
       "4              CAINC30      70.0                    ...   \n",
       "...      ...       ...       ...                    ...   \n",
       "99137    8.0   CAINC30     310.0                    ...   \n",
       "99138    NaN       NaN       NaN                    NaN   \n",
       "99139    NaN       NaN       NaN                    NaN   \n",
       "99140    NaN       NaN       NaN                    NaN   \n",
       "99141    NaN       NaN       NaN                    NaN   \n",
       "\n",
       "                                  Description                  Unit  \\\n",
       "0      Personal income (thousands of dollars)  Thousands of dollars   \n",
       "1          Net earnings by place of residence  Thousands of dollars   \n",
       "2          Personal current transfer receipts  Thousands of dollars   \n",
       "3              Income maintenance benefits 1/  Thousands of dollars   \n",
       "4         Unemployment insurance compensation  Thousands of dollars   \n",
       "...                                       ...                   ...   \n",
       "99137     Average nonfarm proprietors' income               Dollars   \n",
       "99138                                     NaN                   NaN   \n",
       "99139                                     NaN                   NaN   \n",
       "99140                                     NaN                   NaN   \n",
       "99141                                     NaN                   NaN   \n",
       "\n",
       "            1969       1970  ...         2010         2011         2012  \\\n",
       "0      791229000  855525000  ...  12541995000  13315478000  13998383000   \n",
       "1      609767000  647228000  ...   8044221000   8531667000   8956340000   \n",
       "2       62322000   74733000  ...   2325117000   2358654000   2362988000   \n",
       "3        7275000    9897000  ...    256034000    264137000    267614000   \n",
       "4        2328000    4200000  ...    139715000    107871000     84439000   \n",
       "...          ...        ...  ...          ...          ...          ...   \n",
       "99137     7216.0     7201.0  ...      33289.0      34288.0      37835.0   \n",
       "99138        NaN        NaN  ...          NaN          NaN          NaN   \n",
       "99139        NaN        NaN  ...          NaN          NaN          NaN   \n",
       "99140        NaN        NaN  ...          NaN          NaN          NaN   \n",
       "99141        NaN        NaN  ...          NaN          NaN          NaN   \n",
       "\n",
       "              2013         2014         2015         2016         2017  \\\n",
       "0      14175503000  14982715000  15717140000  16151881000  16937582000   \n",
       "1       9132669000   9539185000   9915088000  10145493000  10626821000   \n",
       "2       2424297000   2541510000   2685370000   2776746000   2855049000   \n",
       "3        271171000    270971000    273685000    270259000    268468000   \n",
       "4         63049000     35787000     32860000     32482000     30756000   \n",
       "...            ...          ...          ...          ...          ...   \n",
       "99137      37052.0      36527.0      36406.0      37290.0      37791.0   \n",
       "99138          NaN          NaN          NaN          NaN          NaN   \n",
       "99139          NaN          NaN          NaN          NaN          NaN   \n",
       "99140          NaN          NaN          NaN          NaN          NaN   \n",
       "99141          NaN          NaN          NaN          NaN          NaN   \n",
       "\n",
       "              2018         2019  \n",
       "0      17839255000  18542262000  \n",
       "1      11167886000  11667012000  \n",
       "2       2970254000   3125174000  \n",
       "3        260380000    268682000  \n",
       "4         28302000     28075000  \n",
       "...            ...          ...  \n",
       "99137      38275.0      38651.0  \n",
       "99138          NaN          NaN  \n",
       "99139          NaN          NaN  \n",
       "99140          NaN          NaN  \n",
       "99141          NaN          NaN  \n",
       "\n",
       "[99142 rows x 59 columns]"
      ]
     },
     "execution_count": 18,
     "metadata": {},
     "output_type": "execute_result"
    }
   ],
   "source": [
    "df_econ = pd.read_csv(\"../data/profile_by_county_1969_2019.csv\", encoding='latin-1')\n",
    "df_econ"
   ]
  },
  {
   "cell_type": "code",
   "execution_count": 19,
   "metadata": {},
   "outputs": [
    {
     "data": {
      "text/html": [
       "<div>\n",
       "<style scoped>\n",
       "    .dataframe tbody tr th:only-of-type {\n",
       "        vertical-align: middle;\n",
       "    }\n",
       "\n",
       "    .dataframe tbody tr th {\n",
       "        vertical-align: top;\n",
       "    }\n",
       "\n",
       "    .dataframe thead th {\n",
       "        text-align: right;\n",
       "    }\n",
       "</style>\n",
       "<table border=\"1\" class=\"dataframe\">\n",
       "  <thead>\n",
       "    <tr style=\"text-align: right;\">\n",
       "      <th></th>\n",
       "      <th>Count</th>\n",
       "      <th>Year_only</th>\n",
       "    </tr>\n",
       "  </thead>\n",
       "  <tbody>\n",
       "    <tr>\n",
       "      <th>count</th>\n",
       "      <td>21648.000000</td>\n",
       "      <td>21648.000000</td>\n",
       "    </tr>\n",
       "    <tr>\n",
       "      <th>mean</th>\n",
       "      <td>260.139320</td>\n",
       "      <td>2014.239468</td>\n",
       "    </tr>\n",
       "    <tr>\n",
       "      <th>std</th>\n",
       "      <td>1448.592168</td>\n",
       "      <td>3.314407</td>\n",
       "    </tr>\n",
       "    <tr>\n",
       "      <th>min</th>\n",
       "      <td>0.000000</td>\n",
       "      <td>2008.000000</td>\n",
       "    </tr>\n",
       "    <tr>\n",
       "      <th>25%</th>\n",
       "      <td>2.000000</td>\n",
       "      <td>2016.000000</td>\n",
       "    </tr>\n",
       "    <tr>\n",
       "      <th>50%</th>\n",
       "      <td>25.000000</td>\n",
       "      <td>2016.000000</td>\n",
       "    </tr>\n",
       "    <tr>\n",
       "      <th>75%</th>\n",
       "      <td>153.000000</td>\n",
       "      <td>2016.000000</td>\n",
       "    </tr>\n",
       "    <tr>\n",
       "      <th>max</th>\n",
       "      <td>73523.000000</td>\n",
       "      <td>2016.000000</td>\n",
       "    </tr>\n",
       "  </tbody>\n",
       "</table>\n",
       "</div>"
      ],
      "text/plain": [
       "              Count     Year_only\n",
       "count  21648.000000  21648.000000\n",
       "mean     260.139320   2014.239468\n",
       "std     1448.592168      3.314407\n",
       "min        0.000000   2008.000000\n",
       "25%        2.000000   2016.000000\n",
       "50%       25.000000   2016.000000\n",
       "75%      153.000000   2016.000000\n",
       "max    73523.000000   2016.000000"
      ]
     },
     "execution_count": 19,
     "metadata": {},
     "output_type": "execute_result"
    }
   ],
   "source": [
    "df_homeless['Year_only'] = pd.DatetimeIndex(df_homeless['Year']).year \n",
    "df_homeless_sub = df_homeless.query(\"Year_only == 2008 or Year_only == 2016\")\n",
    "# df_homeless_sub['Count'] = df_homeless_sub['Count'].str.replace(',', '').astype(float)\n",
    "\n",
    "df_homeless_sub.describe()"
   ]
  },
  {
   "cell_type": "code",
   "execution_count": 20,
   "metadata": {},
   "outputs": [
    {
     "data": {
      "text/html": [
       "<div>\n",
       "<style scoped>\n",
       "    .dataframe tbody tr th:only-of-type {\n",
       "        vertical-align: middle;\n",
       "    }\n",
       "\n",
       "    .dataframe tbody tr th {\n",
       "        vertical-align: top;\n",
       "    }\n",
       "\n",
       "    .dataframe thead th {\n",
       "        text-align: right;\n",
       "    }\n",
       "</style>\n",
       "<table border=\"1\" class=\"dataframe\">\n",
       "  <thead>\n",
       "    <tr style=\"text-align: right;\">\n",
       "      <th></th>\n",
       "      <th>year</th>\n",
       "      <th>state_abbrev</th>\n",
       "      <th>homeless_count</th>\n",
       "    </tr>\n",
       "  </thead>\n",
       "  <tbody>\n",
       "    <tr>\n",
       "      <th>0</th>\n",
       "      <td>2008</td>\n",
       "      <td>AK</td>\n",
       "      <td>7462</td>\n",
       "    </tr>\n",
       "    <tr>\n",
       "      <th>1</th>\n",
       "      <td>2008</td>\n",
       "      <td>AL</td>\n",
       "      <td>23652</td>\n",
       "    </tr>\n",
       "    <tr>\n",
       "      <th>2</th>\n",
       "      <td>2008</td>\n",
       "      <td>AR</td>\n",
       "      <td>14806</td>\n",
       "    </tr>\n",
       "    <tr>\n",
       "      <th>3</th>\n",
       "      <td>2008</td>\n",
       "      <td>AZ</td>\n",
       "      <td>56146</td>\n",
       "    </tr>\n",
       "    <tr>\n",
       "      <th>4</th>\n",
       "      <td>2008</td>\n",
       "      <td>CA</td>\n",
       "      <td>626632</td>\n",
       "    </tr>\n",
       "    <tr>\n",
       "      <th>...</th>\n",
       "      <td>...</td>\n",
       "      <td>...</td>\n",
       "      <td>...</td>\n",
       "    </tr>\n",
       "    <tr>\n",
       "      <th>103</th>\n",
       "      <td>2016</td>\n",
       "      <td>VT</td>\n",
       "      <td>5762</td>\n",
       "    </tr>\n",
       "    <tr>\n",
       "      <th>104</th>\n",
       "      <td>2016</td>\n",
       "      <td>WA</td>\n",
       "      <td>103862</td>\n",
       "    </tr>\n",
       "    <tr>\n",
       "      <th>105</th>\n",
       "      <td>2016</td>\n",
       "      <td>WI</td>\n",
       "      <td>27656</td>\n",
       "    </tr>\n",
       "    <tr>\n",
       "      <th>106</th>\n",
       "      <td>2016</td>\n",
       "      <td>WV</td>\n",
       "      <td>7020</td>\n",
       "    </tr>\n",
       "    <tr>\n",
       "      <th>107</th>\n",
       "      <td>2016</td>\n",
       "      <td>WY</td>\n",
       "      <td>4184</td>\n",
       "    </tr>\n",
       "  </tbody>\n",
       "</table>\n",
       "<p>108 rows × 3 columns</p>\n",
       "</div>"
      ],
      "text/plain": [
       "     year state_abbrev  homeless_count\n",
       "0    2008           AK            7462\n",
       "1    2008           AL           23652\n",
       "2    2008           AR           14806\n",
       "3    2008           AZ           56146\n",
       "4    2008           CA          626632\n",
       "..    ...          ...             ...\n",
       "103  2016           VT            5762\n",
       "104  2016           WA          103862\n",
       "105  2016           WI           27656\n",
       "106  2016           WV            7020\n",
       "107  2016           WY            4184\n",
       "\n",
       "[108 rows x 3 columns]"
      ]
     },
     "execution_count": 20,
     "metadata": {},
     "output_type": "execute_result"
    }
   ],
   "source": [
    "df_homeless_sub = df_homeless_sub.groupby([\"Year_only\",\"State\"])[\"Count\"].sum().reset_index()\n",
    "df_homeless_sub.columns = [\"year\", \"state_abbrev\", \"homeless_count\"]\n",
    "df_homeless_sub"
   ]
  },
  {
   "cell_type": "markdown",
   "metadata": {},
   "source": [
    "## <a id='toc2_3_'></a>[Politics Dataset](#toc0_)\n",
    "\n",
    "https://dataverse.harvard.edu/dataset.xhtml?persistentId=doi:10.7910/DVN/VOQCHQ"
   ]
  },
  {
   "cell_type": "code",
   "execution_count": 21,
   "metadata": {},
   "outputs": [
    {
     "data": {
      "text/html": [
       "<div>\n",
       "<style scoped>\n",
       "    .dataframe tbody tr th:only-of-type {\n",
       "        vertical-align: middle;\n",
       "    }\n",
       "\n",
       "    .dataframe tbody tr th {\n",
       "        vertical-align: top;\n",
       "    }\n",
       "\n",
       "    .dataframe thead th {\n",
       "        text-align: right;\n",
       "    }\n",
       "</style>\n",
       "<table border=\"1\" class=\"dataframe\">\n",
       "  <thead>\n",
       "    <tr style=\"text-align: right;\">\n",
       "      <th></th>\n",
       "      <th>year</th>\n",
       "      <th>state_abbrev</th>\n",
       "      <th>candidatevotes</th>\n",
       "      <th>totalvotes</th>\n",
       "    </tr>\n",
       "  </thead>\n",
       "  <tbody>\n",
       "    <tr>\n",
       "      <th>0</th>\n",
       "      <td>2008</td>\n",
       "      <td>AK</td>\n",
       "      <td>123594</td>\n",
       "      <td>326197</td>\n",
       "    </tr>\n",
       "    <tr>\n",
       "      <th>1</th>\n",
       "      <td>2008</td>\n",
       "      <td>AL</td>\n",
       "      <td>813479</td>\n",
       "      <td>2099819</td>\n",
       "    </tr>\n",
       "    <tr>\n",
       "      <th>2</th>\n",
       "      <td>2008</td>\n",
       "      <td>AR</td>\n",
       "      <td>422310</td>\n",
       "      <td>1086617</td>\n",
       "    </tr>\n",
       "    <tr>\n",
       "      <th>3</th>\n",
       "      <td>2008</td>\n",
       "      <td>AZ</td>\n",
       "      <td>1034707</td>\n",
       "      <td>2293475</td>\n",
       "    </tr>\n",
       "    <tr>\n",
       "      <th>4</th>\n",
       "      <td>2008</td>\n",
       "      <td>CA</td>\n",
       "      <td>8274473</td>\n",
       "      <td>13561900</td>\n",
       "    </tr>\n",
       "    <tr>\n",
       "      <th>...</th>\n",
       "      <td>...</td>\n",
       "      <td>...</td>\n",
       "      <td>...</td>\n",
       "      <td>...</td>\n",
       "    </tr>\n",
       "    <tr>\n",
       "      <th>97</th>\n",
       "      <td>2016</td>\n",
       "      <td>VT</td>\n",
       "      <td>178573</td>\n",
       "      <td>315077</td>\n",
       "    </tr>\n",
       "    <tr>\n",
       "      <th>98</th>\n",
       "      <td>2016</td>\n",
       "      <td>WA</td>\n",
       "      <td>1742718</td>\n",
       "      <td>3209214</td>\n",
       "    </tr>\n",
       "    <tr>\n",
       "      <th>99</th>\n",
       "      <td>2016</td>\n",
       "      <td>WI</td>\n",
       "      <td>1381823</td>\n",
       "      <td>2975753</td>\n",
       "    </tr>\n",
       "    <tr>\n",
       "      <th>100</th>\n",
       "      <td>2016</td>\n",
       "      <td>WV</td>\n",
       "      <td>188794</td>\n",
       "      <td>713051</td>\n",
       "    </tr>\n",
       "    <tr>\n",
       "      <th>101</th>\n",
       "      <td>2016</td>\n",
       "      <td>WY</td>\n",
       "      <td>55973</td>\n",
       "      <td>255849</td>\n",
       "    </tr>\n",
       "  </tbody>\n",
       "</table>\n",
       "<p>102 rows × 4 columns</p>\n",
       "</div>"
      ],
      "text/plain": [
       "     year state_abbrev  candidatevotes  totalvotes\n",
       "0    2008           AK          123594      326197\n",
       "1    2008           AL          813479     2099819\n",
       "2    2008           AR          422310     1086617\n",
       "3    2008           AZ         1034707     2293475\n",
       "4    2008           CA         8274473    13561900\n",
       "..    ...          ...             ...         ...\n",
       "97   2016           VT          178573      315077\n",
       "98   2016           WA         1742718     3209214\n",
       "99   2016           WI         1381823     2975753\n",
       "100  2016           WV          188794      713051\n",
       "101  2016           WY           55973      255849\n",
       "\n",
       "[102 rows x 4 columns]"
      ]
     },
     "execution_count": 21,
     "metadata": {},
     "output_type": "execute_result"
    }
   ],
   "source": [
    "df_politics_sub = (\n",
    "df_politics.query(\"year == 2008 or year == 2016\")\n",
    "            .query(\"party == 'DEMOCRAT'\")\n",
    "            .rename(columns = {\"state_po\":\"state_abbrev\"})\n",
    "            .groupby([\"year\", \"state_abbrev\"]).sum().reset_index()\n",
    ")[['year', 'state_abbrev', 'candidatevotes', 'totalvotes']]\n",
    "\n",
    "df_politics_sub"
   ]
  },
  {
   "cell_type": "code",
   "execution_count": 22,
   "metadata": {},
   "outputs": [
    {
     "data": {
      "text/html": [
       "<div>\n",
       "<style scoped>\n",
       "    .dataframe tbody tr th:only-of-type {\n",
       "        vertical-align: middle;\n",
       "    }\n",
       "\n",
       "    .dataframe tbody tr th {\n",
       "        vertical-align: top;\n",
       "    }\n",
       "\n",
       "    .dataframe thead th {\n",
       "        text-align: right;\n",
       "    }\n",
       "</style>\n",
       "<table border=\"1\" class=\"dataframe\">\n",
       "  <thead>\n",
       "    <tr style=\"text-align: right;\">\n",
       "      <th></th>\n",
       "      <th>year</th>\n",
       "      <th>state_abbrev</th>\n",
       "      <th>democrat_perc</th>\n",
       "    </tr>\n",
       "  </thead>\n",
       "  <tbody>\n",
       "    <tr>\n",
       "      <th>0</th>\n",
       "      <td>2008</td>\n",
       "      <td>AK</td>\n",
       "      <td>37.889374</td>\n",
       "    </tr>\n",
       "    <tr>\n",
       "      <th>1</th>\n",
       "      <td>2008</td>\n",
       "      <td>AL</td>\n",
       "      <td>38.740434</td>\n",
       "    </tr>\n",
       "    <tr>\n",
       "      <th>2</th>\n",
       "      <td>2008</td>\n",
       "      <td>AR</td>\n",
       "      <td>38.864660</td>\n",
       "    </tr>\n",
       "    <tr>\n",
       "      <th>3</th>\n",
       "      <td>2008</td>\n",
       "      <td>AZ</td>\n",
       "      <td>45.115251</td>\n",
       "    </tr>\n",
       "    <tr>\n",
       "      <th>4</th>\n",
       "      <td>2008</td>\n",
       "      <td>CA</td>\n",
       "      <td>61.012638</td>\n",
       "    </tr>\n",
       "    <tr>\n",
       "      <th>...</th>\n",
       "      <td>...</td>\n",
       "      <td>...</td>\n",
       "      <td>...</td>\n",
       "    </tr>\n",
       "    <tr>\n",
       "      <th>97</th>\n",
       "      <td>2016</td>\n",
       "      <td>VT</td>\n",
       "      <td>56.675987</td>\n",
       "    </tr>\n",
       "    <tr>\n",
       "      <th>98</th>\n",
       "      <td>2016</td>\n",
       "      <td>WA</td>\n",
       "      <td>54.303577</td>\n",
       "    </tr>\n",
       "    <tr>\n",
       "      <th>99</th>\n",
       "      <td>2016</td>\n",
       "      <td>WI</td>\n",
       "      <td>46.436079</td>\n",
       "    </tr>\n",
       "    <tr>\n",
       "      <th>100</th>\n",
       "      <td>2016</td>\n",
       "      <td>WV</td>\n",
       "      <td>26.476928</td>\n",
       "    </tr>\n",
       "    <tr>\n",
       "      <th>101</th>\n",
       "      <td>2016</td>\n",
       "      <td>WY</td>\n",
       "      <td>21.877357</td>\n",
       "    </tr>\n",
       "  </tbody>\n",
       "</table>\n",
       "<p>102 rows × 3 columns</p>\n",
       "</div>"
      ],
      "text/plain": [
       "     year state_abbrev  democrat_perc\n",
       "0    2008           AK      37.889374\n",
       "1    2008           AL      38.740434\n",
       "2    2008           AR      38.864660\n",
       "3    2008           AZ      45.115251\n",
       "4    2008           CA      61.012638\n",
       "..    ...          ...            ...\n",
       "97   2016           VT      56.675987\n",
       "98   2016           WA      54.303577\n",
       "99   2016           WI      46.436079\n",
       "100  2016           WV      26.476928\n",
       "101  2016           WY      21.877357\n",
       "\n",
       "[102 rows x 3 columns]"
      ]
     },
     "execution_count": 22,
     "metadata": {},
     "output_type": "execute_result"
    }
   ],
   "source": [
    "df_politics_sub['democrat_perc'] = df_politics_sub['candidatevotes']/df_politics_sub['totalvotes'] * 100\n",
    "\n",
    "df_politics_sub = df_politics_sub[['year', 'state_abbrev', 'democrat_perc']]\n",
    "df_politics_sub\n"
   ]
  },
  {
   "cell_type": "markdown",
   "metadata": {},
   "source": [
    "## <a id='toc2_4_'></a>[Economy Dataset](#toc0_)\n",
    "\n",
    "https://www.kaggle.com/datasets/davidbroberts/us-economic-profile-by-county?resource=download&select=profile_by_county_1969_2019.csv"
   ]
  },
  {
   "cell_type": "code",
   "execution_count": 23,
   "metadata": {},
   "outputs": [],
   "source": [
    "states_FIPS = ['01000', '02000', '03000', '04000', '05000', '06000', '07000', '08000', '09000']\n",
    "for i in range(10, 57):\n",
    "    fips = str(i)+'000'\n",
    "    states_FIPS.append(fips)\n",
    "\n",
    "df_econ['GeoFIPS'] = df_econ['GeoFIPS'].str.slice(2,7)\n",
    "\n",
    "econ_cols = [' Per capita personal income 4/', ' Per capita net earnings 4/', 'Total employment (number of jobs)', ' Average wages and salaries']"
   ]
  },
  {
   "cell_type": "code",
   "execution_count": 24,
   "metadata": {},
   "outputs": [
    {
     "data": {
      "text/html": [
       "<div>\n",
       "<style scoped>\n",
       "    .dataframe tbody tr th:only-of-type {\n",
       "        vertical-align: middle;\n",
       "    }\n",
       "\n",
       "    .dataframe tbody tr th {\n",
       "        vertical-align: top;\n",
       "    }\n",
       "\n",
       "    .dataframe thead th {\n",
       "        text-align: right;\n",
       "    }\n",
       "</style>\n",
       "<table border=\"1\" class=\"dataframe\">\n",
       "  <thead>\n",
       "    <tr style=\"text-align: right;\">\n",
       "      <th></th>\n",
       "      <th>Description</th>\n",
       "      <th>2008</th>\n",
       "      <th>2016</th>\n",
       "      <th>state_abbrev</th>\n",
       "    </tr>\n",
       "  </thead>\n",
       "  <tbody>\n",
       "    <tr>\n",
       "      <th>39</th>\n",
       "      <td>Per capita personal income 4/</td>\n",
       "      <td>33353</td>\n",
       "      <td>39536</td>\n",
       "      <td>AL</td>\n",
       "    </tr>\n",
       "    <tr>\n",
       "      <th>40</th>\n",
       "      <td>Per capita net earnings 4/</td>\n",
       "      <td>20229</td>\n",
       "      <td>23180</td>\n",
       "      <td>AL</td>\n",
       "    </tr>\n",
       "    <tr>\n",
       "      <th>54</th>\n",
       "      <td>Total employment (number of jobs)</td>\n",
       "      <td>2582591</td>\n",
       "      <td>2619796</td>\n",
       "      <td>AL</td>\n",
       "    </tr>\n",
       "    <tr>\n",
       "      <th>60</th>\n",
       "      <td>Average wages and salaries</td>\n",
       "      <td>38138</td>\n",
       "      <td>44187</td>\n",
       "      <td>AL</td>\n",
       "    </tr>\n",
       "    <tr>\n",
       "      <th>2147</th>\n",
       "      <td>Per capita personal income 4/</td>\n",
       "      <td>47749</td>\n",
       "      <td>56302</td>\n",
       "      <td>AK</td>\n",
       "    </tr>\n",
       "    <tr>\n",
       "      <th>...</th>\n",
       "      <td>...</td>\n",
       "      <td>...</td>\n",
       "      <td>...</td>\n",
       "      <td>...</td>\n",
       "    </tr>\n",
       "    <tr>\n",
       "      <th>95881</th>\n",
       "      <td>Average wages and salaries</td>\n",
       "      <td>39662</td>\n",
       "      <td>46551</td>\n",
       "      <td>WI</td>\n",
       "    </tr>\n",
       "    <tr>\n",
       "      <th>98154</th>\n",
       "      <td>Per capita personal income 4/</td>\n",
       "      <td>48593</td>\n",
       "      <td>54168</td>\n",
       "      <td>WY</td>\n",
       "    </tr>\n",
       "    <tr>\n",
       "      <th>98155</th>\n",
       "      <td>Per capita net earnings 4/</td>\n",
       "      <td>28776</td>\n",
       "      <td>30753</td>\n",
       "      <td>WY</td>\n",
       "    </tr>\n",
       "    <tr>\n",
       "      <th>98169</th>\n",
       "      <td>Total employment (number of jobs)</td>\n",
       "      <td>398969</td>\n",
       "      <td>398271</td>\n",
       "      <td>WY</td>\n",
       "    </tr>\n",
       "    <tr>\n",
       "      <th>98175</th>\n",
       "      <td>Average wages and salaries</td>\n",
       "      <td>42316</td>\n",
       "      <td>46028</td>\n",
       "      <td>WY</td>\n",
       "    </tr>\n",
       "  </tbody>\n",
       "</table>\n",
       "<p>204 rows × 4 columns</p>\n",
       "</div>"
      ],
      "text/plain": [
       "                             Description     2008     2016 state_abbrev\n",
       "39         Per capita personal income 4/    33353    39536           AL\n",
       "40            Per capita net earnings 4/    20229    23180           AL\n",
       "54     Total employment (number of jobs)  2582591  2619796           AL\n",
       "60            Average wages and salaries    38138    44187           AL\n",
       "2147       Per capita personal income 4/    47749    56302           AK\n",
       "...                                  ...      ...      ...          ...\n",
       "95881         Average wages and salaries    39662    46551           WI\n",
       "98154      Per capita personal income 4/    48593    54168           WY\n",
       "98155         Per capita net earnings 4/    28776    30753           WY\n",
       "98169  Total employment (number of jobs)   398969   398271           WY\n",
       "98175         Average wages and salaries    42316    46028           WY\n",
       "\n",
       "[204 rows x 4 columns]"
      ]
     },
     "execution_count": 24,
     "metadata": {},
     "output_type": "execute_result"
    }
   ],
   "source": [
    "df_econ_sub = (df_econ[['GeoFIPS', 'GeoName', 'Description', '2008', '2016']]\n",
    "                 .query(\"GeoFIPS in @states_FIPS\")\n",
    "                 .query(\"Description in @econ_cols\")\n",
    "                 .assign(state_abbrev = df_econ['GeoName'].map(us_state_to_abbrev))\n",
    "                 .drop(columns = ['GeoFIPS', 'GeoName'])               \n",
    "                )\n",
    "\n",
    "df_econ_sub"
   ]
  },
  {
   "cell_type": "code",
   "execution_count": 25,
   "metadata": {},
   "outputs": [],
   "source": [
    "df_econ_sub_08 = (df_econ_sub.drop(columns = ['2016'])\n",
    "                             .assign(year = 2008)\n",
    "                 )\n",
    "df_econ_sub_16 = (df_econ_sub.drop(columns = ['2008'])\n",
    "                             .assign(year = 2016)\n",
    "                 )\n"
   ]
  },
  {
   "cell_type": "code",
   "execution_count": 26,
   "metadata": {},
   "outputs": [
    {
     "data": {
      "text/html": [
       "<div>\n",
       "<style scoped>\n",
       "    .dataframe tbody tr th:only-of-type {\n",
       "        vertical-align: middle;\n",
       "    }\n",
       "\n",
       "    .dataframe tbody tr th {\n",
       "        vertical-align: top;\n",
       "    }\n",
       "\n",
       "    .dataframe thead th {\n",
       "        text-align: right;\n",
       "    }\n",
       "</style>\n",
       "<table border=\"1\" class=\"dataframe\">\n",
       "  <thead>\n",
       "    <tr style=\"text-align: right;\">\n",
       "      <th></th>\n",
       "      <th>Description</th>\n",
       "      <th>2008</th>\n",
       "      <th>state_abbrev</th>\n",
       "      <th>year</th>\n",
       "    </tr>\n",
       "  </thead>\n",
       "  <tbody>\n",
       "    <tr>\n",
       "      <th>39</th>\n",
       "      <td>Per capita personal income 4/</td>\n",
       "      <td>33353</td>\n",
       "      <td>AL</td>\n",
       "      <td>2008</td>\n",
       "    </tr>\n",
       "    <tr>\n",
       "      <th>40</th>\n",
       "      <td>Per capita net earnings 4/</td>\n",
       "      <td>20229</td>\n",
       "      <td>AL</td>\n",
       "      <td>2008</td>\n",
       "    </tr>\n",
       "    <tr>\n",
       "      <th>54</th>\n",
       "      <td>Total employment (number of jobs)</td>\n",
       "      <td>2582591</td>\n",
       "      <td>AL</td>\n",
       "      <td>2008</td>\n",
       "    </tr>\n",
       "    <tr>\n",
       "      <th>60</th>\n",
       "      <td>Average wages and salaries</td>\n",
       "      <td>38138</td>\n",
       "      <td>AL</td>\n",
       "      <td>2008</td>\n",
       "    </tr>\n",
       "    <tr>\n",
       "      <th>2147</th>\n",
       "      <td>Per capita personal income 4/</td>\n",
       "      <td>47749</td>\n",
       "      <td>AK</td>\n",
       "      <td>2008</td>\n",
       "    </tr>\n",
       "    <tr>\n",
       "      <th>...</th>\n",
       "      <td>...</td>\n",
       "      <td>...</td>\n",
       "      <td>...</td>\n",
       "      <td>...</td>\n",
       "    </tr>\n",
       "    <tr>\n",
       "      <th>95881</th>\n",
       "      <td>Average wages and salaries</td>\n",
       "      <td>39662</td>\n",
       "      <td>WI</td>\n",
       "      <td>2008</td>\n",
       "    </tr>\n",
       "    <tr>\n",
       "      <th>98154</th>\n",
       "      <td>Per capita personal income 4/</td>\n",
       "      <td>48593</td>\n",
       "      <td>WY</td>\n",
       "      <td>2008</td>\n",
       "    </tr>\n",
       "    <tr>\n",
       "      <th>98155</th>\n",
       "      <td>Per capita net earnings 4/</td>\n",
       "      <td>28776</td>\n",
       "      <td>WY</td>\n",
       "      <td>2008</td>\n",
       "    </tr>\n",
       "    <tr>\n",
       "      <th>98169</th>\n",
       "      <td>Total employment (number of jobs)</td>\n",
       "      <td>398969</td>\n",
       "      <td>WY</td>\n",
       "      <td>2008</td>\n",
       "    </tr>\n",
       "    <tr>\n",
       "      <th>98175</th>\n",
       "      <td>Average wages and salaries</td>\n",
       "      <td>42316</td>\n",
       "      <td>WY</td>\n",
       "      <td>2008</td>\n",
       "    </tr>\n",
       "  </tbody>\n",
       "</table>\n",
       "<p>204 rows × 4 columns</p>\n",
       "</div>"
      ],
      "text/plain": [
       "                             Description     2008 state_abbrev  year\n",
       "39         Per capita personal income 4/    33353           AL  2008\n",
       "40            Per capita net earnings 4/    20229           AL  2008\n",
       "54     Total employment (number of jobs)  2582591           AL  2008\n",
       "60            Average wages and salaries    38138           AL  2008\n",
       "2147       Per capita personal income 4/    47749           AK  2008\n",
       "...                                  ...      ...          ...   ...\n",
       "95881         Average wages and salaries    39662           WI  2008\n",
       "98154      Per capita personal income 4/    48593           WY  2008\n",
       "98155         Per capita net earnings 4/    28776           WY  2008\n",
       "98169  Total employment (number of jobs)   398969           WY  2008\n",
       "98175         Average wages and salaries    42316           WY  2008\n",
       "\n",
       "[204 rows x 4 columns]"
      ]
     },
     "execution_count": 26,
     "metadata": {},
     "output_type": "execute_result"
    }
   ],
   "source": [
    "df_econ_sub_08"
   ]
  },
  {
   "cell_type": "code",
   "execution_count": 27,
   "id": "172c3fb0-b310-42ea-b3b8-13fc47b6962f",
   "metadata": {},
   "outputs": [
    {
     "ename": "ValueError",
     "evalue": "Index contains duplicate entries, cannot reshape",
     "output_type": "error",
     "traceback": [
      "\u001b[0;31m---------------------------------------------------------------------------\u001b[0m",
      "\u001b[0;31mValueError\u001b[0m                                Traceback (most recent call last)",
      "\u001b[1;32m/Users/liny/Github/CS107/CS109A_AC209A_Fall22_final_project/src/Homeless_housing_prediction_final.ipynb Cell 34\u001b[0m in \u001b[0;36m<cell line: 1>\u001b[0;34m()\u001b[0m\n\u001b[0;32m----> <a href='vscode-notebook-cell:/Users/liny/Github/CS107/CS109A_AC209A_Fall22_final_project/src/Homeless_housing_prediction_final.ipynb#X46sZmlsZQ%3D%3D?line=0'>1</a>\u001b[0m df_econ_sub_08 \u001b[39m=\u001b[39m (df_econ_sub_08\u001b[39m.\u001b[39;49mpivot(index\u001b[39m=\u001b[39;49m[\u001b[39m'\u001b[39;49m\u001b[39myear\u001b[39;49m\u001b[39m'\u001b[39;49m, \u001b[39m'\u001b[39;49m\u001b[39mstate_abbrev\u001b[39;49m\u001b[39m'\u001b[39;49m], columns\u001b[39m=\u001b[39;49m\u001b[39m'\u001b[39;49m\u001b[39mDescription\u001b[39;49m\u001b[39m'\u001b[39;49m, values\u001b[39m=\u001b[39;49m\u001b[39m'\u001b[39;49m\u001b[39m2008\u001b[39;49m\u001b[39m'\u001b[39;49m)\u001b[39m.\u001b[39mreset_index()\n\u001b[1;32m      <a href='vscode-notebook-cell:/Users/liny/Github/CS107/CS109A_AC209A_Fall22_final_project/src/Homeless_housing_prediction_final.ipynb#X46sZmlsZQ%3D%3D?line=1'>2</a>\u001b[0m                                 \u001b[39m.\u001b[39mrename(columns \u001b[39m=\u001b[39m {\u001b[39m'\u001b[39m\u001b[39m Average wages and salaries\u001b[39m\u001b[39m'\u001b[39m:\u001b[39m\"\u001b[39m\u001b[39mAvgSalary\u001b[39m\u001b[39m\"\u001b[39m, \u001b[39m'\u001b[39m\u001b[39m Per capita net earnings 4/\u001b[39m\u001b[39m'\u001b[39m:\u001b[39m\"\u001b[39m\u001b[39mPerCapNetEarning\u001b[39m\u001b[39m\"\u001b[39m, \u001b[39m'\u001b[39m\u001b[39m Per capita personal income 4/\u001b[39m\u001b[39m'\u001b[39m:\u001b[39m\"\u001b[39m\u001b[39mPerCapNetIncome\u001b[39m\u001b[39m\"\u001b[39m, \u001b[39m\"\u001b[39m\u001b[39mTotal employment (number of jobs)\u001b[39m\u001b[39m\"\u001b[39m:\u001b[39m\"\u001b[39m\u001b[39mTotalNumJobs\u001b[39m\u001b[39m\"\u001b[39m})\n\u001b[1;32m      <a href='vscode-notebook-cell:/Users/liny/Github/CS107/CS109A_AC209A_Fall22_final_project/src/Homeless_housing_prediction_final.ipynb#X46sZmlsZQ%3D%3D?line=2'>3</a>\u001b[0m                  )\n\u001b[1;32m      <a href='vscode-notebook-cell:/Users/liny/Github/CS107/CS109A_AC209A_Fall22_final_project/src/Homeless_housing_prediction_final.ipynb#X46sZmlsZQ%3D%3D?line=4'>5</a>\u001b[0m df_econ_sub_16 \u001b[39m=\u001b[39m (df_econ_sub_16\u001b[39m.\u001b[39mpivot(index\u001b[39m=\u001b[39m[\u001b[39m'\u001b[39m\u001b[39myear\u001b[39m\u001b[39m'\u001b[39m, \u001b[39m'\u001b[39m\u001b[39mstate_abbrev\u001b[39m\u001b[39m'\u001b[39m], columns\u001b[39m=\u001b[39m\u001b[39m'\u001b[39m\u001b[39mDescription\u001b[39m\u001b[39m'\u001b[39m, values\u001b[39m=\u001b[39m\u001b[39m'\u001b[39m\u001b[39m2016\u001b[39m\u001b[39m'\u001b[39m)\u001b[39m.\u001b[39mreset_index()\n\u001b[1;32m      <a href='vscode-notebook-cell:/Users/liny/Github/CS107/CS109A_AC209A_Fall22_final_project/src/Homeless_housing_prediction_final.ipynb#X46sZmlsZQ%3D%3D?line=5'>6</a>\u001b[0m                                 \u001b[39m.\u001b[39mrename(columns \u001b[39m=\u001b[39m {\u001b[39m'\u001b[39m\u001b[39m Average wages and salaries\u001b[39m\u001b[39m'\u001b[39m:\u001b[39m\"\u001b[39m\u001b[39mAvgSalary\u001b[39m\u001b[39m\"\u001b[39m, \u001b[39m'\u001b[39m\u001b[39m Per capita net earnings 4/\u001b[39m\u001b[39m'\u001b[39m:\u001b[39m\"\u001b[39m\u001b[39mPerCapNetEarning\u001b[39m\u001b[39m\"\u001b[39m, \u001b[39m'\u001b[39m\u001b[39m Per capita personal income 4/\u001b[39m\u001b[39m'\u001b[39m:\u001b[39m\"\u001b[39m\u001b[39mPerCapNetIncome\u001b[39m\u001b[39m\"\u001b[39m, \u001b[39m\"\u001b[39m\u001b[39mTotal employment (number of jobs)\u001b[39m\u001b[39m\"\u001b[39m:\u001b[39m\"\u001b[39m\u001b[39mTotalNumJobs\u001b[39m\u001b[39m\"\u001b[39m})\n\u001b[1;32m      <a href='vscode-notebook-cell:/Users/liny/Github/CS107/CS109A_AC209A_Fall22_final_project/src/Homeless_housing_prediction_final.ipynb#X46sZmlsZQ%3D%3D?line=6'>7</a>\u001b[0m                  )\n",
      "File \u001b[0;32m~/miniforge3/envs/tf_env/lib/python3.9/site-packages/pandas/core/frame.py:7876\u001b[0m, in \u001b[0;36mDataFrame.pivot\u001b[0;34m(self, index, columns, values)\u001b[0m\n\u001b[1;32m   7871\u001b[0m \u001b[39m@Substitution\u001b[39m(\u001b[39m\"\u001b[39m\u001b[39m\"\u001b[39m)\n\u001b[1;32m   7872\u001b[0m \u001b[39m@Appender\u001b[39m(_shared_docs[\u001b[39m\"\u001b[39m\u001b[39mpivot\u001b[39m\u001b[39m\"\u001b[39m])\n\u001b[1;32m   7873\u001b[0m \u001b[39mdef\u001b[39;00m \u001b[39mpivot\u001b[39m(\u001b[39mself\u001b[39m, index\u001b[39m=\u001b[39m\u001b[39mNone\u001b[39;00m, columns\u001b[39m=\u001b[39m\u001b[39mNone\u001b[39;00m, values\u001b[39m=\u001b[39m\u001b[39mNone\u001b[39;00m) \u001b[39m-\u001b[39m\u001b[39m>\u001b[39m DataFrame:\n\u001b[1;32m   7874\u001b[0m     \u001b[39mfrom\u001b[39;00m \u001b[39mpandas\u001b[39;00m\u001b[39m.\u001b[39;00m\u001b[39mcore\u001b[39;00m\u001b[39m.\u001b[39;00m\u001b[39mreshape\u001b[39;00m\u001b[39m.\u001b[39;00m\u001b[39mpivot\u001b[39;00m \u001b[39mimport\u001b[39;00m pivot\n\u001b[0;32m-> 7876\u001b[0m     \u001b[39mreturn\u001b[39;00m pivot(\u001b[39mself\u001b[39;49m, index\u001b[39m=\u001b[39;49mindex, columns\u001b[39m=\u001b[39;49mcolumns, values\u001b[39m=\u001b[39;49mvalues)\n",
      "File \u001b[0;32m~/miniforge3/envs/tf_env/lib/python3.9/site-packages/pandas/core/reshape/pivot.py:520\u001b[0m, in \u001b[0;36mpivot\u001b[0;34m(data, index, columns, values)\u001b[0m\n\u001b[1;32m    518\u001b[0m     \u001b[39melse\u001b[39;00m:\n\u001b[1;32m    519\u001b[0m         indexed \u001b[39m=\u001b[39m data\u001b[39m.\u001b[39m_constructor_sliced(data[values]\u001b[39m.\u001b[39m_values, index\u001b[39m=\u001b[39mmultiindex)\n\u001b[0;32m--> 520\u001b[0m \u001b[39mreturn\u001b[39;00m indexed\u001b[39m.\u001b[39;49munstack(columns_listlike)\n",
      "File \u001b[0;32m~/miniforge3/envs/tf_env/lib/python3.9/site-packages/pandas/core/series.py:4157\u001b[0m, in \u001b[0;36mSeries.unstack\u001b[0;34m(self, level, fill_value)\u001b[0m\n\u001b[1;32m   4114\u001b[0m \u001b[39m\"\"\"\u001b[39;00m\n\u001b[1;32m   4115\u001b[0m \u001b[39mUnstack, also known as pivot, Series with MultiIndex to produce DataFrame.\u001b[39;00m\n\u001b[1;32m   4116\u001b[0m \n\u001b[0;32m   (...)\u001b[0m\n\u001b[1;32m   4153\u001b[0m \u001b[39mb    2    4\u001b[39;00m\n\u001b[1;32m   4154\u001b[0m \u001b[39m\"\"\"\u001b[39;00m\n\u001b[1;32m   4155\u001b[0m \u001b[39mfrom\u001b[39;00m \u001b[39mpandas\u001b[39;00m\u001b[39m.\u001b[39;00m\u001b[39mcore\u001b[39;00m\u001b[39m.\u001b[39;00m\u001b[39mreshape\u001b[39;00m\u001b[39m.\u001b[39;00m\u001b[39mreshape\u001b[39;00m \u001b[39mimport\u001b[39;00m unstack\n\u001b[0;32m-> 4157\u001b[0m \u001b[39mreturn\u001b[39;00m unstack(\u001b[39mself\u001b[39;49m, level, fill_value)\n",
      "File \u001b[0;32m~/miniforge3/envs/tf_env/lib/python3.9/site-packages/pandas/core/reshape/reshape.py:491\u001b[0m, in \u001b[0;36munstack\u001b[0;34m(obj, level, fill_value)\u001b[0m\n\u001b[1;32m    489\u001b[0m \u001b[39mif\u001b[39;00m is_1d_only_ea_dtype(obj\u001b[39m.\u001b[39mdtype):\n\u001b[1;32m    490\u001b[0m     \u001b[39mreturn\u001b[39;00m _unstack_extension_series(obj, level, fill_value)\n\u001b[0;32m--> 491\u001b[0m unstacker \u001b[39m=\u001b[39m _Unstacker(\n\u001b[1;32m    492\u001b[0m     obj\u001b[39m.\u001b[39;49mindex, level\u001b[39m=\u001b[39;49mlevel, constructor\u001b[39m=\u001b[39;49mobj\u001b[39m.\u001b[39;49m_constructor_expanddim\n\u001b[1;32m    493\u001b[0m )\n\u001b[1;32m    494\u001b[0m \u001b[39mreturn\u001b[39;00m unstacker\u001b[39m.\u001b[39mget_result(\n\u001b[1;32m    495\u001b[0m     obj\u001b[39m.\u001b[39m_values, value_columns\u001b[39m=\u001b[39m\u001b[39mNone\u001b[39;00m, fill_value\u001b[39m=\u001b[39mfill_value\n\u001b[1;32m    496\u001b[0m )\n",
      "File \u001b[0;32m~/miniforge3/envs/tf_env/lib/python3.9/site-packages/pandas/core/reshape/reshape.py:140\u001b[0m, in \u001b[0;36m_Unstacker.__init__\u001b[0;34m(self, index, level, constructor)\u001b[0m\n\u001b[1;32m    133\u001b[0m \u001b[39mif\u001b[39;00m num_cells \u001b[39m>\u001b[39m np\u001b[39m.\u001b[39miinfo(np\u001b[39m.\u001b[39mint32)\u001b[39m.\u001b[39mmax:\n\u001b[1;32m    134\u001b[0m     warnings\u001b[39m.\u001b[39mwarn(\n\u001b[1;32m    135\u001b[0m         \u001b[39mf\u001b[39m\u001b[39m\"\u001b[39m\u001b[39mThe following operation may generate \u001b[39m\u001b[39m{\u001b[39;00mnum_cells\u001b[39m}\u001b[39;00m\u001b[39m cells \u001b[39m\u001b[39m\"\u001b[39m\n\u001b[1;32m    136\u001b[0m         \u001b[39mf\u001b[39m\u001b[39m\"\u001b[39m\u001b[39min the resulting pandas object.\u001b[39m\u001b[39m\"\u001b[39m,\n\u001b[1;32m    137\u001b[0m         PerformanceWarning,\n\u001b[1;32m    138\u001b[0m     )\n\u001b[0;32m--> 140\u001b[0m \u001b[39mself\u001b[39;49m\u001b[39m.\u001b[39;49m_make_selectors()\n",
      "File \u001b[0;32m~/miniforge3/envs/tf_env/lib/python3.9/site-packages/pandas/core/reshape/reshape.py:192\u001b[0m, in \u001b[0;36m_Unstacker._make_selectors\u001b[0;34m(self)\u001b[0m\n\u001b[1;32m    189\u001b[0m mask\u001b[39m.\u001b[39mput(selector, \u001b[39mTrue\u001b[39;00m)\n\u001b[1;32m    191\u001b[0m \u001b[39mif\u001b[39;00m mask\u001b[39m.\u001b[39msum() \u001b[39m<\u001b[39m \u001b[39mlen\u001b[39m(\u001b[39mself\u001b[39m\u001b[39m.\u001b[39mindex):\n\u001b[0;32m--> 192\u001b[0m     \u001b[39mraise\u001b[39;00m \u001b[39mValueError\u001b[39;00m(\u001b[39m\"\u001b[39m\u001b[39mIndex contains duplicate entries, cannot reshape\u001b[39m\u001b[39m\"\u001b[39m)\n\u001b[1;32m    194\u001b[0m \u001b[39mself\u001b[39m\u001b[39m.\u001b[39mgroup_index \u001b[39m=\u001b[39m comp_index\n\u001b[1;32m    195\u001b[0m \u001b[39mself\u001b[39m\u001b[39m.\u001b[39mmask \u001b[39m=\u001b[39m mask\n",
      "\u001b[0;31mValueError\u001b[0m: Index contains duplicate entries, cannot reshape"
     ]
    }
   ],
   "source": [
    "df_econ_sub_08 = (df_econ_sub_08.pivot(index=['year', 'state_abbrev'], columns='Description', values='2008').reset_index()\n",
    "                                .rename(columns = {' Average wages and salaries':\"AvgSalary\", ' Per capita net earnings 4/':\"PerCapNetEarning\", ' Per capita personal income 4/':\"PerCapNetIncome\", \"Total employment (number of jobs)\":\"TotalNumJobs\"})\n",
    "                 )\n",
    "\n",
    "df_econ_sub_16 = (df_econ_sub_16.pivot(index=['year', 'state_abbrev'], columns='Description', values='2016').reset_index()\n",
    "                                .rename(columns = {' Average wages and salaries':\"AvgSalary\", ' Per capita net earnings 4/':\"PerCapNetEarning\", ' Per capita personal income 4/':\"PerCapNetIncome\", \"Total employment (number of jobs)\":\"TotalNumJobs\"})\n",
    "                 )\n"
   ]
  },
  {
   "cell_type": "code",
   "execution_count": 28,
   "id": "fa570e33-c279-460b-af92-458513c74bf4",
   "metadata": {},
   "outputs": [
    {
     "data": {
      "text/html": [
       "<div>\n",
       "<style scoped>\n",
       "    .dataframe tbody tr th:only-of-type {\n",
       "        vertical-align: middle;\n",
       "    }\n",
       "\n",
       "    .dataframe tbody tr th {\n",
       "        vertical-align: top;\n",
       "    }\n",
       "\n",
       "    .dataframe thead th {\n",
       "        text-align: right;\n",
       "    }\n",
       "</style>\n",
       "<table border=\"1\" class=\"dataframe\">\n",
       "  <thead>\n",
       "    <tr style=\"text-align: right;\">\n",
       "      <th></th>\n",
       "      <th>Description</th>\n",
       "      <th>2008</th>\n",
       "      <th>state_abbrev</th>\n",
       "      <th>year</th>\n",
       "      <th>2016</th>\n",
       "    </tr>\n",
       "  </thead>\n",
       "  <tbody>\n",
       "    <tr>\n",
       "      <th>39</th>\n",
       "      <td>Per capita personal income 4/</td>\n",
       "      <td>33353</td>\n",
       "      <td>AL</td>\n",
       "      <td>2008</td>\n",
       "      <td>NaN</td>\n",
       "    </tr>\n",
       "    <tr>\n",
       "      <th>40</th>\n",
       "      <td>Per capita net earnings 4/</td>\n",
       "      <td>20229</td>\n",
       "      <td>AL</td>\n",
       "      <td>2008</td>\n",
       "      <td>NaN</td>\n",
       "    </tr>\n",
       "    <tr>\n",
       "      <th>54</th>\n",
       "      <td>Total employment (number of jobs)</td>\n",
       "      <td>2582591</td>\n",
       "      <td>AL</td>\n",
       "      <td>2008</td>\n",
       "      <td>NaN</td>\n",
       "    </tr>\n",
       "    <tr>\n",
       "      <th>60</th>\n",
       "      <td>Average wages and salaries</td>\n",
       "      <td>38138</td>\n",
       "      <td>AL</td>\n",
       "      <td>2008</td>\n",
       "      <td>NaN</td>\n",
       "    </tr>\n",
       "    <tr>\n",
       "      <th>2147</th>\n",
       "      <td>Per capita personal income 4/</td>\n",
       "      <td>47749</td>\n",
       "      <td>AK</td>\n",
       "      <td>2008</td>\n",
       "      <td>NaN</td>\n",
       "    </tr>\n",
       "    <tr>\n",
       "      <th>...</th>\n",
       "      <td>...</td>\n",
       "      <td>...</td>\n",
       "      <td>...</td>\n",
       "      <td>...</td>\n",
       "      <td>...</td>\n",
       "    </tr>\n",
       "    <tr>\n",
       "      <th>95881</th>\n",
       "      <td>Average wages and salaries</td>\n",
       "      <td>NaN</td>\n",
       "      <td>WI</td>\n",
       "      <td>2016</td>\n",
       "      <td>46551</td>\n",
       "    </tr>\n",
       "    <tr>\n",
       "      <th>98154</th>\n",
       "      <td>Per capita personal income 4/</td>\n",
       "      <td>NaN</td>\n",
       "      <td>WY</td>\n",
       "      <td>2016</td>\n",
       "      <td>54168</td>\n",
       "    </tr>\n",
       "    <tr>\n",
       "      <th>98155</th>\n",
       "      <td>Per capita net earnings 4/</td>\n",
       "      <td>NaN</td>\n",
       "      <td>WY</td>\n",
       "      <td>2016</td>\n",
       "      <td>30753</td>\n",
       "    </tr>\n",
       "    <tr>\n",
       "      <th>98169</th>\n",
       "      <td>Total employment (number of jobs)</td>\n",
       "      <td>NaN</td>\n",
       "      <td>WY</td>\n",
       "      <td>2016</td>\n",
       "      <td>398271</td>\n",
       "    </tr>\n",
       "    <tr>\n",
       "      <th>98175</th>\n",
       "      <td>Average wages and salaries</td>\n",
       "      <td>NaN</td>\n",
       "      <td>WY</td>\n",
       "      <td>2016</td>\n",
       "      <td>46028</td>\n",
       "    </tr>\n",
       "  </tbody>\n",
       "</table>\n",
       "<p>408 rows × 5 columns</p>\n",
       "</div>"
      ],
      "text/plain": [
       "                             Description     2008 state_abbrev  year    2016\n",
       "39         Per capita personal income 4/    33353           AL  2008     NaN\n",
       "40            Per capita net earnings 4/    20229           AL  2008     NaN\n",
       "54     Total employment (number of jobs)  2582591           AL  2008     NaN\n",
       "60            Average wages and salaries    38138           AL  2008     NaN\n",
       "2147       Per capita personal income 4/    47749           AK  2008     NaN\n",
       "...                                  ...      ...          ...   ...     ...\n",
       "95881         Average wages and salaries      NaN           WI  2016   46551\n",
       "98154      Per capita personal income 4/      NaN           WY  2016   54168\n",
       "98155         Per capita net earnings 4/      NaN           WY  2016   30753\n",
       "98169  Total employment (number of jobs)      NaN           WY  2016  398271\n",
       "98175         Average wages and salaries      NaN           WY  2016   46028\n",
       "\n",
       "[408 rows x 5 columns]"
      ]
     },
     "execution_count": 28,
     "metadata": {},
     "output_type": "execute_result"
    }
   ],
   "source": [
    "df_econ_sub = pd.concat([df_econ_sub_08, df_econ_sub_16])\n",
    "df_econ_sub"
   ]
  },
  {
   "cell_type": "markdown",
   "metadata": {},
   "source": [
    "## <a id='toc2_5_'></a>[Merge Datasets](#toc0_)"
   ]
  },
  {
   "cell_type": "code",
   "execution_count": 29,
   "id": "ceaf43bb-790b-4fd4-b026-bf8a9a2f067c",
   "metadata": {},
   "outputs": [
    {
     "data": {
      "text/html": [
       "<div>\n",
       "<style scoped>\n",
       "    .dataframe tbody tr th:only-of-type {\n",
       "        vertical-align: middle;\n",
       "    }\n",
       "\n",
       "    .dataframe tbody tr th {\n",
       "        vertical-align: top;\n",
       "    }\n",
       "\n",
       "    .dataframe thead th {\n",
       "        text-align: right;\n",
       "    }\n",
       "</style>\n",
       "<table border=\"1\" class=\"dataframe\">\n",
       "  <thead>\n",
       "    <tr style=\"text-align: right;\">\n",
       "      <th></th>\n",
       "      <th>year</th>\n",
       "      <th>state_abbrev</th>\n",
       "      <th>homeless_count</th>\n",
       "      <th>democrat_perc</th>\n",
       "      <th>Description</th>\n",
       "      <th>2008</th>\n",
       "      <th>2016</th>\n",
       "    </tr>\n",
       "  </thead>\n",
       "  <tbody>\n",
       "    <tr>\n",
       "      <th>0</th>\n",
       "      <td>2008</td>\n",
       "      <td>AK</td>\n",
       "      <td>7462</td>\n",
       "      <td>37.889374</td>\n",
       "      <td>Per capita personal income 4/</td>\n",
       "      <td>47749</td>\n",
       "      <td>NaN</td>\n",
       "    </tr>\n",
       "    <tr>\n",
       "      <th>1</th>\n",
       "      <td>2008</td>\n",
       "      <td>AK</td>\n",
       "      <td>7462</td>\n",
       "      <td>37.889374</td>\n",
       "      <td>Per capita net earnings 4/</td>\n",
       "      <td>31586</td>\n",
       "      <td>NaN</td>\n",
       "    </tr>\n",
       "    <tr>\n",
       "      <th>2</th>\n",
       "      <td>2008</td>\n",
       "      <td>AK</td>\n",
       "      <td>7462</td>\n",
       "      <td>37.889374</td>\n",
       "      <td>Total employment (number of jobs)</td>\n",
       "      <td>443538</td>\n",
       "      <td>NaN</td>\n",
       "    </tr>\n",
       "    <tr>\n",
       "      <th>3</th>\n",
       "      <td>2008</td>\n",
       "      <td>AK</td>\n",
       "      <td>7462</td>\n",
       "      <td>37.889374</td>\n",
       "      <td>Average wages and salaries</td>\n",
       "      <td>48527</td>\n",
       "      <td>NaN</td>\n",
       "    </tr>\n",
       "    <tr>\n",
       "      <th>4</th>\n",
       "      <td>2008</td>\n",
       "      <td>AL</td>\n",
       "      <td>23652</td>\n",
       "      <td>38.740434</td>\n",
       "      <td>Per capita personal income 4/</td>\n",
       "      <td>33353</td>\n",
       "      <td>NaN</td>\n",
       "    </tr>\n",
       "    <tr>\n",
       "      <th>...</th>\n",
       "      <td>...</td>\n",
       "      <td>...</td>\n",
       "      <td>...</td>\n",
       "      <td>...</td>\n",
       "      <td>...</td>\n",
       "      <td>...</td>\n",
       "      <td>...</td>\n",
       "    </tr>\n",
       "    <tr>\n",
       "      <th>397</th>\n",
       "      <td>2016</td>\n",
       "      <td>WV</td>\n",
       "      <td>7020</td>\n",
       "      <td>26.476928</td>\n",
       "      <td>NaN</td>\n",
       "      <td>NaN</td>\n",
       "      <td>NaN</td>\n",
       "    </tr>\n",
       "    <tr>\n",
       "      <th>398</th>\n",
       "      <td>2016</td>\n",
       "      <td>WY</td>\n",
       "      <td>4184</td>\n",
       "      <td>21.877357</td>\n",
       "      <td>Per capita personal income 4/</td>\n",
       "      <td>NaN</td>\n",
       "      <td>54168</td>\n",
       "    </tr>\n",
       "    <tr>\n",
       "      <th>399</th>\n",
       "      <td>2016</td>\n",
       "      <td>WY</td>\n",
       "      <td>4184</td>\n",
       "      <td>21.877357</td>\n",
       "      <td>Per capita net earnings 4/</td>\n",
       "      <td>NaN</td>\n",
       "      <td>30753</td>\n",
       "    </tr>\n",
       "    <tr>\n",
       "      <th>400</th>\n",
       "      <td>2016</td>\n",
       "      <td>WY</td>\n",
       "      <td>4184</td>\n",
       "      <td>21.877357</td>\n",
       "      <td>Total employment (number of jobs)</td>\n",
       "      <td>NaN</td>\n",
       "      <td>398271</td>\n",
       "    </tr>\n",
       "    <tr>\n",
       "      <th>401</th>\n",
       "      <td>2016</td>\n",
       "      <td>WY</td>\n",
       "      <td>4184</td>\n",
       "      <td>21.877357</td>\n",
       "      <td>Average wages and salaries</td>\n",
       "      <td>NaN</td>\n",
       "      <td>46028</td>\n",
       "    </tr>\n",
       "  </tbody>\n",
       "</table>\n",
       "<p>402 rows × 7 columns</p>\n",
       "</div>"
      ],
      "text/plain": [
       "     year state_abbrev  homeless_count  democrat_perc  \\\n",
       "0    2008           AK            7462      37.889374   \n",
       "1    2008           AK            7462      37.889374   \n",
       "2    2008           AK            7462      37.889374   \n",
       "3    2008           AK            7462      37.889374   \n",
       "4    2008           AL           23652      38.740434   \n",
       "..    ...          ...             ...            ...   \n",
       "397  2016           WV            7020      26.476928   \n",
       "398  2016           WY            4184      21.877357   \n",
       "399  2016           WY            4184      21.877357   \n",
       "400  2016           WY            4184      21.877357   \n",
       "401  2016           WY            4184      21.877357   \n",
       "\n",
       "                           Description    2008    2016  \n",
       "0        Per capita personal income 4/   47749     NaN  \n",
       "1           Per capita net earnings 4/   31586     NaN  \n",
       "2    Total employment (number of jobs)  443538     NaN  \n",
       "3           Average wages and salaries   48527     NaN  \n",
       "4        Per capita personal income 4/   33353     NaN  \n",
       "..                                 ...     ...     ...  \n",
       "397                                NaN     NaN     NaN  \n",
       "398      Per capita personal income 4/     NaN   54168  \n",
       "399         Per capita net earnings 4/     NaN   30753  \n",
       "400  Total employment (number of jobs)     NaN  398271  \n",
       "401         Average wages and salaries     NaN   46028  \n",
       "\n",
       "[402 rows x 7 columns]"
      ]
     },
     "execution_count": 29,
     "metadata": {},
     "output_type": "execute_result"
    }
   ],
   "source": [
    "df_econ_politcs = (df_homeless_sub.merge(df_politics_sub, how = \"left\", on = ['year', 'state_abbrev'])\n",
    "                                  .merge(df_econ_sub, how = \"left\", on = ['year', 'state_abbrev'])\n",
    "                  )\n",
    "df_econ_politcs"
   ]
  },
  {
   "cell_type": "code",
   "execution_count": null,
   "id": "c32de6a7-fc24-4f44-a0de-628395e668dc",
   "metadata": {},
   "outputs": [],
   "source": [
    "# df_econ_politcs.to_csv(\"../data/homeless_count_Econ_Politics_by_state.csv\", index=False)"
   ]
  },
  {
   "cell_type": "code",
   "execution_count": 30,
   "id": "46215254-db20-4cd8-aea9-c2db6aed5b10",
   "metadata": {},
   "outputs": [],
   "source": [
    "import pandas as pd\n",
    "import matplotlib.pyplot as plt\n",
    "import numpy as np\n",
    "import pandas as pd\n",
    "import seaborn as sns\n",
    "import plotly.express as px"
   ]
  },
  {
   "cell_type": "markdown",
   "metadata": {},
   "source": [
    "## <a id='toc2_6_'></a>[Missing Values](#toc0_)\n",
    "\n",
    "Some states such as Guam, American Samoa, Northern Mariana Islands, Puerto Rico, US Minor Outlying Islands, Virgin Islands have missing values. "
   ]
  },
  {
   "cell_type": "code",
   "execution_count": 31,
   "id": "2bff7c76-6d51-437c-a214-a007ae99a7d1",
   "metadata": {},
   "outputs": [],
   "source": [
    "df_econ_politcs = pd.read_csv(\"../data/homeless_count_Econ_Politics_by_state.csv\")"
   ]
  },
  {
   "cell_type": "code",
   "execution_count": 32,
   "id": "5bf077e6-fa97-4917-99a0-0bd6463bc36e",
   "metadata": {},
   "outputs": [
    {
     "data": {
      "text/plain": [
       "year                0\n",
       "state_abbrev        0\n",
       "homeless_count      0\n",
       "democrat_perc       6\n",
       "AvgSalary           6\n",
       "PerCapNetEarning    6\n",
       "PerCapNetIncome     6\n",
       "TotalNumJobs        6\n",
       "dtype: int64"
      ]
     },
     "execution_count": 32,
     "metadata": {},
     "output_type": "execute_result"
    }
   ],
   "source": [
    "df_econ_politcs.isna().sum()"
   ]
  },
  {
   "cell_type": "code",
   "execution_count": 33,
   "id": "cf09d953-d44c-4826-a5c7-58228c1e334c",
   "metadata": {},
   "outputs": [],
   "source": [
    "df_econ_politcs[\"AvgSalary\"] = pd.to_numeric(df_econ_politcs[\"AvgSalary\"])\n",
    "df_econ_politcs[\"PerCapNetEarning\"] = pd.to_numeric(df_econ_politcs[\"PerCapNetEarning\"])\n",
    "df_econ_politcs[\"PerCapNetIncome\"] = pd.to_numeric(df_econ_politcs[\"PerCapNetIncome\"])\n",
    "df_econ_politcs[\"TotalNumJobs\"] = pd.to_numeric(df_econ_politcs[\"TotalNumJobs\"])"
   ]
  },
  {
   "cell_type": "code",
   "execution_count": 34,
   "id": "b861b4b3-fbe3-4c2a-b54e-a2877e2dc085",
   "metadata": {},
   "outputs": [
    {
     "name": "stdout",
     "output_type": "stream",
     "text": [
      "<class 'pandas.core.frame.DataFrame'>\n",
      "RangeIndex: 108 entries, 0 to 107\n",
      "Data columns (total 8 columns):\n",
      " #   Column            Non-Null Count  Dtype  \n",
      "---  ------            --------------  -----  \n",
      " 0   year              108 non-null    int64  \n",
      " 1   state_abbrev      108 non-null    object \n",
      " 2   homeless_count    108 non-null    float64\n",
      " 3   democrat_perc     102 non-null    float64\n",
      " 4   AvgSalary         102 non-null    float64\n",
      " 5   PerCapNetEarning  102 non-null    float64\n",
      " 6   PerCapNetIncome   102 non-null    float64\n",
      " 7   TotalNumJobs      102 non-null    float64\n",
      "dtypes: float64(6), int64(1), object(1)\n",
      "memory usage: 6.9+ KB\n"
     ]
    }
   ],
   "source": [
    "df_econ_politcs.info()"
   ]
  },
  {
   "cell_type": "markdown",
   "metadata": {},
   "source": [
    "## <a id='toc2_7_'></a>[Correlation between each variable and homeless count](#toc0_)"
   ]
  },
  {
   "cell_type": "code",
   "execution_count": 35,
   "id": "e127ff87-d827-4e2f-a6a2-df7ad910fe23",
   "metadata": {},
   "outputs": [
    {
     "data": {
      "text/plain": [
       "Index(['year', 'state_abbrev', 'homeless_count', 'democrat_perc', 'AvgSalary',\n",
       "       'PerCapNetEarning', 'PerCapNetIncome', 'TotalNumJobs'],\n",
       "      dtype='object')"
      ]
     },
     "execution_count": 35,
     "metadata": {},
     "output_type": "execute_result"
    }
   ],
   "source": [
    "df_econ_politcs.columns"
   ]
  },
  {
   "cell_type": "code",
   "execution_count": 36,
   "id": "45783615-4b79-4150-9f86-9bdac5bacefe",
   "metadata": {},
   "outputs": [
    {
     "ename": "KeyError",
     "evalue": "\"['win_party'] not in index\"",
     "output_type": "error",
     "traceback": [
      "\u001b[0;31m---------------------------------------------------------------------------\u001b[0m",
      "\u001b[0;31mKeyError\u001b[0m                                  Traceback (most recent call last)",
      "\u001b[1;32m/Users/liny/Github/CS107/CS109A_AC209A_Fall22_final_project/src/Homeless_housing_prediction_final.ipynb Cell 47\u001b[0m in \u001b[0;36m<cell line: 1>\u001b[0;34m()\u001b[0m\n\u001b[0;32m----> <a href='vscode-notebook-cell:/Users/liny/Github/CS107/CS109A_AC209A_Fall22_final_project/src/Homeless_housing_prediction_final.ipynb#X65sZmlsZQ%3D%3D?line=0'>1</a>\u001b[0m g_16 \u001b[39m=\u001b[39m sns\u001b[39m.\u001b[39;49mpairplot(df_econ_politcs\u001b[39m.\u001b[39;49mquery(\u001b[39m\"\u001b[39;49m\u001b[39myear == 2016\u001b[39;49m\u001b[39m\"\u001b[39;49m), \n\u001b[1;32m      <a href='vscode-notebook-cell:/Users/liny/Github/CS107/CS109A_AC209A_Fall22_final_project/src/Homeless_housing_prediction_final.ipynb#X65sZmlsZQ%3D%3D?line=1'>2</a>\u001b[0m              x_vars\u001b[39m=\u001b[39;49m[\u001b[39m\"\u001b[39;49m\u001b[39mwin_party\u001b[39;49m\u001b[39m\"\u001b[39;49m,\u001b[39m\"\u001b[39;49m\u001b[39mAvgSalary\u001b[39;49m\u001b[39m\"\u001b[39;49m,\u001b[39m\"\u001b[39;49m\u001b[39mPerCapNetEarning\u001b[39;49m\u001b[39m\"\u001b[39;49m, \u001b[39m\"\u001b[39;49m\u001b[39mPerCapNetIncome\u001b[39;49m\u001b[39m\"\u001b[39;49m, \u001b[39m\"\u001b[39;49m\u001b[39mTotalNumJobs\u001b[39;49m\u001b[39m\"\u001b[39;49m],\n\u001b[1;32m      <a href='vscode-notebook-cell:/Users/liny/Github/CS107/CS109A_AC209A_Fall22_final_project/src/Homeless_housing_prediction_final.ipynb#X65sZmlsZQ%3D%3D?line=2'>3</a>\u001b[0m              y_vars\u001b[39m=\u001b[39;49m[\u001b[39m\"\u001b[39;49m\u001b[39mhomeless_count\u001b[39;49m\u001b[39m\"\u001b[39;49m])\n\u001b[1;32m      <a href='vscode-notebook-cell:/Users/liny/Github/CS107/CS109A_AC209A_Fall22_final_project/src/Homeless_housing_prediction_final.ipynb#X65sZmlsZQ%3D%3D?line=4'>5</a>\u001b[0m g_16\u001b[39m.\u001b[39mfig\u001b[39m.\u001b[39msuptitle(\u001b[39m'\u001b[39m\u001b[39mCorrelation between each variable and homeless count in 2016\u001b[39m\u001b[39m'\u001b[39m, fontsize \u001b[39m=\u001b[39m \u001b[39m15\u001b[39m)\n\u001b[1;32m      <a href='vscode-notebook-cell:/Users/liny/Github/CS107/CS109A_AC209A_Fall22_final_project/src/Homeless_housing_prediction_final.ipynb#X65sZmlsZQ%3D%3D?line=5'>6</a>\u001b[0m g_16\u001b[39m.\u001b[39mfig\u001b[39m.\u001b[39mtight_layout()\n",
      "File \u001b[0;32m~/miniforge3/envs/tf_env/lib/python3.9/site-packages/seaborn/_decorators.py:46\u001b[0m, in \u001b[0;36m_deprecate_positional_args.<locals>.inner_f\u001b[0;34m(*args, **kwargs)\u001b[0m\n\u001b[1;32m     36\u001b[0m     warnings\u001b[39m.\u001b[39mwarn(\n\u001b[1;32m     37\u001b[0m         \u001b[39m\"\u001b[39m\u001b[39mPass the following variable\u001b[39m\u001b[39m{}\u001b[39;00m\u001b[39m as \u001b[39m\u001b[39m{}\u001b[39;00m\u001b[39mkeyword arg\u001b[39m\u001b[39m{}\u001b[39;00m\u001b[39m: \u001b[39m\u001b[39m{}\u001b[39;00m\u001b[39m. \u001b[39m\u001b[39m\"\u001b[39m\n\u001b[1;32m     38\u001b[0m         \u001b[39m\"\u001b[39m\u001b[39mFrom version 0.12, the only valid positional argument \u001b[39m\u001b[39m\"\u001b[39m\n\u001b[0;32m   (...)\u001b[0m\n\u001b[1;32m     43\u001b[0m         \u001b[39mFutureWarning\u001b[39;00m\n\u001b[1;32m     44\u001b[0m     )\n\u001b[1;32m     45\u001b[0m kwargs\u001b[39m.\u001b[39mupdate({k: arg \u001b[39mfor\u001b[39;00m k, arg \u001b[39min\u001b[39;00m \u001b[39mzip\u001b[39m(sig\u001b[39m.\u001b[39mparameters, args)})\n\u001b[0;32m---> 46\u001b[0m \u001b[39mreturn\u001b[39;00m f(\u001b[39m*\u001b[39;49m\u001b[39m*\u001b[39;49mkwargs)\n",
      "File \u001b[0;32m~/miniforge3/envs/tf_env/lib/python3.9/site-packages/seaborn/axisgrid.py:2140\u001b[0m, in \u001b[0;36mpairplot\u001b[0;34m(data, hue, hue_order, palette, vars, x_vars, y_vars, kind, diag_kind, markers, height, aspect, corner, dropna, plot_kws, diag_kws, grid_kws, size)\u001b[0m\n\u001b[1;32m   2138\u001b[0m \u001b[39mif\u001b[39;00m kind \u001b[39m==\u001b[39m \u001b[39m\"\u001b[39m\u001b[39mscatter\u001b[39m\u001b[39m\"\u001b[39m:\n\u001b[1;32m   2139\u001b[0m     \u001b[39mfrom\u001b[39;00m \u001b[39m.\u001b[39;00m\u001b[39mrelational\u001b[39;00m \u001b[39mimport\u001b[39;00m scatterplot  \u001b[39m# Avoid circular import\u001b[39;00m\n\u001b[0;32m-> 2140\u001b[0m     plotter(scatterplot, \u001b[39m*\u001b[39;49m\u001b[39m*\u001b[39;49mplot_kws)\n\u001b[1;32m   2141\u001b[0m \u001b[39melif\u001b[39;00m kind \u001b[39m==\u001b[39m \u001b[39m\"\u001b[39m\u001b[39mreg\u001b[39m\u001b[39m\"\u001b[39m:\n\u001b[1;32m   2142\u001b[0m     \u001b[39mfrom\u001b[39;00m \u001b[39m.\u001b[39;00m\u001b[39mregression\u001b[39;00m \u001b[39mimport\u001b[39;00m regplot  \u001b[39m# Avoid circular import\u001b[39;00m\n",
      "File \u001b[0;32m~/miniforge3/envs/tf_env/lib/python3.9/site-packages/seaborn/axisgrid.py:1396\u001b[0m, in \u001b[0;36mPairGrid.map_offdiag\u001b[0;34m(self, func, **kwargs)\u001b[0m\n\u001b[1;32m   1394\u001b[0m             \u001b[39mif\u001b[39;00m x_var \u001b[39m!=\u001b[39m y_var:\n\u001b[1;32m   1395\u001b[0m                 indices\u001b[39m.\u001b[39mappend((i, j))\n\u001b[0;32m-> 1396\u001b[0m     \u001b[39mself\u001b[39;49m\u001b[39m.\u001b[39;49m_map_bivariate(func, indices, \u001b[39m*\u001b[39;49m\u001b[39m*\u001b[39;49mkwargs)\n\u001b[1;32m   1397\u001b[0m \u001b[39mreturn\u001b[39;00m \u001b[39mself\u001b[39m\n",
      "File \u001b[0;32m~/miniforge3/envs/tf_env/lib/python3.9/site-packages/seaborn/axisgrid.py:1539\u001b[0m, in \u001b[0;36mPairGrid._map_bivariate\u001b[0;34m(self, func, indices, **kwargs)\u001b[0m\n\u001b[1;32m   1537\u001b[0m     \u001b[39mif\u001b[39;00m ax \u001b[39mis\u001b[39;00m \u001b[39mNone\u001b[39;00m:  \u001b[39m# i.e. we are in corner mode\u001b[39;00m\n\u001b[1;32m   1538\u001b[0m         \u001b[39mcontinue\u001b[39;00m\n\u001b[0;32m-> 1539\u001b[0m     \u001b[39mself\u001b[39;49m\u001b[39m.\u001b[39;49m_plot_bivariate(x_var, y_var, ax, func, \u001b[39m*\u001b[39;49m\u001b[39m*\u001b[39;49mkws)\n\u001b[1;32m   1540\u001b[0m \u001b[39mself\u001b[39m\u001b[39m.\u001b[39m_add_axis_labels()\n\u001b[1;32m   1542\u001b[0m \u001b[39mif\u001b[39;00m \u001b[39m\"\u001b[39m\u001b[39mhue\u001b[39m\u001b[39m\"\u001b[39m \u001b[39min\u001b[39;00m signature(func)\u001b[39m.\u001b[39mparameters:\n",
      "File \u001b[0;32m~/miniforge3/envs/tf_env/lib/python3.9/site-packages/seaborn/axisgrid.py:1565\u001b[0m, in \u001b[0;36mPairGrid._plot_bivariate\u001b[0;34m(self, x_var, y_var, ax, func, **kwargs)\u001b[0m\n\u001b[1;32m   1562\u001b[0m \u001b[39mif\u001b[39;00m \u001b[39mself\u001b[39m\u001b[39m.\u001b[39m_hue_var \u001b[39mis\u001b[39;00m \u001b[39mnot\u001b[39;00m \u001b[39mNone\u001b[39;00m \u001b[39mand\u001b[39;00m \u001b[39mself\u001b[39m\u001b[39m.\u001b[39m_hue_var \u001b[39mnot\u001b[39;00m \u001b[39min\u001b[39;00m axes_vars:\n\u001b[1;32m   1563\u001b[0m     axes_vars\u001b[39m.\u001b[39mappend(\u001b[39mself\u001b[39m\u001b[39m.\u001b[39m_hue_var)\n\u001b[0;32m-> 1565\u001b[0m data \u001b[39m=\u001b[39m \u001b[39mself\u001b[39;49m\u001b[39m.\u001b[39;49mdata[axes_vars]\n\u001b[1;32m   1566\u001b[0m \u001b[39mif\u001b[39;00m \u001b[39mself\u001b[39m\u001b[39m.\u001b[39m_dropna:\n\u001b[1;32m   1567\u001b[0m     data \u001b[39m=\u001b[39m data\u001b[39m.\u001b[39mdropna()\n",
      "File \u001b[0;32m~/miniforge3/envs/tf_env/lib/python3.9/site-packages/pandas/core/frame.py:3511\u001b[0m, in \u001b[0;36mDataFrame.__getitem__\u001b[0;34m(self, key)\u001b[0m\n\u001b[1;32m   3509\u001b[0m     \u001b[39mif\u001b[39;00m is_iterator(key):\n\u001b[1;32m   3510\u001b[0m         key \u001b[39m=\u001b[39m \u001b[39mlist\u001b[39m(key)\n\u001b[0;32m-> 3511\u001b[0m     indexer \u001b[39m=\u001b[39m \u001b[39mself\u001b[39;49m\u001b[39m.\u001b[39;49mcolumns\u001b[39m.\u001b[39;49m_get_indexer_strict(key, \u001b[39m\"\u001b[39;49m\u001b[39mcolumns\u001b[39;49m\u001b[39m\"\u001b[39;49m)[\u001b[39m1\u001b[39m]\n\u001b[1;32m   3513\u001b[0m \u001b[39m# take() does not accept boolean indexers\u001b[39;00m\n\u001b[1;32m   3514\u001b[0m \u001b[39mif\u001b[39;00m \u001b[39mgetattr\u001b[39m(indexer, \u001b[39m\"\u001b[39m\u001b[39mdtype\u001b[39m\u001b[39m\"\u001b[39m, \u001b[39mNone\u001b[39;00m) \u001b[39m==\u001b[39m \u001b[39mbool\u001b[39m:\n",
      "File \u001b[0;32m~/miniforge3/envs/tf_env/lib/python3.9/site-packages/pandas/core/indexes/base.py:5782\u001b[0m, in \u001b[0;36mIndex._get_indexer_strict\u001b[0;34m(self, key, axis_name)\u001b[0m\n\u001b[1;32m   5779\u001b[0m \u001b[39melse\u001b[39;00m:\n\u001b[1;32m   5780\u001b[0m     keyarr, indexer, new_indexer \u001b[39m=\u001b[39m \u001b[39mself\u001b[39m\u001b[39m.\u001b[39m_reindex_non_unique(keyarr)\n\u001b[0;32m-> 5782\u001b[0m \u001b[39mself\u001b[39;49m\u001b[39m.\u001b[39;49m_raise_if_missing(keyarr, indexer, axis_name)\n\u001b[1;32m   5784\u001b[0m keyarr \u001b[39m=\u001b[39m \u001b[39mself\u001b[39m\u001b[39m.\u001b[39mtake(indexer)\n\u001b[1;32m   5785\u001b[0m \u001b[39mif\u001b[39;00m \u001b[39misinstance\u001b[39m(key, Index):\n\u001b[1;32m   5786\u001b[0m     \u001b[39m# GH 42790 - Preserve name from an Index\u001b[39;00m\n",
      "File \u001b[0;32m~/miniforge3/envs/tf_env/lib/python3.9/site-packages/pandas/core/indexes/base.py:5845\u001b[0m, in \u001b[0;36mIndex._raise_if_missing\u001b[0;34m(self, key, indexer, axis_name)\u001b[0m\n\u001b[1;32m   5842\u001b[0m     \u001b[39mraise\u001b[39;00m \u001b[39mKeyError\u001b[39;00m(\u001b[39mf\u001b[39m\u001b[39m\"\u001b[39m\u001b[39mNone of [\u001b[39m\u001b[39m{\u001b[39;00mkey\u001b[39m}\u001b[39;00m\u001b[39m] are in the [\u001b[39m\u001b[39m{\u001b[39;00maxis_name\u001b[39m}\u001b[39;00m\u001b[39m]\u001b[39m\u001b[39m\"\u001b[39m)\n\u001b[1;32m   5844\u001b[0m not_found \u001b[39m=\u001b[39m \u001b[39mlist\u001b[39m(ensure_index(key)[missing_mask\u001b[39m.\u001b[39mnonzero()[\u001b[39m0\u001b[39m]]\u001b[39m.\u001b[39munique())\n\u001b[0;32m-> 5845\u001b[0m \u001b[39mraise\u001b[39;00m \u001b[39mKeyError\u001b[39;00m(\u001b[39mf\u001b[39m\u001b[39m\"\u001b[39m\u001b[39m{\u001b[39;00mnot_found\u001b[39m}\u001b[39;00m\u001b[39m not in index\u001b[39m\u001b[39m\"\u001b[39m)\n",
      "\u001b[0;31mKeyError\u001b[0m: \"['win_party'] not in index\""
     ]
    },
    {
     "data": {
      "image/png": "[encoded data removed]",
      "text/plain": [
       "<Figure size 900x180 with 5 Axes>"
      ]
     },
     "metadata": {
      "needs_background": "light"
     },
     "output_type": "display_data"
    }
   ],
   "source": [
    "g_16 = sns.pairplot(df_econ_politcs.query(\"year == 2016\"), \n",
    "             x_vars=[\"win_party\",\"AvgSalary\",\"PerCapNetEarning\", \"PerCapNetIncome\", \"TotalNumJobs\"],\n",
    "             y_vars=[\"homeless_count\"])\n",
    "\n",
    "g_16.fig.suptitle('Correlation between each variable and homeless count in 2016', fontsize = 15)\n",
    "g_16.fig.tight_layout()"
   ]
  },
  {
   "cell_type": "code",
   "execution_count": 38,
   "id": "eea55161-0996-49fd-86a2-24463adf53a2",
   "metadata": {},
   "outputs": [
    {
     "data": {
      "text/plain": [
       "Text(0.5, 1.0, 'Correlation Heatmap for 2008')"
      ]
     },
     "execution_count": 38,
     "metadata": {},
     "output_type": "execute_result"
    },
    {
     "data": {
      "image/png": "[encoded data removed]",
      "text/plain": [
       "<Figure size 720x432 with 2 Axes>"
      ]
     },
     "metadata": {
      "needs_background": "light"
     },
     "output_type": "display_data"
    }
   ],
   "source": [
    "plt.figure(figsize=(10, 6))\n",
    "heatmap_08 = sns.heatmap(df_econ_politcs.query(\"year == 2008\").corr(), vmin=-1, vmax=1, annot=True)\n",
    "heatmap_08.set_title('Correlation Heatmap for 2008', fontdict={'fontsize':18}, pad=12)"
   ]
  },
  {
   "cell_type": "code",
   "execution_count": 39,
   "id": "3a8d188b-1fc5-4384-8910-b570e401e440",
   "metadata": {},
   "outputs": [
    {
     "data": {
      "text/plain": [
       "Text(0.5, 1.0, 'Correlation Heatmap for 2016')"
      ]
     },
     "execution_count": 39,
     "metadata": {},
     "output_type": "execute_result"
    },
    {
     "data": {
      "image/png": "[encoded data removed]",
      "text/plain": [
       "<Figure size 720x432 with 2 Axes>"
      ]
     },
     "metadata": {
      "needs_background": "light"
     },
     "output_type": "display_data"
    }
   ],
   "source": [
    "plt.figure(figsize=(10, 6))\n",
    "heatmap_16 = sns.heatmap(df_econ_politcs.query(\"year == 2016\").corr(), vmin=-1, vmax=1, annot=True)\n",
    "heatmap_16.set_title('Correlation Heatmap for 2016', fontdict={'fontsize':18}, pad=12)"
   ]
  },
  {
   "cell_type": "markdown",
   "metadata": {},
   "source": [
    "## <a id='toc2_8_'></a>[Choropleth graph of homeless count by state](#toc0_)"
   ]
  },
  {
   "cell_type": "code",
   "execution_count": 40,
   "id": "514f4da7-6dbb-4d08-b713-17a813c3ce53",
   "metadata": {},
   "outputs": [
    {
     "data": {
      "application/vnd.plotly.v1+json": {
       "config": {
        "plotlyServerURL": "https://plot.ly"
       },
       "data": [
        {
         "coloraxis": "coloraxis",
         "geo": "geo",
         "hovertemplate": "state_abbrev=%{location}<br>homeless_count=%{z}<extra></extra>",
         "locationmode": "USA-states",
         "locations": [
          "AK",
          "AL",
          "AR",
          "AZ",
          "CA",
          "CO",
          "CT",
          "DC",
          "DE",
          "FL",
          "GA",
          "GU",
          "HI",
          "IA",
          "ID",
          "IL",
          "IN",
          "KS",
          "KY",
          "LA",
          "MA",
          "MD",
          "ME",
          "MI",
          "MN",
          "MO",
          "MS",
          "MT",
          "NC",
          "ND",
          "NE",
          "NH",
          "NJ",
          "NM",
          "NV",
          "NY",
          "OH",
          "OK",
          "OR",
          "PA",
          "PR",
          "RI",
          "SC",
          "SD",
          "TN",
          "TX",
          "UT",
          "VA",
          "VI",
          "VT",
          "WA",
          "WI",
          "WV",
          "WY"
         ],
         "name": "",
         "type": "choropleth",
         "z": [
          7462,
          23652,
          14806,
          56146,
          626632,
          61152,
          20258,
          28544,
          4228,
          217788,
          81722,
          3000,
          25800,
          13938,
          5948,
          64010,
          30972,
          6596,
          33832,
          23150,
          62728,
          39854,
          10792,
          118534,
          33650,
          33910,
          9598,
          5944,
          53298,
          2562,
          17354,
          8950,
          57866,
          13482,
          36812,
          254678,
          56152,
          16506,
          89304,
          64756,
          17882,
          5274,
          24126,
          2524,
          45548,
          178448,
          15140,
          37232,
          3434,
          4284,
          93962,
          23170,
          8838,
          3138
         ]
        }
       ],
       "layout": {
        "coloraxis": {
         "colorbar": {
          "title": {
           "text": "homeless_count"
          }
         },
         "colorscale": [
          [
           0,
           "#fde725"
          ],
          [
           0.1111111111111111,
           "#b5de2b"
          ],
          [
           0.2222222222222222,
           "#6ece58"
          ],
          [
           0.3333333333333333,
           "#35b779"
          ],
          [
           0.4444444444444444,
           "#1f9e89"
          ],
          [
           0.5555555555555556,
           "#26828e"
          ],
          [
           0.6666666666666666,
           "#31688e"
          ],
          [
           0.7777777777777778,
           "#3e4989"
          ],
          [
           0.8888888888888888,
           "#482878"
          ],
          [
           1,
           "#440154"
          ]
         ]
        },
        "geo": {
         "center": {},
         "domain": {
          "x": [
           0,
           1
          ],
          "y": [
           0,
           1
          ]
         },
         "scope": "usa"
        },
        "legend": {
         "tracegroupgap": 0
        },
        "margin": {
         "t": 60
        },
        "template": {
         "data": {
          "bar": [
           {
            "error_x": {
             "color": "#2a3f5f"
            },
            "error_y": {
             "color": "#2a3f5f"
            },
            "marker": {
             "line": {
              "color": "#E5ECF6",
              "width": 0.5
             },
             "pattern": {
              "fillmode": "overlay",
              "size": 10,
              "solidity": 0.2
             }
            },
            "type": "bar"
           }
          ],
          "barpolar": [
           {
            "marker": {
             "line": {
              "color": "#E5ECF6",
              "width": 0.5
             },
             "pattern": {
              "fillmode": "overlay",
              "size": 10,
              "solidity": 0.2
             }
            },
            "type": "barpolar"
           }
          ],
          "carpet": [
           {
            "aaxis": {
             "endlinecolor": "#2a3f5f",
             "gridcolor": "white",
             "linecolor": "white",
             "minorgridcolor": "white",
             "startlinecolor": "#2a3f5f"
            },
            "baxis": {
             "endlinecolor": "#2a3f5f",
             "gridcolor": "white",
             "linecolor": "white",
             "minorgridcolor": "white",
             "startlinecolor": "#2a3f5f"
            },
            "type": "carpet"
           }
          ],
          "choropleth": [
           {
            "colorbar": {
             "outlinewidth": 0,
             "ticks": ""
            },
            "type": "choropleth"
           }
          ],
          "contour": [
           {
            "colorbar": {
             "outlinewidth": 0,
             "ticks": ""
            },
            "colorscale": [
             [
              0,
              "#0d0887"
             ],
             [
              0.1111111111111111,
              "#46039f"
             ],
             [
              0.2222222222222222,
              "#7201a8"
             ],
             [
              0.3333333333333333,
              "#9c179e"
             ],
             [
              0.4444444444444444,
              "#bd3786"
             ],
             [
              0.5555555555555556,
              "#d8576b"
             ],
             [
              0.6666666666666666,
              "#ed7953"
             ],
             [
              0.7777777777777778,
              "#fb9f3a"
             ],
             [
              0.8888888888888888,
              "#fdca26"
             ],
             [
              1,
              "#f0f921"
             ]
            ],
            "type": "contour"
           }
          ],
          "contourcarpet": [
           {
            "colorbar": {
             "outlinewidth": 0,
             "ticks": ""
            },
            "type": "contourcarpet"
           }
          ],
          "heatmap": [
           {
            "colorbar": {
             "outlinewidth": 0,
             "ticks": ""
            },
            "colorscale": [
             [
              0,
              "#0d0887"
             ],
             [
              0.1111111111111111,
              "#46039f"
             ],
             [
              0.2222222222222222,
              "#7201a8"
             ],
             [
              0.3333333333333333,
              "#9c179e"
             ],
             [
              0.4444444444444444,
              "#bd3786"
             ],
             [
              0.5555555555555556,
              "#d8576b"
             ],
             [
              0.6666666666666666,
              "#ed7953"
             ],
             [
              0.7777777777777778,
              "#fb9f3a"
             ],
             [
              0.8888888888888888,
              "#fdca26"
             ],
             [
              1,
              "#f0f921"
             ]
            ],
            "type": "heatmap"
           }
          ],
          "heatmapgl": [
           {
            "colorbar": {
             "outlinewidth": 0,
             "ticks": ""
            },
            "colorscale": [
             [
              0,
              "#0d0887"
             ],
             [
              0.1111111111111111,
              "#46039f"
             ],
             [
              0.2222222222222222,
              "#7201a8"
             ],
             [
              0.3333333333333333,
              "#9c179e"
             ],
             [
              0.4444444444444444,
              "#bd3786"
             ],
             [
              0.5555555555555556,
              "#d8576b"
             ],
             [
              0.6666666666666666,
              "#ed7953"
             ],
             [
              0.7777777777777778,
              "#fb9f3a"
             ],
             [
              0.8888888888888888,
              "#fdca26"
             ],
             [
              1,
              "#f0f921"
             ]
            ],
            "type": "heatmapgl"
           }
          ],
          "histogram": [
           {
            "marker": {
             "pattern": {
              "fillmode": "overlay",
              "size": 10,
              "solidity": 0.2
             }
            },
            "type": "histogram"
           }
          ],
          "histogram2d": [
           {
            "colorbar": {
             "outlinewidth": 0,
             "ticks": ""
            },
            "colorscale": [
             [
              0,
              "#0d0887"
             ],
             [
              0.1111111111111111,
              "#46039f"
             ],
             [
              0.2222222222222222,
              "#7201a8"
             ],
             [
              0.3333333333333333,
              "#9c179e"
             ],
             [
              0.4444444444444444,
              "#bd3786"
             ],
             [
              0.5555555555555556,
              "#d8576b"
             ],
             [
              0.6666666666666666,
              "#ed7953"
             ],
             [
              0.7777777777777778,
              "#fb9f3a"
             ],
             [
              0.8888888888888888,
              "#fdca26"
             ],
             [
              1,
              "#f0f921"
             ]
            ],
            "type": "histogram2d"
           }
          ],
          "histogram2dcontour": [
           {
            "colorbar": {
             "outlinewidth": 0,
             "ticks": ""
            },
            "colorscale": [
             [
              0,
              "#0d0887"
             ],
             [
              0.1111111111111111,
              "#46039f"
             ],
             [
              0.2222222222222222,
              "#7201a8"
             ],
             [
              0.3333333333333333,
              "#9c179e"
             ],
             [
              0.4444444444444444,
              "#bd3786"
             ],
             [
              0.5555555555555556,
              "#d8576b"
             ],
             [
              0.6666666666666666,
              "#ed7953"
             ],
             [
              0.7777777777777778,
              "#fb9f3a"
             ],
             [
              0.8888888888888888,
              "#fdca26"
             ],
             [
              1,
              "#f0f921"
             ]
            ],
            "type": "histogram2dcontour"
           }
          ],
          "mesh3d": [
           {
            "colorbar": {
             "outlinewidth": 0,
             "ticks": ""
            },
            "type": "mesh3d"
           }
          ],
          "parcoords": [
           {
            "line": {
             "colorbar": {
              "outlinewidth": 0,
              "ticks": ""
             }
            },
            "type": "parcoords"
           }
          ],
          "pie": [
           {
            "automargin": true,
            "type": "pie"
           }
          ],
          "scatter": [
           {
            "fillpattern": {
             "fillmode": "overlay",
             "size": 10,
             "solidity": 0.2
            },
            "type": "scatter"
           }
          ],
          "scatter3d": [
           {
            "line": {
             "colorbar": {
              "outlinewidth": 0,
              "ticks": ""
             }
            },
            "marker": {
             "colorbar": {
              "outlinewidth": 0,
              "ticks": ""
             }
            },
            "type": "scatter3d"
           }
          ],
          "scattercarpet": [
           {
            "marker": {
             "colorbar": {
              "outlinewidth": 0,
              "ticks": ""
             }
            },
            "type": "scattercarpet"
           }
          ],
          "scattergeo": [
           {
            "marker": {
             "colorbar": {
              "outlinewidth": 0,
              "ticks": ""
             }
            },
            "type": "scattergeo"
           }
          ],
          "scattergl": [
           {
            "marker": {
             "colorbar": {
              "outlinewidth": 0,
              "ticks": ""
             }
            },
            "type": "scattergl"
           }
          ],
          "scattermapbox": [
           {
            "marker": {
             "colorbar": {
              "outlinewidth": 0,
              "ticks": ""
             }
            },
            "type": "scattermapbox"
           }
          ],
          "scatterpolar": [
           {
            "marker": {
             "colorbar": {
              "outlinewidth": 0,
              "ticks": ""
             }
            },
            "type": "scatterpolar"
           }
          ],
          "scatterpolargl": [
           {
            "marker": {
             "colorbar": {
              "outlinewidth": 0,
              "ticks": ""
             }
            },
            "type": "scatterpolargl"
           }
          ],
          "scatterternary": [
           {
            "marker": {
             "colorbar": {
              "outlinewidth": 0,
              "ticks": ""
             }
            },
            "type": "scatterternary"
           }
          ],
          "surface": [
           {
            "colorbar": {
             "outlinewidth": 0,
             "ticks": ""
            },
            "colorscale": [
             [
              0,
              "#0d0887"
             ],
             [
              0.1111111111111111,
              "#46039f"
             ],
             [
              0.2222222222222222,
              "#7201a8"
             ],
             [
              0.3333333333333333,
              "#9c179e"
             ],
             [
              0.4444444444444444,
              "#bd3786"
             ],
             [
              0.5555555555555556,
              "#d8576b"
             ],
             [
              0.6666666666666666,
              "#ed7953"
             ],
             [
              0.7777777777777778,
              "#fb9f3a"
             ],
             [
              0.8888888888888888,
              "#fdca26"
             ],
             [
              1,
              "#f0f921"
             ]
            ],
            "type": "surface"
           }
          ],
          "table": [
           {
            "cells": {
             "fill": {
              "color": "#EBF0F8"
             },
             "line": {
              "color": "white"
             }
            },
            "header": {
             "fill": {
              "color": "#C8D4E3"
             },
             "line": {
              "color": "white"
             }
            },
            "type": "table"
           }
          ]
         },
         "layout": {
          "annotationdefaults": {
           "arrowcolor": "#2a3f5f",
           "arrowhead": 0,
           "arrowwidth": 1
          },
          "autotypenumbers": "strict",
          "coloraxis": {
           "colorbar": {
            "outlinewidth": 0,
            "ticks": ""
           }
          },
          "colorscale": {
           "diverging": [
            [
             0,
             "#8e0152"
            ],
            [
             0.1,
             "#c51b7d"
            ],
            [
             0.2,
             "#de77ae"
            ],
            [
             0.3,
             "#f1b6da"
            ],
            [
             0.4,
             "#fde0ef"
            ],
            [
             0.5,
             "#f7f7f7"
            ],
            [
             0.6,
             "#e6f5d0"
            ],
            [
             0.7,
             "#b8e186"
            ],
            [
             0.8,
             "#7fbc41"
            ],
            [
             0.9,
             "#4d9221"
            ],
            [
             1,
             "#276419"
            ]
           ],
           "sequential": [
            [
             0,
             "#0d0887"
            ],
            [
             0.1111111111111111,
             "#46039f"
            ],
            [
             0.2222222222222222,
             "#7201a8"
            ],
            [
             0.3333333333333333,
             "#9c179e"
            ],
            [
             0.4444444444444444,
             "#bd3786"
            ],
            [
             0.5555555555555556,
             "#d8576b"
            ],
            [
             0.6666666666666666,
             "#ed7953"
            ],
            [
             0.7777777777777778,
             "#fb9f3a"
            ],
            [
             0.8888888888888888,
             "#fdca26"
            ],
            [
             1,
             "#f0f921"
            ]
           ],
           "sequentialminus": [
            [
             0,
             "#0d0887"
            ],
            [
             0.1111111111111111,
             "#46039f"
            ],
            [
             0.2222222222222222,
             "#7201a8"
            ],
            [
             0.3333333333333333,
             "#9c179e"
            ],
            [
             0.4444444444444444,
             "#bd3786"
            ],
            [
             0.5555555555555556,
             "#d8576b"
            ],
            [
             0.6666666666666666,
             "#ed7953"
            ],
            [
             0.7777777777777778,
             "#fb9f3a"
            ],
            [
             0.8888888888888888,
             "#fdca26"
            ],
            [
             1,
             "#f0f921"
            ]
           ]
          },
          "colorway": [
           "#636efa",
           "#EF553B",
           "#00cc96",
           "#ab63fa",
           "#FFA15A",
           "#19d3f3",
           "#FF6692",
           "#B6E880",
           "#FF97FF",
           "#FECB52"
          ],
          "font": {
           "color": "#2a3f5f"
          },
          "geo": {
           "bgcolor": "white",
           "lakecolor": "white",
           "landcolor": "#E5ECF6",
           "showlakes": true,
           "showland": true,
           "subunitcolor": "white"
          },
          "hoverlabel": {
           "align": "left"
          },
          "hovermode": "closest",
          "mapbox": {
           "style": "light"
          },
          "paper_bgcolor": "white",
          "plot_bgcolor": "#E5ECF6",
          "polar": {
           "angularaxis": {
            "gridcolor": "white",
            "linecolor": "white",
            "ticks": ""
           },
           "bgcolor": "#E5ECF6",
           "radialaxis": {
            "gridcolor": "white",
            "linecolor": "white",
            "ticks": ""
           }
          },
          "scene": {
           "xaxis": {
            "backgroundcolor": "#E5ECF6",
            "gridcolor": "white",
            "gridwidth": 2,
            "linecolor": "white",
            "showbackground": true,
            "ticks": "",
            "zerolinecolor": "white"
           },
           "yaxis": {
            "backgroundcolor": "#E5ECF6",
            "gridcolor": "white",
            "gridwidth": 2,
            "linecolor": "white",
            "showbackground": true,
            "ticks": "",
            "zerolinecolor": "white"
           },
           "zaxis": {
            "backgroundcolor": "#E5ECF6",
            "gridcolor": "white",
            "gridwidth": 2,
            "linecolor": "white",
            "showbackground": true,
            "ticks": "",
            "zerolinecolor": "white"
           }
          },
          "shapedefaults": {
           "line": {
            "color": "#2a3f5f"
           }
          },
          "ternary": {
           "aaxis": {
            "gridcolor": "white",
            "linecolor": "white",
            "ticks": ""
           },
           "baxis": {
            "gridcolor": "white",
            "linecolor": "white",
            "ticks": ""
           },
           "bgcolor": "#E5ECF6",
           "caxis": {
            "gridcolor": "white",
            "linecolor": "white",
            "ticks": ""
           }
          },
          "title": {
           "x": 0.05
          },
          "xaxis": {
           "automargin": true,
           "gridcolor": "white",
           "linecolor": "white",
           "ticks": "",
           "title": {
            "standoff": 15
           },
           "zerolinecolor": "white",
           "zerolinewidth": 2
          },
          "yaxis": {
           "automargin": true,
           "gridcolor": "white",
           "linecolor": "white",
           "ticks": "",
           "title": {
            "standoff": 15
           },
           "zerolinecolor": "white",
           "zerolinewidth": 2
          }
         }
        },
        "title": {
         "font": {
          "size": 22
         },
         "text": "Homeless Count by State in 2008",
         "x": 0.45
        }
       }
      }
     },
     "metadata": {},
     "output_type": "display_data"
    }
   ],
   "source": [
    "fig = px.choropleth(df_econ_politcs.query(\"year == 2008\"), \n",
    "                    locations='state_abbrev', \n",
    "                    locationmode=\"USA-states\", \n",
    "                    scope=\"usa\",\n",
    "                    color='homeless_count',\n",
    "                    color_continuous_scale=\"Viridis_r\", \n",
    "                    )\n",
    "\n",
    "fig.update_layout(\n",
    "      title_text = 'Homeless Count by State in 2008',\n",
    "      title_font_size = 22,\n",
    "      title_x=0.45, \n",
    "    )\n",
    "\n",
    "fig.show()"
   ]
  },
  {
   "cell_type": "code",
   "execution_count": 41,
   "id": "e100aefd-0f78-4807-951e-b333caed9bf0",
   "metadata": {},
   "outputs": [
    {
     "data": {
      "application/vnd.plotly.v1+json": {
       "config": {
        "plotlyServerURL": "https://plot.ly"
       },
       "data": [
        {
         "coloraxis": "coloraxis",
         "geo": "geo",
         "hovertemplate": "state_abbrev=%{location}<br>homeless_count=%{z}<extra></extra>",
         "locationmode": "USA-states",
         "locations": [
          "AK",
          "AL",
          "AR",
          "AZ",
          "CA",
          "CO",
          "CT",
          "DC",
          "DE",
          "FL",
          "GA",
          "GU",
          "HI",
          "IA",
          "ID",
          "IL",
          "IN",
          "KS",
          "KY",
          "LA",
          "MA",
          "MD",
          "ME",
          "MI",
          "MN",
          "MO",
          "MS",
          "MT",
          "NC",
          "ND",
          "NE",
          "NH",
          "NJ",
          "NM",
          "NV",
          "NY",
          "OH",
          "OK",
          "OR",
          "PA",
          "PR",
          "RI",
          "SC",
          "SD",
          "TN",
          "TX",
          "UT",
          "VA",
          "VI",
          "VT",
          "WA",
          "WI",
          "WV",
          "WY"
         ],
         "name": "",
         "type": "choropleth",
         "z": [
          9332,
          20100,
          13190,
          49880,
          668516,
          55552,
          18814,
          44816,
          5074,
          174246,
          64516,
          4692,
          42594,
          14774,
          11644,
          57524,
          28980,
          10008,
          20890,
          21046,
          94740,
          39480,
          11044,
          46678,
          38104,
          35318,
          8414,
          7082,
          47676,
          4788,
          13562,
          7404,
          43862,
          12930,
          39590,
          398450,
          50656,
          21908,
          75044,
          76154,
          25914,
          5796,
          27040,
          5138,
          46292,
          118182,
          13386,
          31262,
          1564,
          5762,
          103862,
          27656,
          7020,
          4184
         ]
        }
       ],
       "layout": {
        "coloraxis": {
         "colorbar": {
          "title": {
           "text": "homeless_count"
          }
         },
         "colorscale": [
          [
           0,
           "#fde725"
          ],
          [
           0.1111111111111111,
           "#b5de2b"
          ],
          [
           0.2222222222222222,
           "#6ece58"
          ],
          [
           0.3333333333333333,
           "#35b779"
          ],
          [
           0.4444444444444444,
           "#1f9e89"
          ],
          [
           0.5555555555555556,
           "#26828e"
          ],
          [
           0.6666666666666666,
           "#31688e"
          ],
          [
           0.7777777777777778,
           "#3e4989"
          ],
          [
           0.8888888888888888,
           "#482878"
          ],
          [
           1,
           "#440154"
          ]
         ]
        },
        "geo": {
         "center": {},
         "domain": {
          "x": [
           0,
           1
          ],
          "y": [
           0,
           1
          ]
         },
         "scope": "usa"
        },
        "legend": {
         "tracegroupgap": 0
        },
        "margin": {
         "t": 60
        },
        "template": {
         "data": {
          "bar": [
           {
            "error_x": {
             "color": "#2a3f5f"
            },
            "error_y": {
             "color": "#2a3f5f"
            },
            "marker": {
             "line": {
              "color": "#E5ECF6",
              "width": 0.5
             },
             "pattern": {
              "fillmode": "overlay",
              "size": 10,
              "solidity": 0.2
             }
            },
            "type": "bar"
           }
          ],
          "barpolar": [
           {
            "marker": {
             "line": {
              "color": "#E5ECF6",
              "width": 0.5
             },
             "pattern": {
              "fillmode": "overlay",
              "size": 10,
              "solidity": 0.2
             }
            },
            "type": "barpolar"
           }
          ],
          "carpet": [
           {
            "aaxis": {
             "endlinecolor": "#2a3f5f",
             "gridcolor": "white",
             "linecolor": "white",
             "minorgridcolor": "white",
             "startlinecolor": "#2a3f5f"
            },
            "baxis": {
             "endlinecolor": "#2a3f5f",
             "gridcolor": "white",
             "linecolor": "white",
             "minorgridcolor": "white",
             "startlinecolor": "#2a3f5f"
            },
            "type": "carpet"
           }
          ],
          "choropleth": [
           {
            "colorbar": {
             "outlinewidth": 0,
             "ticks": ""
            },
            "type": "choropleth"
           }
          ],
          "contour": [
           {
            "colorbar": {
             "outlinewidth": 0,
             "ticks": ""
            },
            "colorscale": [
             [
              0,
              "#0d0887"
             ],
             [
              0.1111111111111111,
              "#46039f"
             ],
             [
              0.2222222222222222,
              "#7201a8"
             ],
             [
              0.3333333333333333,
              "#9c179e"
             ],
             [
              0.4444444444444444,
              "#bd3786"
             ],
             [
              0.5555555555555556,
              "#d8576b"
             ],
             [
              0.6666666666666666,
              "#ed7953"
             ],
             [
              0.7777777777777778,
              "#fb9f3a"
             ],
             [
              0.8888888888888888,
              "#fdca26"
             ],
             [
              1,
              "#f0f921"
             ]
            ],
            "type": "contour"
           }
          ],
          "contourcarpet": [
           {
            "colorbar": {
             "outlinewidth": 0,
             "ticks": ""
            },
            "type": "contourcarpet"
           }
          ],
          "heatmap": [
           {
            "colorbar": {
             "outlinewidth": 0,
             "ticks": ""
            },
            "colorscale": [
             [
              0,
              "#0d0887"
             ],
             [
              0.1111111111111111,
              "#46039f"
             ],
             [
              0.2222222222222222,
              "#7201a8"
             ],
             [
              0.3333333333333333,
              "#9c179e"
             ],
             [
              0.4444444444444444,
              "#bd3786"
             ],
             [
              0.5555555555555556,
              "#d8576b"
             ],
             [
              0.6666666666666666,
              "#ed7953"
             ],
             [
              0.7777777777777778,
              "#fb9f3a"
             ],
             [
              0.8888888888888888,
              "#fdca26"
             ],
             [
              1,
              "#f0f921"
             ]
            ],
            "type": "heatmap"
           }
          ],
          "heatmapgl": [
           {
            "colorbar": {
             "outlinewidth": 0,
             "ticks": ""
            },
            "colorscale": [
             [
              0,
              "#0d0887"
             ],
             [
              0.1111111111111111,
              "#46039f"
             ],
             [
              0.2222222222222222,
              "#7201a8"
             ],
             [
              0.3333333333333333,
              "#9c179e"
             ],
             [
              0.4444444444444444,
              "#bd3786"
             ],
             [
              0.5555555555555556,
              "#d8576b"
             ],
             [
              0.6666666666666666,
              "#ed7953"
             ],
             [
              0.7777777777777778,
              "#fb9f3a"
             ],
             [
              0.8888888888888888,
              "#fdca26"
             ],
             [
              1,
              "#f0f921"
             ]
            ],
            "type": "heatmapgl"
           }
          ],
          "histogram": [
           {
            "marker": {
             "pattern": {
              "fillmode": "overlay",
              "size": 10,
              "solidity": 0.2
             }
            },
            "type": "histogram"
           }
          ],
          "histogram2d": [
           {
            "colorbar": {
             "outlinewidth": 0,
             "ticks": ""
            },
            "colorscale": [
             [
              0,
              "#0d0887"
             ],
             [
              0.1111111111111111,
              "#46039f"
             ],
             [
              0.2222222222222222,
              "#7201a8"
             ],
             [
              0.3333333333333333,
              "#9c179e"
             ],
             [
              0.4444444444444444,
              "#bd3786"
             ],
             [
              0.5555555555555556,
              "#d8576b"
             ],
             [
              0.6666666666666666,
              "#ed7953"
             ],
             [
              0.7777777777777778,
              "#fb9f3a"
             ],
             [
              0.8888888888888888,
              "#fdca26"
             ],
             [
              1,
              "#f0f921"
             ]
            ],
            "type": "histogram2d"
           }
          ],
          "histogram2dcontour": [
           {
            "colorbar": {
             "outlinewidth": 0,
             "ticks": ""
            },
            "colorscale": [
             [
              0,
              "#0d0887"
             ],
             [
              0.1111111111111111,
              "#46039f"
             ],
             [
              0.2222222222222222,
              "#7201a8"
             ],
             [
              0.3333333333333333,
              "#9c179e"
             ],
             [
              0.4444444444444444,
              "#bd3786"
             ],
             [
              0.5555555555555556,
              "#d8576b"
             ],
             [
              0.6666666666666666,
              "#ed7953"
             ],
             [
              0.7777777777777778,
              "#fb9f3a"
             ],
             [
              0.8888888888888888,
              "#fdca26"
             ],
             [
              1,
              "#f0f921"
             ]
            ],
            "type": "histogram2dcontour"
           }
          ],
          "mesh3d": [
           {
            "colorbar": {
             "outlinewidth": 0,
             "ticks": ""
            },
            "type": "mesh3d"
           }
          ],
          "parcoords": [
           {
            "line": {
             "colorbar": {
              "outlinewidth": 0,
              "ticks": ""
             }
            },
            "type": "parcoords"
           }
          ],
          "pie": [
           {
            "automargin": true,
            "type": "pie"
           }
          ],
          "scatter": [
           {
            "fillpattern": {
             "fillmode": "overlay",
             "size": 10,
             "solidity": 0.2
            },
            "type": "scatter"
           }
          ],
          "scatter3d": [
           {
            "line": {
             "colorbar": {
              "outlinewidth": 0,
              "ticks": ""
             }
            },
            "marker": {
             "colorbar": {
              "outlinewidth": 0,
              "ticks": ""
             }
            },
            "type": "scatter3d"
           }
          ],
          "scattercarpet": [
           {
            "marker": {
             "colorbar": {
              "outlinewidth": 0,
              "ticks": ""
             }
            },
            "type": "scattercarpet"
           }
          ],
          "scattergeo": [
           {
            "marker": {
             "colorbar": {
              "outlinewidth": 0,
              "ticks": ""
             }
            },
            "type": "scattergeo"
           }
          ],
          "scattergl": [
           {
            "marker": {
             "colorbar": {
              "outlinewidth": 0,
              "ticks": ""
             }
            },
            "type": "scattergl"
           }
          ],
          "scattermapbox": [
           {
            "marker": {
             "colorbar": {
              "outlinewidth": 0,
              "ticks": ""
             }
            },
            "type": "scattermapbox"
           }
          ],
          "scatterpolar": [
           {
            "marker": {
             "colorbar": {
              "outlinewidth": 0,
              "ticks": ""
             }
            },
            "type": "scatterpolar"
           }
          ],
          "scatterpolargl": [
           {
            "marker": {
             "colorbar": {
              "outlinewidth": 0,
              "ticks": ""
             }
            },
            "type": "scatterpolargl"
           }
          ],
          "scatterternary": [
           {
            "marker": {
             "colorbar": {
              "outlinewidth": 0,
              "ticks": ""
             }
            },
            "type": "scatterternary"
           }
          ],
          "surface": [
           {
            "colorbar": {
             "outlinewidth": 0,
             "ticks": ""
            },
            "colorscale": [
             [
              0,
              "#0d0887"
             ],
             [
              0.1111111111111111,
              "#46039f"
             ],
             [
              0.2222222222222222,
              "#7201a8"
             ],
             [
              0.3333333333333333,
              "#9c179e"
             ],
             [
              0.4444444444444444,
              "#bd3786"
             ],
             [
              0.5555555555555556,
              "#d8576b"
             ],
             [
              0.6666666666666666,
              "#ed7953"
             ],
             [
              0.7777777777777778,
              "#fb9f3a"
             ],
             [
              0.8888888888888888,
              "#fdca26"
             ],
             [
              1,
              "#f0f921"
             ]
            ],
            "type": "surface"
           }
          ],
          "table": [
           {
            "cells": {
             "fill": {
              "color": "#EBF0F8"
             },
             "line": {
              "color": "white"
             }
            },
            "header": {
             "fill": {
              "color": "#C8D4E3"
             },
             "line": {
              "color": "white"
             }
            },
            "type": "table"
           }
          ]
         },
         "layout": {
          "annotationdefaults": {
           "arrowcolor": "#2a3f5f",
           "arrowhead": 0,
           "arrowwidth": 1
          },
          "autotypenumbers": "strict",
          "coloraxis": {
           "colorbar": {
            "outlinewidth": 0,
            "ticks": ""
           }
          },
          "colorscale": {
           "diverging": [
            [
             0,
             "#8e0152"
            ],
            [
             0.1,
             "#c51b7d"
            ],
            [
             0.2,
             "#de77ae"
            ],
            [
             0.3,
             "#f1b6da"
            ],
            [
             0.4,
             "#fde0ef"
            ],
            [
             0.5,
             "#f7f7f7"
            ],
            [
             0.6,
             "#e6f5d0"
            ],
            [
             0.7,
             "#b8e186"
            ],
            [
             0.8,
             "#7fbc41"
            ],
            [
             0.9,
             "#4d9221"
            ],
            [
             1,
             "#276419"
            ]
           ],
           "sequential": [
            [
             0,
             "#0d0887"
            ],
            [
             0.1111111111111111,
             "#46039f"
            ],
            [
             0.2222222222222222,
             "#7201a8"
            ],
            [
             0.3333333333333333,
             "#9c179e"
            ],
            [
             0.4444444444444444,
             "#bd3786"
            ],
            [
             0.5555555555555556,
             "#d8576b"
            ],
            [
             0.6666666666666666,
             "#ed7953"
            ],
            [
             0.7777777777777778,
             "#fb9f3a"
            ],
            [
             0.8888888888888888,
             "#fdca26"
            ],
            [
             1,
             "#f0f921"
            ]
           ],
           "sequentialminus": [
            [
             0,
             "#0d0887"
            ],
            [
             0.1111111111111111,
             "#46039f"
            ],
            [
             0.2222222222222222,
             "#7201a8"
            ],
            [
             0.3333333333333333,
             "#9c179e"
            ],
            [
             0.4444444444444444,
             "#bd3786"
            ],
            [
             0.5555555555555556,
             "#d8576b"
            ],
            [
             0.6666666666666666,
             "#ed7953"
            ],
            [
             0.7777777777777778,
             "#fb9f3a"
            ],
            [
             0.8888888888888888,
             "#fdca26"
            ],
            [
             1,
             "#f0f921"
            ]
           ]
          },
          "colorway": [
           "#636efa",
           "#EF553B",
           "#00cc96",
           "#ab63fa",
           "#FFA15A",
           "#19d3f3",
           "#FF6692",
           "#B6E880",
           "#FF97FF",
           "#FECB52"
          ],
          "font": {
           "color": "#2a3f5f"
          },
          "geo": {
           "bgcolor": "white",
           "lakecolor": "white",
           "landcolor": "#E5ECF6",
           "showlakes": true,
           "showland": true,
           "subunitcolor": "white"
          },
          "hoverlabel": {
           "align": "left"
          },
          "hovermode": "closest",
          "mapbox": {
           "style": "light"
          },
          "paper_bgcolor": "white",
          "plot_bgcolor": "#E5ECF6",
          "polar": {
           "angularaxis": {
            "gridcolor": "white",
            "linecolor": "white",
            "ticks": ""
           },
           "bgcolor": "#E5ECF6",
           "radialaxis": {
            "gridcolor": "white",
            "linecolor": "white",
            "ticks": ""
           }
          },
          "scene": {
           "xaxis": {
            "backgroundcolor": "#E5ECF6",
            "gridcolor": "white",
            "gridwidth": 2,
            "linecolor": "white",
            "showbackground": true,
            "ticks": "",
            "zerolinecolor": "white"
           },
           "yaxis": {
            "backgroundcolor": "#E5ECF6",
            "gridcolor": "white",
            "gridwidth": 2,
            "linecolor": "white",
            "showbackground": true,
            "ticks": "",
            "zerolinecolor": "white"
           },
           "zaxis": {
            "backgroundcolor": "#E5ECF6",
            "gridcolor": "white",
            "gridwidth": 2,
            "linecolor": "white",
            "showbackground": true,
            "ticks": "",
            "zerolinecolor": "white"
           }
          },
          "shapedefaults": {
           "line": {
            "color": "#2a3f5f"
           }
          },
          "ternary": {
           "aaxis": {
            "gridcolor": "white",
            "linecolor": "white",
            "ticks": ""
           },
           "baxis": {
            "gridcolor": "white",
            "linecolor": "white",
            "ticks": ""
           },
           "bgcolor": "#E5ECF6",
           "caxis": {
            "gridcolor": "white",
            "linecolor": "white",
            "ticks": ""
           }
          },
          "title": {
           "x": 0.05
          },
          "xaxis": {
           "automargin": true,
           "gridcolor": "white",
           "linecolor": "white",
           "ticks": "",
           "title": {
            "standoff": 15
           },
           "zerolinecolor": "white",
           "zerolinewidth": 2
          },
          "yaxis": {
           "automargin": true,
           "gridcolor": "white",
           "linecolor": "white",
           "ticks": "",
           "title": {
            "standoff": 15
           },
           "zerolinecolor": "white",
           "zerolinewidth": 2
          }
         }
        },
        "title": {
         "font": {
          "size": 22
         },
         "text": "Homeless Count by State in 2016",
         "x": 0.45
        }
       }
      }
     },
     "metadata": {},
     "output_type": "display_data"
    }
   ],
   "source": [
    "fig = px.choropleth(df_econ_politcs.query(\"year == 2016\"), \n",
    "                    locations='state_abbrev', \n",
    "                    locationmode=\"USA-states\", \n",
    "                    scope=\"usa\",\n",
    "                    color='homeless_count',\n",
    "                    color_continuous_scale=\"Viridis_r\", \n",
    "                    )\n",
    "\n",
    "fig.update_layout(\n",
    "      title_text = 'Homeless Count by State in 2016',\n",
    "      title_font_size = 22,\n",
    "      title_x=0.45, \n",
    "    )\n",
    "\n",
    "fig.show()"
   ]
  },
  {
   "cell_type": "markdown",
   "metadata": {},
   "source": [
    "## <a id='toc2_9_'></a>[Choropleth graph of political party by state](#toc0_)"
   ]
  },
  {
   "cell_type": "code",
   "execution_count": 42,
   "id": "411e93e5-e16d-4ab1-b33d-11b20a0c508e",
   "metadata": {},
   "outputs": [
    {
     "ename": "ValueError",
     "evalue": "Value of 'color' is not the name of a column in 'data_frame'. Expected one of ['year', 'state_abbrev', 'homeless_count', 'democrat_perc', 'AvgSalary', 'PerCapNetEarning', 'PerCapNetIncome', 'TotalNumJobs'] but received: win_party",
     "output_type": "error",
     "traceback": [
      "\u001b[0;31m---------------------------------------------------------------------------\u001b[0m",
      "\u001b[0;31mValueError\u001b[0m                                Traceback (most recent call last)",
      "\u001b[1;32m/Users/liny/Github/CS107/CS109A_AC209A_Fall22_final_project/src/Homeless_housing_prediction_final.ipynb Cell 54\u001b[0m in \u001b[0;36m<cell line: 4>\u001b[0;34m()\u001b[0m\n\u001b[1;32m      <a href='vscode-notebook-cell:/Users/liny/Github/CS107/CS109A_AC209A_Fall22_final_project/src/Homeless_housing_prediction_final.ipynb#Y105sZmlsZQ%3D%3D?line=0'>1</a>\u001b[0m color_scale \u001b[39m=\u001b[39m {\u001b[39m'\u001b[39m\u001b[39mRepublican\u001b[39m\u001b[39m'\u001b[39m: \u001b[39m'\u001b[39m\u001b[39mred\u001b[39m\u001b[39m'\u001b[39m, \u001b[39m'\u001b[39m\u001b[39mDemocrat\u001b[39m\u001b[39m'\u001b[39m: \u001b[39m'\u001b[39m\u001b[39mblue\u001b[39m\u001b[39m'\u001b[39m}\n\u001b[0;32m----> <a href='vscode-notebook-cell:/Users/liny/Github/CS107/CS109A_AC209A_Fall22_final_project/src/Homeless_housing_prediction_final.ipynb#Y105sZmlsZQ%3D%3D?line=3'>4</a>\u001b[0m fig \u001b[39m=\u001b[39m px\u001b[39m.\u001b[39;49mchoropleth(df_econ_politcs\u001b[39m.\u001b[39;49mquery(\u001b[39m\"\u001b[39;49m\u001b[39myear == 2008\u001b[39;49m\u001b[39m\"\u001b[39;49m), \n\u001b[1;32m      <a href='vscode-notebook-cell:/Users/liny/Github/CS107/CS109A_AC209A_Fall22_final_project/src/Homeless_housing_prediction_final.ipynb#Y105sZmlsZQ%3D%3D?line=4'>5</a>\u001b[0m                     locations\u001b[39m=\u001b[39;49m\u001b[39m'\u001b[39;49m\u001b[39mstate_abbrev\u001b[39;49m\u001b[39m'\u001b[39;49m, \n\u001b[1;32m      <a href='vscode-notebook-cell:/Users/liny/Github/CS107/CS109A_AC209A_Fall22_final_project/src/Homeless_housing_prediction_final.ipynb#Y105sZmlsZQ%3D%3D?line=5'>6</a>\u001b[0m                     locationmode\u001b[39m=\u001b[39;49m\u001b[39m\"\u001b[39;49m\u001b[39mUSA-states\u001b[39;49m\u001b[39m\"\u001b[39;49m, \n\u001b[1;32m      <a href='vscode-notebook-cell:/Users/liny/Github/CS107/CS109A_AC209A_Fall22_final_project/src/Homeless_housing_prediction_final.ipynb#Y105sZmlsZQ%3D%3D?line=6'>7</a>\u001b[0m                     scope\u001b[39m=\u001b[39;49m\u001b[39m\"\u001b[39;49m\u001b[39musa\u001b[39;49m\u001b[39m\"\u001b[39;49m,\n\u001b[1;32m      <a href='vscode-notebook-cell:/Users/liny/Github/CS107/CS109A_AC209A_Fall22_final_project/src/Homeless_housing_prediction_final.ipynb#Y105sZmlsZQ%3D%3D?line=7'>8</a>\u001b[0m                     color\u001b[39m=\u001b[39;49m\u001b[39m'\u001b[39;49m\u001b[39mwin_party\u001b[39;49m\u001b[39m'\u001b[39;49m,\n\u001b[1;32m      <a href='vscode-notebook-cell:/Users/liny/Github/CS107/CS109A_AC209A_Fall22_final_project/src/Homeless_housing_prediction_final.ipynb#Y105sZmlsZQ%3D%3D?line=8'>9</a>\u001b[0m                     color_discrete_map\u001b[39m=\u001b[39;49mcolor_scale, \n\u001b[1;32m     <a href='vscode-notebook-cell:/Users/liny/Github/CS107/CS109A_AC209A_Fall22_final_project/src/Homeless_housing_prediction_final.ipynb#Y105sZmlsZQ%3D%3D?line=9'>10</a>\u001b[0m                     )\n\u001b[1;32m     <a href='vscode-notebook-cell:/Users/liny/Github/CS107/CS109A_AC209A_Fall22_final_project/src/Homeless_housing_prediction_final.ipynb#Y105sZmlsZQ%3D%3D?line=11'>12</a>\u001b[0m fig\u001b[39m.\u001b[39mupdate_layout(\n\u001b[1;32m     <a href='vscode-notebook-cell:/Users/liny/Github/CS107/CS109A_AC209A_Fall22_final_project/src/Homeless_housing_prediction_final.ipynb#Y105sZmlsZQ%3D%3D?line=12'>13</a>\u001b[0m       title_text \u001b[39m=\u001b[39m \u001b[39m'\u001b[39m\u001b[39mPolitical Party by State in 2008\u001b[39m\u001b[39m'\u001b[39m,\n\u001b[1;32m     <a href='vscode-notebook-cell:/Users/liny/Github/CS107/CS109A_AC209A_Fall22_final_project/src/Homeless_housing_prediction_final.ipynb#Y105sZmlsZQ%3D%3D?line=13'>14</a>\u001b[0m       title_font_size \u001b[39m=\u001b[39m \u001b[39m22\u001b[39m,\n\u001b[1;32m     <a href='vscode-notebook-cell:/Users/liny/Github/CS107/CS109A_AC209A_Fall22_final_project/src/Homeless_housing_prediction_final.ipynb#Y105sZmlsZQ%3D%3D?line=14'>15</a>\u001b[0m       title_x\u001b[39m=\u001b[39m\u001b[39m0.45\u001b[39m, \n\u001b[1;32m     <a href='vscode-notebook-cell:/Users/liny/Github/CS107/CS109A_AC209A_Fall22_final_project/src/Homeless_housing_prediction_final.ipynb#Y105sZmlsZQ%3D%3D?line=15'>16</a>\u001b[0m     )\n\u001b[1;32m     <a href='vscode-notebook-cell:/Users/liny/Github/CS107/CS109A_AC209A_Fall22_final_project/src/Homeless_housing_prediction_final.ipynb#Y105sZmlsZQ%3D%3D?line=17'>18</a>\u001b[0m fig\u001b[39m.\u001b[39mshow()\n",
      "File \u001b[0;32m~/miniforge3/envs/tf_env/lib/python3.9/site-packages/plotly/express/_chart_types.py:1091\u001b[0m, in \u001b[0;36mchoropleth\u001b[0;34m(data_frame, lat, lon, locations, locationmode, geojson, featureidkey, color, facet_row, facet_col, facet_col_wrap, facet_row_spacing, facet_col_spacing, hover_name, hover_data, custom_data, animation_frame, animation_group, category_orders, labels, color_discrete_sequence, color_discrete_map, color_continuous_scale, range_color, color_continuous_midpoint, projection, scope, center, fitbounds, basemap_visible, title, template, width, height)\u001b[0m\n\u001b[1;32m   1051\u001b[0m \u001b[39mdef\u001b[39;00m \u001b[39mchoropleth\u001b[39m(\n\u001b[1;32m   1052\u001b[0m     data_frame\u001b[39m=\u001b[39m\u001b[39mNone\u001b[39;00m,\n\u001b[1;32m   1053\u001b[0m     lat\u001b[39m=\u001b[39m\u001b[39mNone\u001b[39;00m,\n\u001b[0;32m   (...)\u001b[0m\n\u001b[1;32m   1085\u001b[0m     height\u001b[39m=\u001b[39m\u001b[39mNone\u001b[39;00m,\n\u001b[1;32m   1086\u001b[0m ) \u001b[39m-\u001b[39m\u001b[39m>\u001b[39m go\u001b[39m.\u001b[39mFigure:\n\u001b[1;32m   1087\u001b[0m     \u001b[39m\"\"\"\u001b[39;00m\n\u001b[1;32m   1088\u001b[0m \u001b[39m    In a choropleth map, each row of `data_frame` is represented by a\u001b[39;00m\n\u001b[1;32m   1089\u001b[0m \u001b[39m    colored region mark on a map.\u001b[39;00m\n\u001b[1;32m   1090\u001b[0m \u001b[39m    \"\"\"\u001b[39;00m\n\u001b[0;32m-> 1091\u001b[0m     \u001b[39mreturn\u001b[39;00m make_figure(\n\u001b[1;32m   1092\u001b[0m         args\u001b[39m=\u001b[39;49m\u001b[39mlocals\u001b[39;49m(),\n\u001b[1;32m   1093\u001b[0m         constructor\u001b[39m=\u001b[39;49mgo\u001b[39m.\u001b[39;49mChoropleth,\n\u001b[1;32m   1094\u001b[0m         trace_patch\u001b[39m=\u001b[39;49m\u001b[39mdict\u001b[39;49m(locationmode\u001b[39m=\u001b[39;49mlocationmode),\n\u001b[1;32m   1095\u001b[0m     )\n",
      "File \u001b[0;32m~/miniforge3/envs/tf_env/lib/python3.9/site-packages/plotly/express/_core.py:1990\u001b[0m, in \u001b[0;36mmake_figure\u001b[0;34m(args, constructor, trace_patch, layout_patch)\u001b[0m\n\u001b[1;32m   1987\u001b[0m layout_patch \u001b[39m=\u001b[39m layout_patch \u001b[39mor\u001b[39;00m {}\n\u001b[1;32m   1988\u001b[0m apply_default_cascade(args)\n\u001b[0;32m-> 1990\u001b[0m args \u001b[39m=\u001b[39m build_dataframe(args, constructor)\n\u001b[1;32m   1991\u001b[0m \u001b[39mif\u001b[39;00m constructor \u001b[39min\u001b[39;00m [go\u001b[39m.\u001b[39mTreemap, go\u001b[39m.\u001b[39mSunburst, go\u001b[39m.\u001b[39mIcicle] \u001b[39mand\u001b[39;00m args[\u001b[39m\"\u001b[39m\u001b[39mpath\u001b[39m\u001b[39m\"\u001b[39m] \u001b[39mis\u001b[39;00m \u001b[39mnot\u001b[39;00m \u001b[39mNone\u001b[39;00m:\n\u001b[1;32m   1992\u001b[0m     args \u001b[39m=\u001b[39m process_dataframe_hierarchy(args)\n",
      "File \u001b[0;32m~/miniforge3/envs/tf_env/lib/python3.9/site-packages/plotly/express/_core.py:1405\u001b[0m, in \u001b[0;36mbuild_dataframe\u001b[0;34m(args, constructor)\u001b[0m\n\u001b[1;32m   1402\u001b[0m     args[\u001b[39m\"\u001b[39m\u001b[39mcolor\u001b[39m\u001b[39m\"\u001b[39m] \u001b[39m=\u001b[39m \u001b[39mNone\u001b[39;00m\n\u001b[1;32m   1403\u001b[0m \u001b[39m# now that things have been prepped, we do the systematic rewriting of `args`\u001b[39;00m\n\u001b[0;32m-> 1405\u001b[0m df_output, wide_id_vars \u001b[39m=\u001b[39m process_args_into_dataframe(\n\u001b[1;32m   1406\u001b[0m     args, wide_mode, var_name, value_name\n\u001b[1;32m   1407\u001b[0m )\n\u001b[1;32m   1409\u001b[0m \u001b[39m# now that `df_output` exists and `args` contains only references, we complete\u001b[39;00m\n\u001b[1;32m   1410\u001b[0m \u001b[39m# the special-case and wide-mode handling by further rewriting args and/or mutating\u001b[39;00m\n\u001b[1;32m   1411\u001b[0m \u001b[39m# df_output\u001b[39;00m\n\u001b[1;32m   1413\u001b[0m count_name \u001b[39m=\u001b[39m _escape_col_name(df_output, \u001b[39m\"\u001b[39m\u001b[39mcount\u001b[39m\u001b[39m\"\u001b[39m, [var_name, value_name])\n",
      "File \u001b[0;32m~/miniforge3/envs/tf_env/lib/python3.9/site-packages/plotly/express/_core.py:1207\u001b[0m, in \u001b[0;36mprocess_args_into_dataframe\u001b[0;34m(args, wide_mode, var_name, value_name)\u001b[0m\n\u001b[1;32m   1205\u001b[0m         \u001b[39mif\u001b[39;00m argument \u001b[39m==\u001b[39m \u001b[39m\"\u001b[39m\u001b[39mindex\u001b[39m\u001b[39m\"\u001b[39m:\n\u001b[1;32m   1206\u001b[0m             err_msg \u001b[39m+\u001b[39m\u001b[39m=\u001b[39m \u001b[39m\"\u001b[39m\u001b[39m\\n\u001b[39;00m\u001b[39m To use the index, pass it in directly as `df.index`.\u001b[39m\u001b[39m\"\u001b[39m\n\u001b[0;32m-> 1207\u001b[0m         \u001b[39mraise\u001b[39;00m \u001b[39mValueError\u001b[39;00m(err_msg)\n\u001b[1;32m   1208\u001b[0m \u001b[39melif\u001b[39;00m length \u001b[39mand\u001b[39;00m \u001b[39mlen\u001b[39m(df_input[argument]) \u001b[39m!=\u001b[39m length:\n\u001b[1;32m   1209\u001b[0m     \u001b[39mraise\u001b[39;00m \u001b[39mValueError\u001b[39;00m(\n\u001b[1;32m   1210\u001b[0m         \u001b[39m\"\u001b[39m\u001b[39mAll arguments should have the same length. \u001b[39m\u001b[39m\"\u001b[39m\n\u001b[1;32m   1211\u001b[0m         \u001b[39m\"\u001b[39m\u001b[39mThe length of column argument `df[\u001b[39m\u001b[39m%s\u001b[39;00m\u001b[39m]` is \u001b[39m\u001b[39m%d\u001b[39;00m\u001b[39m, whereas the \u001b[39m\u001b[39m\"\u001b[39m\n\u001b[0;32m   (...)\u001b[0m\n\u001b[1;32m   1218\u001b[0m         )\n\u001b[1;32m   1219\u001b[0m     )\n",
      "\u001b[0;31mValueError\u001b[0m: Value of 'color' is not the name of a column in 'data_frame'. Expected one of ['year', 'state_abbrev', 'homeless_count', 'democrat_perc', 'AvgSalary', 'PerCapNetEarning', 'PerCapNetIncome', 'TotalNumJobs'] but received: win_party"
     ]
    }
   ],
   "source": [
    "color_scale = {'Republican': 'red', 'Democrat': 'blue'}\n",
    "\n",
    "\n",
    "fig = px.choropleth(df_econ_politcs.query(\"year == 2008\"), \n",
    "                    locations='state_abbrev', \n",
    "                    locationmode=\"USA-states\", \n",
    "                    scope=\"usa\",\n",
    "                    color='win_party',\n",
    "                    color_discrete_map=color_scale, \n",
    "                    )\n",
    "\n",
    "fig.update_layout(\n",
    "      title_text = 'Political Party by State in 2008',\n",
    "      title_font_size = 22,\n",
    "      title_x=0.45, \n",
    "    )\n",
    "\n",
    "fig.show()"
   ]
  },
  {
   "cell_type": "code",
   "execution_count": null,
   "id": "c8c000a1-be53-4eb2-8f54-c0774d6e6fef",
   "metadata": {},
   "outputs": [
    {
     "data": {
      "application/vnd.plotly.v1+json": {
       "config": {
        "plotlyServerURL": "https://plot.ly"
       },
       "data": [
        {
         "colorscale": [
          [
           0,
           "red"
          ],
          [
           1,
           "red"
          ]
         ],
         "geo": "geo",
         "hovertemplate": "win_party=Republican<br>state_abbrev=%{location}<extra></extra>",
         "locationmode": "USA-states",
         "locations": [
          "AK",
          "AL",
          "AR",
          "AZ",
          "CO",
          "FL",
          "GA",
          "IA",
          "ID",
          "IL",
          "IN",
          "KS",
          "KY",
          "LA",
          "MD",
          "ME",
          "MI",
          "MN",
          "MO",
          "MS",
          "MT",
          "NC",
          "ND",
          "NE",
          "NM",
          "NV",
          "NY",
          "OH",
          "OK",
          "OR",
          "PA",
          "SC",
          "SD",
          "TN",
          "TX",
          "UT",
          "VA",
          "WA",
          "WI",
          "WV",
          "WY"
         ],
         "name": "Republican",
         "showlegend": true,
         "showscale": false,
         "type": "choropleth",
         "z": [
          1,
          1,
          1,
          1,
          1,
          1,
          1,
          1,
          1,
          1,
          1,
          1,
          1,
          1,
          1,
          1,
          1,
          1,
          1,
          1,
          1,
          1,
          1,
          1,
          1,
          1,
          1,
          1,
          1,
          1,
          1,
          1,
          1,
          1,
          1,
          1,
          1,
          1,
          1,
          1,
          1
         ]
        },
        {
         "colorscale": [
          [
           0,
           "blue"
          ],
          [
           1,
           "blue"
          ]
         ],
         "geo": "geo",
         "hovertemplate": "win_party=Democrat<br>state_abbrev=%{location}<extra></extra>",
         "locationmode": "USA-states",
         "locations": [
          "CA",
          "CT",
          "DC",
          "DE",
          "HI",
          "MA",
          "NH",
          "NJ",
          "RI",
          "VT"
         ],
         "name": "Democrat",
         "showlegend": true,
         "showscale": false,
         "type": "choropleth",
         "z": [
          1,
          1,
          1,
          1,
          1,
          1,
          1,
          1,
          1,
          1
         ]
        }
       ],
       "layout": {
        "autosize": true,
        "geo": {
         "center": {
          "lat": 41.501609378366574,
          "lon": -93.26233360666058
         },
         "domain": {
          "x": [
           0,
           1
          ],
          "y": [
           0,
           1
          ]
         },
         "projection": {
          "scale": 0.8066417592221274
         },
         "scope": "usa"
        },
        "legend": {
         "title": {
          "text": "win_party"
         },
         "tracegroupgap": 0
        },
        "margin": {
         "t": 60
        },
        "template": {
         "data": {
          "bar": [
           {
            "error_x": {
             "color": "#2a3f5f"
            },
            "error_y": {
             "color": "#2a3f5f"
            },
            "marker": {
             "line": {
              "color": "#E5ECF6",
              "width": 0.5
             },
             "pattern": {
              "fillmode": "overlay",
              "size": 10,
              "solidity": 0.2
             }
            },
            "type": "bar"
           }
          ],
          "barpolar": [
           {
            "marker": {
             "line": {
              "color": "#E5ECF6",
              "width": 0.5
             },
             "pattern": {
              "fillmode": "overlay",
              "size": 10,
              "solidity": 0.2
             }
            },
            "type": "barpolar"
           }
          ],
          "carpet": [
           {
            "aaxis": {
             "endlinecolor": "#2a3f5f",
             "gridcolor": "white",
             "linecolor": "white",
             "minorgridcolor": "white",
             "startlinecolor": "#2a3f5f"
            },
            "baxis": {
             "endlinecolor": "#2a3f5f",
             "gridcolor": "white",
             "linecolor": "white",
             "minorgridcolor": "white",
             "startlinecolor": "#2a3f5f"
            },
            "type": "carpet"
           }
          ],
          "choropleth": [
           {
            "colorbar": {
             "outlinewidth": 0,
             "ticks": ""
            },
            "type": "choropleth"
           }
          ],
          "contour": [
           {
            "colorbar": {
             "outlinewidth": 0,
             "ticks": ""
            },
            "colorscale": [
             [
              0,
              "#0d0887"
             ],
             [
              0.1111111111111111,
              "#46039f"
             ],
             [
              0.2222222222222222,
              "#7201a8"
             ],
             [
              0.3333333333333333,
              "#9c179e"
             ],
             [
              0.4444444444444444,
              "#bd3786"
             ],
             [
              0.5555555555555556,
              "#d8576b"
             ],
             [
              0.6666666666666666,
              "#ed7953"
             ],
             [
              0.7777777777777778,
              "#fb9f3a"
             ],
             [
              0.8888888888888888,
              "#fdca26"
             ],
             [
              1,
              "#f0f921"
             ]
            ],
            "type": "contour"
           }
          ],
          "contourcarpet": [
           {
            "colorbar": {
             "outlinewidth": 0,
             "ticks": ""
            },
            "type": "contourcarpet"
           }
          ],
          "heatmap": [
           {
            "colorbar": {
             "outlinewidth": 0,
             "ticks": ""
            },
            "colorscale": [
             [
              0,
              "#0d0887"
             ],
             [
              0.1111111111111111,
              "#46039f"
             ],
             [
              0.2222222222222222,
              "#7201a8"
             ],
             [
              0.3333333333333333,
              "#9c179e"
             ],
             [
              0.4444444444444444,
              "#bd3786"
             ],
             [
              0.5555555555555556,
              "#d8576b"
             ],
             [
              0.6666666666666666,
              "#ed7953"
             ],
             [
              0.7777777777777778,
              "#fb9f3a"
             ],
             [
              0.8888888888888888,
              "#fdca26"
             ],
             [
              1,
              "#f0f921"
             ]
            ],
            "type": "heatmap"
           }
          ],
          "heatmapgl": [
           {
            "colorbar": {
             "outlinewidth": 0,
             "ticks": ""
            },
            "colorscale": [
             [
              0,
              "#0d0887"
             ],
             [
              0.1111111111111111,
              "#46039f"
             ],
             [
              0.2222222222222222,
              "#7201a8"
             ],
             [
              0.3333333333333333,
              "#9c179e"
             ],
             [
              0.4444444444444444,
              "#bd3786"
             ],
             [
              0.5555555555555556,
              "#d8576b"
             ],
             [
              0.6666666666666666,
              "#ed7953"
             ],
             [
              0.7777777777777778,
              "#fb9f3a"
             ],
             [
              0.8888888888888888,
              "#fdca26"
             ],
             [
              1,
              "#f0f921"
             ]
            ],
            "type": "heatmapgl"
           }
          ],
          "histogram": [
           {
            "marker": {
             "pattern": {
              "fillmode": "overlay",
              "size": 10,
              "solidity": 0.2
             }
            },
            "type": "histogram"
           }
          ],
          "histogram2d": [
           {
            "colorbar": {
             "outlinewidth": 0,
             "ticks": ""
            },
            "colorscale": [
             [
              0,
              "#0d0887"
             ],
             [
              0.1111111111111111,
              "#46039f"
             ],
             [
              0.2222222222222222,
              "#7201a8"
             ],
             [
              0.3333333333333333,
              "#9c179e"
             ],
             [
              0.4444444444444444,
              "#bd3786"
             ],
             [
              0.5555555555555556,
              "#d8576b"
             ],
             [
              0.6666666666666666,
              "#ed7953"
             ],
             [
              0.7777777777777778,
              "#fb9f3a"
             ],
             [
              0.8888888888888888,
              "#fdca26"
             ],
             [
              1,
              "#f0f921"
             ]
            ],
            "type": "histogram2d"
           }
          ],
          "histogram2dcontour": [
           {
            "colorbar": {
             "outlinewidth": 0,
             "ticks": ""
            },
            "colorscale": [
             [
              0,
              "#0d0887"
             ],
             [
              0.1111111111111111,
              "#46039f"
             ],
             [
              0.2222222222222222,
              "#7201a8"
             ],
             [
              0.3333333333333333,
              "#9c179e"
             ],
             [
              0.4444444444444444,
              "#bd3786"
             ],
             [
              0.5555555555555556,
              "#d8576b"
             ],
             [
              0.6666666666666666,
              "#ed7953"
             ],
             [
              0.7777777777777778,
              "#fb9f3a"
             ],
             [
              0.8888888888888888,
              "#fdca26"
             ],
             [
              1,
              "#f0f921"
             ]
            ],
            "type": "histogram2dcontour"
           }
          ],
          "mesh3d": [
           {
            "colorbar": {
             "outlinewidth": 0,
             "ticks": ""
            },
            "type": "mesh3d"
           }
          ],
          "parcoords": [
           {
            "line": {
             "colorbar": {
              "outlinewidth": 0,
              "ticks": ""
             }
            },
            "type": "parcoords"
           }
          ],
          "pie": [
           {
            "automargin": true,
            "type": "pie"
           }
          ],
          "scatter": [
           {
            "fillpattern": {
             "fillmode": "overlay",
             "size": 10,
             "solidity": 0.2
            },
            "type": "scatter"
           }
          ],
          "scatter3d": [
           {
            "line": {
             "colorbar": {
              "outlinewidth": 0,
              "ticks": ""
             }
            },
            "marker": {
             "colorbar": {
              "outlinewidth": 0,
              "ticks": ""
             }
            },
            "type": "scatter3d"
           }
          ],
          "scattercarpet": [
           {
            "marker": {
             "colorbar": {
              "outlinewidth": 0,
              "ticks": ""
             }
            },
            "type": "scattercarpet"
           }
          ],
          "scattergeo": [
           {
            "marker": {
             "colorbar": {
              "outlinewidth": 0,
              "ticks": ""
             }
            },
            "type": "scattergeo"
           }
          ],
          "scattergl": [
           {
            "marker": {
             "colorbar": {
              "outlinewidth": 0,
              "ticks": ""
             }
            },
            "type": "scattergl"
           }
          ],
          "scattermapbox": [
           {
            "marker": {
             "colorbar": {
              "outlinewidth": 0,
              "ticks": ""
             }
            },
            "type": "scattermapbox"
           }
          ],
          "scatterpolar": [
           {
            "marker": {
             "colorbar": {
              "outlinewidth": 0,
              "ticks": ""
             }
            },
            "type": "scatterpolar"
           }
          ],
          "scatterpolargl": [
           {
            "marker": {
             "colorbar": {
              "outlinewidth": 0,
              "ticks": ""
             }
            },
            "type": "scatterpolargl"
           }
          ],
          "scatterternary": [
           {
            "marker": {
             "colorbar": {
              "outlinewidth": 0,
              "ticks": ""
             }
            },
            "type": "scatterternary"
           }
          ],
          "surface": [
           {
            "colorbar": {
             "outlinewidth": 0,
             "ticks": ""
            },
            "colorscale": [
             [
              0,
              "#0d0887"
             ],
             [
              0.1111111111111111,
              "#46039f"
             ],
             [
              0.2222222222222222,
              "#7201a8"
             ],
             [
              0.3333333333333333,
              "#9c179e"
             ],
             [
              0.4444444444444444,
              "#bd3786"
             ],
             [
              0.5555555555555556,
              "#d8576b"
             ],
             [
              0.6666666666666666,
              "#ed7953"
             ],
             [
              0.7777777777777778,
              "#fb9f3a"
             ],
             [
              0.8888888888888888,
              "#fdca26"
             ],
             [
              1,
              "#f0f921"
             ]
            ],
            "type": "surface"
           }
          ],
          "table": [
           {
            "cells": {
             "fill": {
              "color": "#EBF0F8"
             },
             "line": {
              "color": "white"
             }
            },
            "header": {
             "fill": {
              "color": "#C8D4E3"
             },
             "line": {
              "color": "white"
             }
            },
            "type": "table"
           }
          ]
         },
         "layout": {
          "annotationdefaults": {
           "arrowcolor": "#2a3f5f",
           "arrowhead": 0,
           "arrowwidth": 1
          },
          "autotypenumbers": "strict",
          "coloraxis": {
           "colorbar": {
            "outlinewidth": 0,
            "ticks": ""
           }
          },
          "colorscale": {
           "diverging": [
            [
             0,
             "#8e0152"
            ],
            [
             0.1,
             "#c51b7d"
            ],
            [
             0.2,
             "#de77ae"
            ],
            [
             0.3,
             "#f1b6da"
            ],
            [
             0.4,
             "#fde0ef"
            ],
            [
             0.5,
             "#f7f7f7"
            ],
            [
             0.6,
             "#e6f5d0"
            ],
            [
             0.7,
             "#b8e186"
            ],
            [
             0.8,
             "#7fbc41"
            ],
            [
             0.9,
             "#4d9221"
            ],
            [
             1,
             "#276419"
            ]
           ],
           "sequential": [
            [
             0,
             "#0d0887"
            ],
            [
             0.1111111111111111,
             "#46039f"
            ],
            [
             0.2222222222222222,
             "#7201a8"
            ],
            [
             0.3333333333333333,
             "#9c179e"
            ],
            [
             0.4444444444444444,
             "#bd3786"
            ],
            [
             0.5555555555555556,
             "#d8576b"
            ],
            [
             0.6666666666666666,
             "#ed7953"
            ],
            [
             0.7777777777777778,
             "#fb9f3a"
            ],
            [
             0.8888888888888888,
             "#fdca26"
            ],
            [
             1,
             "#f0f921"
            ]
           ],
           "sequentialminus": [
            [
             0,
             "#0d0887"
            ],
            [
             0.1111111111111111,
             "#46039f"
            ],
            [
             0.2222222222222222,
             "#7201a8"
            ],
            [
             0.3333333333333333,
             "#9c179e"
            ],
            [
             0.4444444444444444,
             "#bd3786"
            ],
            [
             0.5555555555555556,
             "#d8576b"
            ],
            [
             0.6666666666666666,
             "#ed7953"
            ],
            [
             0.7777777777777778,
             "#fb9f3a"
            ],
            [
             0.8888888888888888,
             "#fdca26"
            ],
            [
             1,
             "#f0f921"
            ]
           ]
          },
          "colorway": [
           "#636efa",
           "#EF553B",
           "#00cc96",
           "#ab63fa",
           "#FFA15A",
           "#19d3f3",
           "#FF6692",
           "#B6E880",
           "#FF97FF",
           "#FECB52"
          ],
          "font": {
           "color": "#2a3f5f"
          },
          "geo": {
           "bgcolor": "white",
           "lakecolor": "white",
           "landcolor": "#E5ECF6",
           "showlakes": true,
           "showland": true,
           "subunitcolor": "white"
          },
          "hoverlabel": {
           "align": "left"
          },
          "hovermode": "closest",
          "mapbox": {
           "style": "light"
          },
          "paper_bgcolor": "white",
          "plot_bgcolor": "#E5ECF6",
          "polar": {
           "angularaxis": {
            "gridcolor": "white",
            "linecolor": "white",
            "ticks": ""
           },
           "bgcolor": "#E5ECF6",
           "radialaxis": {
            "gridcolor": "white",
            "linecolor": "white",
            "ticks": ""
           }
          },
          "scene": {
           "xaxis": {
            "backgroundcolor": "#E5ECF6",
            "gridcolor": "white",
            "gridwidth": 2,
            "linecolor": "white",
            "showbackground": true,
            "ticks": "",
            "zerolinecolor": "white"
           },
           "yaxis": {
            "backgroundcolor": "#E5ECF6",
            "gridcolor": "white",
            "gridwidth": 2,
            "linecolor": "white",
            "showbackground": true,
            "ticks": "",
            "zerolinecolor": "white"
           },
           "zaxis": {
            "backgroundcolor": "#E5ECF6",
            "gridcolor": "white",
            "gridwidth": 2,
            "linecolor": "white",
            "showbackground": true,
            "ticks": "",
            "zerolinecolor": "white"
           }
          },
          "shapedefaults": {
           "line": {
            "color": "#2a3f5f"
           }
          },
          "ternary": {
           "aaxis": {
            "gridcolor": "white",
            "linecolor": "white",
            "ticks": ""
           },
           "baxis": {
            "gridcolor": "white",
            "linecolor": "white",
            "ticks": ""
           },
           "bgcolor": "#E5ECF6",
           "caxis": {
            "gridcolor": "white",
            "linecolor": "white",
            "ticks": ""
           }
          },
          "title": {
           "x": 0.05
          },
          "xaxis": {
           "automargin": true,
           "gridcolor": "white",
           "linecolor": "white",
           "ticks": "",
           "title": {
            "standoff": 15
           },
           "zerolinecolor": "white",
           "zerolinewidth": 2
          },
          "yaxis": {
           "automargin": true,
           "gridcolor": "white",
           "linecolor": "white",
           "ticks": "",
           "title": {
            "standoff": 15
           },
           "zerolinecolor": "white",
           "zerolinewidth": 2
          }
         }
        },
        "title": {
         "font": {
          "size": 22
         },
         "text": "Political Party by State in 2016",
         "x": 0.45
        }
       }
      },
      "image/png": "[encoded data removed]",
      "text/html": [
       "<div>                            <div id=\"ebc7aba2-d95e-4ae1-9b4a-fc708f66a802\" class=\"plotly-graph-div\" style=\"height:525px; width:100%;\"></div>            <script type=\"text/javascript\">                require([\"plotly\"], function(Plotly) {                    window.PLOTLYENV=window.PLOTLYENV || {};                                    if (document.getElementById(\"ebc7aba2-d95e-4ae1-9b4a-fc708f66a802\")) {                    Plotly.newPlot(                        \"ebc7aba2-d95e-4ae1-9b4a-fc708f66a802\",                        [{\"colorscale\":[[0.0,\"red\"],[1.0,\"red\"]],\"geo\":\"geo\",\"hovertemplate\":\"win_party=Republican<br>state_abbrev=%{location}<extra></extra>\",\"locationmode\":\"USA-states\",\"locations\":[\"AK\",\"AL\",\"AR\",\"AZ\",\"CO\",\"FL\",\"GA\",\"IA\",\"ID\",\"IL\",\"IN\",\"KS\",\"KY\",\"LA\",\"MD\",\"ME\",\"MI\",\"MN\",\"MO\",\"MS\",\"MT\",\"NC\",\"ND\",\"NE\",\"NM\",\"NV\",\"NY\",\"OH\",\"OK\",\"OR\",\"PA\",\"SC\",\"SD\",\"TN\",\"TX\",\"UT\",\"VA\",\"WA\",\"WI\",\"WV\",\"WY\"],\"name\":\"Republican\",\"showlegend\":true,\"showscale\":false,\"z\":[1,1,1,1,1,1,1,1,1,1,1,1,1,1,1,1,1,1,1,1,1,1,1,1,1,1,1,1,1,1,1,1,1,1,1,1,1,1,1,1,1],\"type\":\"choropleth\"},{\"colorscale\":[[0.0,\"blue\"],[1.0,\"blue\"]],\"geo\":\"geo\",\"hovertemplate\":\"win_party=Democrat<br>state_abbrev=%{location}<extra></extra>\",\"locationmode\":\"USA-states\",\"locations\":[\"CA\",\"CT\",\"DC\",\"DE\",\"HI\",\"MA\",\"NH\",\"NJ\",\"RI\",\"VT\"],\"name\":\"Democrat\",\"showlegend\":true,\"showscale\":false,\"z\":[1,1,1,1,1,1,1,1,1,1],\"type\":\"choropleth\"}],                        {\"template\":{\"data\":{\"histogram2dcontour\":[{\"type\":\"histogram2dcontour\",\"colorbar\":{\"outlinewidth\":0,\"ticks\":\"\"},\"colorscale\":[[0.0,\"#0d0887\"],[0.1111111111111111,\"#46039f\"],[0.2222222222222222,\"#7201a8\"],[0.3333333333333333,\"#9c179e\"],[0.4444444444444444,\"#bd3786\"],[0.5555555555555556,\"#d8576b\"],[0.6666666666666666,\"#ed7953\"],[0.7777777777777778,\"#fb9f3a\"],[0.8888888888888888,\"#fdca26\"],[1.0,\"#f0f921\"]]}],\"choropleth\":[{\"type\":\"choropleth\",\"colorbar\":{\"outlinewidth\":0,\"ticks\":\"\"}}],\"histogram2d\":[{\"type\":\"histogram2d\",\"colorbar\":{\"outlinewidth\":0,\"ticks\":\"\"},\"colorscale\":[[0.0,\"#0d0887\"],[0.1111111111111111,\"#46039f\"],[0.2222222222222222,\"#7201a8\"],[0.3333333333333333,\"#9c179e\"],[0.4444444444444444,\"#bd3786\"],[0.5555555555555556,\"#d8576b\"],[0.6666666666666666,\"#ed7953\"],[0.7777777777777778,\"#fb9f3a\"],[0.8888888888888888,\"#fdca26\"],[1.0,\"#f0f921\"]]}],\"heatmap\":[{\"type\":\"heatmap\",\"colorbar\":{\"outlinewidth\":0,\"ticks\":\"\"},\"colorscale\":[[0.0,\"#0d0887\"],[0.1111111111111111,\"#46039f\"],[0.2222222222222222,\"#7201a8\"],[0.3333333333333333,\"#9c179e\"],[0.4444444444444444,\"#bd3786\"],[0.5555555555555556,\"#d8576b\"],[0.6666666666666666,\"#ed7953\"],[0.7777777777777778,\"#fb9f3a\"],[0.8888888888888888,\"#fdca26\"],[1.0,\"#f0f921\"]]}],\"heatmapgl\":[{\"type\":\"heatmapgl\",\"colorbar\":{\"outlinewidth\":0,\"ticks\":\"\"},\"colorscale\":[[0.0,\"#0d0887\"],[0.1111111111111111,\"#46039f\"],[0.2222222222222222,\"#7201a8\"],[0.3333333333333333,\"#9c179e\"],[0.4444444444444444,\"#bd3786\"],[0.5555555555555556,\"#d8576b\"],[0.6666666666666666,\"#ed7953\"],[0.7777777777777778,\"#fb9f3a\"],[0.8888888888888888,\"#fdca26\"],[1.0,\"#f0f921\"]]}],\"contourcarpet\":[{\"type\":\"contourcarpet\",\"colorbar\":{\"outlinewidth\":0,\"ticks\":\"\"}}],\"contour\":[{\"type\":\"contour\",\"colorbar\":{\"outlinewidth\":0,\"ticks\":\"\"},\"colorscale\":[[0.0,\"#0d0887\"],[0.1111111111111111,\"#46039f\"],[0.2222222222222222,\"#7201a8\"],[0.3333333333333333,\"#9c179e\"],[0.4444444444444444,\"#bd3786\"],[0.5555555555555556,\"#d8576b\"],[0.6666666666666666,\"#ed7953\"],[0.7777777777777778,\"#fb9f3a\"],[0.8888888888888888,\"#fdca26\"],[1.0,\"#f0f921\"]]}],\"surface\":[{\"type\":\"surface\",\"colorbar\":{\"outlinewidth\":0,\"ticks\":\"\"},\"colorscale\":[[0.0,\"#0d0887\"],[0.1111111111111111,\"#46039f\"],[0.2222222222222222,\"#7201a8\"],[0.3333333333333333,\"#9c179e\"],[0.4444444444444444,\"#bd3786\"],[0.5555555555555556,\"#d8576b\"],[0.6666666666666666,\"#ed7953\"],[0.7777777777777778,\"#fb9f3a\"],[0.8888888888888888,\"#fdca26\"],[1.0,\"#f0f921\"]]}],\"mesh3d\":[{\"type\":\"mesh3d\",\"colorbar\":{\"outlinewidth\":0,\"ticks\":\"\"}}],\"scatter\":[{\"fillpattern\":{\"fillmode\":\"overlay\",\"size\":10,\"solidity\":0.2},\"type\":\"scatter\"}],\"parcoords\":[{\"type\":\"parcoords\",\"line\":{\"colorbar\":{\"outlinewidth\":0,\"ticks\":\"\"}}}],\"scatterpolargl\":[{\"type\":\"scatterpolargl\",\"marker\":{\"colorbar\":{\"outlinewidth\":0,\"ticks\":\"\"}}}],\"bar\":[{\"error_x\":{\"color\":\"#2a3f5f\"},\"error_y\":{\"color\":\"#2a3f5f\"},\"marker\":{\"line\":{\"color\":\"#E5ECF6\",\"width\":0.5},\"pattern\":{\"fillmode\":\"overlay\",\"size\":10,\"solidity\":0.2}},\"type\":\"bar\"}],\"scattergeo\":[{\"type\":\"scattergeo\",\"marker\":{\"colorbar\":{\"outlinewidth\":0,\"ticks\":\"\"}}}],\"scatterpolar\":[{\"type\":\"scatterpolar\",\"marker\":{\"colorbar\":{\"outlinewidth\":0,\"ticks\":\"\"}}}],\"histogram\":[{\"marker\":{\"pattern\":{\"fillmode\":\"overlay\",\"size\":10,\"solidity\":0.2}},\"type\":\"histogram\"}],\"scattergl\":[{\"type\":\"scattergl\",\"marker\":{\"colorbar\":{\"outlinewidth\":0,\"ticks\":\"\"}}}],\"scatter3d\":[{\"type\":\"scatter3d\",\"line\":{\"colorbar\":{\"outlinewidth\":0,\"ticks\":\"\"}},\"marker\":{\"colorbar\":{\"outlinewidth\":0,\"ticks\":\"\"}}}],\"scattermapbox\":[{\"type\":\"scattermapbox\",\"marker\":{\"colorbar\":{\"outlinewidth\":0,\"ticks\":\"\"}}}],\"scatterternary\":[{\"type\":\"scatterternary\",\"marker\":{\"colorbar\":{\"outlinewidth\":0,\"ticks\":\"\"}}}],\"scattercarpet\":[{\"type\":\"scattercarpet\",\"marker\":{\"colorbar\":{\"outlinewidth\":0,\"ticks\":\"\"}}}],\"carpet\":[{\"aaxis\":{\"endlinecolor\":\"#2a3f5f\",\"gridcolor\":\"white\",\"linecolor\":\"white\",\"minorgridcolor\":\"white\",\"startlinecolor\":\"#2a3f5f\"},\"baxis\":{\"endlinecolor\":\"#2a3f5f\",\"gridcolor\":\"white\",\"linecolor\":\"white\",\"minorgridcolor\":\"white\",\"startlinecolor\":\"#2a3f5f\"},\"type\":\"carpet\"}],\"table\":[{\"cells\":{\"fill\":{\"color\":\"#EBF0F8\"},\"line\":{\"color\":\"white\"}},\"header\":{\"fill\":{\"color\":\"#C8D4E3\"},\"line\":{\"color\":\"white\"}},\"type\":\"table\"}],\"barpolar\":[{\"marker\":{\"line\":{\"color\":\"#E5ECF6\",\"width\":0.5},\"pattern\":{\"fillmode\":\"overlay\",\"size\":10,\"solidity\":0.2}},\"type\":\"barpolar\"}],\"pie\":[{\"automargin\":true,\"type\":\"pie\"}]},\"layout\":{\"autotypenumbers\":\"strict\",\"colorway\":[\"#636efa\",\"#EF553B\",\"#00cc96\",\"#ab63fa\",\"#FFA15A\",\"#19d3f3\",\"#FF6692\",\"#B6E880\",\"#FF97FF\",\"#FECB52\"],\"font\":{\"color\":\"#2a3f5f\"},\"hovermode\":\"closest\",\"hoverlabel\":{\"align\":\"left\"},\"paper_bgcolor\":\"white\",\"plot_bgcolor\":\"#E5ECF6\",\"polar\":{\"bgcolor\":\"#E5ECF6\",\"angularaxis\":{\"gridcolor\":\"white\",\"linecolor\":\"white\",\"ticks\":\"\"},\"radialaxis\":{\"gridcolor\":\"white\",\"linecolor\":\"white\",\"ticks\":\"\"}},\"ternary\":{\"bgcolor\":\"#E5ECF6\",\"aaxis\":{\"gridcolor\":\"white\",\"linecolor\":\"white\",\"ticks\":\"\"},\"baxis\":{\"gridcolor\":\"white\",\"linecolor\":\"white\",\"ticks\":\"\"},\"caxis\":{\"gridcolor\":\"white\",\"linecolor\":\"white\",\"ticks\":\"\"}},\"coloraxis\":{\"colorbar\":{\"outlinewidth\":0,\"ticks\":\"\"}},\"colorscale\":{\"sequential\":[[0.0,\"#0d0887\"],[0.1111111111111111,\"#46039f\"],[0.2222222222222222,\"#7201a8\"],[0.3333333333333333,\"#9c179e\"],[0.4444444444444444,\"#bd3786\"],[0.5555555555555556,\"#d8576b\"],[0.6666666666666666,\"#ed7953\"],[0.7777777777777778,\"#fb9f3a\"],[0.8888888888888888,\"#fdca26\"],[1.0,\"#f0f921\"]],\"sequentialminus\":[[0.0,\"#0d0887\"],[0.1111111111111111,\"#46039f\"],[0.2222222222222222,\"#7201a8\"],[0.3333333333333333,\"#9c179e\"],[0.4444444444444444,\"#bd3786\"],[0.5555555555555556,\"#d8576b\"],[0.6666666666666666,\"#ed7953\"],[0.7777777777777778,\"#fb9f3a\"],[0.8888888888888888,\"#fdca26\"],[1.0,\"#f0f921\"]],\"diverging\":[[0,\"#8e0152\"],[0.1,\"#c51b7d\"],[0.2,\"#de77ae\"],[0.3,\"#f1b6da\"],[0.4,\"#fde0ef\"],[0.5,\"#f7f7f7\"],[0.6,\"#e6f5d0\"],[0.7,\"#b8e186\"],[0.8,\"#7fbc41\"],[0.9,\"#4d9221\"],[1,\"#276419\"]]},\"xaxis\":{\"gridcolor\":\"white\",\"linecolor\":\"white\",\"ticks\":\"\",\"title\":{\"standoff\":15},\"zerolinecolor\":\"white\",\"automargin\":true,\"zerolinewidth\":2},\"yaxis\":{\"gridcolor\":\"white\",\"linecolor\":\"white\",\"ticks\":\"\",\"title\":{\"standoff\":15},\"zerolinecolor\":\"white\",\"automargin\":true,\"zerolinewidth\":2},\"scene\":{\"xaxis\":{\"backgroundcolor\":\"#E5ECF6\",\"gridcolor\":\"white\",\"linecolor\":\"white\",\"showbackground\":true,\"ticks\":\"\",\"zerolinecolor\":\"white\",\"gridwidth\":2},\"yaxis\":{\"backgroundcolor\":\"#E5ECF6\",\"gridcolor\":\"white\",\"linecolor\":\"white\",\"showbackground\":true,\"ticks\":\"\",\"zerolinecolor\":\"white\",\"gridwidth\":2},\"zaxis\":{\"backgroundcolor\":\"#E5ECF6\",\"gridcolor\":\"white\",\"linecolor\":\"white\",\"showbackground\":true,\"ticks\":\"\",\"zerolinecolor\":\"white\",\"gridwidth\":2}},\"shapedefaults\":{\"line\":{\"color\":\"#2a3f5f\"}},\"annotationdefaults\":{\"arrowcolor\":\"#2a3f5f\",\"arrowhead\":0,\"arrowwidth\":1},\"geo\":{\"bgcolor\":\"white\",\"landcolor\":\"#E5ECF6\",\"subunitcolor\":\"white\",\"showland\":true,\"showlakes\":true,\"lakecolor\":\"white\"},\"title\":{\"x\":0.05},\"mapbox\":{\"style\":\"light\"}}},\"geo\":{\"domain\":{\"x\":[0.0,1.0],\"y\":[0.0,1.0]},\"center\":{},\"scope\":\"usa\"},\"legend\":{\"title\":{\"text\":\"win_party\"},\"tracegroupgap\":0},\"margin\":{\"t\":60},\"title\":{\"font\":{\"size\":22},\"text\":\"Political Party by State in 2016\",\"x\":0.45}},                        {\"responsive\": true}                    ).then(function(){\n",
       "                            \n",
       "var gd = document.getElementById('ebc7aba2-d95e-4ae1-9b4a-fc708f66a802');\n",
       "var x = new MutationObserver(function (mutations, observer) {{\n",
       "        var display = window.getComputedStyle(gd).display;\n",
       "        if (!display || display === 'none') {{\n",
       "            console.log([gd, 'removed!']);\n",
       "            Plotly.purge(gd);\n",
       "            observer.disconnect();\n",
       "        }}\n",
       "}});\n",
       "\n",
       "// Listen for the removal of the full notebook cells\n",
       "var notebookContainer = gd.closest('#notebook-container');\n",
       "if (notebookContainer) {{\n",
       "    x.observe(notebookContainer, {childList: true});\n",
       "}}\n",
       "\n",
       "// Listen for the clearing of the current output cell\n",
       "var outputEl = gd.closest('.output');\n",
       "if (outputEl) {{\n",
       "    x.observe(outputEl, {childList: true});\n",
       "}}\n",
       "\n",
       "                        })                };                });            </script>        </div>"
      ]
     },
     "metadata": {},
     "output_type": "display_data"
    }
   ],
   "source": [
    "color_scale = {'Republican': 'red', 'Democrat': 'blue'}\n",
    "\n",
    "\n",
    "fig = px.choropleth(df_econ_politcs.query(\"year == 2016\"), \n",
    "                    locations='state_abbrev', \n",
    "                    locationmode=\"USA-states\", \n",
    "                    scope=\"usa\",\n",
    "                    color='win_party',\n",
    "                    color_discrete_map=color_scale, \n",
    "                    )\n",
    "\n",
    "fig.update_layout(\n",
    "      title_text = 'Political Party by State in 2016',\n",
    "      title_font_size = 22,\n",
    "      title_x=0.45, \n",
    "    )\n",
    "\n",
    "fig.show()"
   ]
  },
  {
   "cell_type": "markdown",
   "metadata": {},
   "source": [
    "## <a id='toc2_10_'></a>[Choropleth graph of average salary by state](#toc0_)"
   ]
  },
  {
   "cell_type": "code",
   "execution_count": 43,
   "id": "521bbf3c-3d14-45bc-92f2-8030780e9583",
   "metadata": {},
   "outputs": [
    {
     "data": {
      "text/plain": [
       "Index(['year', 'state_abbrev', 'homeless_count', 'democrat_perc', 'AvgSalary',\n",
       "       'PerCapNetEarning', 'PerCapNetIncome', 'TotalNumJobs'],\n",
       "      dtype='object')"
      ]
     },
     "execution_count": 43,
     "metadata": {},
     "output_type": "execute_result"
    }
   ],
   "source": [
    "df_econ_politcs.columns"
   ]
  },
  {
   "cell_type": "code",
   "execution_count": 44,
   "id": "ebd5eef0-db8a-4cc3-9695-6d196f6e19a1",
   "metadata": {},
   "outputs": [
    {
     "data": {
      "application/vnd.plotly.v1+json": {
       "config": {
        "plotlyServerURL": "https://plot.ly"
       },
       "data": [
        {
         "coloraxis": "coloraxis",
         "geo": "geo",
         "hovertemplate": "state_abbrev=%{location}<br>AvgSalary=%{z}<extra></extra>",
         "locationmode": "USA-states",
         "locations": [
          "AK",
          "AL",
          "AR",
          "AZ",
          "CA",
          "CO",
          "CT",
          "DC",
          "DE",
          "FL",
          "GA",
          "GU",
          "HI",
          "IA",
          "ID",
          "IL",
          "IN",
          "KS",
          "KY",
          "LA",
          "MA",
          "MD",
          "ME",
          "MI",
          "MN",
          "MO",
          "MS",
          "MT",
          "NC",
          "ND",
          "NE",
          "NH",
          "NJ",
          "NM",
          "NV",
          "NY",
          "OH",
          "OK",
          "OR",
          "PA",
          "PR",
          "RI",
          "SC",
          "SD",
          "TN",
          "TX",
          "UT",
          "VA",
          "VI",
          "VT",
          "WA",
          "WI",
          "WV",
          "WY"
         ],
         "name": "",
         "type": "choropleth",
         "z": [
          48527,
          38138,
          35310,
          43311,
          52524,
          47167,
          57543,
          75323,
          46839,
          41852,
          43592,
          null,
          42131,
          36227,
          34654,
          49430,
          38942,
          39098,
          37223,
          41087,
          55727,
          50640,
          37422,
          43686,
          45070,
          41168,
          34280,
          33394,
          40697,
          34947,
          37947,
          44307,
          54507,
          38682,
          44105,
          59408,
          41221,
          37820,
          41233,
          43517,
          null,
          43554,
          37367,
          32649,
          39461,
          45537,
          38696,
          48504,
          null,
          37706,
          47274,
          39662,
          35514,
          42316
         ]
        }
       ],
       "layout": {
        "coloraxis": {
         "colorbar": {
          "title": {
           "text": "AvgSalary"
          }
         },
         "colorscale": [
          [
           0,
           "#fde725"
          ],
          [
           0.1111111111111111,
           "#b5de2b"
          ],
          [
           0.2222222222222222,
           "#6ece58"
          ],
          [
           0.3333333333333333,
           "#35b779"
          ],
          [
           0.4444444444444444,
           "#1f9e89"
          ],
          [
           0.5555555555555556,
           "#26828e"
          ],
          [
           0.6666666666666666,
           "#31688e"
          ],
          [
           0.7777777777777778,
           "#3e4989"
          ],
          [
           0.8888888888888888,
           "#482878"
          ],
          [
           1,
           "#440154"
          ]
         ]
        },
        "geo": {
         "center": {},
         "domain": {
          "x": [
           0,
           1
          ],
          "y": [
           0,
           1
          ]
         },
         "scope": "usa"
        },
        "legend": {
         "tracegroupgap": 0
        },
        "margin": {
         "t": 60
        },
        "template": {
         "data": {
          "bar": [
           {
            "error_x": {
             "color": "#2a3f5f"
            },
            "error_y": {
             "color": "#2a3f5f"
            },
            "marker": {
             "line": {
              "color": "#E5ECF6",
              "width": 0.5
             },
             "pattern": {
              "fillmode": "overlay",
              "size": 10,
              "solidity": 0.2
             }
            },
            "type": "bar"
           }
          ],
          "barpolar": [
           {
            "marker": {
             "line": {
              "color": "#E5ECF6",
              "width": 0.5
             },
             "pattern": {
              "fillmode": "overlay",
              "size": 10,
              "solidity": 0.2
             }
            },
            "type": "barpolar"
           }
          ],
          "carpet": [
           {
            "aaxis": {
             "endlinecolor": "#2a3f5f",
             "gridcolor": "white",
             "linecolor": "white",
             "minorgridcolor": "white",
             "startlinecolor": "#2a3f5f"
            },
            "baxis": {
             "endlinecolor": "#2a3f5f",
             "gridcolor": "white",
             "linecolor": "white",
             "minorgridcolor": "white",
             "startlinecolor": "#2a3f5f"
            },
            "type": "carpet"
           }
          ],
          "choropleth": [
           {
            "colorbar": {
             "outlinewidth": 0,
             "ticks": ""
            },
            "type": "choropleth"
           }
          ],
          "contour": [
           {
            "colorbar": {
             "outlinewidth": 0,
             "ticks": ""
            },
            "colorscale": [
             [
              0,
              "#0d0887"
             ],
             [
              0.1111111111111111,
              "#46039f"
             ],
             [
              0.2222222222222222,
              "#7201a8"
             ],
             [
              0.3333333333333333,
              "#9c179e"
             ],
             [
              0.4444444444444444,
              "#bd3786"
             ],
             [
              0.5555555555555556,
              "#d8576b"
             ],
             [
              0.6666666666666666,
              "#ed7953"
             ],
             [
              0.7777777777777778,
              "#fb9f3a"
             ],
             [
              0.8888888888888888,
              "#fdca26"
             ],
             [
              1,
              "#f0f921"
             ]
            ],
            "type": "contour"
           }
          ],
          "contourcarpet": [
           {
            "colorbar": {
             "outlinewidth": 0,
             "ticks": ""
            },
            "type": "contourcarpet"
           }
          ],
          "heatmap": [
           {
            "colorbar": {
             "outlinewidth": 0,
             "ticks": ""
            },
            "colorscale": [
             [
              0,
              "#0d0887"
             ],
             [
              0.1111111111111111,
              "#46039f"
             ],
             [
              0.2222222222222222,
              "#7201a8"
             ],
             [
              0.3333333333333333,
              "#9c179e"
             ],
             [
              0.4444444444444444,
              "#bd3786"
             ],
             [
              0.5555555555555556,
              "#d8576b"
             ],
             [
              0.6666666666666666,
              "#ed7953"
             ],
             [
              0.7777777777777778,
              "#fb9f3a"
             ],
             [
              0.8888888888888888,
              "#fdca26"
             ],
             [
              1,
              "#f0f921"
             ]
            ],
            "type": "heatmap"
           }
          ],
          "heatmapgl": [
           {
            "colorbar": {
             "outlinewidth": 0,
             "ticks": ""
            },
            "colorscale": [
             [
              0,
              "#0d0887"
             ],
             [
              0.1111111111111111,
              "#46039f"
             ],
             [
              0.2222222222222222,
              "#7201a8"
             ],
             [
              0.3333333333333333,
              "#9c179e"
             ],
             [
              0.4444444444444444,
              "#bd3786"
             ],
             [
              0.5555555555555556,
              "#d8576b"
             ],
             [
              0.6666666666666666,
              "#ed7953"
             ],
             [
              0.7777777777777778,
              "#fb9f3a"
             ],
             [
              0.8888888888888888,
              "#fdca26"
             ],
             [
              1,
              "#f0f921"
             ]
            ],
            "type": "heatmapgl"
           }
          ],
          "histogram": [
           {
            "marker": {
             "pattern": {
              "fillmode": "overlay",
              "size": 10,
              "solidity": 0.2
             }
            },
            "type": "histogram"
           }
          ],
          "histogram2d": [
           {
            "colorbar": {
             "outlinewidth": 0,
             "ticks": ""
            },
            "colorscale": [
             [
              0,
              "#0d0887"
             ],
             [
              0.1111111111111111,
              "#46039f"
             ],
             [
              0.2222222222222222,
              "#7201a8"
             ],
             [
              0.3333333333333333,
              "#9c179e"
             ],
             [
              0.4444444444444444,
              "#bd3786"
             ],
             [
              0.5555555555555556,
              "#d8576b"
             ],
             [
              0.6666666666666666,
              "#ed7953"
             ],
             [
              0.7777777777777778,
              "#fb9f3a"
             ],
             [
              0.8888888888888888,
              "#fdca26"
             ],
             [
              1,
              "#f0f921"
             ]
            ],
            "type": "histogram2d"
           }
          ],
          "histogram2dcontour": [
           {
            "colorbar": {
             "outlinewidth": 0,
             "ticks": ""
            },
            "colorscale": [
             [
              0,
              "#0d0887"
             ],
             [
              0.1111111111111111,
              "#46039f"
             ],
             [
              0.2222222222222222,
              "#7201a8"
             ],
             [
              0.3333333333333333,
              "#9c179e"
             ],
             [
              0.4444444444444444,
              "#bd3786"
             ],
             [
              0.5555555555555556,
              "#d8576b"
             ],
             [
              0.6666666666666666,
              "#ed7953"
             ],
             [
              0.7777777777777778,
              "#fb9f3a"
             ],
             [
              0.8888888888888888,
              "#fdca26"
             ],
             [
              1,
              "#f0f921"
             ]
            ],
            "type": "histogram2dcontour"
           }
          ],
          "mesh3d": [
           {
            "colorbar": {
             "outlinewidth": 0,
             "ticks": ""
            },
            "type": "mesh3d"
           }
          ],
          "parcoords": [
           {
            "line": {
             "colorbar": {
              "outlinewidth": 0,
              "ticks": ""
             }
            },
            "type": "parcoords"
           }
          ],
          "pie": [
           {
            "automargin": true,
            "type": "pie"
           }
          ],
          "scatter": [
           {
            "fillpattern": {
             "fillmode": "overlay",
             "size": 10,
             "solidity": 0.2
            },
            "type": "scatter"
           }
          ],
          "scatter3d": [
           {
            "line": {
             "colorbar": {
              "outlinewidth": 0,
              "ticks": ""
             }
            },
            "marker": {
             "colorbar": {
              "outlinewidth": 0,
              "ticks": ""
             }
            },
            "type": "scatter3d"
           }
          ],
          "scattercarpet": [
           {
            "marker": {
             "colorbar": {
              "outlinewidth": 0,
              "ticks": ""
             }
            },
            "type": "scattercarpet"
           }
          ],
          "scattergeo": [
           {
            "marker": {
             "colorbar": {
              "outlinewidth": 0,
              "ticks": ""
             }
            },
            "type": "scattergeo"
           }
          ],
          "scattergl": [
           {
            "marker": {
             "colorbar": {
              "outlinewidth": 0,
              "ticks": ""
             }
            },
            "type": "scattergl"
           }
          ],
          "scattermapbox": [
           {
            "marker": {
             "colorbar": {
              "outlinewidth": 0,
              "ticks": ""
             }
            },
            "type": "scattermapbox"
           }
          ],
          "scatterpolar": [
           {
            "marker": {
             "colorbar": {
              "outlinewidth": 0,
              "ticks": ""
             }
            },
            "type": "scatterpolar"
           }
          ],
          "scatterpolargl": [
           {
            "marker": {
             "colorbar": {
              "outlinewidth": 0,
              "ticks": ""
             }
            },
            "type": "scatterpolargl"
           }
          ],
          "scatterternary": [
           {
            "marker": {
             "colorbar": {
              "outlinewidth": 0,
              "ticks": ""
             }
            },
            "type": "scatterternary"
           }
          ],
          "surface": [
           {
            "colorbar": {
             "outlinewidth": 0,
             "ticks": ""
            },
            "colorscale": [
             [
              0,
              "#0d0887"
             ],
             [
              0.1111111111111111,
              "#46039f"
             ],
             [
              0.2222222222222222,
              "#7201a8"
             ],
             [
              0.3333333333333333,
              "#9c179e"
             ],
             [
              0.4444444444444444,
              "#bd3786"
             ],
             [
              0.5555555555555556,
              "#d8576b"
             ],
             [
              0.6666666666666666,
              "#ed7953"
             ],
             [
              0.7777777777777778,
              "#fb9f3a"
             ],
             [
              0.8888888888888888,
              "#fdca26"
             ],
             [
              1,
              "#f0f921"
             ]
            ],
            "type": "surface"
           }
          ],
          "table": [
           {
            "cells": {
             "fill": {
              "color": "#EBF0F8"
             },
             "line": {
              "color": "white"
             }
            },
            "header": {
             "fill": {
              "color": "#C8D4E3"
             },
             "line": {
              "color": "white"
             }
            },
            "type": "table"
           }
          ]
         },
         "layout": {
          "annotationdefaults": {
           "arrowcolor": "#2a3f5f",
           "arrowhead": 0,
           "arrowwidth": 1
          },
          "autotypenumbers": "strict",
          "coloraxis": {
           "colorbar": {
            "outlinewidth": 0,
            "ticks": ""
           }
          },
          "colorscale": {
           "diverging": [
            [
             0,
             "#8e0152"
            ],
            [
             0.1,
             "#c51b7d"
            ],
            [
             0.2,
             "#de77ae"
            ],
            [
             0.3,
             "#f1b6da"
            ],
            [
             0.4,
             "#fde0ef"
            ],
            [
             0.5,
             "#f7f7f7"
            ],
            [
             0.6,
             "#e6f5d0"
            ],
            [
             0.7,
             "#b8e186"
            ],
            [
             0.8,
             "#7fbc41"
            ],
            [
             0.9,
             "#4d9221"
            ],
            [
             1,
             "#276419"
            ]
           ],
           "sequential": [
            [
             0,
             "#0d0887"
            ],
            [
             0.1111111111111111,
             "#46039f"
            ],
            [
             0.2222222222222222,
             "#7201a8"
            ],
            [
             0.3333333333333333,
             "#9c179e"
            ],
            [
             0.4444444444444444,
             "#bd3786"
            ],
            [
             0.5555555555555556,
             "#d8576b"
            ],
            [
             0.6666666666666666,
             "#ed7953"
            ],
            [
             0.7777777777777778,
             "#fb9f3a"
            ],
            [
             0.8888888888888888,
             "#fdca26"
            ],
            [
             1,
             "#f0f921"
            ]
           ],
           "sequentialminus": [
            [
             0,
             "#0d0887"
            ],
            [
             0.1111111111111111,
             "#46039f"
            ],
            [
             0.2222222222222222,
             "#7201a8"
            ],
            [
             0.3333333333333333,
             "#9c179e"
            ],
            [
             0.4444444444444444,
             "#bd3786"
            ],
            [
             0.5555555555555556,
             "#d8576b"
            ],
            [
             0.6666666666666666,
             "#ed7953"
            ],
            [
             0.7777777777777778,
             "#fb9f3a"
            ],
            [
             0.8888888888888888,
             "#fdca26"
            ],
            [
             1,
             "#f0f921"
            ]
           ]
          },
          "colorway": [
           "#636efa",
           "#EF553B",
           "#00cc96",
           "#ab63fa",
           "#FFA15A",
           "#19d3f3",
           "#FF6692",
           "#B6E880",
           "#FF97FF",
           "#FECB52"
          ],
          "font": {
           "color": "#2a3f5f"
          },
          "geo": {
           "bgcolor": "white",
           "lakecolor": "white",
           "landcolor": "#E5ECF6",
           "showlakes": true,
           "showland": true,
           "subunitcolor": "white"
          },
          "hoverlabel": {
           "align": "left"
          },
          "hovermode": "closest",
          "mapbox": {
           "style": "light"
          },
          "paper_bgcolor": "white",
          "plot_bgcolor": "#E5ECF6",
          "polar": {
           "angularaxis": {
            "gridcolor": "white",
            "linecolor": "white",
            "ticks": ""
           },
           "bgcolor": "#E5ECF6",
           "radialaxis": {
            "gridcolor": "white",
            "linecolor": "white",
            "ticks": ""
           }
          },
          "scene": {
           "xaxis": {
            "backgroundcolor": "#E5ECF6",
            "gridcolor": "white",
            "gridwidth": 2,
            "linecolor": "white",
            "showbackground": true,
            "ticks": "",
            "zerolinecolor": "white"
           },
           "yaxis": {
            "backgroundcolor": "#E5ECF6",
            "gridcolor": "white",
            "gridwidth": 2,
            "linecolor": "white",
            "showbackground": true,
            "ticks": "",
            "zerolinecolor": "white"
           },
           "zaxis": {
            "backgroundcolor": "#E5ECF6",
            "gridcolor": "white",
            "gridwidth": 2,
            "linecolor": "white",
            "showbackground": true,
            "ticks": "",
            "zerolinecolor": "white"
           }
          },
          "shapedefaults": {
           "line": {
            "color": "#2a3f5f"
           }
          },
          "ternary": {
           "aaxis": {
            "gridcolor": "white",
            "linecolor": "white",
            "ticks": ""
           },
           "baxis": {
            "gridcolor": "white",
            "linecolor": "white",
            "ticks": ""
           },
           "bgcolor": "#E5ECF6",
           "caxis": {
            "gridcolor": "white",
            "linecolor": "white",
            "ticks": ""
           }
          },
          "title": {
           "x": 0.05
          },
          "xaxis": {
           "automargin": true,
           "gridcolor": "white",
           "linecolor": "white",
           "ticks": "",
           "title": {
            "standoff": 15
           },
           "zerolinecolor": "white",
           "zerolinewidth": 2
          },
          "yaxis": {
           "automargin": true,
           "gridcolor": "white",
           "linecolor": "white",
           "ticks": "",
           "title": {
            "standoff": 15
           },
           "zerolinecolor": "white",
           "zerolinewidth": 2
          }
         }
        },
        "title": {
         "font": {
          "size": 22
         },
         "text": "Average Salary by State in 2008",
         "x": 0.45
        }
       }
      }
     },
     "metadata": {},
     "output_type": "display_data"
    }
   ],
   "source": [
    "fig = px.choropleth(df_econ_politcs.query(\"year == 2008\"), \n",
    "                    locations='state_abbrev', \n",
    "                    locationmode=\"USA-states\", \n",
    "                    scope=\"usa\",\n",
    "                    color='AvgSalary',\n",
    "                    color_continuous_scale=\"Viridis_r\", \n",
    "                    )\n",
    "\n",
    "fig.update_layout(\n",
    "      title_text = 'Average Salary by State in 2008',\n",
    "      title_font_size = 22,\n",
    "      title_x=0.45, \n",
    "    )\n",
    "\n",
    "fig.show()"
   ]
  },
  {
   "cell_type": "code",
   "execution_count": 45,
   "id": "40e35ce0-818e-4334-b0b1-de9a511914b3",
   "metadata": {},
   "outputs": [
    {
     "data": {
      "application/vnd.plotly.v1+json": {
       "config": {
        "plotlyServerURL": "https://plot.ly"
       },
       "data": [
        {
         "coloraxis": "coloraxis",
         "geo": "geo",
         "hovertemplate": "state_abbrev=%{location}<br>AvgSalary=%{z}<extra></extra>",
         "locationmode": "USA-states",
         "locations": [
          "AK",
          "AL",
          "AR",
          "AZ",
          "CA",
          "CO",
          "CT",
          "DC",
          "DE",
          "FL",
          "GA",
          "GU",
          "HI",
          "IA",
          "ID",
          "IL",
          "IN",
          "KS",
          "KY",
          "LA",
          "MA",
          "MD",
          "ME",
          "MI",
          "MN",
          "MO",
          "MS",
          "MT",
          "NC",
          "ND",
          "NE",
          "NH",
          "NJ",
          "NM",
          "NV",
          "NY",
          "OH",
          "OK",
          "OR",
          "PA",
          "PR",
          "RI",
          "SC",
          "SD",
          "TN",
          "TX",
          "UT",
          "VA",
          "VI",
          "VT",
          "WA",
          "WI",
          "WV",
          "WY"
         ],
         "name": "",
         "type": "choropleth",
         "z": [
          56724,
          44187,
          42114,
          49471,
          63456,
          55420,
          64950,
          88707,
          53128,
          48544,
          51581,
          null,
          49657,
          43917,
          40496,
          57608,
          45360,
          45379,
          43915,
          46687,
          66041,
          59710,
          43747,
          50555,
          53497,
          47154,
          39150,
          40911,
          48280,
          48066,
          45222,
          52819,
          62317,
          43692,
          48453,
          67396,
          48526,
          44768,
          50404,
          51370,
          null,
          51998,
          44228,
          40716,
          46965,
          53876,
          46148,
          56292,
          null,
          44188,
          58989,
          46551,
          41183,
          46028
         ]
        }
       ],
       "layout": {
        "coloraxis": {
         "colorbar": {
          "title": {
           "text": "AvgSalary"
          }
         },
         "colorscale": [
          [
           0,
           "#fde725"
          ],
          [
           0.1111111111111111,
           "#b5de2b"
          ],
          [
           0.2222222222222222,
           "#6ece58"
          ],
          [
           0.3333333333333333,
           "#35b779"
          ],
          [
           0.4444444444444444,
           "#1f9e89"
          ],
          [
           0.5555555555555556,
           "#26828e"
          ],
          [
           0.6666666666666666,
           "#31688e"
          ],
          [
           0.7777777777777778,
           "#3e4989"
          ],
          [
           0.8888888888888888,
           "#482878"
          ],
          [
           1,
           "#440154"
          ]
         ]
        },
        "geo": {
         "center": {},
         "domain": {
          "x": [
           0,
           1
          ],
          "y": [
           0,
           1
          ]
         },
         "scope": "usa"
        },
        "legend": {
         "tracegroupgap": 0
        },
        "margin": {
         "t": 60
        },
        "template": {
         "data": {
          "bar": [
           {
            "error_x": {
             "color": "#2a3f5f"
            },
            "error_y": {
             "color": "#2a3f5f"
            },
            "marker": {
             "line": {
              "color": "#E5ECF6",
              "width": 0.5
             },
             "pattern": {
              "fillmode": "overlay",
              "size": 10,
              "solidity": 0.2
             }
            },
            "type": "bar"
           }
          ],
          "barpolar": [
           {
            "marker": {
             "line": {
              "color": "#E5ECF6",
              "width": 0.5
             },
             "pattern": {
              "fillmode": "overlay",
              "size": 10,
              "solidity": 0.2
             }
            },
            "type": "barpolar"
           }
          ],
          "carpet": [
           {
            "aaxis": {
             "endlinecolor": "#2a3f5f",
             "gridcolor": "white",
             "linecolor": "white",
             "minorgridcolor": "white",
             "startlinecolor": "#2a3f5f"
            },
            "baxis": {
             "endlinecolor": "#2a3f5f",
             "gridcolor": "white",
             "linecolor": "white",
             "minorgridcolor": "white",
             "startlinecolor": "#2a3f5f"
            },
            "type": "carpet"
           }
          ],
          "choropleth": [
           {
            "colorbar": {
             "outlinewidth": 0,
             "ticks": ""
            },
            "type": "choropleth"
           }
          ],
          "contour": [
           {
            "colorbar": {
             "outlinewidth": 0,
             "ticks": ""
            },
            "colorscale": [
             [
              0,
              "#0d0887"
             ],
             [
              0.1111111111111111,
              "#46039f"
             ],
             [
              0.2222222222222222,
              "#7201a8"
             ],
             [
              0.3333333333333333,
              "#9c179e"
             ],
             [
              0.4444444444444444,
              "#bd3786"
             ],
             [
              0.5555555555555556,
              "#d8576b"
             ],
             [
              0.6666666666666666,
              "#ed7953"
             ],
             [
              0.7777777777777778,
              "#fb9f3a"
             ],
             [
              0.8888888888888888,
              "#fdca26"
             ],
             [
              1,
              "#f0f921"
             ]
            ],
            "type": "contour"
           }
          ],
          "contourcarpet": [
           {
            "colorbar": {
             "outlinewidth": 0,
             "ticks": ""
            },
            "type": "contourcarpet"
           }
          ],
          "heatmap": [
           {
            "colorbar": {
             "outlinewidth": 0,
             "ticks": ""
            },
            "colorscale": [
             [
              0,
              "#0d0887"
             ],
             [
              0.1111111111111111,
              "#46039f"
             ],
             [
              0.2222222222222222,
              "#7201a8"
             ],
             [
              0.3333333333333333,
              "#9c179e"
             ],
             [
              0.4444444444444444,
              "#bd3786"
             ],
             [
              0.5555555555555556,
              "#d8576b"
             ],
             [
              0.6666666666666666,
              "#ed7953"
             ],
             [
              0.7777777777777778,
              "#fb9f3a"
             ],
             [
              0.8888888888888888,
              "#fdca26"
             ],
             [
              1,
              "#f0f921"
             ]
            ],
            "type": "heatmap"
           }
          ],
          "heatmapgl": [
           {
            "colorbar": {
             "outlinewidth": 0,
             "ticks": ""
            },
            "colorscale": [
             [
              0,
              "#0d0887"
             ],
             [
              0.1111111111111111,
              "#46039f"
             ],
             [
              0.2222222222222222,
              "#7201a8"
             ],
             [
              0.3333333333333333,
              "#9c179e"
             ],
             [
              0.4444444444444444,
              "#bd3786"
             ],
             [
              0.5555555555555556,
              "#d8576b"
             ],
             [
              0.6666666666666666,
              "#ed7953"
             ],
             [
              0.7777777777777778,
              "#fb9f3a"
             ],
             [
              0.8888888888888888,
              "#fdca26"
             ],
             [
              1,
              "#f0f921"
             ]
            ],
            "type": "heatmapgl"
           }
          ],
          "histogram": [
           {
            "marker": {
             "pattern": {
              "fillmode": "overlay",
              "size": 10,
              "solidity": 0.2
             }
            },
            "type": "histogram"
           }
          ],
          "histogram2d": [
           {
            "colorbar": {
             "outlinewidth": 0,
             "ticks": ""
            },
            "colorscale": [
             [
              0,
              "#0d0887"
             ],
             [
              0.1111111111111111,
              "#46039f"
             ],
             [
              0.2222222222222222,
              "#7201a8"
             ],
             [
              0.3333333333333333,
              "#9c179e"
             ],
             [
              0.4444444444444444,
              "#bd3786"
             ],
             [
              0.5555555555555556,
              "#d8576b"
             ],
             [
              0.6666666666666666,
              "#ed7953"
             ],
             [
              0.7777777777777778,
              "#fb9f3a"
             ],
             [
              0.8888888888888888,
              "#fdca26"
             ],
             [
              1,
              "#f0f921"
             ]
            ],
            "type": "histogram2d"
           }
          ],
          "histogram2dcontour": [
           {
            "colorbar": {
             "outlinewidth": 0,
             "ticks": ""
            },
            "colorscale": [
             [
              0,
              "#0d0887"
             ],
             [
              0.1111111111111111,
              "#46039f"
             ],
             [
              0.2222222222222222,
              "#7201a8"
             ],
             [
              0.3333333333333333,
              "#9c179e"
             ],
             [
              0.4444444444444444,
              "#bd3786"
             ],
             [
              0.5555555555555556,
              "#d8576b"
             ],
             [
              0.6666666666666666,
              "#ed7953"
             ],
             [
              0.7777777777777778,
              "#fb9f3a"
             ],
             [
              0.8888888888888888,
              "#fdca26"
             ],
             [
              1,
              "#f0f921"
             ]
            ],
            "type": "histogram2dcontour"
           }
          ],
          "mesh3d": [
           {
            "colorbar": {
             "outlinewidth": 0,
             "ticks": ""
            },
            "type": "mesh3d"
           }
          ],
          "parcoords": [
           {
            "line": {
             "colorbar": {
              "outlinewidth": 0,
              "ticks": ""
             }
            },
            "type": "parcoords"
           }
          ],
          "pie": [
           {
            "automargin": true,
            "type": "pie"
           }
          ],
          "scatter": [
           {
            "fillpattern": {
             "fillmode": "overlay",
             "size": 10,
             "solidity": 0.2
            },
            "type": "scatter"
           }
          ],
          "scatter3d": [
           {
            "line": {
             "colorbar": {
              "outlinewidth": 0,
              "ticks": ""
             }
            },
            "marker": {
             "colorbar": {
              "outlinewidth": 0,
              "ticks": ""
             }
            },
            "type": "scatter3d"
           }
          ],
          "scattercarpet": [
           {
            "marker": {
             "colorbar": {
              "outlinewidth": 0,
              "ticks": ""
             }
            },
            "type": "scattercarpet"
           }
          ],
          "scattergeo": [
           {
            "marker": {
             "colorbar": {
              "outlinewidth": 0,
              "ticks": ""
             }
            },
            "type": "scattergeo"
           }
          ],
          "scattergl": [
           {
            "marker": {
             "colorbar": {
              "outlinewidth": 0,
              "ticks": ""
             }
            },
            "type": "scattergl"
           }
          ],
          "scattermapbox": [
           {
            "marker": {
             "colorbar": {
              "outlinewidth": 0,
              "ticks": ""
             }
            },
            "type": "scattermapbox"
           }
          ],
          "scatterpolar": [
           {
            "marker": {
             "colorbar": {
              "outlinewidth": 0,
              "ticks": ""
             }
            },
            "type": "scatterpolar"
           }
          ],
          "scatterpolargl": [
           {
            "marker": {
             "colorbar": {
              "outlinewidth": 0,
              "ticks": ""
             }
            },
            "type": "scatterpolargl"
           }
          ],
          "scatterternary": [
           {
            "marker": {
             "colorbar": {
              "outlinewidth": 0,
              "ticks": ""
             }
            },
            "type": "scatterternary"
           }
          ],
          "surface": [
           {
            "colorbar": {
             "outlinewidth": 0,
             "ticks": ""
            },
            "colorscale": [
             [
              0,
              "#0d0887"
             ],
             [
              0.1111111111111111,
              "#46039f"
             ],
             [
              0.2222222222222222,
              "#7201a8"
             ],
             [
              0.3333333333333333,
              "#9c179e"
             ],
             [
              0.4444444444444444,
              "#bd3786"
             ],
             [
              0.5555555555555556,
              "#d8576b"
             ],
             [
              0.6666666666666666,
              "#ed7953"
             ],
             [
              0.7777777777777778,
              "#fb9f3a"
             ],
             [
              0.8888888888888888,
              "#fdca26"
             ],
             [
              1,
              "#f0f921"
             ]
            ],
            "type": "surface"
           }
          ],
          "table": [
           {
            "cells": {
             "fill": {
              "color": "#EBF0F8"
             },
             "line": {
              "color": "white"
             }
            },
            "header": {
             "fill": {
              "color": "#C8D4E3"
             },
             "line": {
              "color": "white"
             }
            },
            "type": "table"
           }
          ]
         },
         "layout": {
          "annotationdefaults": {
           "arrowcolor": "#2a3f5f",
           "arrowhead": 0,
           "arrowwidth": 1
          },
          "autotypenumbers": "strict",
          "coloraxis": {
           "colorbar": {
            "outlinewidth": 0,
            "ticks": ""
           }
          },
          "colorscale": {
           "diverging": [
            [
             0,
             "#8e0152"
            ],
            [
             0.1,
             "#c51b7d"
            ],
            [
             0.2,
             "#de77ae"
            ],
            [
             0.3,
             "#f1b6da"
            ],
            [
             0.4,
             "#fde0ef"
            ],
            [
             0.5,
             "#f7f7f7"
            ],
            [
             0.6,
             "#e6f5d0"
            ],
            [
             0.7,
             "#b8e186"
            ],
            [
             0.8,
             "#7fbc41"
            ],
            [
             0.9,
             "#4d9221"
            ],
            [
             1,
             "#276419"
            ]
           ],
           "sequential": [
            [
             0,
             "#0d0887"
            ],
            [
             0.1111111111111111,
             "#46039f"
            ],
            [
             0.2222222222222222,
             "#7201a8"
            ],
            [
             0.3333333333333333,
             "#9c179e"
            ],
            [
             0.4444444444444444,
             "#bd3786"
            ],
            [
             0.5555555555555556,
             "#d8576b"
            ],
            [
             0.6666666666666666,
             "#ed7953"
            ],
            [
             0.7777777777777778,
             "#fb9f3a"
            ],
            [
             0.8888888888888888,
             "#fdca26"
            ],
            [
             1,
             "#f0f921"
            ]
           ],
           "sequentialminus": [
            [
             0,
             "#0d0887"
            ],
            [
             0.1111111111111111,
             "#46039f"
            ],
            [
             0.2222222222222222,
             "#7201a8"
            ],
            [
             0.3333333333333333,
             "#9c179e"
            ],
            [
             0.4444444444444444,
             "#bd3786"
            ],
            [
             0.5555555555555556,
             "#d8576b"
            ],
            [
             0.6666666666666666,
             "#ed7953"
            ],
            [
             0.7777777777777778,
             "#fb9f3a"
            ],
            [
             0.8888888888888888,
             "#fdca26"
            ],
            [
             1,
             "#f0f921"
            ]
           ]
          },
          "colorway": [
           "#636efa",
           "#EF553B",
           "#00cc96",
           "#ab63fa",
           "#FFA15A",
           "#19d3f3",
           "#FF6692",
           "#B6E880",
           "#FF97FF",
           "#FECB52"
          ],
          "font": {
           "color": "#2a3f5f"
          },
          "geo": {
           "bgcolor": "white",
           "lakecolor": "white",
           "landcolor": "#E5ECF6",
           "showlakes": true,
           "showland": true,
           "subunitcolor": "white"
          },
          "hoverlabel": {
           "align": "left"
          },
          "hovermode": "closest",
          "mapbox": {
           "style": "light"
          },
          "paper_bgcolor": "white",
          "plot_bgcolor": "#E5ECF6",
          "polar": {
           "angularaxis": {
            "gridcolor": "white",
            "linecolor": "white",
            "ticks": ""
           },
           "bgcolor": "#E5ECF6",
           "radialaxis": {
            "gridcolor": "white",
            "linecolor": "white",
            "ticks": ""
           }
          },
          "scene": {
           "xaxis": {
            "backgroundcolor": "#E5ECF6",
            "gridcolor": "white",
            "gridwidth": 2,
            "linecolor": "white",
            "showbackground": true,
            "ticks": "",
            "zerolinecolor": "white"
           },
           "yaxis": {
            "backgroundcolor": "#E5ECF6",
            "gridcolor": "white",
            "gridwidth": 2,
            "linecolor": "white",
            "showbackground": true,
            "ticks": "",
            "zerolinecolor": "white"
           },
           "zaxis": {
            "backgroundcolor": "#E5ECF6",
            "gridcolor": "white",
            "gridwidth": 2,
            "linecolor": "white",
            "showbackground": true,
            "ticks": "",
            "zerolinecolor": "white"
           }
          },
          "shapedefaults": {
           "line": {
            "color": "#2a3f5f"
           }
          },
          "ternary": {
           "aaxis": {
            "gridcolor": "white",
            "linecolor": "white",
            "ticks": ""
           },
           "baxis": {
            "gridcolor": "white",
            "linecolor": "white",
            "ticks": ""
           },
           "bgcolor": "#E5ECF6",
           "caxis": {
            "gridcolor": "white",
            "linecolor": "white",
            "ticks": ""
           }
          },
          "title": {
           "x": 0.05
          },
          "xaxis": {
           "automargin": true,
           "gridcolor": "white",
           "linecolor": "white",
           "ticks": "",
           "title": {
            "standoff": 15
           },
           "zerolinecolor": "white",
           "zerolinewidth": 2
          },
          "yaxis": {
           "automargin": true,
           "gridcolor": "white",
           "linecolor": "white",
           "ticks": "",
           "title": {
            "standoff": 15
           },
           "zerolinecolor": "white",
           "zerolinewidth": 2
          }
         }
        },
        "title": {
         "font": {
          "size": 22
         },
         "text": "Average Salary by State in 2016",
         "x": 0.45
        }
       }
      }
     },
     "metadata": {},
     "output_type": "display_data"
    }
   ],
   "source": [
    "fig = px.choropleth(df_econ_politcs.query(\"year == 2016\"), \n",
    "                    locations='state_abbrev', \n",
    "                    locationmode=\"USA-states\", \n",
    "                    scope=\"usa\",\n",
    "                    color='AvgSalary',\n",
    "                    color_continuous_scale=\"Viridis_r\", \n",
    "                    )\n",
    "\n",
    "fig.update_layout(\n",
    "      title_text = 'Average Salary by State in 2016',\n",
    "      title_font_size = 22,\n",
    "      title_x=0.45, \n",
    "    )\n",
    "\n",
    "fig.show()"
   ]
  },
  {
   "cell_type": "markdown",
   "metadata": {},
   "source": [
    "## <a id='toc2_11_'></a>[Choropleth graph of per capita net earning by state](#toc0_)"
   ]
  },
  {
   "cell_type": "code",
   "execution_count": 46,
   "id": "03296b0a-65ca-4601-8fdd-6aec3f331d71",
   "metadata": {},
   "outputs": [
    {
     "data": {
      "text/plain": [
       "Index(['year', 'state_abbrev', 'homeless_count', 'democrat_perc', 'AvgSalary',\n",
       "       'PerCapNetEarning', 'PerCapNetIncome', 'TotalNumJobs'],\n",
       "      dtype='object')"
      ]
     },
     "execution_count": 46,
     "metadata": {},
     "output_type": "execute_result"
    }
   ],
   "source": [
    "df_econ_politcs.columns"
   ]
  },
  {
   "cell_type": "code",
   "execution_count": 47,
   "id": "3ac8499c-9439-447f-a412-b0be89e3655b",
   "metadata": {},
   "outputs": [
    {
     "data": {
      "application/vnd.plotly.v1+json": {
       "config": {
        "plotlyServerURL": "https://plot.ly"
       },
       "data": [
        {
         "coloraxis": "coloraxis",
         "geo": "geo",
         "hovertemplate": "state_abbrev=%{location}<br>PerCapNetEarning=%{z}<extra></extra>",
         "locationmode": "USA-states",
         "locations": [
          "AK",
          "AL",
          "AR",
          "AZ",
          "CA",
          "CO",
          "CT",
          "DC",
          "DE",
          "FL",
          "GA",
          "GU",
          "HI",
          "IA",
          "ID",
          "IL",
          "IN",
          "KS",
          "KY",
          "LA",
          "MA",
          "MD",
          "ME",
          "MI",
          "MN",
          "MO",
          "MS",
          "MT",
          "NC",
          "ND",
          "NE",
          "NH",
          "NJ",
          "NM",
          "NV",
          "NY",
          "OH",
          "OK",
          "OR",
          "PA",
          "PR",
          "RI",
          "SC",
          "SD",
          "TN",
          "TX",
          "UT",
          "VA",
          "VI",
          "VT",
          "WA",
          "WI",
          "WV",
          "WY"
         ],
         "name": "",
         "type": "choropleth",
         "z": [
          31586,
          20229,
          18526,
          22318,
          28770,
          28540,
          41766,
          40701,
          25814,
          21400,
          23347,
          null,
          27134,
          25220,
          20207,
          28763,
          23176,
          26462,
          20182,
          23880,
          34271,
          33510,
          22469,
          22452,
          28696,
          23398,
          18270,
          20570,
          24486,
          26406,
          25873,
          31961,
          35642,
          20485,
          24780,
          30551,
          23658,
          24923,
          23042,
          26685,
          null,
          25884,
          20074,
          25316,
          22841,
          26919,
          22742,
          30700,
          null,
          24983,
          28442,
          25688,
          18503,
          28776
         ]
        }
       ],
       "layout": {
        "coloraxis": {
         "colorbar": {
          "title": {
           "text": "PerCapNetEarning"
          }
         },
         "colorscale": [
          [
           0,
           "#fde725"
          ],
          [
           0.1111111111111111,
           "#b5de2b"
          ],
          [
           0.2222222222222222,
           "#6ece58"
          ],
          [
           0.3333333333333333,
           "#35b779"
          ],
          [
           0.4444444444444444,
           "#1f9e89"
          ],
          [
           0.5555555555555556,
           "#26828e"
          ],
          [
           0.6666666666666666,
           "#31688e"
          ],
          [
           0.7777777777777778,
           "#3e4989"
          ],
          [
           0.8888888888888888,
           "#482878"
          ],
          [
           1,
           "#440154"
          ]
         ]
        },
        "geo": {
         "center": {},
         "domain": {
          "x": [
           0,
           1
          ],
          "y": [
           0,
           1
          ]
         },
         "scope": "usa"
        },
        "legend": {
         "tracegroupgap": 0
        },
        "margin": {
         "t": 60
        },
        "template": {
         "data": {
          "bar": [
           {
            "error_x": {
             "color": "#2a3f5f"
            },
            "error_y": {
             "color": "#2a3f5f"
            },
            "marker": {
             "line": {
              "color": "#E5ECF6",
              "width": 0.5
             },
             "pattern": {
              "fillmode": "overlay",
              "size": 10,
              "solidity": 0.2
             }
            },
            "type": "bar"
           }
          ],
          "barpolar": [
           {
            "marker": {
             "line": {
              "color": "#E5ECF6",
              "width": 0.5
             },
             "pattern": {
              "fillmode": "overlay",
              "size": 10,
              "solidity": 0.2
             }
            },
            "type": "barpolar"
           }
          ],
          "carpet": [
           {
            "aaxis": {
             "endlinecolor": "#2a3f5f",
             "gridcolor": "white",
             "linecolor": "white",
             "minorgridcolor": "white",
             "startlinecolor": "#2a3f5f"
            },
            "baxis": {
             "endlinecolor": "#2a3f5f",
             "gridcolor": "white",
             "linecolor": "white",
             "minorgridcolor": "white",
             "startlinecolor": "#2a3f5f"
            },
            "type": "carpet"
           }
          ],
          "choropleth": [
           {
            "colorbar": {
             "outlinewidth": 0,
             "ticks": ""
            },
            "type": "choropleth"
           }
          ],
          "contour": [
           {
            "colorbar": {
             "outlinewidth": 0,
             "ticks": ""
            },
            "colorscale": [
             [
              0,
              "#0d0887"
             ],
             [
              0.1111111111111111,
              "#46039f"
             ],
             [
              0.2222222222222222,
              "#7201a8"
             ],
             [
              0.3333333333333333,
              "#9c179e"
             ],
             [
              0.4444444444444444,
              "#bd3786"
             ],
             [
              0.5555555555555556,
              "#d8576b"
             ],
             [
              0.6666666666666666,
              "#ed7953"
             ],
             [
              0.7777777777777778,
              "#fb9f3a"
             ],
             [
              0.8888888888888888,
              "#fdca26"
             ],
             [
              1,
              "#f0f921"
             ]
            ],
            "type": "contour"
           }
          ],
          "contourcarpet": [
           {
            "colorbar": {
             "outlinewidth": 0,
             "ticks": ""
            },
            "type": "contourcarpet"
           }
          ],
          "heatmap": [
           {
            "colorbar": {
             "outlinewidth": 0,
             "ticks": ""
            },
            "colorscale": [
             [
              0,
              "#0d0887"
             ],
             [
              0.1111111111111111,
              "#46039f"
             ],
             [
              0.2222222222222222,
              "#7201a8"
             ],
             [
              0.3333333333333333,
              "#9c179e"
             ],
             [
              0.4444444444444444,
              "#bd3786"
             ],
             [
              0.5555555555555556,
              "#d8576b"
             ],
             [
              0.6666666666666666,
              "#ed7953"
             ],
             [
              0.7777777777777778,
              "#fb9f3a"
             ],
             [
              0.8888888888888888,
              "#fdca26"
             ],
             [
              1,
              "#f0f921"
             ]
            ],
            "type": "heatmap"
           }
          ],
          "heatmapgl": [
           {
            "colorbar": {
             "outlinewidth": 0,
             "ticks": ""
            },
            "colorscale": [
             [
              0,
              "#0d0887"
             ],
             [
              0.1111111111111111,
              "#46039f"
             ],
             [
              0.2222222222222222,
              "#7201a8"
             ],
             [
              0.3333333333333333,
              "#9c179e"
             ],
             [
              0.4444444444444444,
              "#bd3786"
             ],
             [
              0.5555555555555556,
              "#d8576b"
             ],
             [
              0.6666666666666666,
              "#ed7953"
             ],
             [
              0.7777777777777778,
              "#fb9f3a"
             ],
             [
              0.8888888888888888,
              "#fdca26"
             ],
             [
              1,
              "#f0f921"
             ]
            ],
            "type": "heatmapgl"
           }
          ],
          "histogram": [
           {
            "marker": {
             "pattern": {
              "fillmode": "overlay",
              "size": 10,
              "solidity": 0.2
             }
            },
            "type": "histogram"
           }
          ],
          "histogram2d": [
           {
            "colorbar": {
             "outlinewidth": 0,
             "ticks": ""
            },
            "colorscale": [
             [
              0,
              "#0d0887"
             ],
             [
              0.1111111111111111,
              "#46039f"
             ],
             [
              0.2222222222222222,
              "#7201a8"
             ],
             [
              0.3333333333333333,
              "#9c179e"
             ],
             [
              0.4444444444444444,
              "#bd3786"
             ],
             [
              0.5555555555555556,
              "#d8576b"
             ],
             [
              0.6666666666666666,
              "#ed7953"
             ],
             [
              0.7777777777777778,
              "#fb9f3a"
             ],
             [
              0.8888888888888888,
              "#fdca26"
             ],
             [
              1,
              "#f0f921"
             ]
            ],
            "type": "histogram2d"
           }
          ],
          "histogram2dcontour": [
           {
            "colorbar": {
             "outlinewidth": 0,
             "ticks": ""
            },
            "colorscale": [
             [
              0,
              "#0d0887"
             ],
             [
              0.1111111111111111,
              "#46039f"
             ],
             [
              0.2222222222222222,
              "#7201a8"
             ],
             [
              0.3333333333333333,
              "#9c179e"
             ],
             [
              0.4444444444444444,
              "#bd3786"
             ],
             [
              0.5555555555555556,
              "#d8576b"
             ],
             [
              0.6666666666666666,
              "#ed7953"
             ],
             [
              0.7777777777777778,
              "#fb9f3a"
             ],
             [
              0.8888888888888888,
              "#fdca26"
             ],
             [
              1,
              "#f0f921"
             ]
            ],
            "type": "histogram2dcontour"
           }
          ],
          "mesh3d": [
           {
            "colorbar": {
             "outlinewidth": 0,
             "ticks": ""
            },
            "type": "mesh3d"
           }
          ],
          "parcoords": [
           {
            "line": {
             "colorbar": {
              "outlinewidth": 0,
              "ticks": ""
             }
            },
            "type": "parcoords"
           }
          ],
          "pie": [
           {
            "automargin": true,
            "type": "pie"
           }
          ],
          "scatter": [
           {
            "fillpattern": {
             "fillmode": "overlay",
             "size": 10,
             "solidity": 0.2
            },
            "type": "scatter"
           }
          ],
          "scatter3d": [
           {
            "line": {
             "colorbar": {
              "outlinewidth": 0,
              "ticks": ""
             }
            },
            "marker": {
             "colorbar": {
              "outlinewidth": 0,
              "ticks": ""
             }
            },
            "type": "scatter3d"
           }
          ],
          "scattercarpet": [
           {
            "marker": {
             "colorbar": {
              "outlinewidth": 0,
              "ticks": ""
             }
            },
            "type": "scattercarpet"
           }
          ],
          "scattergeo": [
           {
            "marker": {
             "colorbar": {
              "outlinewidth": 0,
              "ticks": ""
             }
            },
            "type": "scattergeo"
           }
          ],
          "scattergl": [
           {
            "marker": {
             "colorbar": {
              "outlinewidth": 0,
              "ticks": ""
             }
            },
            "type": "scattergl"
           }
          ],
          "scattermapbox": [
           {
            "marker": {
             "colorbar": {
              "outlinewidth": 0,
              "ticks": ""
             }
            },
            "type": "scattermapbox"
           }
          ],
          "scatterpolar": [
           {
            "marker": {
             "colorbar": {
              "outlinewidth": 0,
              "ticks": ""
             }
            },
            "type": "scatterpolar"
           }
          ],
          "scatterpolargl": [
           {
            "marker": {
             "colorbar": {
              "outlinewidth": 0,
              "ticks": ""
             }
            },
            "type": "scatterpolargl"
           }
          ],
          "scatterternary": [
           {
            "marker": {
             "colorbar": {
              "outlinewidth": 0,
              "ticks": ""
             }
            },
            "type": "scatterternary"
           }
          ],
          "surface": [
           {
            "colorbar": {
             "outlinewidth": 0,
             "ticks": ""
            },
            "colorscale": [
             [
              0,
              "#0d0887"
             ],
             [
              0.1111111111111111,
              "#46039f"
             ],
             [
              0.2222222222222222,
              "#7201a8"
             ],
             [
              0.3333333333333333,
              "#9c179e"
             ],
             [
              0.4444444444444444,
              "#bd3786"
             ],
             [
              0.5555555555555556,
              "#d8576b"
             ],
             [
              0.6666666666666666,
              "#ed7953"
             ],
             [
              0.7777777777777778,
              "#fb9f3a"
             ],
             [
              0.8888888888888888,
              "#fdca26"
             ],
             [
              1,
              "#f0f921"
             ]
            ],
            "type": "surface"
           }
          ],
          "table": [
           {
            "cells": {
             "fill": {
              "color": "#EBF0F8"
             },
             "line": {
              "color": "white"
             }
            },
            "header": {
             "fill": {
              "color": "#C8D4E3"
             },
             "line": {
              "color": "white"
             }
            },
            "type": "table"
           }
          ]
         },
         "layout": {
          "annotationdefaults": {
           "arrowcolor": "#2a3f5f",
           "arrowhead": 0,
           "arrowwidth": 1
          },
          "autotypenumbers": "strict",
          "coloraxis": {
           "colorbar": {
            "outlinewidth": 0,
            "ticks": ""
           }
          },
          "colorscale": {
           "diverging": [
            [
             0,
             "#8e0152"
            ],
            [
             0.1,
             "#c51b7d"
            ],
            [
             0.2,
             "#de77ae"
            ],
            [
             0.3,
             "#f1b6da"
            ],
            [
             0.4,
             "#fde0ef"
            ],
            [
             0.5,
             "#f7f7f7"
            ],
            [
             0.6,
             "#e6f5d0"
            ],
            [
             0.7,
             "#b8e186"
            ],
            [
             0.8,
             "#7fbc41"
            ],
            [
             0.9,
             "#4d9221"
            ],
            [
             1,
             "#276419"
            ]
           ],
           "sequential": [
            [
             0,
             "#0d0887"
            ],
            [
             0.1111111111111111,
             "#46039f"
            ],
            [
             0.2222222222222222,
             "#7201a8"
            ],
            [
             0.3333333333333333,
             "#9c179e"
            ],
            [
             0.4444444444444444,
             "#bd3786"
            ],
            [
             0.5555555555555556,
             "#d8576b"
            ],
            [
             0.6666666666666666,
             "#ed7953"
            ],
            [
             0.7777777777777778,
             "#fb9f3a"
            ],
            [
             0.8888888888888888,
             "#fdca26"
            ],
            [
             1,
             "#f0f921"
            ]
           ],
           "sequentialminus": [
            [
             0,
             "#0d0887"
            ],
            [
             0.1111111111111111,
             "#46039f"
            ],
            [
             0.2222222222222222,
             "#7201a8"
            ],
            [
             0.3333333333333333,
             "#9c179e"
            ],
            [
             0.4444444444444444,
             "#bd3786"
            ],
            [
             0.5555555555555556,
             "#d8576b"
            ],
            [
             0.6666666666666666,
             "#ed7953"
            ],
            [
             0.7777777777777778,
             "#fb9f3a"
            ],
            [
             0.8888888888888888,
             "#fdca26"
            ],
            [
             1,
             "#f0f921"
            ]
           ]
          },
          "colorway": [
           "#636efa",
           "#EF553B",
           "#00cc96",
           "#ab63fa",
           "#FFA15A",
           "#19d3f3",
           "#FF6692",
           "#B6E880",
           "#FF97FF",
           "#FECB52"
          ],
          "font": {
           "color": "#2a3f5f"
          },
          "geo": {
           "bgcolor": "white",
           "lakecolor": "white",
           "landcolor": "#E5ECF6",
           "showlakes": true,
           "showland": true,
           "subunitcolor": "white"
          },
          "hoverlabel": {
           "align": "left"
          },
          "hovermode": "closest",
          "mapbox": {
           "style": "light"
          },
          "paper_bgcolor": "white",
          "plot_bgcolor": "#E5ECF6",
          "polar": {
           "angularaxis": {
            "gridcolor": "white",
            "linecolor": "white",
            "ticks": ""
           },
           "bgcolor": "#E5ECF6",
           "radialaxis": {
            "gridcolor": "white",
            "linecolor": "white",
            "ticks": ""
           }
          },
          "scene": {
           "xaxis": {
            "backgroundcolor": "#E5ECF6",
            "gridcolor": "white",
            "gridwidth": 2,
            "linecolor": "white",
            "showbackground": true,
            "ticks": "",
            "zerolinecolor": "white"
           },
           "yaxis": {
            "backgroundcolor": "#E5ECF6",
            "gridcolor": "white",
            "gridwidth": 2,
            "linecolor": "white",
            "showbackground": true,
            "ticks": "",
            "zerolinecolor": "white"
           },
           "zaxis": {
            "backgroundcolor": "#E5ECF6",
            "gridcolor": "white",
            "gridwidth": 2,
            "linecolor": "white",
            "showbackground": true,
            "ticks": "",
            "zerolinecolor": "white"
           }
          },
          "shapedefaults": {
           "line": {
            "color": "#2a3f5f"
           }
          },
          "ternary": {
           "aaxis": {
            "gridcolor": "white",
            "linecolor": "white",
            "ticks": ""
           },
           "baxis": {
            "gridcolor": "white",
            "linecolor": "white",
            "ticks": ""
           },
           "bgcolor": "#E5ECF6",
           "caxis": {
            "gridcolor": "white",
            "linecolor": "white",
            "ticks": ""
           }
          },
          "title": {
           "x": 0.05
          },
          "xaxis": {
           "automargin": true,
           "gridcolor": "white",
           "linecolor": "white",
           "ticks": "",
           "title": {
            "standoff": 15
           },
           "zerolinecolor": "white",
           "zerolinewidth": 2
          },
          "yaxis": {
           "automargin": true,
           "gridcolor": "white",
           "linecolor": "white",
           "ticks": "",
           "title": {
            "standoff": 15
           },
           "zerolinecolor": "white",
           "zerolinewidth": 2
          }
         }
        },
        "title": {
         "font": {
          "size": 22
         },
         "text": "Per Capita Net Earning by State in 2008",
         "x": 0.45
        }
       }
      }
     },
     "metadata": {},
     "output_type": "display_data"
    }
   ],
   "source": [
    "fig = px.choropleth(df_econ_politcs.query(\"year == 2008\"), \n",
    "                    locations='state_abbrev', \n",
    "                    locationmode=\"USA-states\", \n",
    "                    scope=\"usa\",\n",
    "                    color='PerCapNetEarning',\n",
    "                    color_continuous_scale=\"Viridis_r\", \n",
    "                    )\n",
    "\n",
    "fig.update_layout(\n",
    "      title_text = 'Per Capita Net Earning by State in 2008',\n",
    "      title_font_size = 22,\n",
    "      title_x=0.45, \n",
    "    )\n",
    "\n",
    "fig.show()"
   ]
  },
  {
   "cell_type": "code",
   "execution_count": 48,
   "id": "4eb88bff-9762-4801-a206-74d9c1e80df3",
   "metadata": {},
   "outputs": [
    {
     "data": {
      "application/vnd.plotly.v1+json": {
       "config": {
        "plotlyServerURL": "https://plot.ly"
       },
       "data": [
        {
         "coloraxis": "coloraxis",
         "geo": "geo",
         "hovertemplate": "state_abbrev=%{location}<br>PerCapNetEarning=%{z}<extra></extra>",
         "locationmode": "USA-states",
         "locations": [
          "AK",
          "AL",
          "AR",
          "AZ",
          "CA",
          "CO",
          "CT",
          "DC",
          "DE",
          "FL",
          "GA",
          "GU",
          "HI",
          "IA",
          "ID",
          "IL",
          "IN",
          "KS",
          "KY",
          "LA",
          "MA",
          "MD",
          "ME",
          "MI",
          "MN",
          "MO",
          "MS",
          "MT",
          "NC",
          "ND",
          "NE",
          "NH",
          "NJ",
          "NM",
          "NV",
          "NY",
          "OH",
          "OK",
          "OR",
          "PA",
          "PR",
          "RI",
          "SC",
          "SD",
          "TN",
          "TX",
          "UT",
          "VA",
          "VI",
          "VT",
          "WA",
          "WI",
          "WV",
          "WY"
         ],
         "name": "",
         "type": "choropleth",
         "z": [
          36820,
          23180,
          21460,
          24551,
          36834,
          33619,
          45492,
          53817,
          29737,
          24577,
          27802,
          null,
          32029,
          29322,
          23986,
          34074,
          28309,
          30667,
          23491,
          25796,
          42596,
          39641,
          26551,
          27060,
          34172,
          26990,
          20525,
          24909,
          26377,
          33544,
          32344,
          38156,
          42169,
          21995,
          26574,
          38203,
          28592,
          25884,
          27841,
          32858,
          null,
          31175,
          24118,
          29559,
          28599,
          30795,
          27715,
          35130,
          null,
          29569,
          34596,
          30320,
          20587,
          30753
         ]
        }
       ],
       "layout": {
        "coloraxis": {
         "colorbar": {
          "title": {
           "text": "PerCapNetEarning"
          }
         },
         "colorscale": [
          [
           0,
           "#fde725"
          ],
          [
           0.1111111111111111,
           "#b5de2b"
          ],
          [
           0.2222222222222222,
           "#6ece58"
          ],
          [
           0.3333333333333333,
           "#35b779"
          ],
          [
           0.4444444444444444,
           "#1f9e89"
          ],
          [
           0.5555555555555556,
           "#26828e"
          ],
          [
           0.6666666666666666,
           "#31688e"
          ],
          [
           0.7777777777777778,
           "#3e4989"
          ],
          [
           0.8888888888888888,
           "#482878"
          ],
          [
           1,
           "#440154"
          ]
         ]
        },
        "geo": {
         "center": {},
         "domain": {
          "x": [
           0,
           1
          ],
          "y": [
           0,
           1
          ]
         },
         "scope": "usa"
        },
        "legend": {
         "tracegroupgap": 0
        },
        "margin": {
         "t": 60
        },
        "template": {
         "data": {
          "bar": [
           {
            "error_x": {
             "color": "#2a3f5f"
            },
            "error_y": {
             "color": "#2a3f5f"
            },
            "marker": {
             "line": {
              "color": "#E5ECF6",
              "width": 0.5
             },
             "pattern": {
              "fillmode": "overlay",
              "size": 10,
              "solidity": 0.2
             }
            },
            "type": "bar"
           }
          ],
          "barpolar": [
           {
            "marker": {
             "line": {
              "color": "#E5ECF6",
              "width": 0.5
             },
             "pattern": {
              "fillmode": "overlay",
              "size": 10,
              "solidity": 0.2
             }
            },
            "type": "barpolar"
           }
          ],
          "carpet": [
           {
            "aaxis": {
             "endlinecolor": "#2a3f5f",
             "gridcolor": "white",
             "linecolor": "white",
             "minorgridcolor": "white",
             "startlinecolor": "#2a3f5f"
            },
            "baxis": {
             "endlinecolor": "#2a3f5f",
             "gridcolor": "white",
             "linecolor": "white",
             "minorgridcolor": "white",
             "startlinecolor": "#2a3f5f"
            },
            "type": "carpet"
           }
          ],
          "choropleth": [
           {
            "colorbar": {
             "outlinewidth": 0,
             "ticks": ""
            },
            "type": "choropleth"
           }
          ],
          "contour": [
           {
            "colorbar": {
             "outlinewidth": 0,
             "ticks": ""
            },
            "colorscale": [
             [
              0,
              "#0d0887"
             ],
             [
              0.1111111111111111,
              "#46039f"
             ],
             [
              0.2222222222222222,
              "#7201a8"
             ],
             [
              0.3333333333333333,
              "#9c179e"
             ],
             [
              0.4444444444444444,
              "#bd3786"
             ],
             [
              0.5555555555555556,
              "#d8576b"
             ],
             [
              0.6666666666666666,
              "#ed7953"
             ],
             [
              0.7777777777777778,
              "#fb9f3a"
             ],
             [
              0.8888888888888888,
              "#fdca26"
             ],
             [
              1,
              "#f0f921"
             ]
            ],
            "type": "contour"
           }
          ],
          "contourcarpet": [
           {
            "colorbar": {
             "outlinewidth": 0,
             "ticks": ""
            },
            "type": "contourcarpet"
           }
          ],
          "heatmap": [
           {
            "colorbar": {
             "outlinewidth": 0,
             "ticks": ""
            },
            "colorscale": [
             [
              0,
              "#0d0887"
             ],
             [
              0.1111111111111111,
              "#46039f"
             ],
             [
              0.2222222222222222,
              "#7201a8"
             ],
             [
              0.3333333333333333,
              "#9c179e"
             ],
             [
              0.4444444444444444,
              "#bd3786"
             ],
             [
              0.5555555555555556,
              "#d8576b"
             ],
             [
              0.6666666666666666,
              "#ed7953"
             ],
             [
              0.7777777777777778,
              "#fb9f3a"
             ],
             [
              0.8888888888888888,
              "#fdca26"
             ],
             [
              1,
              "#f0f921"
             ]
            ],
            "type": "heatmap"
           }
          ],
          "heatmapgl": [
           {
            "colorbar": {
             "outlinewidth": 0,
             "ticks": ""
            },
            "colorscale": [
             [
              0,
              "#0d0887"
             ],
             [
              0.1111111111111111,
              "#46039f"
             ],
             [
              0.2222222222222222,
              "#7201a8"
             ],
             [
              0.3333333333333333,
              "#9c179e"
             ],
             [
              0.4444444444444444,
              "#bd3786"
             ],
             [
              0.5555555555555556,
              "#d8576b"
             ],
             [
              0.6666666666666666,
              "#ed7953"
             ],
             [
              0.7777777777777778,
              "#fb9f3a"
             ],
             [
              0.8888888888888888,
              "#fdca26"
             ],
             [
              1,
              "#f0f921"
             ]
            ],
            "type": "heatmapgl"
           }
          ],
          "histogram": [
           {
            "marker": {
             "pattern": {
              "fillmode": "overlay",
              "size": 10,
              "solidity": 0.2
             }
            },
            "type": "histogram"
           }
          ],
          "histogram2d": [
           {
            "colorbar": {
             "outlinewidth": 0,
             "ticks": ""
            },
            "colorscale": [
             [
              0,
              "#0d0887"
             ],
             [
              0.1111111111111111,
              "#46039f"
             ],
             [
              0.2222222222222222,
              "#7201a8"
             ],
             [
              0.3333333333333333,
              "#9c179e"
             ],
             [
              0.4444444444444444,
              "#bd3786"
             ],
             [
              0.5555555555555556,
              "#d8576b"
             ],
             [
              0.6666666666666666,
              "#ed7953"
             ],
             [
              0.7777777777777778,
              "#fb9f3a"
             ],
             [
              0.8888888888888888,
              "#fdca26"
             ],
             [
              1,
              "#f0f921"
             ]
            ],
            "type": "histogram2d"
           }
          ],
          "histogram2dcontour": [
           {
            "colorbar": {
             "outlinewidth": 0,
             "ticks": ""
            },
            "colorscale": [
             [
              0,
              "#0d0887"
             ],
             [
              0.1111111111111111,
              "#46039f"
             ],
             [
              0.2222222222222222,
              "#7201a8"
             ],
             [
              0.3333333333333333,
              "#9c179e"
             ],
             [
              0.4444444444444444,
              "#bd3786"
             ],
             [
              0.5555555555555556,
              "#d8576b"
             ],
             [
              0.6666666666666666,
              "#ed7953"
             ],
             [
              0.7777777777777778,
              "#fb9f3a"
             ],
             [
              0.8888888888888888,
              "#fdca26"
             ],
             [
              1,
              "#f0f921"
             ]
            ],
            "type": "histogram2dcontour"
           }
          ],
          "mesh3d": [
           {
            "colorbar": {
             "outlinewidth": 0,
             "ticks": ""
            },
            "type": "mesh3d"
           }
          ],
          "parcoords": [
           {
            "line": {
             "colorbar": {
              "outlinewidth": 0,
              "ticks": ""
             }
            },
            "type": "parcoords"
           }
          ],
          "pie": [
           {
            "automargin": true,
            "type": "pie"
           }
          ],
          "scatter": [
           {
            "fillpattern": {
             "fillmode": "overlay",
             "size": 10,
             "solidity": 0.2
            },
            "type": "scatter"
           }
          ],
          "scatter3d": [
           {
            "line": {
             "colorbar": {
              "outlinewidth": 0,
              "ticks": ""
             }
            },
            "marker": {
             "colorbar": {
              "outlinewidth": 0,
              "ticks": ""
             }
            },
            "type": "scatter3d"
           }
          ],
          "scattercarpet": [
           {
            "marker": {
             "colorbar": {
              "outlinewidth": 0,
              "ticks": ""
             }
            },
            "type": "scattercarpet"
           }
          ],
          "scattergeo": [
           {
            "marker": {
             "colorbar": {
              "outlinewidth": 0,
              "ticks": ""
             }
            },
            "type": "scattergeo"
           }
          ],
          "scattergl": [
           {
            "marker": {
             "colorbar": {
              "outlinewidth": 0,
              "ticks": ""
             }
            },
            "type": "scattergl"
           }
          ],
          "scattermapbox": [
           {
            "marker": {
             "colorbar": {
              "outlinewidth": 0,
              "ticks": ""
             }
            },
            "type": "scattermapbox"
           }
          ],
          "scatterpolar": [
           {
            "marker": {
             "colorbar": {
              "outlinewidth": 0,
              "ticks": ""
             }
            },
            "type": "scatterpolar"
           }
          ],
          "scatterpolargl": [
           {
            "marker": {
             "colorbar": {
              "outlinewidth": 0,
              "ticks": ""
             }
            },
            "type": "scatterpolargl"
           }
          ],
          "scatterternary": [
           {
            "marker": {
             "colorbar": {
              "outlinewidth": 0,
              "ticks": ""
             }
            },
            "type": "scatterternary"
           }
          ],
          "surface": [
           {
            "colorbar": {
             "outlinewidth": 0,
             "ticks": ""
            },
            "colorscale": [
             [
              0,
              "#0d0887"
             ],
             [
              0.1111111111111111,
              "#46039f"
             ],
             [
              0.2222222222222222,
              "#7201a8"
             ],
             [
              0.3333333333333333,
              "#9c179e"
             ],
             [
              0.4444444444444444,
              "#bd3786"
             ],
             [
              0.5555555555555556,
              "#d8576b"
             ],
             [
              0.6666666666666666,
              "#ed7953"
             ],
             [
              0.7777777777777778,
              "#fb9f3a"
             ],
             [
              0.8888888888888888,
              "#fdca26"
             ],
             [
              1,
              "#f0f921"
             ]
            ],
            "type": "surface"
           }
          ],
          "table": [
           {
            "cells": {
             "fill": {
              "color": "#EBF0F8"
             },
             "line": {
              "color": "white"
             }
            },
            "header": {
             "fill": {
              "color": "#C8D4E3"
             },
             "line": {
              "color": "white"
             }
            },
            "type": "table"
           }
          ]
         },
         "layout": {
          "annotationdefaults": {
           "arrowcolor": "#2a3f5f",
           "arrowhead": 0,
           "arrowwidth": 1
          },
          "autotypenumbers": "strict",
          "coloraxis": {
           "colorbar": {
            "outlinewidth": 0,
            "ticks": ""
           }
          },
          "colorscale": {
           "diverging": [
            [
             0,
             "#8e0152"
            ],
            [
             0.1,
             "#c51b7d"
            ],
            [
             0.2,
             "#de77ae"
            ],
            [
             0.3,
             "#f1b6da"
            ],
            [
             0.4,
             "#fde0ef"
            ],
            [
             0.5,
             "#f7f7f7"
            ],
            [
             0.6,
             "#e6f5d0"
            ],
            [
             0.7,
             "#b8e186"
            ],
            [
             0.8,
             "#7fbc41"
            ],
            [
             0.9,
             "#4d9221"
            ],
            [
             1,
             "#276419"
            ]
           ],
           "sequential": [
            [
             0,
             "#0d0887"
            ],
            [
             0.1111111111111111,
             "#46039f"
            ],
            [
             0.2222222222222222,
             "#7201a8"
            ],
            [
             0.3333333333333333,
             "#9c179e"
            ],
            [
             0.4444444444444444,
             "#bd3786"
            ],
            [
             0.5555555555555556,
             "#d8576b"
            ],
            [
             0.6666666666666666,
             "#ed7953"
            ],
            [
             0.7777777777777778,
             "#fb9f3a"
            ],
            [
             0.8888888888888888,
             "#fdca26"
            ],
            [
             1,
             "#f0f921"
            ]
           ],
           "sequentialminus": [
            [
             0,
             "#0d0887"
            ],
            [
             0.1111111111111111,
             "#46039f"
            ],
            [
             0.2222222222222222,
             "#7201a8"
            ],
            [
             0.3333333333333333,
             "#9c179e"
            ],
            [
             0.4444444444444444,
             "#bd3786"
            ],
            [
             0.5555555555555556,
             "#d8576b"
            ],
            [
             0.6666666666666666,
             "#ed7953"
            ],
            [
             0.7777777777777778,
             "#fb9f3a"
            ],
            [
             0.8888888888888888,
             "#fdca26"
            ],
            [
             1,
             "#f0f921"
            ]
           ]
          },
          "colorway": [
           "#636efa",
           "#EF553B",
           "#00cc96",
           "#ab63fa",
           "#FFA15A",
           "#19d3f3",
           "#FF6692",
           "#B6E880",
           "#FF97FF",
           "#FECB52"
          ],
          "font": {
           "color": "#2a3f5f"
          },
          "geo": {
           "bgcolor": "white",
           "lakecolor": "white",
           "landcolor": "#E5ECF6",
           "showlakes": true,
           "showland": true,
           "subunitcolor": "white"
          },
          "hoverlabel": {
           "align": "left"
          },
          "hovermode": "closest",
          "mapbox": {
           "style": "light"
          },
          "paper_bgcolor": "white",
          "plot_bgcolor": "#E5ECF6",
          "polar": {
           "angularaxis": {
            "gridcolor": "white",
            "linecolor": "white",
            "ticks": ""
           },
           "bgcolor": "#E5ECF6",
           "radialaxis": {
            "gridcolor": "white",
            "linecolor": "white",
            "ticks": ""
           }
          },
          "scene": {
           "xaxis": {
            "backgroundcolor": "#E5ECF6",
            "gridcolor": "white",
            "gridwidth": 2,
            "linecolor": "white",
            "showbackground": true,
            "ticks": "",
            "zerolinecolor": "white"
           },
           "yaxis": {
            "backgroundcolor": "#E5ECF6",
            "gridcolor": "white",
            "gridwidth": 2,
            "linecolor": "white",
            "showbackground": true,
            "ticks": "",
            "zerolinecolor": "white"
           },
           "zaxis": {
            "backgroundcolor": "#E5ECF6",
            "gridcolor": "white",
            "gridwidth": 2,
            "linecolor": "white",
            "showbackground": true,
            "ticks": "",
            "zerolinecolor": "white"
           }
          },
          "shapedefaults": {
           "line": {
            "color": "#2a3f5f"
           }
          },
          "ternary": {
           "aaxis": {
            "gridcolor": "white",
            "linecolor": "white",
            "ticks": ""
           },
           "baxis": {
            "gridcolor": "white",
            "linecolor": "white",
            "ticks": ""
           },
           "bgcolor": "#E5ECF6",
           "caxis": {
            "gridcolor": "white",
            "linecolor": "white",
            "ticks": ""
           }
          },
          "title": {
           "x": 0.05
          },
          "xaxis": {
           "automargin": true,
           "gridcolor": "white",
           "linecolor": "white",
           "ticks": "",
           "title": {
            "standoff": 15
           },
           "zerolinecolor": "white",
           "zerolinewidth": 2
          },
          "yaxis": {
           "automargin": true,
           "gridcolor": "white",
           "linecolor": "white",
           "ticks": "",
           "title": {
            "standoff": 15
           },
           "zerolinecolor": "white",
           "zerolinewidth": 2
          }
         }
        },
        "title": {
         "font": {
          "size": 22
         },
         "text": "Per Capita Net Earning by State in 2016",
         "x": 0.45
        }
       }
      }
     },
     "metadata": {},
     "output_type": "display_data"
    }
   ],
   "source": [
    "fig = px.choropleth(df_econ_politcs.query(\"year == 2016\"), \n",
    "                    locations='state_abbrev', \n",
    "                    locationmode=\"USA-states\", \n",
    "                    scope=\"usa\",\n",
    "                    color='PerCapNetEarning',\n",
    "                    color_continuous_scale=\"Viridis_r\", \n",
    "                    )\n",
    "\n",
    "fig.update_layout(\n",
    "      title_text = 'Per Capita Net Earning by State in 2016',\n",
    "      title_font_size = 22,\n",
    "      title_x=0.45, \n",
    "    )\n",
    "\n",
    "fig.show()"
   ]
  },
  {
   "cell_type": "markdown",
   "metadata": {},
   "source": [
    "## <a id='toc2_12_'></a>[Choropleth graph of Total Number of Jobs by state](#toc0_)"
   ]
  },
  {
   "cell_type": "code",
   "execution_count": 49,
   "id": "9a29c233-2e5f-457a-a659-8a7f14c67629",
   "metadata": {},
   "outputs": [
    {
     "data": {
      "application/vnd.plotly.v1+json": {
       "config": {
        "plotlyServerURL": "https://plot.ly"
       },
       "data": [
        {
         "coloraxis": "coloraxis",
         "geo": "geo",
         "hovertemplate": "state_abbrev=%{location}<br>TotalNumJobs=%{z}<extra></extra>",
         "locationmode": "USA-states",
         "locations": [
          "AK",
          "AL",
          "AR",
          "AZ",
          "CA",
          "CO",
          "CT",
          "DC",
          "DE",
          "FL",
          "GA",
          "GU",
          "HI",
          "IA",
          "ID",
          "IL",
          "IN",
          "KS",
          "KY",
          "LA",
          "MA",
          "MD",
          "ME",
          "MI",
          "MN",
          "MO",
          "MS",
          "MT",
          "NC",
          "ND",
          "NE",
          "NH",
          "NJ",
          "NM",
          "NV",
          "NY",
          "OH",
          "OK",
          "OR",
          "PA",
          "PR",
          "RI",
          "SC",
          "SD",
          "TN",
          "TX",
          "UT",
          "VA",
          "VI",
          "VT",
          "WA",
          "WI",
          "WV",
          "WY"
         ],
         "name": "",
         "type": "choropleth",
         "z": [
          443538,
          2582591,
          1579283,
          3402808,
          20654292,
          3251097,
          2256043,
          794912,
          544911,
          10269499,
          5450887,
          null,
          858402,
          1997615,
          921093,
          7553059,
          3682931,
          1858069,
          2402591,
          2550836,
          4215669,
          3430882,
          823517,
          5337644,
          3526499,
          3625612,
          1537431,
          636171,
          5413586,
          491898,
          1237365,
          844862,
          5123820,
          1105447,
          1619014,
          11197699,
          6725195,
          2186554,
          2288619,
          7278608,
          null,
          608905,
          2472423,
          561007,
          3677072,
          14365941,
          1688150,
          4870415,
          null,
          424270,
          3954911,
          3572922,
          918366,
          398969
         ]
        }
       ],
       "layout": {
        "coloraxis": {
         "colorbar": {
          "title": {
           "text": "TotalNumJobs"
          }
         },
         "colorscale": [
          [
           0,
           "#fde725"
          ],
          [
           0.1111111111111111,
           "#b5de2b"
          ],
          [
           0.2222222222222222,
           "#6ece58"
          ],
          [
           0.3333333333333333,
           "#35b779"
          ],
          [
           0.4444444444444444,
           "#1f9e89"
          ],
          [
           0.5555555555555556,
           "#26828e"
          ],
          [
           0.6666666666666666,
           "#31688e"
          ],
          [
           0.7777777777777778,
           "#3e4989"
          ],
          [
           0.8888888888888888,
           "#482878"
          ],
          [
           1,
           "#440154"
          ]
         ]
        },
        "geo": {
         "center": {},
         "domain": {
          "x": [
           0,
           1
          ],
          "y": [
           0,
           1
          ]
         },
         "scope": "usa"
        },
        "legend": {
         "tracegroupgap": 0
        },
        "margin": {
         "t": 60
        },
        "template": {
         "data": {
          "bar": [
           {
            "error_x": {
             "color": "#2a3f5f"
            },
            "error_y": {
             "color": "#2a3f5f"
            },
            "marker": {
             "line": {
              "color": "#E5ECF6",
              "width": 0.5
             },
             "pattern": {
              "fillmode": "overlay",
              "size": 10,
              "solidity": 0.2
             }
            },
            "type": "bar"
           }
          ],
          "barpolar": [
           {
            "marker": {
             "line": {
              "color": "#E5ECF6",
              "width": 0.5
             },
             "pattern": {
              "fillmode": "overlay",
              "size": 10,
              "solidity": 0.2
             }
            },
            "type": "barpolar"
           }
          ],
          "carpet": [
           {
            "aaxis": {
             "endlinecolor": "#2a3f5f",
             "gridcolor": "white",
             "linecolor": "white",
             "minorgridcolor": "white",
             "startlinecolor": "#2a3f5f"
            },
            "baxis": {
             "endlinecolor": "#2a3f5f",
             "gridcolor": "white",
             "linecolor": "white",
             "minorgridcolor": "white",
             "startlinecolor": "#2a3f5f"
            },
            "type": "carpet"
           }
          ],
          "choropleth": [
           {
            "colorbar": {
             "outlinewidth": 0,
             "ticks": ""
            },
            "type": "choropleth"
           }
          ],
          "contour": [
           {
            "colorbar": {
             "outlinewidth": 0,
             "ticks": ""
            },
            "colorscale": [
             [
              0,
              "#0d0887"
             ],
             [
              0.1111111111111111,
              "#46039f"
             ],
             [
              0.2222222222222222,
              "#7201a8"
             ],
             [
              0.3333333333333333,
              "#9c179e"
             ],
             [
              0.4444444444444444,
              "#bd3786"
             ],
             [
              0.5555555555555556,
              "#d8576b"
             ],
             [
              0.6666666666666666,
              "#ed7953"
             ],
             [
              0.7777777777777778,
              "#fb9f3a"
             ],
             [
              0.8888888888888888,
              "#fdca26"
             ],
             [
              1,
              "#f0f921"
             ]
            ],
            "type": "contour"
           }
          ],
          "contourcarpet": [
           {
            "colorbar": {
             "outlinewidth": 0,
             "ticks": ""
            },
            "type": "contourcarpet"
           }
          ],
          "heatmap": [
           {
            "colorbar": {
             "outlinewidth": 0,
             "ticks": ""
            },
            "colorscale": [
             [
              0,
              "#0d0887"
             ],
             [
              0.1111111111111111,
              "#46039f"
             ],
             [
              0.2222222222222222,
              "#7201a8"
             ],
             [
              0.3333333333333333,
              "#9c179e"
             ],
             [
              0.4444444444444444,
              "#bd3786"
             ],
             [
              0.5555555555555556,
              "#d8576b"
             ],
             [
              0.6666666666666666,
              "#ed7953"
             ],
             [
              0.7777777777777778,
              "#fb9f3a"
             ],
             [
              0.8888888888888888,
              "#fdca26"
             ],
             [
              1,
              "#f0f921"
             ]
            ],
            "type": "heatmap"
           }
          ],
          "heatmapgl": [
           {
            "colorbar": {
             "outlinewidth": 0,
             "ticks": ""
            },
            "colorscale": [
             [
              0,
              "#0d0887"
             ],
             [
              0.1111111111111111,
              "#46039f"
             ],
             [
              0.2222222222222222,
              "#7201a8"
             ],
             [
              0.3333333333333333,
              "#9c179e"
             ],
             [
              0.4444444444444444,
              "#bd3786"
             ],
             [
              0.5555555555555556,
              "#d8576b"
             ],
             [
              0.6666666666666666,
              "#ed7953"
             ],
             [
              0.7777777777777778,
              "#fb9f3a"
             ],
             [
              0.8888888888888888,
              "#fdca26"
             ],
             [
              1,
              "#f0f921"
             ]
            ],
            "type": "heatmapgl"
           }
          ],
          "histogram": [
           {
            "marker": {
             "pattern": {
              "fillmode": "overlay",
              "size": 10,
              "solidity": 0.2
             }
            },
            "type": "histogram"
           }
          ],
          "histogram2d": [
           {
            "colorbar": {
             "outlinewidth": 0,
             "ticks": ""
            },
            "colorscale": [
             [
              0,
              "#0d0887"
             ],
             [
              0.1111111111111111,
              "#46039f"
             ],
             [
              0.2222222222222222,
              "#7201a8"
             ],
             [
              0.3333333333333333,
              "#9c179e"
             ],
             [
              0.4444444444444444,
              "#bd3786"
             ],
             [
              0.5555555555555556,
              "#d8576b"
             ],
             [
              0.6666666666666666,
              "#ed7953"
             ],
             [
              0.7777777777777778,
              "#fb9f3a"
             ],
             [
              0.8888888888888888,
              "#fdca26"
             ],
             [
              1,
              "#f0f921"
             ]
            ],
            "type": "histogram2d"
           }
          ],
          "histogram2dcontour": [
           {
            "colorbar": {
             "outlinewidth": 0,
             "ticks": ""
            },
            "colorscale": [
             [
              0,
              "#0d0887"
             ],
             [
              0.1111111111111111,
              "#46039f"
             ],
             [
              0.2222222222222222,
              "#7201a8"
             ],
             [
              0.3333333333333333,
              "#9c179e"
             ],
             [
              0.4444444444444444,
              "#bd3786"
             ],
             [
              0.5555555555555556,
              "#d8576b"
             ],
             [
              0.6666666666666666,
              "#ed7953"
             ],
             [
              0.7777777777777778,
              "#fb9f3a"
             ],
             [
              0.8888888888888888,
              "#fdca26"
             ],
             [
              1,
              "#f0f921"
             ]
            ],
            "type": "histogram2dcontour"
           }
          ],
          "mesh3d": [
           {
            "colorbar": {
             "outlinewidth": 0,
             "ticks": ""
            },
            "type": "mesh3d"
           }
          ],
          "parcoords": [
           {
            "line": {
             "colorbar": {
              "outlinewidth": 0,
              "ticks": ""
             }
            },
            "type": "parcoords"
           }
          ],
          "pie": [
           {
            "automargin": true,
            "type": "pie"
           }
          ],
          "scatter": [
           {
            "fillpattern": {
             "fillmode": "overlay",
             "size": 10,
             "solidity": 0.2
            },
            "type": "scatter"
           }
          ],
          "scatter3d": [
           {
            "line": {
             "colorbar": {
              "outlinewidth": 0,
              "ticks": ""
             }
            },
            "marker": {
             "colorbar": {
              "outlinewidth": 0,
              "ticks": ""
             }
            },
            "type": "scatter3d"
           }
          ],
          "scattercarpet": [
           {
            "marker": {
             "colorbar": {
              "outlinewidth": 0,
              "ticks": ""
             }
            },
            "type": "scattercarpet"
           }
          ],
          "scattergeo": [
           {
            "marker": {
             "colorbar": {
              "outlinewidth": 0,
              "ticks": ""
             }
            },
            "type": "scattergeo"
           }
          ],
          "scattergl": [
           {
            "marker": {
             "colorbar": {
              "outlinewidth": 0,
              "ticks": ""
             }
            },
            "type": "scattergl"
           }
          ],
          "scattermapbox": [
           {
            "marker": {
             "colorbar": {
              "outlinewidth": 0,
              "ticks": ""
             }
            },
            "type": "scattermapbox"
           }
          ],
          "scatterpolar": [
           {
            "marker": {
             "colorbar": {
              "outlinewidth": 0,
              "ticks": ""
             }
            },
            "type": "scatterpolar"
           }
          ],
          "scatterpolargl": [
           {
            "marker": {
             "colorbar": {
              "outlinewidth": 0,
              "ticks": ""
             }
            },
            "type": "scatterpolargl"
           }
          ],
          "scatterternary": [
           {
            "marker": {
             "colorbar": {
              "outlinewidth": 0,
              "ticks": ""
             }
            },
            "type": "scatterternary"
           }
          ],
          "surface": [
           {
            "colorbar": {
             "outlinewidth": 0,
             "ticks": ""
            },
            "colorscale": [
             [
              0,
              "#0d0887"
             ],
             [
              0.1111111111111111,
              "#46039f"
             ],
             [
              0.2222222222222222,
              "#7201a8"
             ],
             [
              0.3333333333333333,
              "#9c179e"
             ],
             [
              0.4444444444444444,
              "#bd3786"
             ],
             [
              0.5555555555555556,
              "#d8576b"
             ],
             [
              0.6666666666666666,
              "#ed7953"
             ],
             [
              0.7777777777777778,
              "#fb9f3a"
             ],
             [
              0.8888888888888888,
              "#fdca26"
             ],
             [
              1,
              "#f0f921"
             ]
            ],
            "type": "surface"
           }
          ],
          "table": [
           {
            "cells": {
             "fill": {
              "color": "#EBF0F8"
             },
             "line": {
              "color": "white"
             }
            },
            "header": {
             "fill": {
              "color": "#C8D4E3"
             },
             "line": {
              "color": "white"
             }
            },
            "type": "table"
           }
          ]
         },
         "layout": {
          "annotationdefaults": {
           "arrowcolor": "#2a3f5f",
           "arrowhead": 0,
           "arrowwidth": 1
          },
          "autotypenumbers": "strict",
          "coloraxis": {
           "colorbar": {
            "outlinewidth": 0,
            "ticks": ""
           }
          },
          "colorscale": {
           "diverging": [
            [
             0,
             "#8e0152"
            ],
            [
             0.1,
             "#c51b7d"
            ],
            [
             0.2,
             "#de77ae"
            ],
            [
             0.3,
             "#f1b6da"
            ],
            [
             0.4,
             "#fde0ef"
            ],
            [
             0.5,
             "#f7f7f7"
            ],
            [
             0.6,
             "#e6f5d0"
            ],
            [
             0.7,
             "#b8e186"
            ],
            [
             0.8,
             "#7fbc41"
            ],
            [
             0.9,
             "#4d9221"
            ],
            [
             1,
             "#276419"
            ]
           ],
           "sequential": [
            [
             0,
             "#0d0887"
            ],
            [
             0.1111111111111111,
             "#46039f"
            ],
            [
             0.2222222222222222,
             "#7201a8"
            ],
            [
             0.3333333333333333,
             "#9c179e"
            ],
            [
             0.4444444444444444,
             "#bd3786"
            ],
            [
             0.5555555555555556,
             "#d8576b"
            ],
            [
             0.6666666666666666,
             "#ed7953"
            ],
            [
             0.7777777777777778,
             "#fb9f3a"
            ],
            [
             0.8888888888888888,
             "#fdca26"
            ],
            [
             1,
             "#f0f921"
            ]
           ],
           "sequentialminus": [
            [
             0,
             "#0d0887"
            ],
            [
             0.1111111111111111,
             "#46039f"
            ],
            [
             0.2222222222222222,
             "#7201a8"
            ],
            [
             0.3333333333333333,
             "#9c179e"
            ],
            [
             0.4444444444444444,
             "#bd3786"
            ],
            [
             0.5555555555555556,
             "#d8576b"
            ],
            [
             0.6666666666666666,
             "#ed7953"
            ],
            [
             0.7777777777777778,
             "#fb9f3a"
            ],
            [
             0.8888888888888888,
             "#fdca26"
            ],
            [
             1,
             "#f0f921"
            ]
           ]
          },
          "colorway": [
           "#636efa",
           "#EF553B",
           "#00cc96",
           "#ab63fa",
           "#FFA15A",
           "#19d3f3",
           "#FF6692",
           "#B6E880",
           "#FF97FF",
           "#FECB52"
          ],
          "font": {
           "color": "#2a3f5f"
          },
          "geo": {
           "bgcolor": "white",
           "lakecolor": "white",
           "landcolor": "#E5ECF6",
           "showlakes": true,
           "showland": true,
           "subunitcolor": "white"
          },
          "hoverlabel": {
           "align": "left"
          },
          "hovermode": "closest",
          "mapbox": {
           "style": "light"
          },
          "paper_bgcolor": "white",
          "plot_bgcolor": "#E5ECF6",
          "polar": {
           "angularaxis": {
            "gridcolor": "white",
            "linecolor": "white",
            "ticks": ""
           },
           "bgcolor": "#E5ECF6",
           "radialaxis": {
            "gridcolor": "white",
            "linecolor": "white",
            "ticks": ""
           }
          },
          "scene": {
           "xaxis": {
            "backgroundcolor": "#E5ECF6",
            "gridcolor": "white",
            "gridwidth": 2,
            "linecolor": "white",
            "showbackground": true,
            "ticks": "",
            "zerolinecolor": "white"
           },
           "yaxis": {
            "backgroundcolor": "#E5ECF6",
            "gridcolor": "white",
            "gridwidth": 2,
            "linecolor": "white",
            "showbackground": true,
            "ticks": "",
            "zerolinecolor": "white"
           },
           "zaxis": {
            "backgroundcolor": "#E5ECF6",
            "gridcolor": "white",
            "gridwidth": 2,
            "linecolor": "white",
            "showbackground": true,
            "ticks": "",
            "zerolinecolor": "white"
           }
          },
          "shapedefaults": {
           "line": {
            "color": "#2a3f5f"
           }
          },
          "ternary": {
           "aaxis": {
            "gridcolor": "white",
            "linecolor": "white",
            "ticks": ""
           },
           "baxis": {
            "gridcolor": "white",
            "linecolor": "white",
            "ticks": ""
           },
           "bgcolor": "#E5ECF6",
           "caxis": {
            "gridcolor": "white",
            "linecolor": "white",
            "ticks": ""
           }
          },
          "title": {
           "x": 0.05
          },
          "xaxis": {
           "automargin": true,
           "gridcolor": "white",
           "linecolor": "white",
           "ticks": "",
           "title": {
            "standoff": 15
           },
           "zerolinecolor": "white",
           "zerolinewidth": 2
          },
          "yaxis": {
           "automargin": true,
           "gridcolor": "white",
           "linecolor": "white",
           "ticks": "",
           "title": {
            "standoff": 15
           },
           "zerolinecolor": "white",
           "zerolinewidth": 2
          }
         }
        },
        "title": {
         "font": {
          "size": 22
         },
         "text": "Total Number of Jobs by State in 2008",
         "x": 0.45
        }
       }
      }
     },
     "metadata": {},
     "output_type": "display_data"
    }
   ],
   "source": [
    "fig = px.choropleth(df_econ_politcs.query(\"year == 2008\"), \n",
    "                    locations='state_abbrev', \n",
    "                    locationmode=\"USA-states\", \n",
    "                    scope=\"usa\",\n",
    "                    color='TotalNumJobs',\n",
    "                    color_continuous_scale=\"Viridis_r\", \n",
    "                    )\n",
    "\n",
    "fig.update_layout(\n",
    "      title_text = 'Total Number of Jobs by State in 2008',\n",
    "      title_font_size = 22,\n",
    "      title_x=0.45, \n",
    "    )\n",
    "\n",
    "fig.show()"
   ]
  },
  {
   "cell_type": "code",
   "execution_count": 50,
   "id": "9feb4cb1-d648-4be0-9a8c-437ac982eadf",
   "metadata": {},
   "outputs": [
    {
     "data": {
      "application/vnd.plotly.v1+json": {
       "config": {
        "plotlyServerURL": "https://plot.ly"
       },
       "data": [
        {
         "coloraxis": "coloraxis",
         "geo": "geo",
         "hovertemplate": "state_abbrev=%{location}<br>TotalNumJobs=%{z}<extra></extra>",
         "locationmode": "USA-states",
         "locations": [
          "AK",
          "AL",
          "AR",
          "AZ",
          "CA",
          "CO",
          "CT",
          "DC",
          "DE",
          "FL",
          "GA",
          "GU",
          "HI",
          "IA",
          "ID",
          "IL",
          "IN",
          "KS",
          "KY",
          "LA",
          "MA",
          "MD",
          "ME",
          "MI",
          "MN",
          "MO",
          "MS",
          "MT",
          "NC",
          "ND",
          "NE",
          "NH",
          "NJ",
          "NM",
          "NV",
          "NY",
          "OH",
          "OK",
          "OR",
          "PA",
          "PR",
          "RI",
          "SC",
          "SD",
          "TN",
          "TX",
          "UT",
          "VA",
          "VI",
          "VT",
          "WA",
          "WI",
          "WV",
          "WY"
         ],
         "name": "",
         "type": "choropleth",
         "z": [
          457524,
          2619796,
          1629497,
          3645936,
          23164907,
          3667987,
          2300038,
          891545,
          578698,
          11673482,
          5971967,
          null,
          913087,
          2066316,
          976764,
          7799138,
          3847689,
          1916428,
          2498847,
          2690820,
          4709906,
          3655889,
          826669,
          5575625,
          3698285,
          3700663,
          1579873,
          667815,
          5829015,
          576908,
          1310866,
          873134,
          5391330,
          1092500,
          1725136,
          12259144,
          6931860,
          2286701,
          2450362,
          7593966,
          null,
          632521,
          2700035,
          597414,
          3951095,
          16685139,
          1933422,
          5142712,
          null,
          433924,
          4310119,
          3658030,
          890105,
          398271
         ]
        }
       ],
       "layout": {
        "coloraxis": {
         "colorbar": {
          "title": {
           "text": "TotalNumJobs"
          }
         },
         "colorscale": [
          [
           0,
           "#fde725"
          ],
          [
           0.1111111111111111,
           "#b5de2b"
          ],
          [
           0.2222222222222222,
           "#6ece58"
          ],
          [
           0.3333333333333333,
           "#35b779"
          ],
          [
           0.4444444444444444,
           "#1f9e89"
          ],
          [
           0.5555555555555556,
           "#26828e"
          ],
          [
           0.6666666666666666,
           "#31688e"
          ],
          [
           0.7777777777777778,
           "#3e4989"
          ],
          [
           0.8888888888888888,
           "#482878"
          ],
          [
           1,
           "#440154"
          ]
         ]
        },
        "geo": {
         "center": {},
         "domain": {
          "x": [
           0,
           1
          ],
          "y": [
           0,
           1
          ]
         },
         "scope": "usa"
        },
        "legend": {
         "tracegroupgap": 0
        },
        "margin": {
         "t": 60
        },
        "template": {
         "data": {
          "bar": [
           {
            "error_x": {
             "color": "#2a3f5f"
            },
            "error_y": {
             "color": "#2a3f5f"
            },
            "marker": {
             "line": {
              "color": "#E5ECF6",
              "width": 0.5
             },
             "pattern": {
              "fillmode": "overlay",
              "size": 10,
              "solidity": 0.2
             }
            },
            "type": "bar"
           }
          ],
          "barpolar": [
           {
            "marker": {
             "line": {
              "color": "#E5ECF6",
              "width": 0.5
             },
             "pattern": {
              "fillmode": "overlay",
              "size": 10,
              "solidity": 0.2
             }
            },
            "type": "barpolar"
           }
          ],
          "carpet": [
           {
            "aaxis": {
             "endlinecolor": "#2a3f5f",
             "gridcolor": "white",
             "linecolor": "white",
             "minorgridcolor": "white",
             "startlinecolor": "#2a3f5f"
            },
            "baxis": {
             "endlinecolor": "#2a3f5f",
             "gridcolor": "white",
             "linecolor": "white",
             "minorgridcolor": "white",
             "startlinecolor": "#2a3f5f"
            },
            "type": "carpet"
           }
          ],
          "choropleth": [
           {
            "colorbar": {
             "outlinewidth": 0,
             "ticks": ""
            },
            "type": "choropleth"
           }
          ],
          "contour": [
           {
            "colorbar": {
             "outlinewidth": 0,
             "ticks": ""
            },
            "colorscale": [
             [
              0,
              "#0d0887"
             ],
             [
              0.1111111111111111,
              "#46039f"
             ],
             [
              0.2222222222222222,
              "#7201a8"
             ],
             [
              0.3333333333333333,
              "#9c179e"
             ],
             [
              0.4444444444444444,
              "#bd3786"
             ],
             [
              0.5555555555555556,
              "#d8576b"
             ],
             [
              0.6666666666666666,
              "#ed7953"
             ],
             [
              0.7777777777777778,
              "#fb9f3a"
             ],
             [
              0.8888888888888888,
              "#fdca26"
             ],
             [
              1,
              "#f0f921"
             ]
            ],
            "type": "contour"
           }
          ],
          "contourcarpet": [
           {
            "colorbar": {
             "outlinewidth": 0,
             "ticks": ""
            },
            "type": "contourcarpet"
           }
          ],
          "heatmap": [
           {
            "colorbar": {
             "outlinewidth": 0,
             "ticks": ""
            },
            "colorscale": [
             [
              0,
              "#0d0887"
             ],
             [
              0.1111111111111111,
              "#46039f"
             ],
             [
              0.2222222222222222,
              "#7201a8"
             ],
             [
              0.3333333333333333,
              "#9c179e"
             ],
             [
              0.4444444444444444,
              "#bd3786"
             ],
             [
              0.5555555555555556,
              "#d8576b"
             ],
             [
              0.6666666666666666,
              "#ed7953"
             ],
             [
              0.7777777777777778,
              "#fb9f3a"
             ],
             [
              0.8888888888888888,
              "#fdca26"
             ],
             [
              1,
              "#f0f921"
             ]
            ],
            "type": "heatmap"
           }
          ],
          "heatmapgl": [
           {
            "colorbar": {
             "outlinewidth": 0,
             "ticks": ""
            },
            "colorscale": [
             [
              0,
              "#0d0887"
             ],
             [
              0.1111111111111111,
              "#46039f"
             ],
             [
              0.2222222222222222,
              "#7201a8"
             ],
             [
              0.3333333333333333,
              "#9c179e"
             ],
             [
              0.4444444444444444,
              "#bd3786"
             ],
             [
              0.5555555555555556,
              "#d8576b"
             ],
             [
              0.6666666666666666,
              "#ed7953"
             ],
             [
              0.7777777777777778,
              "#fb9f3a"
             ],
             [
              0.8888888888888888,
              "#fdca26"
             ],
             [
              1,
              "#f0f921"
             ]
            ],
            "type": "heatmapgl"
           }
          ],
          "histogram": [
           {
            "marker": {
             "pattern": {
              "fillmode": "overlay",
              "size": 10,
              "solidity": 0.2
             }
            },
            "type": "histogram"
           }
          ],
          "histogram2d": [
           {
            "colorbar": {
             "outlinewidth": 0,
             "ticks": ""
            },
            "colorscale": [
             [
              0,
              "#0d0887"
             ],
             [
              0.1111111111111111,
              "#46039f"
             ],
             [
              0.2222222222222222,
              "#7201a8"
             ],
             [
              0.3333333333333333,
              "#9c179e"
             ],
             [
              0.4444444444444444,
              "#bd3786"
             ],
             [
              0.5555555555555556,
              "#d8576b"
             ],
             [
              0.6666666666666666,
              "#ed7953"
             ],
             [
              0.7777777777777778,
              "#fb9f3a"
             ],
             [
              0.8888888888888888,
              "#fdca26"
             ],
             [
              1,
              "#f0f921"
             ]
            ],
            "type": "histogram2d"
           }
          ],
          "histogram2dcontour": [
           {
            "colorbar": {
             "outlinewidth": 0,
             "ticks": ""
            },
            "colorscale": [
             [
              0,
              "#0d0887"
             ],
             [
              0.1111111111111111,
              "#46039f"
             ],
             [
              0.2222222222222222,
              "#7201a8"
             ],
             [
              0.3333333333333333,
              "#9c179e"
             ],
             [
              0.4444444444444444,
              "#bd3786"
             ],
             [
              0.5555555555555556,
              "#d8576b"
             ],
             [
              0.6666666666666666,
              "#ed7953"
             ],
             [
              0.7777777777777778,
              "#fb9f3a"
             ],
             [
              0.8888888888888888,
              "#fdca26"
             ],
             [
              1,
              "#f0f921"
             ]
            ],
            "type": "histogram2dcontour"
           }
          ],
          "mesh3d": [
           {
            "colorbar": {
             "outlinewidth": 0,
             "ticks": ""
            },
            "type": "mesh3d"
           }
          ],
          "parcoords": [
           {
            "line": {
             "colorbar": {
              "outlinewidth": 0,
              "ticks": ""
             }
            },
            "type": "parcoords"
           }
          ],
          "pie": [
           {
            "automargin": true,
            "type": "pie"
           }
          ],
          "scatter": [
           {
            "fillpattern": {
             "fillmode": "overlay",
             "size": 10,
             "solidity": 0.2
            },
            "type": "scatter"
           }
          ],
          "scatter3d": [
           {
            "line": {
             "colorbar": {
              "outlinewidth": 0,
              "ticks": ""
             }
            },
            "marker": {
             "colorbar": {
              "outlinewidth": 0,
              "ticks": ""
             }
            },
            "type": "scatter3d"
           }
          ],
          "scattercarpet": [
           {
            "marker": {
             "colorbar": {
              "outlinewidth": 0,
              "ticks": ""
             }
            },
            "type": "scattercarpet"
           }
          ],
          "scattergeo": [
           {
            "marker": {
             "colorbar": {
              "outlinewidth": 0,
              "ticks": ""
             }
            },
            "type": "scattergeo"
           }
          ],
          "scattergl": [
           {
            "marker": {
             "colorbar": {
              "outlinewidth": 0,
              "ticks": ""
             }
            },
            "type": "scattergl"
           }
          ],
          "scattermapbox": [
           {
            "marker": {
             "colorbar": {
              "outlinewidth": 0,
              "ticks": ""
             }
            },
            "type": "scattermapbox"
           }
          ],
          "scatterpolar": [
           {
            "marker": {
             "colorbar": {
              "outlinewidth": 0,
              "ticks": ""
             }
            },
            "type": "scatterpolar"
           }
          ],
          "scatterpolargl": [
           {
            "marker": {
             "colorbar": {
              "outlinewidth": 0,
              "ticks": ""
             }
            },
            "type": "scatterpolargl"
           }
          ],
          "scatterternary": [
           {
            "marker": {
             "colorbar": {
              "outlinewidth": 0,
              "ticks": ""
             }
            },
            "type": "scatterternary"
           }
          ],
          "surface": [
           {
            "colorbar": {
             "outlinewidth": 0,
             "ticks": ""
            },
            "colorscale": [
             [
              0,
              "#0d0887"
             ],
             [
              0.1111111111111111,
              "#46039f"
             ],
             [
              0.2222222222222222,
              "#7201a8"
             ],
             [
              0.3333333333333333,
              "#9c179e"
             ],
             [
              0.4444444444444444,
              "#bd3786"
             ],
             [
              0.5555555555555556,
              "#d8576b"
             ],
             [
              0.6666666666666666,
              "#ed7953"
             ],
             [
              0.7777777777777778,
              "#fb9f3a"
             ],
             [
              0.8888888888888888,
              "#fdca26"
             ],
             [
              1,
              "#f0f921"
             ]
            ],
            "type": "surface"
           }
          ],
          "table": [
           {
            "cells": {
             "fill": {
              "color": "#EBF0F8"
             },
             "line": {
              "color": "white"
             }
            },
            "header": {
             "fill": {
              "color": "#C8D4E3"
             },
             "line": {
              "color": "white"
             }
            },
            "type": "table"
           }
          ]
         },
         "layout": {
          "annotationdefaults": {
           "arrowcolor": "#2a3f5f",
           "arrowhead": 0,
           "arrowwidth": 1
          },
          "autotypenumbers": "strict",
          "coloraxis": {
           "colorbar": {
            "outlinewidth": 0,
            "ticks": ""
           }
          },
          "colorscale": {
           "diverging": [
            [
             0,
             "#8e0152"
            ],
            [
             0.1,
             "#c51b7d"
            ],
            [
             0.2,
             "#de77ae"
            ],
            [
             0.3,
             "#f1b6da"
            ],
            [
             0.4,
             "#fde0ef"
            ],
            [
             0.5,
             "#f7f7f7"
            ],
            [
             0.6,
             "#e6f5d0"
            ],
            [
             0.7,
             "#b8e186"
            ],
            [
             0.8,
             "#7fbc41"
            ],
            [
             0.9,
             "#4d9221"
            ],
            [
             1,
             "#276419"
            ]
           ],
           "sequential": [
            [
             0,
             "#0d0887"
            ],
            [
             0.1111111111111111,
             "#46039f"
            ],
            [
             0.2222222222222222,
             "#7201a8"
            ],
            [
             0.3333333333333333,
             "#9c179e"
            ],
            [
             0.4444444444444444,
             "#bd3786"
            ],
            [
             0.5555555555555556,
             "#d8576b"
            ],
            [
             0.6666666666666666,
             "#ed7953"
            ],
            [
             0.7777777777777778,
             "#fb9f3a"
            ],
            [
             0.8888888888888888,
             "#fdca26"
            ],
            [
             1,
             "#f0f921"
            ]
           ],
           "sequentialminus": [
            [
             0,
             "#0d0887"
            ],
            [
             0.1111111111111111,
             "#46039f"
            ],
            [
             0.2222222222222222,
             "#7201a8"
            ],
            [
             0.3333333333333333,
             "#9c179e"
            ],
            [
             0.4444444444444444,
             "#bd3786"
            ],
            [
             0.5555555555555556,
             "#d8576b"
            ],
            [
             0.6666666666666666,
             "#ed7953"
            ],
            [
             0.7777777777777778,
             "#fb9f3a"
            ],
            [
             0.8888888888888888,
             "#fdca26"
            ],
            [
             1,
             "#f0f921"
            ]
           ]
          },
          "colorway": [
           "#636efa",
           "#EF553B",
           "#00cc96",
           "#ab63fa",
           "#FFA15A",
           "#19d3f3",
           "#FF6692",
           "#B6E880",
           "#FF97FF",
           "#FECB52"
          ],
          "font": {
           "color": "#2a3f5f"
          },
          "geo": {
           "bgcolor": "white",
           "lakecolor": "white",
           "landcolor": "#E5ECF6",
           "showlakes": true,
           "showland": true,
           "subunitcolor": "white"
          },
          "hoverlabel": {
           "align": "left"
          },
          "hovermode": "closest",
          "mapbox": {
           "style": "light"
          },
          "paper_bgcolor": "white",
          "plot_bgcolor": "#E5ECF6",
          "polar": {
           "angularaxis": {
            "gridcolor": "white",
            "linecolor": "white",
            "ticks": ""
           },
           "bgcolor": "#E5ECF6",
           "radialaxis": {
            "gridcolor": "white",
            "linecolor": "white",
            "ticks": ""
           }
          },
          "scene": {
           "xaxis": {
            "backgroundcolor": "#E5ECF6",
            "gridcolor": "white",
            "gridwidth": 2,
            "linecolor": "white",
            "showbackground": true,
            "ticks": "",
            "zerolinecolor": "white"
           },
           "yaxis": {
            "backgroundcolor": "#E5ECF6",
            "gridcolor": "white",
            "gridwidth": 2,
            "linecolor": "white",
            "showbackground": true,
            "ticks": "",
            "zerolinecolor": "white"
           },
           "zaxis": {
            "backgroundcolor": "#E5ECF6",
            "gridcolor": "white",
            "gridwidth": 2,
            "linecolor": "white",
            "showbackground": true,
            "ticks": "",
            "zerolinecolor": "white"
           }
          },
          "shapedefaults": {
           "line": {
            "color": "#2a3f5f"
           }
          },
          "ternary": {
           "aaxis": {
            "gridcolor": "white",
            "linecolor": "white",
            "ticks": ""
           },
           "baxis": {
            "gridcolor": "white",
            "linecolor": "white",
            "ticks": ""
           },
           "bgcolor": "#E5ECF6",
           "caxis": {
            "gridcolor": "white",
            "linecolor": "white",
            "ticks": ""
           }
          },
          "title": {
           "x": 0.05
          },
          "xaxis": {
           "automargin": true,
           "gridcolor": "white",
           "linecolor": "white",
           "ticks": "",
           "title": {
            "standoff": 15
           },
           "zerolinecolor": "white",
           "zerolinewidth": 2
          },
          "yaxis": {
           "automargin": true,
           "gridcolor": "white",
           "linecolor": "white",
           "ticks": "",
           "title": {
            "standoff": 15
           },
           "zerolinecolor": "white",
           "zerolinewidth": 2
          }
         }
        },
        "title": {
         "font": {
          "size": 22
         },
         "text": "Total Number of Jobs by State in 2016",
         "x": 0.45
        }
       }
      }
     },
     "metadata": {},
     "output_type": "display_data"
    }
   ],
   "source": [
    "fig = px.choropleth(df_econ_politcs.query(\"year == 2016\"), \n",
    "                    locations='state_abbrev', \n",
    "                    locationmode=\"USA-states\", \n",
    "                    scope=\"usa\",\n",
    "                    color='TotalNumJobs',\n",
    "                    color_continuous_scale=\"Viridis_r\", \n",
    "                    )\n",
    "\n",
    "fig.update_layout(\n",
    "      title_text = 'Total Number of Jobs by State in 2016',\n",
    "      title_font_size = 22,\n",
    "      title_x=0.45, \n",
    "    )\n",
    "\n",
    "fig.show()"
   ]
  },
  {
   "cell_type": "markdown",
   "metadata": {},
   "source": [
    "# <a id='toc3_'></a>[Model Development and Evaluation](#toc0_)"
   ]
  },
  {
   "cell_type": "code",
   "execution_count": 51,
   "id": "25ddf254",
   "metadata": {},
   "outputs": [
    {
     "data": {
      "text/html": [
       "<div>\n",
       "<style scoped>\n",
       "    .dataframe tbody tr th:only-of-type {\n",
       "        vertical-align: middle;\n",
       "    }\n",
       "\n",
       "    .dataframe tbody tr th {\n",
       "        vertical-align: top;\n",
       "    }\n",
       "\n",
       "    .dataframe thead th {\n",
       "        text-align: right;\n",
       "    }\n",
       "</style>\n",
       "<table border=\"1\" class=\"dataframe\">\n",
       "  <thead>\n",
       "    <tr style=\"text-align: right;\">\n",
       "      <th></th>\n",
       "      <th>year</th>\n",
       "      <th>state</th>\n",
       "      <th>homeless_count</th>\n",
       "      <th>democrat_perc</th>\n",
       "      <th>AvgSalary</th>\n",
       "      <th>PerCapNetEarning</th>\n",
       "      <th>PerCapNetIncome</th>\n",
       "      <th>TotalNumJobs</th>\n",
       "    </tr>\n",
       "  </thead>\n",
       "  <tbody>\n",
       "    <tr>\n",
       "      <th>0</th>\n",
       "      <td>2008</td>\n",
       "      <td>AK</td>\n",
       "      <td>7462.0</td>\n",
       "      <td>37.889374</td>\n",
       "      <td>48527.0</td>\n",
       "      <td>31586.0</td>\n",
       "      <td>47749.0</td>\n",
       "      <td>443538.0</td>\n",
       "    </tr>\n",
       "    <tr>\n",
       "      <th>1</th>\n",
       "      <td>2008</td>\n",
       "      <td>AL</td>\n",
       "      <td>23652.0</td>\n",
       "      <td>38.740434</td>\n",
       "      <td>38138.0</td>\n",
       "      <td>20229.0</td>\n",
       "      <td>33353.0</td>\n",
       "      <td>2582591.0</td>\n",
       "    </tr>\n",
       "    <tr>\n",
       "      <th>2</th>\n",
       "      <td>2008</td>\n",
       "      <td>AR</td>\n",
       "      <td>14806.0</td>\n",
       "      <td>38.864660</td>\n",
       "      <td>35310.0</td>\n",
       "      <td>18526.0</td>\n",
       "      <td>31940.0</td>\n",
       "      <td>1579283.0</td>\n",
       "    </tr>\n",
       "    <tr>\n",
       "      <th>3</th>\n",
       "      <td>2008</td>\n",
       "      <td>AZ</td>\n",
       "      <td>56146.0</td>\n",
       "      <td>45.115251</td>\n",
       "      <td>43311.0</td>\n",
       "      <td>22318.0</td>\n",
       "      <td>35563.0</td>\n",
       "      <td>3402808.0</td>\n",
       "    </tr>\n",
       "    <tr>\n",
       "      <th>4</th>\n",
       "      <td>2008</td>\n",
       "      <td>CA</td>\n",
       "      <td>626632.0</td>\n",
       "      <td>61.012638</td>\n",
       "      <td>52524.0</td>\n",
       "      <td>28770.0</td>\n",
       "      <td>43890.0</td>\n",
       "      <td>20654292.0</td>\n",
       "    </tr>\n",
       "    <tr>\n",
       "      <th>...</th>\n",
       "      <td>...</td>\n",
       "      <td>...</td>\n",
       "      <td>...</td>\n",
       "      <td>...</td>\n",
       "      <td>...</td>\n",
       "      <td>...</td>\n",
       "      <td>...</td>\n",
       "      <td>...</td>\n",
       "    </tr>\n",
       "    <tr>\n",
       "      <th>103</th>\n",
       "      <td>2016</td>\n",
       "      <td>VT</td>\n",
       "      <td>5762.0</td>\n",
       "      <td>56.675987</td>\n",
       "      <td>44188.0</td>\n",
       "      <td>29569.0</td>\n",
       "      <td>50420.0</td>\n",
       "      <td>433924.0</td>\n",
       "    </tr>\n",
       "    <tr>\n",
       "      <th>104</th>\n",
       "      <td>2016</td>\n",
       "      <td>WA</td>\n",
       "      <td>103862.0</td>\n",
       "      <td>54.303577</td>\n",
       "      <td>58989.0</td>\n",
       "      <td>34596.0</td>\n",
       "      <td>55802.0</td>\n",
       "      <td>4310119.0</td>\n",
       "    </tr>\n",
       "    <tr>\n",
       "      <th>105</th>\n",
       "      <td>2016</td>\n",
       "      <td>WI</td>\n",
       "      <td>27656.0</td>\n",
       "      <td>46.436079</td>\n",
       "      <td>46551.0</td>\n",
       "      <td>30320.0</td>\n",
       "      <td>47598.0</td>\n",
       "      <td>3658030.0</td>\n",
       "    </tr>\n",
       "    <tr>\n",
       "      <th>106</th>\n",
       "      <td>2016</td>\n",
       "      <td>WV</td>\n",
       "      <td>7020.0</td>\n",
       "      <td>26.476928</td>\n",
       "      <td>41183.0</td>\n",
       "      <td>20587.0</td>\n",
       "      <td>37099.0</td>\n",
       "      <td>890105.0</td>\n",
       "    </tr>\n",
       "    <tr>\n",
       "      <th>107</th>\n",
       "      <td>2016</td>\n",
       "      <td>WY</td>\n",
       "      <td>4184.0</td>\n",
       "      <td>21.877357</td>\n",
       "      <td>46028.0</td>\n",
       "      <td>30753.0</td>\n",
       "      <td>54168.0</td>\n",
       "      <td>398271.0</td>\n",
       "    </tr>\n",
       "  </tbody>\n",
       "</table>\n",
       "<p>108 rows × 8 columns</p>\n",
       "</div>"
      ],
      "text/plain": [
       "     year state  homeless_count  democrat_perc  AvgSalary  PerCapNetEarning  \\\n",
       "0    2008    AK          7462.0      37.889374    48527.0           31586.0   \n",
       "1    2008    AL         23652.0      38.740434    38138.0           20229.0   \n",
       "2    2008    AR         14806.0      38.864660    35310.0           18526.0   \n",
       "3    2008    AZ         56146.0      45.115251    43311.0           22318.0   \n",
       "4    2008    CA        626632.0      61.012638    52524.0           28770.0   \n",
       "..    ...   ...             ...            ...        ...               ...   \n",
       "103  2016    VT          5762.0      56.675987    44188.0           29569.0   \n",
       "104  2016    WA        103862.0      54.303577    58989.0           34596.0   \n",
       "105  2016    WI         27656.0      46.436079    46551.0           30320.0   \n",
       "106  2016    WV          7020.0      26.476928    41183.0           20587.0   \n",
       "107  2016    WY          4184.0      21.877357    46028.0           30753.0   \n",
       "\n",
       "     PerCapNetIncome  TotalNumJobs  \n",
       "0            47749.0      443538.0  \n",
       "1            33353.0     2582591.0  \n",
       "2            31940.0     1579283.0  \n",
       "3            35563.0     3402808.0  \n",
       "4            43890.0    20654292.0  \n",
       "..               ...           ...  \n",
       "103          50420.0      433924.0  \n",
       "104          55802.0     4310119.0  \n",
       "105          47598.0     3658030.0  \n",
       "106          37099.0      890105.0  \n",
       "107          54168.0      398271.0  \n",
       "\n",
       "[108 rows x 8 columns]"
      ]
     },
     "execution_count": 51,
     "metadata": {},
     "output_type": "execute_result"
    }
   ],
   "source": [
    "ecopolitics = pd.read_csv(\"../data/homeless_count_Econ_Politics_by_state.csv\")\n",
    "ecopolitics.rename(columns={\"state_abbrev\": \"state\"},inplace=True)\n",
    "ecopolitics"
   ]
  },
  {
   "cell_type": "code",
   "execution_count": 52,
   "id": "7c419c68",
   "metadata": {},
   "outputs": [
    {
     "data": {
      "text/html": [
       "<div>\n",
       "<style scoped>\n",
       "    .dataframe tbody tr th:only-of-type {\n",
       "        vertical-align: middle;\n",
       "    }\n",
       "\n",
       "    .dataframe tbody tr th {\n",
       "        vertical-align: top;\n",
       "    }\n",
       "\n",
       "    .dataframe thead th {\n",
       "        text-align: right;\n",
       "    }\n",
       "</style>\n",
       "<table border=\"1\" class=\"dataframe\">\n",
       "  <thead>\n",
       "    <tr style=\"text-align: right;\">\n",
       "      <th></th>\n",
       "      <th>year</th>\n",
       "      <th>state_abbrev</th>\n",
       "      <th>homeless_count</th>\n",
       "      <th>Sale_Prices</th>\n",
       "      <th>MedianListingPricePerSqft_1Bedroom</th>\n",
       "      <th>MedianListingPricePerSqft_2Bedroom</th>\n",
       "      <th>MedianListingPricePerSqft_3Bedroom</th>\n",
       "      <th>MedianListingPricePerSqft_4Bedroom</th>\n",
       "      <th>MedianListingPricePerSqft_5BedroomOrMore</th>\n",
       "    </tr>\n",
       "  </thead>\n",
       "  <tbody>\n",
       "    <tr>\n",
       "      <th>0</th>\n",
       "      <td>2008</td>\n",
       "      <td>AK</td>\n",
       "      <td>7462</td>\n",
       "      <td>NaN</td>\n",
       "      <td>NaN</td>\n",
       "      <td>NaN</td>\n",
       "      <td>NaN</td>\n",
       "      <td>NaN</td>\n",
       "      <td>NaN</td>\n",
       "    </tr>\n",
       "    <tr>\n",
       "      <th>1</th>\n",
       "      <td>2008</td>\n",
       "      <td>AL</td>\n",
       "      <td>23652</td>\n",
       "      <td>NaN</td>\n",
       "      <td>NaN</td>\n",
       "      <td>NaN</td>\n",
       "      <td>NaN</td>\n",
       "      <td>NaN</td>\n",
       "      <td>NaN</td>\n",
       "    </tr>\n",
       "    <tr>\n",
       "      <th>2</th>\n",
       "      <td>2008</td>\n",
       "      <td>AR</td>\n",
       "      <td>14806</td>\n",
       "      <td>NaN</td>\n",
       "      <td>NaN</td>\n",
       "      <td>NaN</td>\n",
       "      <td>NaN</td>\n",
       "      <td>NaN</td>\n",
       "      <td>NaN</td>\n",
       "    </tr>\n",
       "    <tr>\n",
       "      <th>3</th>\n",
       "      <td>2008</td>\n",
       "      <td>AZ</td>\n",
       "      <td>56146</td>\n",
       "      <td>190750.000000</td>\n",
       "      <td>NaN</td>\n",
       "      <td>NaN</td>\n",
       "      <td>NaN</td>\n",
       "      <td>NaN</td>\n",
       "      <td>NaN</td>\n",
       "    </tr>\n",
       "    <tr>\n",
       "      <th>4</th>\n",
       "      <td>2008</td>\n",
       "      <td>CA</td>\n",
       "      <td>626632</td>\n",
       "      <td>314980.000000</td>\n",
       "      <td>NaN</td>\n",
       "      <td>NaN</td>\n",
       "      <td>NaN</td>\n",
       "      <td>NaN</td>\n",
       "      <td>NaN</td>\n",
       "    </tr>\n",
       "    <tr>\n",
       "      <th>...</th>\n",
       "      <td>...</td>\n",
       "      <td>...</td>\n",
       "      <td>...</td>\n",
       "      <td>...</td>\n",
       "      <td>...</td>\n",
       "      <td>...</td>\n",
       "      <td>...</td>\n",
       "      <td>...</td>\n",
       "      <td>...</td>\n",
       "    </tr>\n",
       "    <tr>\n",
       "      <th>103</th>\n",
       "      <td>2016</td>\n",
       "      <td>VT</td>\n",
       "      <td>5762</td>\n",
       "      <td>NaN</td>\n",
       "      <td>152.405230</td>\n",
       "      <td>146.871426</td>\n",
       "      <td>140.774273</td>\n",
       "      <td>138.816947</td>\n",
       "      <td>121.721618</td>\n",
       "    </tr>\n",
       "    <tr>\n",
       "      <th>104</th>\n",
       "      <td>2016</td>\n",
       "      <td>WA</td>\n",
       "      <td>103862</td>\n",
       "      <td>294916.666667</td>\n",
       "      <td>270.179354</td>\n",
       "      <td>192.746052</td>\n",
       "      <td>174.273438</td>\n",
       "      <td>174.817988</td>\n",
       "      <td>183.988193</td>\n",
       "    </tr>\n",
       "    <tr>\n",
       "      <th>105</th>\n",
       "      <td>2016</td>\n",
       "      <td>WI</td>\n",
       "      <td>27656</td>\n",
       "      <td>163283.333333</td>\n",
       "      <td>139.400275</td>\n",
       "      <td>119.647646</td>\n",
       "      <td>119.108371</td>\n",
       "      <td>113.191737</td>\n",
       "      <td>98.356697</td>\n",
       "    </tr>\n",
       "    <tr>\n",
       "      <th>106</th>\n",
       "      <td>2016</td>\n",
       "      <td>WV</td>\n",
       "      <td>7020</td>\n",
       "      <td>140341.666667</td>\n",
       "      <td>111.100490</td>\n",
       "      <td>81.744695</td>\n",
       "      <td>90.590600</td>\n",
       "      <td>93.592909</td>\n",
       "      <td>89.201195</td>\n",
       "    </tr>\n",
       "    <tr>\n",
       "      <th>107</th>\n",
       "      <td>2016</td>\n",
       "      <td>WY</td>\n",
       "      <td>4184</td>\n",
       "      <td>227700.000000</td>\n",
       "      <td>194.874318</td>\n",
       "      <td>151.025820</td>\n",
       "      <td>137.697140</td>\n",
       "      <td>140.184160</td>\n",
       "      <td>149.289425</td>\n",
       "    </tr>\n",
       "  </tbody>\n",
       "</table>\n",
       "<p>108 rows × 9 columns</p>\n",
       "</div>"
      ],
      "text/plain": [
       "     year state_abbrev  homeless_count    Sale_Prices  \\\n",
       "0    2008           AK            7462            NaN   \n",
       "1    2008           AL           23652            NaN   \n",
       "2    2008           AR           14806            NaN   \n",
       "3    2008           AZ           56146  190750.000000   \n",
       "4    2008           CA          626632  314980.000000   \n",
       "..    ...          ...             ...            ...   \n",
       "103  2016           VT            5762            NaN   \n",
       "104  2016           WA          103862  294916.666667   \n",
       "105  2016           WI           27656  163283.333333   \n",
       "106  2016           WV            7020  140341.666667   \n",
       "107  2016           WY            4184  227700.000000   \n",
       "\n",
       "     MedianListingPricePerSqft_1Bedroom  MedianListingPricePerSqft_2Bedroom  \\\n",
       "0                                   NaN                                 NaN   \n",
       "1                                   NaN                                 NaN   \n",
       "2                                   NaN                                 NaN   \n",
       "3                                   NaN                                 NaN   \n",
       "4                                   NaN                                 NaN   \n",
       "..                                  ...                                 ...   \n",
       "103                          152.405230                          146.871426   \n",
       "104                          270.179354                          192.746052   \n",
       "105                          139.400275                          119.647646   \n",
       "106                          111.100490                           81.744695   \n",
       "107                          194.874318                          151.025820   \n",
       "\n",
       "     MedianListingPricePerSqft_3Bedroom  MedianListingPricePerSqft_4Bedroom  \\\n",
       "0                                   NaN                                 NaN   \n",
       "1                                   NaN                                 NaN   \n",
       "2                                   NaN                                 NaN   \n",
       "3                                   NaN                                 NaN   \n",
       "4                                   NaN                                 NaN   \n",
       "..                                  ...                                 ...   \n",
       "103                          140.774273                          138.816947   \n",
       "104                          174.273438                          174.817988   \n",
       "105                          119.108371                          113.191737   \n",
       "106                           90.590600                           93.592909   \n",
       "107                          137.697140                          140.184160   \n",
       "\n",
       "     MedianListingPricePerSqft_5BedroomOrMore  \n",
       "0                                         NaN  \n",
       "1                                         NaN  \n",
       "2                                         NaN  \n",
       "3                                         NaN  \n",
       "4                                         NaN  \n",
       "..                                        ...  \n",
       "103                                121.721618  \n",
       "104                                183.988193  \n",
       "105                                 98.356697  \n",
       "106                                 89.201195  \n",
       "107                                149.289425  \n",
       "\n",
       "[108 rows x 9 columns]"
      ]
     },
     "execution_count": 52,
     "metadata": {},
     "output_type": "execute_result"
    }
   ],
   "source": [
    "housingprice = pd.read_csv(\"../data/homeless_count_with_housing_price_by_state.csv\")\n",
    "housingprice.rename(columns={\"Year_only\": \"year\"},inplace=True)\n",
    "housingprice"
   ]
  },
  {
   "cell_type": "code",
   "execution_count": 53,
   "id": "01dd3f74",
   "metadata": {},
   "outputs": [
    {
     "data": {
      "text/html": [
       "<div>\n",
       "<style scoped>\n",
       "    .dataframe tbody tr th:only-of-type {\n",
       "        vertical-align: middle;\n",
       "    }\n",
       "\n",
       "    .dataframe tbody tr th {\n",
       "        vertical-align: top;\n",
       "    }\n",
       "\n",
       "    .dataframe thead th {\n",
       "        text-align: right;\n",
       "    }\n",
       "</style>\n",
       "<table border=\"1\" class=\"dataframe\">\n",
       "  <thead>\n",
       "    <tr style=\"text-align: right;\">\n",
       "      <th></th>\n",
       "      <th>year</th>\n",
       "      <th>state</th>\n",
       "      <th>homeless_count</th>\n",
       "      <th>democrat_perc</th>\n",
       "      <th>AvgSalary</th>\n",
       "      <th>PerCapNetEarning</th>\n",
       "      <th>PerCapNetIncome</th>\n",
       "      <th>TotalNumJobs</th>\n",
       "      <th>Sale_Prices</th>\n",
       "      <th>MedianListingPricePerSqft_1Bedroom</th>\n",
       "      <th>MedianListingPricePerSqft_2Bedroom</th>\n",
       "      <th>MedianListingPricePerSqft_3Bedroom</th>\n",
       "      <th>MedianListingPricePerSqft_4Bedroom</th>\n",
       "      <th>MedianListingPricePerSqft_5BedroomOrMore</th>\n",
       "    </tr>\n",
       "  </thead>\n",
       "  <tbody>\n",
       "    <tr>\n",
       "      <th>0</th>\n",
       "      <td>2008</td>\n",
       "      <td>AK</td>\n",
       "      <td>7462.0</td>\n",
       "      <td>37.889374</td>\n",
       "      <td>48527.0</td>\n",
       "      <td>31586.0</td>\n",
       "      <td>47749.0</td>\n",
       "      <td>443538.0</td>\n",
       "      <td>NaN</td>\n",
       "      <td>NaN</td>\n",
       "      <td>NaN</td>\n",
       "      <td>NaN</td>\n",
       "      <td>NaN</td>\n",
       "      <td>NaN</td>\n",
       "    </tr>\n",
       "    <tr>\n",
       "      <th>1</th>\n",
       "      <td>2008</td>\n",
       "      <td>AL</td>\n",
       "      <td>23652.0</td>\n",
       "      <td>38.740434</td>\n",
       "      <td>38138.0</td>\n",
       "      <td>20229.0</td>\n",
       "      <td>33353.0</td>\n",
       "      <td>2582591.0</td>\n",
       "      <td>NaN</td>\n",
       "      <td>NaN</td>\n",
       "      <td>NaN</td>\n",
       "      <td>NaN</td>\n",
       "      <td>NaN</td>\n",
       "      <td>NaN</td>\n",
       "    </tr>\n",
       "    <tr>\n",
       "      <th>2</th>\n",
       "      <td>2008</td>\n",
       "      <td>AR</td>\n",
       "      <td>14806.0</td>\n",
       "      <td>38.864660</td>\n",
       "      <td>35310.0</td>\n",
       "      <td>18526.0</td>\n",
       "      <td>31940.0</td>\n",
       "      <td>1579283.0</td>\n",
       "      <td>NaN</td>\n",
       "      <td>NaN</td>\n",
       "      <td>NaN</td>\n",
       "      <td>NaN</td>\n",
       "      <td>NaN</td>\n",
       "      <td>NaN</td>\n",
       "    </tr>\n",
       "    <tr>\n",
       "      <th>3</th>\n",
       "      <td>2008</td>\n",
       "      <td>AZ</td>\n",
       "      <td>56146.0</td>\n",
       "      <td>45.115251</td>\n",
       "      <td>43311.0</td>\n",
       "      <td>22318.0</td>\n",
       "      <td>35563.0</td>\n",
       "      <td>3402808.0</td>\n",
       "      <td>190750.000000</td>\n",
       "      <td>NaN</td>\n",
       "      <td>NaN</td>\n",
       "      <td>NaN</td>\n",
       "      <td>NaN</td>\n",
       "      <td>NaN</td>\n",
       "    </tr>\n",
       "    <tr>\n",
       "      <th>4</th>\n",
       "      <td>2008</td>\n",
       "      <td>CA</td>\n",
       "      <td>626632.0</td>\n",
       "      <td>61.012638</td>\n",
       "      <td>52524.0</td>\n",
       "      <td>28770.0</td>\n",
       "      <td>43890.0</td>\n",
       "      <td>20654292.0</td>\n",
       "      <td>314980.000000</td>\n",
       "      <td>NaN</td>\n",
       "      <td>NaN</td>\n",
       "      <td>NaN</td>\n",
       "      <td>NaN</td>\n",
       "      <td>NaN</td>\n",
       "    </tr>\n",
       "    <tr>\n",
       "      <th>...</th>\n",
       "      <td>...</td>\n",
       "      <td>...</td>\n",
       "      <td>...</td>\n",
       "      <td>...</td>\n",
       "      <td>...</td>\n",
       "      <td>...</td>\n",
       "      <td>...</td>\n",
       "      <td>...</td>\n",
       "      <td>...</td>\n",
       "      <td>...</td>\n",
       "      <td>...</td>\n",
       "      <td>...</td>\n",
       "      <td>...</td>\n",
       "      <td>...</td>\n",
       "    </tr>\n",
       "    <tr>\n",
       "      <th>103</th>\n",
       "      <td>2016</td>\n",
       "      <td>VT</td>\n",
       "      <td>5762.0</td>\n",
       "      <td>56.675987</td>\n",
       "      <td>44188.0</td>\n",
       "      <td>29569.0</td>\n",
       "      <td>50420.0</td>\n",
       "      <td>433924.0</td>\n",
       "      <td>NaN</td>\n",
       "      <td>152.405230</td>\n",
       "      <td>146.871426</td>\n",
       "      <td>140.774273</td>\n",
       "      <td>138.816947</td>\n",
       "      <td>121.721618</td>\n",
       "    </tr>\n",
       "    <tr>\n",
       "      <th>104</th>\n",
       "      <td>2016</td>\n",
       "      <td>WA</td>\n",
       "      <td>103862.0</td>\n",
       "      <td>54.303577</td>\n",
       "      <td>58989.0</td>\n",
       "      <td>34596.0</td>\n",
       "      <td>55802.0</td>\n",
       "      <td>4310119.0</td>\n",
       "      <td>294916.666667</td>\n",
       "      <td>270.179354</td>\n",
       "      <td>192.746052</td>\n",
       "      <td>174.273438</td>\n",
       "      <td>174.817988</td>\n",
       "      <td>183.988193</td>\n",
       "    </tr>\n",
       "    <tr>\n",
       "      <th>105</th>\n",
       "      <td>2016</td>\n",
       "      <td>WI</td>\n",
       "      <td>27656.0</td>\n",
       "      <td>46.436079</td>\n",
       "      <td>46551.0</td>\n",
       "      <td>30320.0</td>\n",
       "      <td>47598.0</td>\n",
       "      <td>3658030.0</td>\n",
       "      <td>163283.333333</td>\n",
       "      <td>139.400275</td>\n",
       "      <td>119.647646</td>\n",
       "      <td>119.108371</td>\n",
       "      <td>113.191737</td>\n",
       "      <td>98.356697</td>\n",
       "    </tr>\n",
       "    <tr>\n",
       "      <th>106</th>\n",
       "      <td>2016</td>\n",
       "      <td>WV</td>\n",
       "      <td>7020.0</td>\n",
       "      <td>26.476928</td>\n",
       "      <td>41183.0</td>\n",
       "      <td>20587.0</td>\n",
       "      <td>37099.0</td>\n",
       "      <td>890105.0</td>\n",
       "      <td>140341.666667</td>\n",
       "      <td>111.100490</td>\n",
       "      <td>81.744695</td>\n",
       "      <td>90.590600</td>\n",
       "      <td>93.592909</td>\n",
       "      <td>89.201195</td>\n",
       "    </tr>\n",
       "    <tr>\n",
       "      <th>107</th>\n",
       "      <td>2016</td>\n",
       "      <td>WY</td>\n",
       "      <td>4184.0</td>\n",
       "      <td>21.877357</td>\n",
       "      <td>46028.0</td>\n",
       "      <td>30753.0</td>\n",
       "      <td>54168.0</td>\n",
       "      <td>398271.0</td>\n",
       "      <td>227700.000000</td>\n",
       "      <td>194.874318</td>\n",
       "      <td>151.025820</td>\n",
       "      <td>137.697140</td>\n",
       "      <td>140.184160</td>\n",
       "      <td>149.289425</td>\n",
       "    </tr>\n",
       "  </tbody>\n",
       "</table>\n",
       "<p>108 rows × 14 columns</p>\n",
       "</div>"
      ],
      "text/plain": [
       "     year state  homeless_count  democrat_perc  AvgSalary  PerCapNetEarning  \\\n",
       "0    2008    AK          7462.0      37.889374    48527.0           31586.0   \n",
       "1    2008    AL         23652.0      38.740434    38138.0           20229.0   \n",
       "2    2008    AR         14806.0      38.864660    35310.0           18526.0   \n",
       "3    2008    AZ         56146.0      45.115251    43311.0           22318.0   \n",
       "4    2008    CA        626632.0      61.012638    52524.0           28770.0   \n",
       "..    ...   ...             ...            ...        ...               ...   \n",
       "103  2016    VT          5762.0      56.675987    44188.0           29569.0   \n",
       "104  2016    WA        103862.0      54.303577    58989.0           34596.0   \n",
       "105  2016    WI         27656.0      46.436079    46551.0           30320.0   \n",
       "106  2016    WV          7020.0      26.476928    41183.0           20587.0   \n",
       "107  2016    WY          4184.0      21.877357    46028.0           30753.0   \n",
       "\n",
       "     PerCapNetIncome  TotalNumJobs    Sale_Prices  \\\n",
       "0            47749.0      443538.0            NaN   \n",
       "1            33353.0     2582591.0            NaN   \n",
       "2            31940.0     1579283.0            NaN   \n",
       "3            35563.0     3402808.0  190750.000000   \n",
       "4            43890.0    20654292.0  314980.000000   \n",
       "..               ...           ...            ...   \n",
       "103          50420.0      433924.0            NaN   \n",
       "104          55802.0     4310119.0  294916.666667   \n",
       "105          47598.0     3658030.0  163283.333333   \n",
       "106          37099.0      890105.0  140341.666667   \n",
       "107          54168.0      398271.0  227700.000000   \n",
       "\n",
       "     MedianListingPricePerSqft_1Bedroom  MedianListingPricePerSqft_2Bedroom  \\\n",
       "0                                   NaN                                 NaN   \n",
       "1                                   NaN                                 NaN   \n",
       "2                                   NaN                                 NaN   \n",
       "3                                   NaN                                 NaN   \n",
       "4                                   NaN                                 NaN   \n",
       "..                                  ...                                 ...   \n",
       "103                          152.405230                          146.871426   \n",
       "104                          270.179354                          192.746052   \n",
       "105                          139.400275                          119.647646   \n",
       "106                          111.100490                           81.744695   \n",
       "107                          194.874318                          151.025820   \n",
       "\n",
       "     MedianListingPricePerSqft_3Bedroom  MedianListingPricePerSqft_4Bedroom  \\\n",
       "0                                   NaN                                 NaN   \n",
       "1                                   NaN                                 NaN   \n",
       "2                                   NaN                                 NaN   \n",
       "3                                   NaN                                 NaN   \n",
       "4                                   NaN                                 NaN   \n",
       "..                                  ...                                 ...   \n",
       "103                          140.774273                          138.816947   \n",
       "104                          174.273438                          174.817988   \n",
       "105                          119.108371                          113.191737   \n",
       "106                           90.590600                           93.592909   \n",
       "107                          137.697140                          140.184160   \n",
       "\n",
       "     MedianListingPricePerSqft_5BedroomOrMore  \n",
       "0                                         NaN  \n",
       "1                                         NaN  \n",
       "2                                         NaN  \n",
       "3                                         NaN  \n",
       "4                                         NaN  \n",
       "..                                        ...  \n",
       "103                                121.721618  \n",
       "104                                183.988193  \n",
       "105                                 98.356697  \n",
       "106                                 89.201195  \n",
       "107                                149.289425  \n",
       "\n",
       "[108 rows x 14 columns]"
      ]
     },
     "execution_count": 53,
     "metadata": {},
     "output_type": "execute_result"
    }
   ],
   "source": [
    "combined = pd.concat([ecopolitics, housingprice.drop(columns=['year', 'state_abbrev','homeless_count'])], axis=1, join=\"inner\")\n",
    "combined"
   ]
  },
  {
   "cell_type": "code",
   "execution_count": 54,
   "id": "c75c6599",
   "metadata": {},
   "outputs": [
    {
     "data": {
      "text/html": [
       "<div>\n",
       "<style scoped>\n",
       "    .dataframe tbody tr th:only-of-type {\n",
       "        vertical-align: middle;\n",
       "    }\n",
       "\n",
       "    .dataframe tbody tr th {\n",
       "        vertical-align: top;\n",
       "    }\n",
       "\n",
       "    .dataframe thead th {\n",
       "        text-align: right;\n",
       "    }\n",
       "</style>\n",
       "<table border=\"1\" class=\"dataframe\">\n",
       "  <thead>\n",
       "    <tr style=\"text-align: right;\">\n",
       "      <th></th>\n",
       "      <th>year</th>\n",
       "      <th>state</th>\n",
       "      <th>homeless_count</th>\n",
       "      <th>democrat_perc</th>\n",
       "      <th>AvgSalary</th>\n",
       "      <th>PerCapNetEarning</th>\n",
       "      <th>PerCapNetIncome</th>\n",
       "      <th>TotalNumJobs</th>\n",
       "      <th>Sale_Prices</th>\n",
       "      <th>MedianListingPricePerSqft_1Bedroom</th>\n",
       "      <th>MedianListingPricePerSqft_2Bedroom</th>\n",
       "      <th>MedianListingPricePerSqft_3Bedroom</th>\n",
       "      <th>MedianListingPricePerSqft_4Bedroom</th>\n",
       "      <th>MedianListingPricePerSqft_5BedroomOrMore</th>\n",
       "    </tr>\n",
       "  </thead>\n",
       "  <tbody>\n",
       "    <tr>\n",
       "      <th>0</th>\n",
       "      <td>2008</td>\n",
       "      <td>0.0</td>\n",
       "      <td>7462.0</td>\n",
       "      <td>37.889374</td>\n",
       "      <td>48527.0</td>\n",
       "      <td>31586.0</td>\n",
       "      <td>47749.0</td>\n",
       "      <td>443538.0</td>\n",
       "      <td>NaN</td>\n",
       "      <td>NaN</td>\n",
       "      <td>NaN</td>\n",
       "      <td>NaN</td>\n",
       "      <td>NaN</td>\n",
       "      <td>NaN</td>\n",
       "    </tr>\n",
       "    <tr>\n",
       "      <th>1</th>\n",
       "      <td>2008</td>\n",
       "      <td>1.0</td>\n",
       "      <td>23652.0</td>\n",
       "      <td>38.740434</td>\n",
       "      <td>38138.0</td>\n",
       "      <td>20229.0</td>\n",
       "      <td>33353.0</td>\n",
       "      <td>2582591.0</td>\n",
       "      <td>NaN</td>\n",
       "      <td>NaN</td>\n",
       "      <td>NaN</td>\n",
       "      <td>NaN</td>\n",
       "      <td>NaN</td>\n",
       "      <td>NaN</td>\n",
       "    </tr>\n",
       "    <tr>\n",
       "      <th>2</th>\n",
       "      <td>2008</td>\n",
       "      <td>2.0</td>\n",
       "      <td>14806.0</td>\n",
       "      <td>38.864660</td>\n",
       "      <td>35310.0</td>\n",
       "      <td>18526.0</td>\n",
       "      <td>31940.0</td>\n",
       "      <td>1579283.0</td>\n",
       "      <td>NaN</td>\n",
       "      <td>NaN</td>\n",
       "      <td>NaN</td>\n",
       "      <td>NaN</td>\n",
       "      <td>NaN</td>\n",
       "      <td>NaN</td>\n",
       "    </tr>\n",
       "    <tr>\n",
       "      <th>3</th>\n",
       "      <td>2008</td>\n",
       "      <td>3.0</td>\n",
       "      <td>56146.0</td>\n",
       "      <td>45.115251</td>\n",
       "      <td>43311.0</td>\n",
       "      <td>22318.0</td>\n",
       "      <td>35563.0</td>\n",
       "      <td>3402808.0</td>\n",
       "      <td>190750.000000</td>\n",
       "      <td>NaN</td>\n",
       "      <td>NaN</td>\n",
       "      <td>NaN</td>\n",
       "      <td>NaN</td>\n",
       "      <td>NaN</td>\n",
       "    </tr>\n",
       "    <tr>\n",
       "      <th>4</th>\n",
       "      <td>2008</td>\n",
       "      <td>4.0</td>\n",
       "      <td>626632.0</td>\n",
       "      <td>61.012638</td>\n",
       "      <td>52524.0</td>\n",
       "      <td>28770.0</td>\n",
       "      <td>43890.0</td>\n",
       "      <td>20654292.0</td>\n",
       "      <td>314980.000000</td>\n",
       "      <td>NaN</td>\n",
       "      <td>NaN</td>\n",
       "      <td>NaN</td>\n",
       "      <td>NaN</td>\n",
       "      <td>NaN</td>\n",
       "    </tr>\n",
       "    <tr>\n",
       "      <th>...</th>\n",
       "      <td>...</td>\n",
       "      <td>...</td>\n",
       "      <td>...</td>\n",
       "      <td>...</td>\n",
       "      <td>...</td>\n",
       "      <td>...</td>\n",
       "      <td>...</td>\n",
       "      <td>...</td>\n",
       "      <td>...</td>\n",
       "      <td>...</td>\n",
       "      <td>...</td>\n",
       "      <td>...</td>\n",
       "      <td>...</td>\n",
       "      <td>...</td>\n",
       "    </tr>\n",
       "    <tr>\n",
       "      <th>103</th>\n",
       "      <td>2016</td>\n",
       "      <td>49.0</td>\n",
       "      <td>5762.0</td>\n",
       "      <td>56.675987</td>\n",
       "      <td>44188.0</td>\n",
       "      <td>29569.0</td>\n",
       "      <td>50420.0</td>\n",
       "      <td>433924.0</td>\n",
       "      <td>NaN</td>\n",
       "      <td>152.405230</td>\n",
       "      <td>146.871426</td>\n",
       "      <td>140.774273</td>\n",
       "      <td>138.816947</td>\n",
       "      <td>121.721618</td>\n",
       "    </tr>\n",
       "    <tr>\n",
       "      <th>104</th>\n",
       "      <td>2016</td>\n",
       "      <td>50.0</td>\n",
       "      <td>103862.0</td>\n",
       "      <td>54.303577</td>\n",
       "      <td>58989.0</td>\n",
       "      <td>34596.0</td>\n",
       "      <td>55802.0</td>\n",
       "      <td>4310119.0</td>\n",
       "      <td>294916.666667</td>\n",
       "      <td>270.179354</td>\n",
       "      <td>192.746052</td>\n",
       "      <td>174.273438</td>\n",
       "      <td>174.817988</td>\n",
       "      <td>183.988193</td>\n",
       "    </tr>\n",
       "    <tr>\n",
       "      <th>105</th>\n",
       "      <td>2016</td>\n",
       "      <td>51.0</td>\n",
       "      <td>27656.0</td>\n",
       "      <td>46.436079</td>\n",
       "      <td>46551.0</td>\n",
       "      <td>30320.0</td>\n",
       "      <td>47598.0</td>\n",
       "      <td>3658030.0</td>\n",
       "      <td>163283.333333</td>\n",
       "      <td>139.400275</td>\n",
       "      <td>119.647646</td>\n",
       "      <td>119.108371</td>\n",
       "      <td>113.191737</td>\n",
       "      <td>98.356697</td>\n",
       "    </tr>\n",
       "    <tr>\n",
       "      <th>106</th>\n",
       "      <td>2016</td>\n",
       "      <td>52.0</td>\n",
       "      <td>7020.0</td>\n",
       "      <td>26.476928</td>\n",
       "      <td>41183.0</td>\n",
       "      <td>20587.0</td>\n",
       "      <td>37099.0</td>\n",
       "      <td>890105.0</td>\n",
       "      <td>140341.666667</td>\n",
       "      <td>111.100490</td>\n",
       "      <td>81.744695</td>\n",
       "      <td>90.590600</td>\n",
       "      <td>93.592909</td>\n",
       "      <td>89.201195</td>\n",
       "    </tr>\n",
       "    <tr>\n",
       "      <th>107</th>\n",
       "      <td>2016</td>\n",
       "      <td>53.0</td>\n",
       "      <td>4184.0</td>\n",
       "      <td>21.877357</td>\n",
       "      <td>46028.0</td>\n",
       "      <td>30753.0</td>\n",
       "      <td>54168.0</td>\n",
       "      <td>398271.0</td>\n",
       "      <td>227700.000000</td>\n",
       "      <td>194.874318</td>\n",
       "      <td>151.025820</td>\n",
       "      <td>137.697140</td>\n",
       "      <td>140.184160</td>\n",
       "      <td>149.289425</td>\n",
       "    </tr>\n",
       "  </tbody>\n",
       "</table>\n",
       "<p>108 rows × 14 columns</p>\n",
       "</div>"
      ],
      "text/plain": [
       "     year  state  homeless_count  democrat_perc  AvgSalary  PerCapNetEarning  \\\n",
       "0    2008    0.0          7462.0      37.889374    48527.0           31586.0   \n",
       "1    2008    1.0         23652.0      38.740434    38138.0           20229.0   \n",
       "2    2008    2.0         14806.0      38.864660    35310.0           18526.0   \n",
       "3    2008    3.0         56146.0      45.115251    43311.0           22318.0   \n",
       "4    2008    4.0        626632.0      61.012638    52524.0           28770.0   \n",
       "..    ...    ...             ...            ...        ...               ...   \n",
       "103  2016   49.0          5762.0      56.675987    44188.0           29569.0   \n",
       "104  2016   50.0        103862.0      54.303577    58989.0           34596.0   \n",
       "105  2016   51.0         27656.0      46.436079    46551.0           30320.0   \n",
       "106  2016   52.0          7020.0      26.476928    41183.0           20587.0   \n",
       "107  2016   53.0          4184.0      21.877357    46028.0           30753.0   \n",
       "\n",
       "     PerCapNetIncome  TotalNumJobs    Sale_Prices  \\\n",
       "0            47749.0      443538.0            NaN   \n",
       "1            33353.0     2582591.0            NaN   \n",
       "2            31940.0     1579283.0            NaN   \n",
       "3            35563.0     3402808.0  190750.000000   \n",
       "4            43890.0    20654292.0  314980.000000   \n",
       "..               ...           ...            ...   \n",
       "103          50420.0      433924.0            NaN   \n",
       "104          55802.0     4310119.0  294916.666667   \n",
       "105          47598.0     3658030.0  163283.333333   \n",
       "106          37099.0      890105.0  140341.666667   \n",
       "107          54168.0      398271.0  227700.000000   \n",
       "\n",
       "     MedianListingPricePerSqft_1Bedroom  MedianListingPricePerSqft_2Bedroom  \\\n",
       "0                                   NaN                                 NaN   \n",
       "1                                   NaN                                 NaN   \n",
       "2                                   NaN                                 NaN   \n",
       "3                                   NaN                                 NaN   \n",
       "4                                   NaN                                 NaN   \n",
       "..                                  ...                                 ...   \n",
       "103                          152.405230                          146.871426   \n",
       "104                          270.179354                          192.746052   \n",
       "105                          139.400275                          119.647646   \n",
       "106                          111.100490                           81.744695   \n",
       "107                          194.874318                          151.025820   \n",
       "\n",
       "     MedianListingPricePerSqft_3Bedroom  MedianListingPricePerSqft_4Bedroom  \\\n",
       "0                                   NaN                                 NaN   \n",
       "1                                   NaN                                 NaN   \n",
       "2                                   NaN                                 NaN   \n",
       "3                                   NaN                                 NaN   \n",
       "4                                   NaN                                 NaN   \n",
       "..                                  ...                                 ...   \n",
       "103                          140.774273                          138.816947   \n",
       "104                          174.273438                          174.817988   \n",
       "105                          119.108371                          113.191737   \n",
       "106                           90.590600                           93.592909   \n",
       "107                          137.697140                          140.184160   \n",
       "\n",
       "     MedianListingPricePerSqft_5BedroomOrMore  \n",
       "0                                         NaN  \n",
       "1                                         NaN  \n",
       "2                                         NaN  \n",
       "3                                         NaN  \n",
       "4                                         NaN  \n",
       "..                                        ...  \n",
       "103                                121.721618  \n",
       "104                                183.988193  \n",
       "105                                 98.356697  \n",
       "106                                 89.201195  \n",
       "107                                149.289425  \n",
       "\n",
       "[108 rows x 14 columns]"
      ]
     },
     "execution_count": 54,
     "metadata": {},
     "output_type": "execute_result"
    }
   ],
   "source": [
    "# Categorical variables: state_abbrev (use one-hot encoding later)\n",
    "enc = OrdinalEncoder()\n",
    "# enc = OneHotEncoder(handle_unknown='ignore')\n",
    "combined['state'] = enc.fit_transform(combined[['state']])\n",
    "\n",
    "# Categorical variables: win_party\n",
    "# combined['win_party'] = [1 if i == 'Democrat' else 0 for i in combined['win_party']]\n",
    "\n",
    "combined"
   ]
  },
  {
   "cell_type": "markdown",
   "metadata": {},
   "source": [
    "## <a id='toc3_1_'></a>[Impute missing data](#toc0_)"
   ]
  },
  {
   "cell_type": "code",
   "execution_count": 55,
   "id": "6d724706",
   "metadata": {},
   "outputs": [
    {
     "data": {
      "text/html": [
       "<div>\n",
       "<style scoped>\n",
       "    .dataframe tbody tr th:only-of-type {\n",
       "        vertical-align: middle;\n",
       "    }\n",
       "\n",
       "    .dataframe tbody tr th {\n",
       "        vertical-align: top;\n",
       "    }\n",
       "\n",
       "    .dataframe thead th {\n",
       "        text-align: right;\n",
       "    }\n",
       "</style>\n",
       "<table border=\"1\" class=\"dataframe\">\n",
       "  <thead>\n",
       "    <tr style=\"text-align: right;\">\n",
       "      <th></th>\n",
       "      <th>year</th>\n",
       "      <th>state</th>\n",
       "      <th>homeless_count</th>\n",
       "      <th>democrat_perc</th>\n",
       "      <th>AvgSalary</th>\n",
       "      <th>PerCapNetEarning</th>\n",
       "      <th>PerCapNetIncome</th>\n",
       "      <th>TotalNumJobs</th>\n",
       "      <th>Sale_Prices</th>\n",
       "      <th>MedianListingPricePerSqft_1Bedroom</th>\n",
       "      <th>MedianListingPricePerSqft_2Bedroom</th>\n",
       "      <th>MedianListingPricePerSqft_3Bedroom</th>\n",
       "      <th>MedianListingPricePerSqft_4Bedroom</th>\n",
       "      <th>MedianListingPricePerSqft_5BedroomOrMore</th>\n",
       "    </tr>\n",
       "  </thead>\n",
       "  <tbody>\n",
       "    <tr>\n",
       "      <th>0</th>\n",
       "      <td>2008.0</td>\n",
       "      <td>0.0</td>\n",
       "      <td>7462.0</td>\n",
       "      <td>37.889374</td>\n",
       "      <td>48527.0</td>\n",
       "      <td>31586.0</td>\n",
       "      <td>47749.0</td>\n",
       "      <td>443538.0</td>\n",
       "      <td>231598.000000</td>\n",
       "      <td>189.010261</td>\n",
       "      <td>155.750933</td>\n",
       "      <td>149.037258</td>\n",
       "      <td>148.869795</td>\n",
       "      <td>147.087177</td>\n",
       "    </tr>\n",
       "    <tr>\n",
       "      <th>1</th>\n",
       "      <td>2008.0</td>\n",
       "      <td>1.0</td>\n",
       "      <td>23652.0</td>\n",
       "      <td>38.740434</td>\n",
       "      <td>38138.0</td>\n",
       "      <td>20229.0</td>\n",
       "      <td>33353.0</td>\n",
       "      <td>2582591.0</td>\n",
       "      <td>170557.666667</td>\n",
       "      <td>148.498418</td>\n",
       "      <td>124.463102</td>\n",
       "      <td>125.439907</td>\n",
       "      <td>132.672515</td>\n",
       "      <td>133.530986</td>\n",
       "    </tr>\n",
       "    <tr>\n",
       "      <th>2</th>\n",
       "      <td>2008.0</td>\n",
       "      <td>2.0</td>\n",
       "      <td>14806.0</td>\n",
       "      <td>38.864660</td>\n",
       "      <td>35310.0</td>\n",
       "      <td>18526.0</td>\n",
       "      <td>31940.0</td>\n",
       "      <td>1579283.0</td>\n",
       "      <td>167393.333333</td>\n",
       "      <td>124.030313</td>\n",
       "      <td>93.902470</td>\n",
       "      <td>102.908534</td>\n",
       "      <td>114.327512</td>\n",
       "      <td>115.608925</td>\n",
       "    </tr>\n",
       "    <tr>\n",
       "      <th>3</th>\n",
       "      <td>2008.0</td>\n",
       "      <td>3.0</td>\n",
       "      <td>56146.0</td>\n",
       "      <td>45.115251</td>\n",
       "      <td>43311.0</td>\n",
       "      <td>22318.0</td>\n",
       "      <td>35563.0</td>\n",
       "      <td>3402808.0</td>\n",
       "      <td>190750.000000</td>\n",
       "      <td>188.994777</td>\n",
       "      <td>156.591029</td>\n",
       "      <td>151.775536</td>\n",
       "      <td>152.915434</td>\n",
       "      <td>154.119572</td>\n",
       "    </tr>\n",
       "    <tr>\n",
       "      <th>4</th>\n",
       "      <td>2008.0</td>\n",
       "      <td>4.0</td>\n",
       "      <td>626632.0</td>\n",
       "      <td>61.012638</td>\n",
       "      <td>52524.0</td>\n",
       "      <td>28770.0</td>\n",
       "      <td>43890.0</td>\n",
       "      <td>20654292.0</td>\n",
       "      <td>314980.000000</td>\n",
       "      <td>208.069261</td>\n",
       "      <td>158.420823</td>\n",
       "      <td>146.215846</td>\n",
       "      <td>152.430638</td>\n",
       "      <td>160.305918</td>\n",
       "    </tr>\n",
       "    <tr>\n",
       "      <th>...</th>\n",
       "      <td>...</td>\n",
       "      <td>...</td>\n",
       "      <td>...</td>\n",
       "      <td>...</td>\n",
       "      <td>...</td>\n",
       "      <td>...</td>\n",
       "      <td>...</td>\n",
       "      <td>...</td>\n",
       "      <td>...</td>\n",
       "      <td>...</td>\n",
       "      <td>...</td>\n",
       "      <td>...</td>\n",
       "      <td>...</td>\n",
       "      <td>...</td>\n",
       "    </tr>\n",
       "    <tr>\n",
       "      <th>103</th>\n",
       "      <td>2016.0</td>\n",
       "      <td>49.0</td>\n",
       "      <td>5762.0</td>\n",
       "      <td>56.675987</td>\n",
       "      <td>44188.0</td>\n",
       "      <td>29569.0</td>\n",
       "      <td>50420.0</td>\n",
       "      <td>433924.0</td>\n",
       "      <td>231598.000000</td>\n",
       "      <td>152.405230</td>\n",
       "      <td>146.871426</td>\n",
       "      <td>140.774273</td>\n",
       "      <td>138.816947</td>\n",
       "      <td>121.721618</td>\n",
       "    </tr>\n",
       "    <tr>\n",
       "      <th>104</th>\n",
       "      <td>2016.0</td>\n",
       "      <td>50.0</td>\n",
       "      <td>103862.0</td>\n",
       "      <td>54.303577</td>\n",
       "      <td>58989.0</td>\n",
       "      <td>34596.0</td>\n",
       "      <td>55802.0</td>\n",
       "      <td>4310119.0</td>\n",
       "      <td>294916.666667</td>\n",
       "      <td>270.179354</td>\n",
       "      <td>192.746052</td>\n",
       "      <td>174.273438</td>\n",
       "      <td>174.817988</td>\n",
       "      <td>183.988193</td>\n",
       "    </tr>\n",
       "    <tr>\n",
       "      <th>105</th>\n",
       "      <td>2016.0</td>\n",
       "      <td>51.0</td>\n",
       "      <td>27656.0</td>\n",
       "      <td>46.436079</td>\n",
       "      <td>46551.0</td>\n",
       "      <td>30320.0</td>\n",
       "      <td>47598.0</td>\n",
       "      <td>3658030.0</td>\n",
       "      <td>163283.333333</td>\n",
       "      <td>139.400275</td>\n",
       "      <td>119.647646</td>\n",
       "      <td>119.108371</td>\n",
       "      <td>113.191737</td>\n",
       "      <td>98.356697</td>\n",
       "    </tr>\n",
       "    <tr>\n",
       "      <th>106</th>\n",
       "      <td>2016.0</td>\n",
       "      <td>52.0</td>\n",
       "      <td>7020.0</td>\n",
       "      <td>26.476928</td>\n",
       "      <td>41183.0</td>\n",
       "      <td>20587.0</td>\n",
       "      <td>37099.0</td>\n",
       "      <td>890105.0</td>\n",
       "      <td>140341.666667</td>\n",
       "      <td>111.100490</td>\n",
       "      <td>81.744695</td>\n",
       "      <td>90.590600</td>\n",
       "      <td>93.592909</td>\n",
       "      <td>89.201195</td>\n",
       "    </tr>\n",
       "    <tr>\n",
       "      <th>107</th>\n",
       "      <td>2016.0</td>\n",
       "      <td>53.0</td>\n",
       "      <td>4184.0</td>\n",
       "      <td>21.877357</td>\n",
       "      <td>46028.0</td>\n",
       "      <td>30753.0</td>\n",
       "      <td>54168.0</td>\n",
       "      <td>398271.0</td>\n",
       "      <td>227700.000000</td>\n",
       "      <td>194.874318</td>\n",
       "      <td>151.025820</td>\n",
       "      <td>137.697140</td>\n",
       "      <td>140.184160</td>\n",
       "      <td>149.289425</td>\n",
       "    </tr>\n",
       "  </tbody>\n",
       "</table>\n",
       "<p>108 rows × 14 columns</p>\n",
       "</div>"
      ],
      "text/plain": [
       "       year  state  homeless_count  democrat_perc  AvgSalary  \\\n",
       "0    2008.0    0.0          7462.0      37.889374    48527.0   \n",
       "1    2008.0    1.0         23652.0      38.740434    38138.0   \n",
       "2    2008.0    2.0         14806.0      38.864660    35310.0   \n",
       "3    2008.0    3.0         56146.0      45.115251    43311.0   \n",
       "4    2008.0    4.0        626632.0      61.012638    52524.0   \n",
       "..      ...    ...             ...            ...        ...   \n",
       "103  2016.0   49.0          5762.0      56.675987    44188.0   \n",
       "104  2016.0   50.0        103862.0      54.303577    58989.0   \n",
       "105  2016.0   51.0         27656.0      46.436079    46551.0   \n",
       "106  2016.0   52.0          7020.0      26.476928    41183.0   \n",
       "107  2016.0   53.0          4184.0      21.877357    46028.0   \n",
       "\n",
       "     PerCapNetEarning  PerCapNetIncome  TotalNumJobs    Sale_Prices  \\\n",
       "0             31586.0          47749.0      443538.0  231598.000000   \n",
       "1             20229.0          33353.0     2582591.0  170557.666667   \n",
       "2             18526.0          31940.0     1579283.0  167393.333333   \n",
       "3             22318.0          35563.0     3402808.0  190750.000000   \n",
       "4             28770.0          43890.0    20654292.0  314980.000000   \n",
       "..                ...              ...           ...            ...   \n",
       "103           29569.0          50420.0      433924.0  231598.000000   \n",
       "104           34596.0          55802.0     4310119.0  294916.666667   \n",
       "105           30320.0          47598.0     3658030.0  163283.333333   \n",
       "106           20587.0          37099.0      890105.0  140341.666667   \n",
       "107           30753.0          54168.0      398271.0  227700.000000   \n",
       "\n",
       "     MedianListingPricePerSqft_1Bedroom  MedianListingPricePerSqft_2Bedroom  \\\n",
       "0                            189.010261                          155.750933   \n",
       "1                            148.498418                          124.463102   \n",
       "2                            124.030313                           93.902470   \n",
       "3                            188.994777                          156.591029   \n",
       "4                            208.069261                          158.420823   \n",
       "..                                  ...                                 ...   \n",
       "103                          152.405230                          146.871426   \n",
       "104                          270.179354                          192.746052   \n",
       "105                          139.400275                          119.647646   \n",
       "106                          111.100490                           81.744695   \n",
       "107                          194.874318                          151.025820   \n",
       "\n",
       "     MedianListingPricePerSqft_3Bedroom  MedianListingPricePerSqft_4Bedroom  \\\n",
       "0                            149.037258                          148.869795   \n",
       "1                            125.439907                          132.672515   \n",
       "2                            102.908534                          114.327512   \n",
       "3                            151.775536                          152.915434   \n",
       "4                            146.215846                          152.430638   \n",
       "..                                  ...                                 ...   \n",
       "103                          140.774273                          138.816947   \n",
       "104                          174.273438                          174.817988   \n",
       "105                          119.108371                          113.191737   \n",
       "106                           90.590600                           93.592909   \n",
       "107                          137.697140                          140.184160   \n",
       "\n",
       "     MedianListingPricePerSqft_5BedroomOrMore  \n",
       "0                                  147.087177  \n",
       "1                                  133.530986  \n",
       "2                                  115.608925  \n",
       "3                                  154.119572  \n",
       "4                                  160.305918  \n",
       "..                                        ...  \n",
       "103                                121.721618  \n",
       "104                                183.988193  \n",
       "105                                 98.356697  \n",
       "106                                 89.201195  \n",
       "107                                149.289425  \n",
       "\n",
       "[108 rows x 14 columns]"
      ]
     },
     "execution_count": 55,
     "metadata": {},
     "output_type": "execute_result"
    }
   ],
   "source": [
    "# kNN imputer\n",
    "knn_imp = KNNImputer(n_neighbors=5)\n",
    "imputed = pd.DataFrame(knn_imp.fit_transform(combined))\n",
    "imputed.columns = combined.columns\n",
    "imputed"
   ]
  },
  {
   "cell_type": "code",
   "execution_count": 56,
   "id": "94d89a23",
   "metadata": {},
   "outputs": [
    {
     "data": {
      "text/html": [
       "<div>\n",
       "<style scoped>\n",
       "    .dataframe tbody tr th:only-of-type {\n",
       "        vertical-align: middle;\n",
       "    }\n",
       "\n",
       "    .dataframe tbody tr th {\n",
       "        vertical-align: top;\n",
       "    }\n",
       "\n",
       "    .dataframe thead th {\n",
       "        text-align: right;\n",
       "    }\n",
       "</style>\n",
       "<table border=\"1\" class=\"dataframe\">\n",
       "  <thead>\n",
       "    <tr style=\"text-align: right;\">\n",
       "      <th></th>\n",
       "      <th>year</th>\n",
       "      <th>homeless_count</th>\n",
       "      <th>democrat_perc</th>\n",
       "      <th>AvgSalary</th>\n",
       "      <th>PerCapNetEarning</th>\n",
       "      <th>PerCapNetIncome</th>\n",
       "      <th>TotalNumJobs</th>\n",
       "      <th>Sale_Prices</th>\n",
       "      <th>MedianListingPricePerSqft_1Bedroom</th>\n",
       "      <th>MedianListingPricePerSqft_2Bedroom</th>\n",
       "      <th>MedianListingPricePerSqft_3Bedroom</th>\n",
       "      <th>MedianListingPricePerSqft_4Bedroom</th>\n",
       "      <th>MedianListingPricePerSqft_5BedroomOrMore</th>\n",
       "    </tr>\n",
       "  </thead>\n",
       "  <tbody>\n",
       "    <tr>\n",
       "      <th>0</th>\n",
       "      <td>2008.0</td>\n",
       "      <td>7462.0</td>\n",
       "      <td>37.889374</td>\n",
       "      <td>48527.0</td>\n",
       "      <td>31586.0</td>\n",
       "      <td>47749.0</td>\n",
       "      <td>443538.0</td>\n",
       "      <td>231598.000000</td>\n",
       "      <td>189.010261</td>\n",
       "      <td>155.750933</td>\n",
       "      <td>149.037258</td>\n",
       "      <td>148.869795</td>\n",
       "      <td>147.087177</td>\n",
       "    </tr>\n",
       "    <tr>\n",
       "      <th>1</th>\n",
       "      <td>2008.0</td>\n",
       "      <td>23652.0</td>\n",
       "      <td>38.740434</td>\n",
       "      <td>38138.0</td>\n",
       "      <td>20229.0</td>\n",
       "      <td>33353.0</td>\n",
       "      <td>2582591.0</td>\n",
       "      <td>170557.666667</td>\n",
       "      <td>148.498418</td>\n",
       "      <td>124.463102</td>\n",
       "      <td>125.439907</td>\n",
       "      <td>132.672515</td>\n",
       "      <td>133.530986</td>\n",
       "    </tr>\n",
       "    <tr>\n",
       "      <th>2</th>\n",
       "      <td>2008.0</td>\n",
       "      <td>14806.0</td>\n",
       "      <td>38.864660</td>\n",
       "      <td>35310.0</td>\n",
       "      <td>18526.0</td>\n",
       "      <td>31940.0</td>\n",
       "      <td>1579283.0</td>\n",
       "      <td>167393.333333</td>\n",
       "      <td>124.030313</td>\n",
       "      <td>93.902470</td>\n",
       "      <td>102.908534</td>\n",
       "      <td>114.327512</td>\n",
       "      <td>115.608925</td>\n",
       "    </tr>\n",
       "    <tr>\n",
       "      <th>3</th>\n",
       "      <td>2008.0</td>\n",
       "      <td>56146.0</td>\n",
       "      <td>45.115251</td>\n",
       "      <td>43311.0</td>\n",
       "      <td>22318.0</td>\n",
       "      <td>35563.0</td>\n",
       "      <td>3402808.0</td>\n",
       "      <td>190750.000000</td>\n",
       "      <td>188.994777</td>\n",
       "      <td>156.591029</td>\n",
       "      <td>151.775536</td>\n",
       "      <td>152.915434</td>\n",
       "      <td>154.119572</td>\n",
       "    </tr>\n",
       "    <tr>\n",
       "      <th>4</th>\n",
       "      <td>2008.0</td>\n",
       "      <td>626632.0</td>\n",
       "      <td>61.012638</td>\n",
       "      <td>52524.0</td>\n",
       "      <td>28770.0</td>\n",
       "      <td>43890.0</td>\n",
       "      <td>20654292.0</td>\n",
       "      <td>314980.000000</td>\n",
       "      <td>208.069261</td>\n",
       "      <td>158.420823</td>\n",
       "      <td>146.215846</td>\n",
       "      <td>152.430638</td>\n",
       "      <td>160.305918</td>\n",
       "    </tr>\n",
       "    <tr>\n",
       "      <th>...</th>\n",
       "      <td>...</td>\n",
       "      <td>...</td>\n",
       "      <td>...</td>\n",
       "      <td>...</td>\n",
       "      <td>...</td>\n",
       "      <td>...</td>\n",
       "      <td>...</td>\n",
       "      <td>...</td>\n",
       "      <td>...</td>\n",
       "      <td>...</td>\n",
       "      <td>...</td>\n",
       "      <td>...</td>\n",
       "      <td>...</td>\n",
       "    </tr>\n",
       "    <tr>\n",
       "      <th>103</th>\n",
       "      <td>2016.0</td>\n",
       "      <td>5762.0</td>\n",
       "      <td>56.675987</td>\n",
       "      <td>44188.0</td>\n",
       "      <td>29569.0</td>\n",
       "      <td>50420.0</td>\n",
       "      <td>433924.0</td>\n",
       "      <td>231598.000000</td>\n",
       "      <td>152.405230</td>\n",
       "      <td>146.871426</td>\n",
       "      <td>140.774273</td>\n",
       "      <td>138.816947</td>\n",
       "      <td>121.721618</td>\n",
       "    </tr>\n",
       "    <tr>\n",
       "      <th>104</th>\n",
       "      <td>2016.0</td>\n",
       "      <td>103862.0</td>\n",
       "      <td>54.303577</td>\n",
       "      <td>58989.0</td>\n",
       "      <td>34596.0</td>\n",
       "      <td>55802.0</td>\n",
       "      <td>4310119.0</td>\n",
       "      <td>294916.666667</td>\n",
       "      <td>270.179354</td>\n",
       "      <td>192.746052</td>\n",
       "      <td>174.273438</td>\n",
       "      <td>174.817988</td>\n",
       "      <td>183.988193</td>\n",
       "    </tr>\n",
       "    <tr>\n",
       "      <th>105</th>\n",
       "      <td>2016.0</td>\n",
       "      <td>27656.0</td>\n",
       "      <td>46.436079</td>\n",
       "      <td>46551.0</td>\n",
       "      <td>30320.0</td>\n",
       "      <td>47598.0</td>\n",
       "      <td>3658030.0</td>\n",
       "      <td>163283.333333</td>\n",
       "      <td>139.400275</td>\n",
       "      <td>119.647646</td>\n",
       "      <td>119.108371</td>\n",
       "      <td>113.191737</td>\n",
       "      <td>98.356697</td>\n",
       "    </tr>\n",
       "    <tr>\n",
       "      <th>106</th>\n",
       "      <td>2016.0</td>\n",
       "      <td>7020.0</td>\n",
       "      <td>26.476928</td>\n",
       "      <td>41183.0</td>\n",
       "      <td>20587.0</td>\n",
       "      <td>37099.0</td>\n",
       "      <td>890105.0</td>\n",
       "      <td>140341.666667</td>\n",
       "      <td>111.100490</td>\n",
       "      <td>81.744695</td>\n",
       "      <td>90.590600</td>\n",
       "      <td>93.592909</td>\n",
       "      <td>89.201195</td>\n",
       "    </tr>\n",
       "    <tr>\n",
       "      <th>107</th>\n",
       "      <td>2016.0</td>\n",
       "      <td>4184.0</td>\n",
       "      <td>21.877357</td>\n",
       "      <td>46028.0</td>\n",
       "      <td>30753.0</td>\n",
       "      <td>54168.0</td>\n",
       "      <td>398271.0</td>\n",
       "      <td>227700.000000</td>\n",
       "      <td>194.874318</td>\n",
       "      <td>151.025820</td>\n",
       "      <td>137.697140</td>\n",
       "      <td>140.184160</td>\n",
       "      <td>149.289425</td>\n",
       "    </tr>\n",
       "  </tbody>\n",
       "</table>\n",
       "<p>108 rows × 13 columns</p>\n",
       "</div>"
      ],
      "text/plain": [
       "       year  homeless_count  democrat_perc  AvgSalary  PerCapNetEarning  \\\n",
       "0    2008.0          7462.0      37.889374    48527.0           31586.0   \n",
       "1    2008.0         23652.0      38.740434    38138.0           20229.0   \n",
       "2    2008.0         14806.0      38.864660    35310.0           18526.0   \n",
       "3    2008.0         56146.0      45.115251    43311.0           22318.0   \n",
       "4    2008.0        626632.0      61.012638    52524.0           28770.0   \n",
       "..      ...             ...            ...        ...               ...   \n",
       "103  2016.0          5762.0      56.675987    44188.0           29569.0   \n",
       "104  2016.0        103862.0      54.303577    58989.0           34596.0   \n",
       "105  2016.0         27656.0      46.436079    46551.0           30320.0   \n",
       "106  2016.0          7020.0      26.476928    41183.0           20587.0   \n",
       "107  2016.0          4184.0      21.877357    46028.0           30753.0   \n",
       "\n",
       "     PerCapNetIncome  TotalNumJobs    Sale_Prices  \\\n",
       "0            47749.0      443538.0  231598.000000   \n",
       "1            33353.0     2582591.0  170557.666667   \n",
       "2            31940.0     1579283.0  167393.333333   \n",
       "3            35563.0     3402808.0  190750.000000   \n",
       "4            43890.0    20654292.0  314980.000000   \n",
       "..               ...           ...            ...   \n",
       "103          50420.0      433924.0  231598.000000   \n",
       "104          55802.0     4310119.0  294916.666667   \n",
       "105          47598.0     3658030.0  163283.333333   \n",
       "106          37099.0      890105.0  140341.666667   \n",
       "107          54168.0      398271.0  227700.000000   \n",
       "\n",
       "     MedianListingPricePerSqft_1Bedroom  MedianListingPricePerSqft_2Bedroom  \\\n",
       "0                            189.010261                          155.750933   \n",
       "1                            148.498418                          124.463102   \n",
       "2                            124.030313                           93.902470   \n",
       "3                            188.994777                          156.591029   \n",
       "4                            208.069261                          158.420823   \n",
       "..                                  ...                                 ...   \n",
       "103                          152.405230                          146.871426   \n",
       "104                          270.179354                          192.746052   \n",
       "105                          139.400275                          119.647646   \n",
       "106                          111.100490                           81.744695   \n",
       "107                          194.874318                          151.025820   \n",
       "\n",
       "     MedianListingPricePerSqft_3Bedroom  MedianListingPricePerSqft_4Bedroom  \\\n",
       "0                            149.037258                          148.869795   \n",
       "1                            125.439907                          132.672515   \n",
       "2                            102.908534                          114.327512   \n",
       "3                            151.775536                          152.915434   \n",
       "4                            146.215846                          152.430638   \n",
       "..                                  ...                                 ...   \n",
       "103                          140.774273                          138.816947   \n",
       "104                          174.273438                          174.817988   \n",
       "105                          119.108371                          113.191737   \n",
       "106                           90.590600                           93.592909   \n",
       "107                          137.697140                          140.184160   \n",
       "\n",
       "     MedianListingPricePerSqft_5BedroomOrMore  \n",
       "0                                  147.087177  \n",
       "1                                  133.530986  \n",
       "2                                  115.608925  \n",
       "3                                  154.119572  \n",
       "4                                  160.305918  \n",
       "..                                        ...  \n",
       "103                                121.721618  \n",
       "104                                183.988193  \n",
       "105                                 98.356697  \n",
       "106                                 89.201195  \n",
       "107                                149.289425  \n",
       "\n",
       "[108 rows x 13 columns]"
      ]
     },
     "execution_count": 56,
     "metadata": {},
     "output_type": "execute_result"
    }
   ],
   "source": [
    "# exclude the state\n",
    "imputed = imputed.drop(columns = \"state\")\n",
    "imputed"
   ]
  },
  {
   "cell_type": "code",
   "execution_count": 57,
   "id": "88d77631",
   "metadata": {},
   "outputs": [],
   "source": [
    "X = imputed.drop(columns='homeless_count')\n",
    "y = imputed['homeless_count']\n",
    "\n",
    "# Shuffle\n",
    "\n",
    "# Train test split\n",
    "X_train, X_test, y_train, y_test = train_test_split(X, y, test_size=0.2, random_state=300)"
   ]
  },
  {
   "cell_type": "code",
   "execution_count": 58,
   "id": "1b761b28",
   "metadata": {},
   "outputs": [
    {
     "data": {
      "text/plain": [
       "['year',\n",
       " 'democrat_perc',\n",
       " 'AvgSalary',\n",
       " 'PerCapNetEarning',\n",
       " 'PerCapNetIncome',\n",
       " 'TotalNumJobs',\n",
       " 'Sale_Prices',\n",
       " 'MedianListingPricePerSqft_1Bedroom',\n",
       " 'MedianListingPricePerSqft_2Bedroom',\n",
       " 'MedianListingPricePerSqft_3Bedroom',\n",
       " 'MedianListingPricePerSqft_4Bedroom',\n",
       " 'MedianListingPricePerSqft_5BedroomOrMore']"
      ]
     },
     "execution_count": 58,
     "metadata": {},
     "output_type": "execute_result"
    }
   ],
   "source": [
    "list(X.columns)"
   ]
  },
  {
   "cell_type": "code",
   "execution_count": 59,
   "id": "c62202b5",
   "metadata": {},
   "outputs": [],
   "source": [
    "predictor = 'TotalNumJobs'\n",
    "baseline_linreg = LinearRegression().fit(X_train[predictor].values.reshape(-1,1), y_train)"
   ]
  },
  {
   "cell_type": "code",
   "execution_count": 60,
   "id": "028a3ac1",
   "metadata": {},
   "outputs": [
    {
     "name": "stdout",
     "output_type": "stream",
     "text": [
      "Linear regression model results:\n",
      "\n",
      "\tTrain MSE\t1761148283.7762\n",
      "\tTest MSE\t4780956885.6350\n",
      "\n",
      "\tTest R-squared\t0.2936\n"
     ]
    }
   ],
   "source": [
    "#Predict\n",
    "y_pred_train = baseline_linreg.predict(X_train[predictor].values.reshape(-1,1))\n",
    "y_pred_test = baseline_linreg.predict(X_test[predictor].values.reshape(-1,1))\n",
    "\n",
    "#Compute the MSE of the model\n",
    "train_mse = mean_squared_error(y_train,y_pred_train)\n",
    "test_mse = mean_squared_error(y_test,y_pred_test)\n",
    "base_model_r2 = r2_score(y_test, y_pred_test)\n",
    "\n",
    "print(\"Linear regression model results:\\n\")\n",
    "print(\n",
    "    \"\\tTrain MSE\\t{:.4f}\\n\"\n",
    "    \"\\tTest MSE\\t{:.4f}\\n\".format(\n",
    "        train_mse,\n",
    "        test_mse,\n",
    "    )\n",
    ")\n",
    "\n",
    "print(f\"\\tTest R-squared\\t{base_model_r2:.4f}\")"
   ]
  },
  {
   "cell_type": "code",
   "execution_count": 61,
   "id": "1e00b677",
   "metadata": {},
   "outputs": [
    {
     "data": {
      "text/html": [
       "<div>\n",
       "<style scoped>\n",
       "    .dataframe tbody tr th:only-of-type {\n",
       "        vertical-align: middle;\n",
       "    }\n",
       "\n",
       "    .dataframe tbody tr th {\n",
       "        vertical-align: top;\n",
       "    }\n",
       "\n",
       "    .dataframe thead th {\n",
       "        text-align: right;\n",
       "    }\n",
       "</style>\n",
       "<table border=\"1\" class=\"dataframe\">\n",
       "  <thead>\n",
       "    <tr style=\"text-align: right;\">\n",
       "      <th></th>\n",
       "      <th>Coefficient</th>\n",
       "    </tr>\n",
       "  </thead>\n",
       "  <tbody>\n",
       "    <tr>\n",
       "      <th>intercept</th>\n",
       "      <td>-30488.261199</td>\n",
       "    </tr>\n",
       "    <tr>\n",
       "      <th>TotalNumJobs</th>\n",
       "      <td>0.023848</td>\n",
       "    </tr>\n",
       "  </tbody>\n",
       "</table>\n",
       "</div>"
      ],
      "text/plain": [
       "               Coefficient\n",
       "intercept    -30488.261199\n",
       "TotalNumJobs      0.023848"
      ]
     },
     "execution_count": 61,
     "metadata": {},
     "output_type": "execute_result"
    }
   ],
   "source": [
    "baseline_model_slope =baseline_linreg.coef_\n",
    "baseline_model_intercept = baseline_linreg.intercept_\n",
    "\n",
    "baseline_model_params = [baseline_linreg.intercept_, *baseline_linreg.coef_]\n",
    "baseline_model_params_df = pd.DataFrame(baseline_model_params, columns = [\"Coefficient\"], index=[\"intercept\"]+[str(i) for i in [predictor]])\n",
    "baseline_model_params_df"
   ]
  },
  {
   "cell_type": "markdown",
   "metadata": {},
   "source": [
    "## <a id='toc3_2_'></a>[Plotting](#toc0_)"
   ]
  },
  {
   "cell_type": "code",
   "execution_count": 62,
   "id": "48b95362",
   "metadata": {},
   "outputs": [
    {
     "data": {
      "image/png": "[encoded data removed]",
      "text/plain": [
       "<Figure size 432x288 with 1 Axes>"
      ]
     },
     "metadata": {
      "needs_background": "light"
     },
     "output_type": "display_data"
    }
   ],
   "source": [
    "#Preliminary plotting\n",
    "x_lin = np.linspace(min(X_train[predictor].values), max(X_train[predictor].values), 1000).reshape(-1, 1)\n",
    "\n",
    "# split the x and y coords for plotting\n",
    "pred_curve_y = [i*baseline_model_slope[0] + baseline_model_intercept for i in x_lin]\n",
    "\n",
    "sns.scatterplot(data=imputed,x=X_train[predictor],y=y_train,alpha=0.8, label=\"train data\")\n",
    "sns.scatterplot(data=imputed,x=X_test[predictor],y=y_test,alpha=0.8, label=\"test data\")\n",
    "plt.plot(x_lin, pred_curve_y, label = f\"prediction curve\", c='red')\n",
    "plt.title(f\"Based line model: ($R^2$ = {base_model_r2:.4f})\")\n",
    "plt.legend();"
   ]
  },
  {
   "cell_type": "markdown",
   "metadata": {},
   "source": [
    "# <a id='toc4_'></a>[Standardize the data](#toc0_)\n",
    "\n",
    "Here we standardize our data for training different models by each member. "
   ]
  },
  {
   "cell_type": "code",
   "execution_count": 63,
   "id": "d254ff34",
   "metadata": {},
   "outputs": [],
   "source": [
    "scaler = StandardScaler()\n",
    "imputed_scaled = scaler.fit_transform(imputed)\n",
    "imputed_scaled = pd.DataFrame(imputed_scaled, columns=imputed.columns)\n",
    "imputed_scaled\n",
    "X_scaled = imputed_scaled.drop(columns='homeless_count')\n",
    "y_scaled = imputed_scaled['homeless_count']\n",
    "\n",
    "# Train test split\n",
    "X_train, X_test, y_train, y_test = train_test_split(X_scaled, y_scaled, test_size=0.2, random_state=300) # set seed for reproducibility"
   ]
  },
  {
   "cell_type": "code",
   "execution_count": 64,
   "id": "77c94d3d",
   "metadata": {},
   "outputs": [],
   "source": [
    "X_train.to_csv(\"../data/scaled_X_train.csv\", index=False)\n",
    "X_test.to_csv(\"../data/scaled_X_test.csv\", index=False)\n",
    "y_train.to_csv(\"../data/scaled_y_train.csv\", index=False)\n",
    "y_test.to_csv(\"../data/scaled_y_test.csv\", index=False)"
   ]
  }
 ],
 "metadata": {
  "kernelspec": {
   "display_name": "Python 3.9.12 ('tf_env')",
   "language": "python",
   "name": "python3"
  },
  "language_info": {
   "codemirror_mode": {
    "name": "ipython",
    "version": 3
   },
   "file_extension": ".py",
   "mimetype": "text/x-python",
   "name": "python",
   "nbconvert_exporter": "python",
   "pygments_lexer": "ipython3",
   "version": "3.9.12"
  },
  "orig_nbformat": 4,
  "vscode": {
   "interpreter": {
    "hash": "b5aa44122ec421a99e51bf05c46c329c2801dd6c2fe40834e549112db593d0c4"
   }
  }
 },
 "nbformat": 4,
 "nbformat_minor": 2
}
